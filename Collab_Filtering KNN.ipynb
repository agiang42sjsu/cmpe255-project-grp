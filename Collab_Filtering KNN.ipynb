{
 "metadata": {
  "language_info": {
   "codemirror_mode": {
    "name": "ipython",
    "version": 3
   },
   "file_extension": ".py",
   "mimetype": "text/x-python",
   "name": "python",
   "nbconvert_exporter": "python",
   "pygments_lexer": "ipython3",
   "version": "3.8.3"
  },
  "orig_nbformat": 2,
  "kernelspec": {
   "name": "python383jvsc74a57bd0e079647b578f6e22f42cb979ca5c90bb711697013bb834e432a2160cedf42143",
   "display_name": "Python 3.8.3 64-bit (conda)"
  }
 },
 "nbformat": 4,
 "nbformat_minor": 2,
 "cells": [
  {
   "source": [
    "# Collaborative Filtering + Recommender"
   ],
   "cell_type": "markdown",
   "metadata": {}
  },
  {
   "source": [
    "## Import Libraries and Preprocessed User, Restaurant, and Review Data "
   ],
   "cell_type": "markdown",
   "metadata": {}
  },
  {
   "cell_type": "code",
   "execution_count": 1,
   "metadata": {},
   "outputs": [
    {
     "output_type": "stream",
     "name": "stdout",
     "text": [
      "Requirement already satisfied: surprise in c:\\users\\albert\\miniconda3\\lib\\site-packages (0.1)\nRequirement already satisfied: scikit-surprise in c:\\users\\albert\\miniconda3\\lib\\site-packages (from surprise) (1.1.1)\nRequirement already satisfied: joblib>=0.11 in c:\\users\\albert\\miniconda3\\lib\\site-packages (from scikit-surprise->surprise) (1.0.1)\nRequirement already satisfied: numpy>=1.11.2 in c:\\users\\albert\\miniconda3\\lib\\site-packages (from scikit-surprise->surprise) (1.20.3)\nRequirement already satisfied: scipy>=1.0.0 in c:\\users\\albert\\miniconda3\\lib\\site-packages (from scikit-surprise->surprise) (1.5.4)\nRequirement already satisfied: six>=1.10.0 in c:\\users\\albert\\appdata\\roaming\\python\\python38\\site-packages (from scikit-surprise->surprise) (1.15.0)\n"
     ]
    }
   ],
   "source": [
    "!pip install surprise"
   ]
  },
  {
   "cell_type": "code",
   "execution_count": 296,
   "metadata": {},
   "outputs": [],
   "source": [
    "import json\n",
    "import time\n",
    "import pandas as pd\n",
    "from surprise import SVDpp\n",
    "from surprise import Dataset\n",
    "from surprise import Reader\n",
    "from collections import defaultdict\n",
    "from surprise import accuracy"
   ]
  },
  {
   "cell_type": "code",
   "execution_count": 3,
   "metadata": {},
   "outputs": [
    {
     "output_type": "stream",
     "name": "stdout",
     "text": [
      "Reading MA_users.json\n",
      "Time taken to load user data: 0 seconds\n"
     ]
    }
   ],
   "source": [
    "start = time.time()\n",
    "with open('MA_users.json', encoding=\"utf8\") as fin:\n",
    "    print('Reading',fin.name)\n",
    "    user_data = json.load(fin)\n",
    "end = time.time()\n",
    "duration_without_dr = end-start\n",
    "print(\"Time taken to load user data: %d seconds\" %duration_without_dr)"
   ]
  },
  {
   "cell_type": "code",
   "execution_count": 4,
   "metadata": {},
   "outputs": [
    {
     "output_type": "stream",
     "name": "stdout",
     "text": [
      "Reading MA_restaurants.json\nTime taken to load restaurant data: 0 seconds\n"
     ]
    }
   ],
   "source": [
    "start = time.time()\n",
    "with open('MA_restaurants.json', encoding=\"utf8\") as fin:\n",
    "    print('Reading',fin.name)\n",
    "    restaurant_data = json.load(fin)\n",
    "end = time.time()\n",
    "duration_without_dr = end-start\n",
    "print(\"Time taken to load restaurant data: %d seconds\" %duration_without_dr)"
   ]
  },
  {
   "cell_type": "code",
   "execution_count": 5,
   "metadata": {},
   "outputs": [
    {
     "output_type": "stream",
     "name": "stdout",
     "text": [
      "Reading MA_reviews.json\n",
      "Time taken to load review data: 2 seconds\n"
     ]
    }
   ],
   "source": [
    "start = time.time()\n",
    "with open('MA_reviews.json', encoding=\"utf8\") as fin:\n",
    "    print('Reading',fin.name)\n",
    "    review_data = json.load(fin)\n",
    "end = time.time()\n",
    "duration_without_dr = end-start\n",
    "print(\"Time taken to load review data: %d seconds\" %duration_without_dr)"
   ]
  },
  {
   "cell_type": "code",
   "execution_count": 6,
   "metadata": {},
   "outputs": [
    {
     "output_type": "stream",
     "name": "stdout",
     "text": [
      "13046 user records loaded\n465276 review records loaded\n6249 business records loaded\n"
     ]
    }
   ],
   "source": [
    "print(str(len(user_data)) + ' user records loaded')\n",
    "print(str(len(review_data)) + ' review records loaded')\n",
    "print(str(len(restaurant_data)) + ' business records loaded')"
   ]
  },
  {
   "source": [
    "## Algorithm setup\n",
    "> Create business and user dictionary that will be helpful with viewing the results of the recommender"
   ],
   "cell_type": "markdown",
   "metadata": {}
  },
  {
   "cell_type": "code",
   "execution_count": 237,
   "metadata": {},
   "outputs": [],
   "source": [
    "business_id_dict = dict()\n",
    "for i,r in enumerate(restaurant_data):\n",
    "    business_id_dict[r['business_id']] = i\n",
    "\n",
    "def print_business_info(business_id):\n",
    "    for attr in restaurant_data[business_id_dict[business_id]].keys():\n",
    "        print('{0}: {1}'.format(str(attr), str(restaurant_data[business_id_dict[business_id]][attr])))\n",
    "        \n",
    "def get_business_attr(business_id, attribute):\n",
    "    return restaurant_data[business_id_dict[business_id]][attribute]\n",
    "\n",
    "def get_business_reviews(business_id):\n",
    "    print('Name:                 User ID:               User Total Review Count         Rating')\n",
    "    for review in review_data:\n",
    "        if review['business_id'] == business_id:\n",
    "            print('{:<15s}{:<15s}{:>20.0f}{:>25.1f}'.format(get_user_attr(review['user_id'], 'name'),review['user_id'],get_user_attr(review['user_id'], 'review_count'), review['stars']))"
   ]
  },
  {
   "cell_type": "code",
   "execution_count": null,
   "metadata": {},
   "outputs": [],
   "source": [
    "user_id_dict = dict()\n",
    "for i,u in enumerate(user_data):\n",
    "    user_id_dict[u['user_id']] = i\n",
    "\n",
    "def print_user_info(user_id):\n",
    "    for attr in user_data[user_id_dict[user_id]].keys():\n",
    "        print('{0}: {1}'.format(str(attr), str(user_data[user_id_dict[user_id]][attr]) if attr != 'friends' else '[list of user ids]'))\n",
    "\n",
    "def get_user_attr(user_id, attribute):\n",
    "    return user_data[user_id_dict[user_id]][attribute]"
   ]
  },
  {
   "source": [
    "## Create the Review Dataframe\n",
    "> Create the rating dictionary by extracting the user_id, business_id, and rating from each review <br>\n",
    "Import the rating dictionary into a pandas dataframe for fitting the algorithm"
   ],
   "cell_type": "markdown",
   "metadata": {}
  },
  {
   "cell_type": "code",
   "execution_count": 7,
   "metadata": {},
   "outputs": [
    {
     "output_type": "stream",
     "name": "stdout",
     "text": [
      "The data frame shape:\t(465276, 3)\n"
     ]
    }
   ],
   "source": [
    "rating_dict = {'user_id': [],\n",
    "               'business_id': [],\n",
    "               'rating': []}\n",
    "\n",
    "for review in review_data:\n",
    "    rating_dict['user_id'].append(review['user_id'])\n",
    "    rating_dict['business_id'].append(review['business_id'])\n",
    "    rating_dict['rating'].append(review['stars'])\n",
    "\n",
    "df = pd.DataFrame(rating_dict)\n",
    "reader = Reader(rating_scale=(1, 5))\n",
    "data = Dataset.load_from_df(df[['user_id', 'business_id', 'rating']], reader)\n",
    "print('The data frame shape:\\t{}'.format(df.shape))"
   ]
  },
  {
   "source": [
    "## Running SVD++ on the Review Dataframe\n",
    "> Set up the SVD++ hyperparameters found in the downselect process <br>\n",
    "Run SVD++ on the entire dataset (this takes around 15 minutes)"
   ],
   "cell_type": "markdown",
   "metadata": {}
  },
  {
   "cell_type": "code",
   "execution_count": 8,
   "metadata": {},
   "outputs": [
    {
     "output_type": "stream",
     "name": "stdout",
     "text": [
      "Time taken to fit data: 565 seconds\n"
     ]
    }
   ],
   "source": [
    "sim_options = {'name': 'cosine',\n",
    "               'user_based': False}\n",
    "trainset = data.build_full_trainset()\n",
    "print(trainset.n_users)\n",
    "algo = KNNWithMeans(k=40, min_k=5, sim_options=sim_options)\n",
    "\n",
    "# note: this takes quite a while...\n",
    "start = time.time()\n",
    "algo.fit(trainset)\n",
    "end = time.time()\n",
    "duration_without_dr = end-start\n",
    "print(\"Time taken to fit data: %d seconds\" %duration_without_dr)"
   ]
  },
  {
   "source": [
    "## Selecting a Sample User to View Rating Predictions and the Top Recommended Restaurants\n",
    "> Get a user_id from the review dataframe"
   ],
   "cell_type": "markdown",
   "metadata": {}
  },
  {
   "cell_type": "code",
   "execution_count": 293,
   "metadata": {},
   "outputs": [
    {
     "output_type": "stream",
     "name": "stdout",
     "text": [
      "User_ID               # of Reviews\n\nnl8gWLDo6U6MjqzbBmE_9A    1081\nrcU7ysY41qGppbw4pQgjqg     618\nggl6fl-PM5O1WrdReL0l4A     618\n1Y0zsJSfWLkfDylH0X1yNQ     588\nt903_es-gp3abvdrIQutQA     485\n                          ... \nc83EoH7q84EumkKAqzKkNQ      84\nJ3pXjuQLVOMBFjqsviy2pw      84\nbG_DOb7mltWDfbJS1xmsPQ      84\n0EFQQB40D24-WuIFH6-rpQ      84\nkOmv6GPqLm-SkUC5nZj07g      84\nName: user_id, Length: 900, dtype: int64\n"
     ]
    }
   ],
   "source": [
    "print('User_ID               # of Reviews\\n')\n",
    "print('{}'.format(df['user_id'].value_counts()[:900]))"
   ]
  },
  {
   "source": [
    "## Get All Reviews Made by the Sample User"
   ],
   "cell_type": "markdown",
   "metadata": {}
  },
  {
   "cell_type": "code",
   "execution_count": 384,
   "metadata": {},
   "outputs": [
    {
     "output_type": "stream",
     "name": "stdout",
     "text": [
      "                       user_id             business_id  rating\n452     ggl6fl-PM5O1WrdReL0l4A  Z6zAW5KYUbOqlv1pa63STw     4.0\n1087    ggl6fl-PM5O1WrdReL0l4A  M0fRUDEo9mbnZFXhvshlFw     4.0\n2263    ggl6fl-PM5O1WrdReL0l4A  wLpF_Qxw4d48-KR2ltTD_A     4.0\n2268    ggl6fl-PM5O1WrdReL0l4A  oz882XuZCxajKo64Opgq_Q     3.0\n2796    ggl6fl-PM5O1WrdReL0l4A  yKvlRknp1Feues1rG-aJlg     4.0\n...                        ...                     ...     ...\n460923  ggl6fl-PM5O1WrdReL0l4A  RNqUyblZzXvg0a2fBjJQQg     4.0\n461602  ggl6fl-PM5O1WrdReL0l4A  jIxhHWqxKd5ZWBIEmsFxWQ     5.0\n461960  ggl6fl-PM5O1WrdReL0l4A  mlYVUORelx-_gFihRA1s6g     1.0\n462326  ggl6fl-PM5O1WrdReL0l4A  y2w6rFaO0XEiG5mFfOsiFA     4.0\n464471  ggl6fl-PM5O1WrdReL0l4A  rnwrQjhb7KcV6uoElNTH5w     5.0\n\n[618 rows x 3 columns]\n"
     ]
    }
   ],
   "source": [
    "user_id = 'ggl6fl-PM5O1WrdReL0l4A' # sample user\n",
    "df_new_user = df.loc[df['user_id'] == user_id]\n",
    "print(df_new_user)"
   ]
  },
  {
   "source": [
    "## Call the Predict Method for Each of the Restaurants the Sample User has Reviewed\n",
    "> r_ui is the acutal review score the sample user gave to the restaurant <br>\n",
    "est is the estimated review score given by the collaborative filtering algorithm"
   ],
   "cell_type": "markdown",
   "metadata": {}
  },
  {
   "cell_type": "code",
   "execution_count": 385,
   "metadata": {
    "tags": [
     "outputPrepend"
    ]
   },
   "outputs": [
    {
     "output_type": "stream",
     "name": "stdout",
     "text": [
      "impossible': False}\n",
      "user: ggl6fl-PM5O1WrdReL0l4A item: seC9cfU7It8mbczK442HAw r_ui = 3.00   est = 3.73   {'was_impossible': False}\n",
      "user: ggl6fl-PM5O1WrdReL0l4A item: 8zLHresim_7dPvkYSuBVzA r_ui = 5.00   est = 4.31   {'was_impossible': False}\n",
      "user: ggl6fl-PM5O1WrdReL0l4A item: XZfs0Ct5Rjl-wunzb6M6ag r_ui = 5.00   est = 3.37   {'was_impossible': False}\n",
      "user: ggl6fl-PM5O1WrdReL0l4A item: kX2fm-REksJrXAviP0vK4g r_ui = 5.00   est = 4.32   {'was_impossible': False}\n",
      "user: ggl6fl-PM5O1WrdReL0l4A item: Y6YtAXCglKWQB9ghwmzWkw r_ui = 3.00   est = 3.98   {'was_impossible': False}\n",
      "user: ggl6fl-PM5O1WrdReL0l4A item: 4MClvr12OXBNvGu8h1yGpA r_ui = 3.00   est = 4.24   {'was_impossible': False}\n",
      "user: ggl6fl-PM5O1WrdReL0l4A item: p8ohzzGvGRCHnJKnyO7exA r_ui = 3.00   est = 3.80   {'was_impossible': False}\n",
      "user: ggl6fl-PM5O1WrdReL0l4A item: 54Flq7X4Ugfj02_IzIoIKw r_ui = 3.00   est = 3.73   {'was_impossible': False}\n",
      "user: ggl6fl-PM5O1WrdReL0l4A item: WsYQF28GdiStUJuLSecIaA r_ui = 5.00   est = 4.17   {'was_impossible': False}\n",
      "user: ggl6fl-PM5O1WrdReL0l4A item: 5HtKXpccv60YtqpjszDGBQ r_ui = 5.00   est = 4.46   {'was_impossible': False}\n",
      "user: ggl6fl-PM5O1WrdReL0l4A item: UGs6J02mK_DTxDPfrJoviw r_ui = 5.00   est = 3.45   {'was_impossible': False}\n",
      "user: ggl6fl-PM5O1WrdReL0l4A item: ckjbAB-tQ3_QEQmHSytZ6Q r_ui = 3.00   est = 2.82   {'was_impossible': False}\n",
      "user: ggl6fl-PM5O1WrdReL0l4A item: 6eWfwUSegYhGvgVemLEKDQ r_ui = 4.00   est = 4.31   {'was_impossible': False}\n",
      "user: ggl6fl-PM5O1WrdReL0l4A item: 6dj0t8vx2kdskDMhChLSHQ r_ui = 4.00   est = 3.57   {'was_impossible': False}\n",
      "user: ggl6fl-PM5O1WrdReL0l4A item: A86KZNesn79wjY8_V4zZew r_ui = 5.00   est = 3.90   {'was_impossible': False}\n",
      "user: ggl6fl-PM5O1WrdReL0l4A item: oDoacShrKZFDO-X4NrhKUg r_ui = 4.00   est = 3.85   {'was_impossible': False}\n",
      "user: ggl6fl-PM5O1WrdReL0l4A item: HhuFsOJ5JTF7zkaczqbqcw r_ui = 4.00   est = 3.10   {'was_impossible': False}\n",
      "user: ggl6fl-PM5O1WrdReL0l4A item: VH0Ib9S3E-dxbQdQC4rffg r_ui = 5.00   est = 4.28   {'was_impossible': False}\n",
      "user: ggl6fl-PM5O1WrdReL0l4A item: lEuxEt3mUStmPyEufIY0gA r_ui = 4.00   est = 3.44   {'was_impossible': False}\n",
      "user: ggl6fl-PM5O1WrdReL0l4A item: jciFOmFPzMmCB5l4yT7gdQ r_ui = 4.00   est = 3.60   {'was_impossible': False}\n",
      "user: ggl6fl-PM5O1WrdReL0l4A item: xN8jzMViRNhh9mgH-LzYZQ r_ui = 4.00   est = 4.21   {'was_impossible': False}\n",
      "user: ggl6fl-PM5O1WrdReL0l4A item: 0kNj4j1QB72Zcw3uYedkSg r_ui = 4.00   est = 3.91   {'was_impossible': False}\n",
      "user: ggl6fl-PM5O1WrdReL0l4A item: Go8U9oJd4CfpO1ik4Z8iKA r_ui = 4.00   est = 3.68   {'was_impossible': False}\n",
      "user: ggl6fl-PM5O1WrdReL0l4A item: TrZP9EtqDm-0eRP1TqmaZg r_ui = 4.00   est = 3.90   {'was_impossible': False}\n",
      "user: ggl6fl-PM5O1WrdReL0l4A item: 6u4DqwVlhoTmptwqtdJDlQ r_ui = 3.00   est = 4.09   {'was_impossible': False}\n",
      "user: ggl6fl-PM5O1WrdReL0l4A item: 19xuTm-mcnG4k7rF3ZTmeg r_ui = 4.00   est = 4.03   {'was_impossible': False}\n",
      "user: ggl6fl-PM5O1WrdReL0l4A item: X3i6Dq5WumtGO9urfdC87g r_ui = 3.00   est = 3.69   {'was_impossible': False}\n",
      "user: ggl6fl-PM5O1WrdReL0l4A item: 1_lkf1870jL1mZ2RhQ7Uzg r_ui = 4.00   est = 3.81   {'was_impossible': False}\n",
      "user: ggl6fl-PM5O1WrdReL0l4A item: 63q10aw-6XREzuRadM3_HA r_ui = 2.00   est = 3.61   {'was_impossible': False}\n",
      "user: ggl6fl-PM5O1WrdReL0l4A item: Sy8taSShWjVvfIdSS3_orA r_ui = 3.00   est = 3.07   {'was_impossible': False}\n",
      "user: ggl6fl-PM5O1WrdReL0l4A item: nfoTO7gF8XffCsbJaXVZrA r_ui = 4.00   est = 3.86   {'was_impossible': False}\n",
      "user: ggl6fl-PM5O1WrdReL0l4A item: GxKqBTGEH-mu6eZ9IhUHrQ r_ui = 2.00   est = 3.47   {'was_impossible': False}\n",
      "user: ggl6fl-PM5O1WrdReL0l4A item: 9-KBO2jGuvMCrM88ysDLTA r_ui = 4.00   est = 3.53   {'was_impossible': False}\n",
      "user: ggl6fl-PM5O1WrdReL0l4A item: HevLXJekzsbGeV8uXXhXMA r_ui = 4.00   est = 4.18   {'was_impossible': False}\n",
      "user: ggl6fl-PM5O1WrdReL0l4A item: X5DWiQqmcei8FUdzVI5lfA r_ui = 5.00   est = 4.40   {'was_impossible': False}\n",
      "user: ggl6fl-PM5O1WrdReL0l4A item: bFuUggRPBrXbSQqUbpUgUw r_ui = 3.00   est = 3.44   {'was_impossible': False}\n",
      "user: ggl6fl-PM5O1WrdReL0l4A item: oi49PGc5tRkowsUy3zgH8w r_ui = 4.00   est = 3.46   {'was_impossible': False}\n",
      "user: ggl6fl-PM5O1WrdReL0l4A item: 4RpdVZIR3dV890pJ5hQd9A r_ui = 5.00   est = 3.78   {'was_impossible': False}\n",
      "user: ggl6fl-PM5O1WrdReL0l4A item: lzJ2QFiScrLJkGsjzXjXxQ r_ui = 4.00   est = 3.96   {'was_impossible': False}\n",
      "user: ggl6fl-PM5O1WrdReL0l4A item: xVxjzyMqghCYwVe_dwJzJw r_ui = 2.00   est = 4.05   {'was_impossible': False}\n",
      "user: ggl6fl-PM5O1WrdReL0l4A item: RTmtucoOExrF6MZLgI5Hhg r_ui = 4.00   est = 3.36   {'was_impossible': False}\n",
      "user: ggl6fl-PM5O1WrdReL0l4A item: gxS86A57qYU4ljcPpWJn8w r_ui = 4.00   est = 4.13   {'was_impossible': False}\n",
      "user: ggl6fl-PM5O1WrdReL0l4A item: h4iqQ40N251IdZJM5bfywA r_ui = 2.00   est = 3.28   {'was_impossible': False}\n",
      "user: ggl6fl-PM5O1WrdReL0l4A item: 1E2KcGtzZO5v_LgrTiQl9A r_ui = 3.00   est = 3.88   {'was_impossible': False}\n",
      "user: ggl6fl-PM5O1WrdReL0l4A item: EbUZhM4fLpsWQ8fpBhhgEQ r_ui = 4.00   est = 4.23   {'was_impossible': False}\n",
      "user: ggl6fl-PM5O1WrdReL0l4A item: oUD86XD4ii-vvq_Or4o1Cg r_ui = 3.00   est = 4.03   {'was_impossible': False}\n",
      "user: ggl6fl-PM5O1WrdReL0l4A item: gxNxT-sk72z9ja6QNYnEHw r_ui = 5.00   est = 3.79   {'was_impossible': False}\n",
      "user: ggl6fl-PM5O1WrdReL0l4A item: H0lnJ44GvEkHoSV4WsQwtw r_ui = 4.00   est = 4.07   {'was_impossible': False}\n",
      "user: ggl6fl-PM5O1WrdReL0l4A item: Nqiq5VzRDIEQ4LEflwdW-A r_ui = 4.00   est = 3.18   {'was_impossible': False}\n",
      "user: ggl6fl-PM5O1WrdReL0l4A item: gSkiRGUvY9pKdQ55cjWAuQ r_ui = 4.00   est = 4.15   {'was_impossible': False}\n",
      "user: ggl6fl-PM5O1WrdReL0l4A item: aONnT45_mz-LRGWIr_1vVw r_ui = 4.00   est = 3.77   {'was_impossible': False}\n",
      "user: ggl6fl-PM5O1WrdReL0l4A item: u4dXemPMSM8TeDPmodFc2A r_ui = 4.00   est = 3.81   {'was_impossible': False}\n",
      "user: ggl6fl-PM5O1WrdReL0l4A item: 0OXysDMAdMzDj2iW0zacKw r_ui = 4.00   est = 3.95   {'was_impossible': False}\n",
      "user: ggl6fl-PM5O1WrdReL0l4A item: r65d-mDdDvI2kr79LiE-QA r_ui = 4.00   est = 4.32   {'was_impossible': False}\n",
      "user: ggl6fl-PM5O1WrdReL0l4A item: x-8RfAx6PIB-puR-3SAHNw r_ui = 4.00   est = 3.89   {'was_impossible': False}\n",
      "user: ggl6fl-PM5O1WrdReL0l4A item: sbmq8m4zRkMkOkkCL6kGmQ r_ui = 3.00   est = 3.47   {'was_impossible': False}\n",
      "user: ggl6fl-PM5O1WrdReL0l4A item: WFq2lgglSCBETcfoedvbzA r_ui = 5.00   est = 3.94   {'was_impossible': False}\n",
      "user: ggl6fl-PM5O1WrdReL0l4A item: 0-t94gA9dgEoqIaE5FNokA r_ui = 4.00   est = 3.39   {'was_impossible': False}\n",
      "user: ggl6fl-PM5O1WrdReL0l4A item: SZw4rxKrlCphqMyWRv4lZg r_ui = 4.00   est = 3.92   {'was_impossible': False}\n",
      "user: ggl6fl-PM5O1WrdReL0l4A item: nlnWODemnfzut10tzC5x3A r_ui = 3.00   est = 3.68   {'was_impossible': False}\n",
      "user: ggl6fl-PM5O1WrdReL0l4A item: HYX36WXeTtqnDC4bc9SH1A r_ui = 5.00   est = 4.55   {'was_impossible': False}\n",
      "user: ggl6fl-PM5O1WrdReL0l4A item: wFSkfP9aE_F99p-K00JA4w r_ui = 4.00   est = 3.34   {'was_impossible': False}\n",
      "user: ggl6fl-PM5O1WrdReL0l4A item: KGGcz0eI1wbrolPDoUq0Rw r_ui = 2.00   est = 3.00   {'was_impossible': False}\n",
      "user: ggl6fl-PM5O1WrdReL0l4A item: AnFG7mJS4y65Azox8mSAmw r_ui = 3.00   est = 3.45   {'was_impossible': False}\n",
      "user: ggl6fl-PM5O1WrdReL0l4A item: cvzDDGJz9ZDps5Ebd-E8kA r_ui = 4.00   est = 3.89   {'was_impossible': False}\n",
      "user: ggl6fl-PM5O1WrdReL0l4A item: UWymlaC5_35SvvS1aYgQpw r_ui = 4.00   est = 4.00   {'was_impossible': False}\n",
      "user: ggl6fl-PM5O1WrdReL0l4A item: x4vRczmgp446CdsDiJCUag r_ui = 5.00   est = 4.57   {'was_impossible': False}\n",
      "user: ggl6fl-PM5O1WrdReL0l4A item: pOtm0huSB2_ydAhPLU7EwQ r_ui = 2.00   est = 3.11   {'was_impossible': False}\n",
      "user: ggl6fl-PM5O1WrdReL0l4A item: M0Z57IL0dlzpU6QCez0wGA r_ui = 3.00   est = 3.85   {'was_impossible': False}\n",
      "user: ggl6fl-PM5O1WrdReL0l4A item: 7wE3lS36NKbYaVbCLDobIw r_ui = 4.00   est = 4.12   {'was_impossible': False}\n",
      "user: ggl6fl-PM5O1WrdReL0l4A item: QgDzlrWN-IcYyyT3M9hgoA r_ui = 2.00   est = 3.64   {'was_impossible': False}\n",
      "user: ggl6fl-PM5O1WrdReL0l4A item: dnbfnudR1NLGHALBj8IUMw r_ui = 5.00   est = 4.05   {'was_impossible': False}\n",
      "user: ggl6fl-PM5O1WrdReL0l4A item: EGes4Zy7ubnm6B2hG_QLqQ r_ui = 2.00   est = 2.99   {'was_impossible': False}\n",
      "user: ggl6fl-PM5O1WrdReL0l4A item: ChzM9HTXqqe0VdXSbMGoqQ r_ui = 5.00   est = 3.52   {'was_impossible': False}\n",
      "user: ggl6fl-PM5O1WrdReL0l4A item: UNyHkfr1jJdk--Jo6zWEMw r_ui = 3.00   est = 4.17   {'was_impossible': False}\n",
      "user: ggl6fl-PM5O1WrdReL0l4A item: poswq7BdLM9Iryd9palDVQ r_ui = 4.00   est = 4.31   {'was_impossible': False}\n",
      "user: ggl6fl-PM5O1WrdReL0l4A item: NRDJMQ_LxfGm0UUOza8FWw r_ui = 4.00   est = 3.67   {'was_impossible': False}\n",
      "user: ggl6fl-PM5O1WrdReL0l4A item: 9Su325kUCQ1ZglXS-G_7ZA r_ui = 3.00   est = 3.09   {'was_impossible': False}\n",
      "user: ggl6fl-PM5O1WrdReL0l4A item: g2BZOLMwHViRf9hsQfKm_w r_ui = 5.00   est = 4.16   {'was_impossible': False}\n",
      "user: ggl6fl-PM5O1WrdReL0l4A item: L3P3wktEKtaPKlO3QtHdiw r_ui = 3.00   est = 2.99   {'was_impossible': False}\n",
      "user: ggl6fl-PM5O1WrdReL0l4A item: PEv6gtuj01IMkVS_1hiCuw r_ui = 3.00   est = 3.01   {'was_impossible': False}\n",
      "user: ggl6fl-PM5O1WrdReL0l4A item: EXwNQy60FF3Y4Q5MBvIImQ r_ui = 4.00   est = 3.92   {'was_impossible': False}\n",
      "user: ggl6fl-PM5O1WrdReL0l4A item: 8XH25e94Tf8UNzSr-OWHeQ r_ui = 3.00   est = 3.94   {'was_impossible': False}\n",
      "user: ggl6fl-PM5O1WrdReL0l4A item: mI7qw74vuPgf4LJWH3M2oA r_ui = 4.00   est = 3.12   {'was_impossible': False}\n",
      "user: ggl6fl-PM5O1WrdReL0l4A item: BVmai7GjUgVXpgCPYDLlrw r_ui = 4.00   est = 3.20   {'was_impossible': False}\n",
      "user: ggl6fl-PM5O1WrdReL0l4A item: e7g8vGmr0a-YW1lBtEBLrg r_ui = 5.00   est = 4.22   {'was_impossible': False}\n",
      "user: ggl6fl-PM5O1WrdReL0l4A item: Hx4lGxPDHTMK04iuBaMkcQ r_ui = 3.00   est = 3.79   {'was_impossible': False}\n",
      "user: ggl6fl-PM5O1WrdReL0l4A item: smiGOZuyboXfc8LyC2jXpg r_ui = 4.00   est = 3.35   {'was_impossible': False}\n",
      "user: ggl6fl-PM5O1WrdReL0l4A item: XbhM7IXOwY3uyv4vOW-c4w r_ui = 5.00   est = 4.24   {'was_impossible': False}\n",
      "user: ggl6fl-PM5O1WrdReL0l4A item: TbidSY0CNknTW1WEqK33WA r_ui = 4.00   est = 3.92   {'was_impossible': False}\n",
      "user: ggl6fl-PM5O1WrdReL0l4A item: boK3cyDPLmwNUV97doMCNA r_ui = 3.00   est = 3.37   {'was_impossible': False}\n",
      "user: ggl6fl-PM5O1WrdReL0l4A item: IOpXmCLtQ3OHvvMzOXaPbg r_ui = 3.00   est = 3.75   {'was_impossible': False}\n",
      "user: ggl6fl-PM5O1WrdReL0l4A item: V6ehBf1uJoMgA4XoqNHdbw r_ui = 4.00   est = 3.84   {'was_impossible': False}\n",
      "user: ggl6fl-PM5O1WrdReL0l4A item: RQUZgVKcgenO-FjTg0j80A r_ui = 3.00   est = 3.75   {'was_impossible': False}\n",
      "user: ggl6fl-PM5O1WrdReL0l4A item: D2pEDsQBUO5GIgyT8oKUxg r_ui = 4.00   est = 4.38   {'was_impossible': False}\n",
      "user: ggl6fl-PM5O1WrdReL0l4A item: R3hizKMBF97jLUn-Y-WZXA r_ui = 3.00   est = 4.14   {'was_impossible': False}\n",
      "user: ggl6fl-PM5O1WrdReL0l4A item: q1vygi8UnlVQ5JtYvdFL5w r_ui = 5.00   est = 3.21   {'was_impossible': False}\n",
      "user: ggl6fl-PM5O1WrdReL0l4A item: db2bKAphF2qbl53AURLqeg r_ui = 2.00   est = 2.56   {'was_impossible': False}\n",
      "user: ggl6fl-PM5O1WrdReL0l4A item: j-mkLrxKtOzGAh4ymO9bJg r_ui = 4.00   est = 4.49   {'was_impossible': False}\n",
      "user: ggl6fl-PM5O1WrdReL0l4A item: V6IarqWLrOnoDeCW9fG0WA r_ui = 3.00   est = 3.51   {'was_impossible': False}\n",
      "user: ggl6fl-PM5O1WrdReL0l4A item: o56tgSF7UwGE_OzdlknGxA r_ui = 2.00   est = 3.42   {'was_impossible': False}\n",
      "user: ggl6fl-PM5O1WrdReL0l4A item: 9RH1xBIMMAZXg9s_XW_sLg r_ui = 4.00   est = 4.25   {'was_impossible': False}\n",
      "user: ggl6fl-PM5O1WrdReL0l4A item: HcLJDCEqExpfC2pdzOTAsA r_ui = 4.00   est = 4.33   {'was_impossible': False}\n",
      "user: ggl6fl-PM5O1WrdReL0l4A item: _OK9IEzkMWMlR9T4mF9RmA r_ui = 3.00   est = 3.44   {'was_impossible': False}\n",
      "user: ggl6fl-PM5O1WrdReL0l4A item: jdEUnRWn5efT3sbn2T3KjQ r_ui = 5.00   est = 3.77   {'was_impossible': False}\n",
      "user: ggl6fl-PM5O1WrdReL0l4A item: WPgqsaFJBr2mJxyNrAiCFQ r_ui = 5.00   est = 4.08   {'was_impossible': False}\n",
      "user: ggl6fl-PM5O1WrdReL0l4A item: uiZq2qHtUgYPPOtXW47UTQ r_ui = 4.00   est = 3.89   {'was_impossible': False}\n",
      "user: ggl6fl-PM5O1WrdReL0l4A item: PmnIrliSIYc_0L5fWUhbKA r_ui = 4.00   est = 4.23   {'was_impossible': False}\n",
      "user: ggl6fl-PM5O1WrdReL0l4A item: 1ajkKqDVs4oyhCSjj7-wqQ r_ui = 5.00   est = 4.61   {'was_impossible': False}\n",
      "user: ggl6fl-PM5O1WrdReL0l4A item: T5_3LoIuOnilA7Z5sdfGJA r_ui = 2.00   est = 4.16   {'was_impossible': False}\n",
      "user: ggl6fl-PM5O1WrdReL0l4A item: j4GcfVzq1BCXGoPtNGOtgg r_ui = 3.00   est = 4.11   {'was_impossible': False}\n",
      "user: ggl6fl-PM5O1WrdReL0l4A item: DmJK-IWY2F0ykgHKxVgnZg r_ui = 3.00   est = 3.85   {'was_impossible': False}\n",
      "user: ggl6fl-PM5O1WrdReL0l4A item: kxSce-ipaV5GwiN8Ntq2rg r_ui = 4.00   est = 3.69   {'was_impossible': False}\n",
      "user: ggl6fl-PM5O1WrdReL0l4A item: 6D5naX_EO6t4L2IGuuSSvA r_ui = 4.00   est = 2.83   {'was_impossible': False}\n",
      "user: ggl6fl-PM5O1WrdReL0l4A item: 6_NxWHy4flcwAlxMlK3ONQ r_ui = 4.00   est = 4.02   {'was_impossible': False}\n",
      "user: ggl6fl-PM5O1WrdReL0l4A item: L36IfJdif0rvLfTkQr9hOg r_ui = 4.00   est = 3.68   {'was_impossible': False}\n",
      "user: ggl6fl-PM5O1WrdReL0l4A item: bMcozrCMkppinCDu0C5ueA r_ui = 4.00   est = 3.93   {'was_impossible': False}\n",
      "user: ggl6fl-PM5O1WrdReL0l4A item: HzMKiHDzsSwGFa6bTTsr8Q r_ui = 4.00   est = 3.49   {'was_impossible': False}\n",
      "user: ggl6fl-PM5O1WrdReL0l4A item: 1o1LImsFDoGDogxgYfjIqQ r_ui = 3.00   est = 3.61   {'was_impossible': False}\n",
      "user: ggl6fl-PM5O1WrdReL0l4A item: rnwrQjhb7KcV6uoElNTH5w r_ui = 5.00   est = 4.28   {'was_impossible': False}\n",
      "user: ggl6fl-PM5O1WrdReL0l4A item: y2w6rFaO0XEiG5mFfOsiFA r_ui = 4.00   est = 4.22   {'was_impossible': False}\n",
      "user: ggl6fl-PM5O1WrdReL0l4A item: 14GzlscvBbd3PDxAZ0oCqw r_ui = 4.00   est = 4.03   {'was_impossible': False}\n",
      "user: ggl6fl-PM5O1WrdReL0l4A item: n1EJsecYBCjh7_nhFlWPkA r_ui = 5.00   est = 3.94   {'was_impossible': False}\n",
      "user: ggl6fl-PM5O1WrdReL0l4A item: 0qmGd3I6dFkJ3auDgRZl4Q r_ui = 3.00   est = 3.87   {'was_impossible': False}\n",
      "user: ggl6fl-PM5O1WrdReL0l4A item: 9m678PeuzwYamIf6sysUHg r_ui = 4.00   est = 3.86   {'was_impossible': False}\n",
      "user: ggl6fl-PM5O1WrdReL0l4A item: biYgFkftCPue7g3upflUOg r_ui = 3.00   est = 3.47   {'was_impossible': False}\n",
      "user: ggl6fl-PM5O1WrdReL0l4A item: jw_NGZz281pnD4tAGopq_w r_ui = 3.00   est = 3.67   {'was_impossible': False}\n",
      "user: ggl6fl-PM5O1WrdReL0l4A item: DkuCJwpeiGhW41EEcOKweg r_ui = 4.00   est = 3.41   {'was_impossible': False}\n",
      "user: ggl6fl-PM5O1WrdReL0l4A item: qbeheL7TS1oJMlUnJo1aPQ r_ui = 4.00   est = 3.75   {'was_impossible': False}\n",
      "user: ggl6fl-PM5O1WrdReL0l4A item: rdpY_LeMnDnfeK47eDnDOw r_ui = 5.00   est = 3.99   {'was_impossible': False}\n",
      "user: ggl6fl-PM5O1WrdReL0l4A item: jIxhHWqxKd5ZWBIEmsFxWQ r_ui = 5.00   est = 3.93   {'was_impossible': False}\n",
      "user: ggl6fl-PM5O1WrdReL0l4A item: DXho4NyanHYoI84uev9Omw r_ui = 5.00   est = 3.37   {'was_impossible': False}\n",
      "user: ggl6fl-PM5O1WrdReL0l4A item: 5GpWwHKMX4yObZrsguE80A r_ui = 4.00   est = 4.38   {'was_impossible': False}\n",
      "user: ggl6fl-PM5O1WrdReL0l4A item: IB2u25TrT22WMwtqTXVmeQ r_ui = 3.00   est = 3.81   {'was_impossible': False}\n",
      "user: ggl6fl-PM5O1WrdReL0l4A item: mlYVUORelx-_gFihRA1s6g r_ui = 1.00   est = 3.50   {'was_impossible': False}\n",
      "user: ggl6fl-PM5O1WrdReL0l4A item: ssCNHfcDUU07kqAYZaY2gQ r_ui = 5.00   est = 4.14   {'was_impossible': False}\n",
      "user: ggl6fl-PM5O1WrdReL0l4A item: efKrQOMu0gLiTQ2uG0NX_A r_ui = 4.00   est = 3.67   {'was_impossible': False}\n",
      "user: ggl6fl-PM5O1WrdReL0l4A item: EnlwXqQSk_IVAjBFD-gipA r_ui = 3.00   est = 3.10   {'was_impossible': False}\n",
      "user: ggl6fl-PM5O1WrdReL0l4A item: 8V1ceChgSzcGUV6jC8CvyQ r_ui = 3.00   est = 3.42   {'was_impossible': False}\n",
      "user: ggl6fl-PM5O1WrdReL0l4A item: VQWNrPrEp8pKtz9-o0q65Q r_ui = 4.00   est = 3.93   {'was_impossible': False}\n",
      "user: ggl6fl-PM5O1WrdReL0l4A item: kVn-sFg1CIFaHuRdES00NA r_ui = 3.00   est = 3.00   {'was_impossible': False}\n",
      "user: ggl6fl-PM5O1WrdReL0l4A item: -iOW4FIS61TbvsWH-vmhEQ r_ui = 3.00   est = 4.32   {'was_impossible': False}\n",
      "user: ggl6fl-PM5O1WrdReL0l4A item: eCZZTSpW9-UUvGZ_F-Vohg r_ui = 3.00   est = 3.66   {'was_impossible': False}\n",
      "user: ggl6fl-PM5O1WrdReL0l4A item: kb0VfKZKHHhvDze3JZqi0Q r_ui = 3.00   est = 3.88   {'was_impossible': False}\n",
      "user: ggl6fl-PM5O1WrdReL0l4A item: KAyX9k6eaKrNigFGgwqm6g r_ui = 3.00   est = 3.32   {'was_impossible': False}\n",
      "user: ggl6fl-PM5O1WrdReL0l4A item: eo5O5VgAIL7dz8AWBGBcjg r_ui = 5.00   est = 4.13   {'was_impossible': False}\n",
      "user: ggl6fl-PM5O1WrdReL0l4A item: ck8Id2EaJ20Alj0N8UMvBQ r_ui = 5.00   est = 4.26   {'was_impossible': False}\n",
      "user: ggl6fl-PM5O1WrdReL0l4A item: MCPwMPmPS8tYVGcjWEoqFQ r_ui = 3.00   est = 3.47   {'was_impossible': False}\n",
      "user: ggl6fl-PM5O1WrdReL0l4A item: Q8NuaQg0UGTaHfdWp7EmOg r_ui = 4.00   est = 3.54   {'was_impossible': False}\n",
      "user: ggl6fl-PM5O1WrdReL0l4A item: OCqvNHGxVPhpkwsL-bu8Mw r_ui = 2.00   est = 3.35   {'was_impossible': False}\n",
      "user: ggl6fl-PM5O1WrdReL0l4A item: OIVAJo8QryN-bJOjOvxkVQ r_ui = 3.00   est = 2.87   {'was_impossible': False}\n",
      "user: ggl6fl-PM5O1WrdReL0l4A item: Xs37W8giPcK332oI8p_dxg r_ui = 3.00   est = 3.38   {'was_impossible': False}\n",
      "user: ggl6fl-PM5O1WrdReL0l4A item: -I4bxb04YkCSNCbFWto7Gw r_ui = 4.00   est = 3.93   {'was_impossible': False}\n",
      "user: ggl6fl-PM5O1WrdReL0l4A item: SSOx0BLXiVfmJWCY5XJDrw r_ui = 4.00   est = 3.47   {'was_impossible': False}\n",
      "user: ggl6fl-PM5O1WrdReL0l4A item: FxveeHL_B0Kkz1KjPKyF3A r_ui = 4.00   est = 3.32   {'was_impossible': False}\n",
      "user: ggl6fl-PM5O1WrdReL0l4A item: pJ05i55q3vmw_SN-OWyeMg r_ui = 5.00   est = 4.12   {'was_impossible': False}\n",
      "user: ggl6fl-PM5O1WrdReL0l4A item: tyuzgXFQGEkM5A9e6HmSLA r_ui = 2.00   est = 3.12   {'was_impossible': False}\n",
      "user: ggl6fl-PM5O1WrdReL0l4A item: L1yCGs1G1KM-LLIrLIWAPw r_ui = 3.00   est = 2.90   {'was_impossible': False}\n",
      "user: ggl6fl-PM5O1WrdReL0l4A item: 1qO0DUMv1ZtRtPH2VD8x_Q r_ui = 5.00   est = 4.48   {'was_impossible': False}\n",
      "user: ggl6fl-PM5O1WrdReL0l4A item: zP1UJJCy9E6qyeEaIDtupg r_ui = 2.00   est = 3.70   {'was_impossible': False}\n",
      "user: ggl6fl-PM5O1WrdReL0l4A item: 9gV2YmOzoNlya1CD6lGSXQ r_ui = 4.00   est = 3.71   {'was_impossible': False}\n",
      "user: ggl6fl-PM5O1WrdReL0l4A item: lypFCnFK5VToa698ZBszDg r_ui = 3.00   est = 4.17   {'was_impossible': False}\n",
      "user: ggl6fl-PM5O1WrdReL0l4A item: MovPLAPho9dqF6dK1UvxXg r_ui = 4.00   est = 4.01   {'was_impossible': False}\n",
      "user: ggl6fl-PM5O1WrdReL0l4A item: T51_B9UEtrTAgjp_u9fp9Q r_ui = 4.00   est = 3.65   {'was_impossible': False}\n",
      "user: ggl6fl-PM5O1WrdReL0l4A item: T8DpRFty13MXLf6MB43aLg r_ui = 4.00   est = 4.04   {'was_impossible': False}\n",
      "user: ggl6fl-PM5O1WrdReL0l4A item: Yza2V-zlc1iCCeiHxhdKDA r_ui = 4.00   est = 2.89   {'was_impossible': False}\n",
      "user: ggl6fl-PM5O1WrdReL0l4A item: 7CAMlSH-UGjb5N75vN_Iww r_ui = 4.00   est = 3.57   {'was_impossible': False}\n",
      "user: ggl6fl-PM5O1WrdReL0l4A item: RNqUyblZzXvg0a2fBjJQQg r_ui = 4.00   est = 3.33   {'was_impossible': False}\n",
      "user: ggl6fl-PM5O1WrdReL0l4A item: k6Q3gluuTExfNr46JV6qGw r_ui = 5.00   est = 4.33   {'was_impossible': False}\n",
      "user: ggl6fl-PM5O1WrdReL0l4A item: rcERANnIyyyanLU0t2qdKg r_ui = 4.00   est = 3.89   {'was_impossible': False}\n",
      "user: ggl6fl-PM5O1WrdReL0l4A item: 2vH58mhkEl8GdcDug1OwWg r_ui = 3.00   est = 4.04   {'was_impossible': False}\n",
      "user: ggl6fl-PM5O1WrdReL0l4A item: HT22FICAqumPNoubT197Yw r_ui = 4.00   est = 4.25   {'was_impossible': False}\n",
      "user: ggl6fl-PM5O1WrdReL0l4A item: GwwX5JjuOVpw0ZlBvCqEOg r_ui = 3.00   est = 3.98   {'was_impossible': False}\n",
      "user: ggl6fl-PM5O1WrdReL0l4A item: Q1TofnFQ4sMFA47sGYAyeg r_ui = 1.00   est = 2.77   {'was_impossible': False}\n",
      "user: ggl6fl-PM5O1WrdReL0l4A item: AMOuvUEINcD8xomMSReFog r_ui = 3.00   est = 3.69   {'was_impossible': False}\n",
      "user: ggl6fl-PM5O1WrdReL0l4A item: POckJBN79yzlqfMbbEToqA r_ui = 4.00   est = 4.27   {'was_impossible': False}\n",
      "user: ggl6fl-PM5O1WrdReL0l4A item: zqfbHraCjhS5ZOT70Svn1A r_ui = 4.00   est = 4.10   {'was_impossible': False}\n",
      "user: ggl6fl-PM5O1WrdReL0l4A item: mIZTif2mj2-CozNOOTFFpg r_ui = 4.00   est = 3.87   {'was_impossible': False}\n",
      "user: ggl6fl-PM5O1WrdReL0l4A item: um4x6dIkv8w2a4e0VkRNmA r_ui = 3.00   est = 3.69   {'was_impossible': False}\n",
      "user: ggl6fl-PM5O1WrdReL0l4A item: 87f7kR7nTz8WHnmtLM_S6w r_ui = 5.00   est = 4.56   {'was_impossible': False}\n"
     ]
    }
   ],
   "source": [
    "pred_list = list()\n",
    "for business_id in business_id_dict:\n",
    "    if (df_new_user['business_id'] == business_id).any():\n",
    "        r_ui = df_new_user.loc[df_new_user['business_id'] == business_id, 'rating'].iloc[0]\n",
    "        pred = algo.predict(user_id, business_id, r_ui = r_ui, verbose=True)\n",
    "        pred_list.append(pred)"
   ]
  },
  {
   "source": [
    "## Accuracy metrics\n",
    "> Calculate the RMSE between the predicted rating and the acutal rating given by the sample user"
   ],
   "cell_type": "markdown",
   "metadata": {}
  },
  {
   "cell_type": "code",
   "execution_count": 388,
   "metadata": {},
   "outputs": [
    {
     "output_type": "stream",
     "name": "stdout",
     "text": [
      "RMSE: 0.8001\n"
     ]
    }
   ],
   "source": [
    "accuracy.rmse(pred_list);"
   ]
  },
  {
   "source": [
    "> Classify reviews with 3 or more stars as Recommended/Positive and reviews with less than 3 stars as Not Recommended/Negative <br>\n",
    "Calculate the Precision, Recall, and f1 scores"
   ],
   "cell_type": "markdown",
   "metadata": {}
  },
  {
   "cell_type": "code",
   "execution_count": 386,
   "metadata": {},
   "outputs": [],
   "source": [
    "def precision_recall_f1_at_k(predictions, threshold=3):\n",
    "    rating_list = []\n",
    "    for n in range(len(pred_list)):\n",
    "        rating_list.append([pred_list[n][2],pred_list[n][3]])\n",
    "    n_rel = sum((true_r[0] >= threshold) for true_r in rating_list)\n",
    "    n_rec_k = sum((est[1] >= threshold) for est in rating_list)\n",
    "    n_rel_and_rec_k = sum(((rating[0] >= threshold) and (rating[1] >= threshold)) for rating in rating_list)\n",
    "    precision = n_rel_and_rec_k / n_rec_k if n_rec_k != 0 else 0\n",
    "    recall = n_rel_and_rec_k / n_rel if n_rel != 0 else 0\n",
    "    f1 = 2*(precision*recall)/(precision+recall)\n",
    "\n",
    "    return precision, recall, f1"
   ]
  },
  {
   "source": [
    "> Precision: Ability of the algorithm to not recommend a restaurant that the user has given a negative review for <br>\n",
    "Recall: Ability of the algorithm to recommend a restaurant that the user has given a positive review for <br>\n",
    "f1 score: Weighted mean of the precision and recall metrics"
   ],
   "cell_type": "markdown",
   "metadata": {}
  },
  {
   "cell_type": "code",
   "execution_count": 387,
   "metadata": {},
   "outputs": [
    {
     "output_type": "stream",
     "name": "stdout",
     "text": [
      "Precision Score: 93.48\nRecall Score: 94.68\nf1 Score: 94.07\n"
     ]
    }
   ],
   "source": [
    "user_precision, user_recall, user_f1 = precision_recall_f1_at_k(pred_list)\n",
    "print('Precision Score: {0:0.2f}'.format(user_precision*100))\n",
    "print('Recall Score: {0:0.2f}'.format(user_recall*100))\n",
    "print('f1 Score: {0:0.2f}'.format(user_f1*100))"
   ]
  },
  {
   "source": [
    "## Predict Review Scores for all the Restaurants in the Dataset"
   ],
   "cell_type": "markdown",
   "metadata": {}
  },
  {
   "cell_type": "code",
   "execution_count": 389,
   "metadata": {
    "tags": [
     "outputPrepend"
    ]
   },
   "outputs": [
    {
     "output_type": "stream",
     "name": "stdout",
     "text": [
      "impossible': False}\n",
      "user: ggl6fl-PM5O1WrdReL0l4A item: P5lR-AdqxUC944GJ0Sfd_Q r_ui = None   est = 3.76   {'was_impossible': False}\n",
      "user: ggl6fl-PM5O1WrdReL0l4A item: zWPEAPYJjCHE87snhpTEiA r_ui = None   est = 3.67   {'was_impossible': False}\n",
      "user: ggl6fl-PM5O1WrdReL0l4A item: L1yCGs1G1KM-LLIrLIWAPw r_ui = 3.00   est = 2.90   {'was_impossible': False}\n",
      "user: ggl6fl-PM5O1WrdReL0l4A item: 1qO0DUMv1ZtRtPH2VD8x_Q r_ui = 5.00   est = 4.48   {'was_impossible': False}\n",
      "user: ggl6fl-PM5O1WrdReL0l4A item: b0kpd0u7o8HBlrciMbGMqQ r_ui = None   est = 2.99   {'was_impossible': False}\n",
      "user: ggl6fl-PM5O1WrdReL0l4A item: lYfE6rYm-GiZY0zLZ8S1Gw r_ui = None   est = 4.18   {'was_impossible': False}\n",
      "user: ggl6fl-PM5O1WrdReL0l4A item: h0JnvqMcK_G7CeBijxaVAA r_ui = None   est = 3.67   {'was_impossible': False}\n",
      "user: ggl6fl-PM5O1WrdReL0l4A item: YLBFKc5nL1KBPQ3c334ang r_ui = None   est = 3.67   {'was_impossible': False}\n",
      "user: ggl6fl-PM5O1WrdReL0l4A item: xtum8zS3BO9E1qcUOpi96w r_ui = None   est = 3.67   {'was_impossible': False}\n",
      "user: ggl6fl-PM5O1WrdReL0l4A item: RjIpiZLefONlg4SfWUjirg r_ui = None   est = 3.99   {'was_impossible': False}\n",
      "user: ggl6fl-PM5O1WrdReL0l4A item: ODlGYIWGHwhyeeDnhugH-Q r_ui = None   est = 4.26   {'was_impossible': False}\n",
      "user: ggl6fl-PM5O1WrdReL0l4A item: rGs0vEyN3puNd9RiIsPeKQ r_ui = None   est = 4.59   {'was_impossible': False}\n",
      "user: ggl6fl-PM5O1WrdReL0l4A item: zP1UJJCy9E6qyeEaIDtupg r_ui = 2.00   est = 3.70   {'was_impossible': False}\n",
      "user: ggl6fl-PM5O1WrdReL0l4A item: d8n5qyS6QDWknXx94RtoNw r_ui = None   est = 3.22   {'was_impossible': False}\n",
      "user: ggl6fl-PM5O1WrdReL0l4A item: 38HqGkzDw0MSa1MoB7Xxtw r_ui = None   est = 3.59   {'was_impossible': False}\n",
      "user: ggl6fl-PM5O1WrdReL0l4A item: le_XO1DYtz0DUgflXGIxkQ r_ui = None   est = 3.43   {'was_impossible': False}\n",
      "user: ggl6fl-PM5O1WrdReL0l4A item: sMjfiH2WuGHgNmYnHXAV0Q r_ui = None   est = 2.53   {'was_impossible': False}\n",
      "user: ggl6fl-PM5O1WrdReL0l4A item: 3942kJZKI8gsJO0BdRsneA r_ui = None   est = 4.16   {'was_impossible': False}\n",
      "user: ggl6fl-PM5O1WrdReL0l4A item: 8H4P9_mjJ410Q6_N8QghLQ r_ui = None   est = 2.42   {'was_impossible': False}\n",
      "user: ggl6fl-PM5O1WrdReL0l4A item: 0Q8Ma3w54ej8OjSVqX6BCg r_ui = None   est = 3.67   {'was_impossible': False}\n",
      "user: ggl6fl-PM5O1WrdReL0l4A item: AHgRWXw3IMe5WHktt3f6Xg r_ui = None   est = 3.47   {'was_impossible': False}\n",
      "user: ggl6fl-PM5O1WrdReL0l4A item: zPOEfCMbARmrmps37tdn0g r_ui = None   est = 3.67   {'was_impossible': False}\n",
      "user: ggl6fl-PM5O1WrdReL0l4A item: Kke51MpG22tAFmXkJm-sHA r_ui = None   est = 4.00   {'was_impossible': False}\n",
      "user: ggl6fl-PM5O1WrdReL0l4A item: BBblBHBnjpepOP1Q1kfi1A r_ui = None   est = 3.39   {'was_impossible': False}\n",
      "user: ggl6fl-PM5O1WrdReL0l4A item: 9gV2YmOzoNlya1CD6lGSXQ r_ui = 4.00   est = 3.71   {'was_impossible': False}\n",
      "user: ggl6fl-PM5O1WrdReL0l4A item: _i-ik7oyJYZGLDYUvbVlrQ r_ui = None   est = 2.93   {'was_impossible': False}\n",
      "user: ggl6fl-PM5O1WrdReL0l4A item: mSyHpS4dP_FDR-o8N3ye8Q r_ui = None   est = 3.67   {'was_impossible': False}\n",
      "user: ggl6fl-PM5O1WrdReL0l4A item: lypFCnFK5VToa698ZBszDg r_ui = 3.00   est = 4.17   {'was_impossible': False}\n",
      "user: ggl6fl-PM5O1WrdReL0l4A item: MovPLAPho9dqF6dK1UvxXg r_ui = 4.00   est = 4.01   {'was_impossible': False}\n",
      "user: ggl6fl-PM5O1WrdReL0l4A item: 7TStzQMNtPQIBNaIYcZ_zw r_ui = None   est = 3.27   {'was_impossible': False}\n",
      "user: ggl6fl-PM5O1WrdReL0l4A item: 3ysQylsFQj7JNIlQjncQeQ r_ui = None   est = 4.38   {'was_impossible': False}\n",
      "user: ggl6fl-PM5O1WrdReL0l4A item: uncb1Q3l6yYMrStDK1RWyA r_ui = None   est = 4.40   {'was_impossible': False}\n",
      "user: ggl6fl-PM5O1WrdReL0l4A item: oFKO7pvSMmSXlc0ytdxmYQ r_ui = None   est = 3.67   {'was_impossible': False}\n",
      "user: ggl6fl-PM5O1WrdReL0l4A item: qBDpPs3Wg7EmUI5XGeUEdA r_ui = None   est = 3.73   {'was_impossible': False}\n",
      "user: ggl6fl-PM5O1WrdReL0l4A item: sA56zGbIZj2NoBR_HqkN-g r_ui = None   est = 3.67   {'was_impossible': False}\n",
      "user: ggl6fl-PM5O1WrdReL0l4A item: Eh8Lg3IZFK1xZ5B3Nwz_Pw r_ui = None   est = 4.17   {'was_impossible': False}\n",
      "user: ggl6fl-PM5O1WrdReL0l4A item: 4kTfzwqYQlKaJIa-O7p9lw r_ui = None   est = 2.86   {'was_impossible': False}\n",
      "user: ggl6fl-PM5O1WrdReL0l4A item: EreK2vomkBNFHbjHKXyqNg r_ui = None   est = 3.44   {'was_impossible': False}\n",
      "user: ggl6fl-PM5O1WrdReL0l4A item: 45Opdnehep2a9-Vy7QY_Xg r_ui = None   est = 3.61   {'was_impossible': False}\n",
      "user: ggl6fl-PM5O1WrdReL0l4A item: ySLTN8LRUzfPBxUyJrgXDQ r_ui = None   est = 3.61   {'was_impossible': False}\n",
      "user: ggl6fl-PM5O1WrdReL0l4A item: XcW4QCefnrnvVU6UEYNqRQ r_ui = None   est = 3.67   {'was_impossible': False}\n",
      "user: ggl6fl-PM5O1WrdReL0l4A item: WUW2q1wJ15SlYW2TojBrfA r_ui = None   est = 3.77   {'was_impossible': False}\n",
      "user: ggl6fl-PM5O1WrdReL0l4A item: WLUtB6dUhP616jGFXA3YKA r_ui = None   est = 3.61   {'was_impossible': False}\n",
      "user: ggl6fl-PM5O1WrdReL0l4A item: dJKmNlmjBqbOccL1c6FEaQ r_ui = None   est = 3.91   {'was_impossible': False}\n",
      "user: ggl6fl-PM5O1WrdReL0l4A item: PUZSvR-nEHlhEi0gSADu7w r_ui = None   est = 3.68   {'was_impossible': False}\n",
      "user: ggl6fl-PM5O1WrdReL0l4A item: e0Xqct07zghIfUQrSITjaw r_ui = None   est = 3.35   {'was_impossible': False}\n",
      "user: ggl6fl-PM5O1WrdReL0l4A item: R5TkfU4aL5OldkLUb3zQyQ r_ui = None   est = 4.54   {'was_impossible': False}\n",
      "user: ggl6fl-PM5O1WrdReL0l4A item: i9Gi-LSagCrV6pLUfO2-3A r_ui = None   est = 3.67   {'was_impossible': False}\n",
      "user: ggl6fl-PM5O1WrdReL0l4A item: mqDsEyybiu1yXYu3LgwbZg r_ui = None   est = 4.10   {'was_impossible': False}\n",
      "user: ggl6fl-PM5O1WrdReL0l4A item: iZ6U8gC2fVLaaVlcQLfZOQ r_ui = None   est = 3.71   {'was_impossible': False}\n",
      "user: ggl6fl-PM5O1WrdReL0l4A item: DTmTXwvBdFZACQMe1rqzdw r_ui = None   est = 3.61   {'was_impossible': False}\n",
      "user: ggl6fl-PM5O1WrdReL0l4A item: 1NVThwwaX0AWVZVEnnI3OQ r_ui = None   est = 3.67   {'was_impossible': False}\n",
      "user: ggl6fl-PM5O1WrdReL0l4A item: VuFIPvP0U73sAMkjAxJTvw r_ui = None   est = 2.89   {'was_impossible': False}\n",
      "user: ggl6fl-PM5O1WrdReL0l4A item: 1SlpJBMUyxFF7XiLUxTGGA r_ui = None   est = 3.67   {'was_impossible': False}\n",
      "user: ggl6fl-PM5O1WrdReL0l4A item: cjyLoEh5rMXK9abs12KdKA r_ui = None   est = 3.55   {'was_impossible': False}\n",
      "user: ggl6fl-PM5O1WrdReL0l4A item: dguuYTVO42NAEYUNVh714w r_ui = None   est = 3.67   {'was_impossible': False}\n",
      "user: ggl6fl-PM5O1WrdReL0l4A item: dS85Gdxt6o5qkb2lrC211A r_ui = None   est = 3.20   {'was_impossible': False}\n",
      "user: ggl6fl-PM5O1WrdReL0l4A item: k6zpfNbVMoGLYHcv2FZtJQ r_ui = None   est = 3.65   {'was_impossible': False}\n",
      "user: ggl6fl-PM5O1WrdReL0l4A item: hlYeuldaqmx3Zqy8eeCAHw r_ui = None   est = 3.47   {'was_impossible': False}\n",
      "user: ggl6fl-PM5O1WrdReL0l4A item: xHfa71SHTUwgRAnafjmllg r_ui = None   est = 3.57   {'was_impossible': False}\n",
      "user: ggl6fl-PM5O1WrdReL0l4A item: uzrW0Ach6sgEltPXjW2C7g r_ui = None   est = 3.67   {'was_impossible': False}\n",
      "user: ggl6fl-PM5O1WrdReL0l4A item: XiE-Yyb2kSE53HKjPEoSZA r_ui = None   est = 3.67   {'was_impossible': False}\n",
      "user: ggl6fl-PM5O1WrdReL0l4A item: Jb8SmNgPVXcDsetvI9CjQg r_ui = None   est = 3.67   {'was_impossible': False}\n",
      "user: ggl6fl-PM5O1WrdReL0l4A item: T51_B9UEtrTAgjp_u9fp9Q r_ui = 4.00   est = 3.65   {'was_impossible': False}\n",
      "user: ggl6fl-PM5O1WrdReL0l4A item: T8DpRFty13MXLf6MB43aLg r_ui = 4.00   est = 4.04   {'was_impossible': False}\n",
      "user: ggl6fl-PM5O1WrdReL0l4A item: mr9Tuv3ySAbZFRbHv1IFCw r_ui = None   est = 3.19   {'was_impossible': False}\n",
      "user: ggl6fl-PM5O1WrdReL0l4A item: kIvyPG10WVFjtJ9hOC4L8g r_ui = None   est = 3.67   {'was_impossible': False}\n",
      "user: ggl6fl-PM5O1WrdReL0l4A item: eLe7m6Wh3jeSSoTGGo6H3A r_ui = None   est = 4.04   {'was_impossible': False}\n",
      "user: ggl6fl-PM5O1WrdReL0l4A item: Yza2V-zlc1iCCeiHxhdKDA r_ui = 4.00   est = 2.89   {'was_impossible': False}\n",
      "user: ggl6fl-PM5O1WrdReL0l4A item: Ii-aCAM4KG6RCvpMn0hOkg r_ui = None   est = 3.40   {'was_impossible': False}\n",
      "user: ggl6fl-PM5O1WrdReL0l4A item: cyUDXVJlDEm8GXfIgpSAog r_ui = None   est = 3.67   {'was_impossible': False}\n",
      "user: ggl6fl-PM5O1WrdReL0l4A item: XM1llQ4T_IKVGmF7-p9C6w r_ui = None   est = 3.56   {'was_impossible': False}\n",
      "user: ggl6fl-PM5O1WrdReL0l4A item: 7CAMlSH-UGjb5N75vN_Iww r_ui = 4.00   est = 3.57   {'was_impossible': False}\n",
      "user: ggl6fl-PM5O1WrdReL0l4A item: A9M9J67qmBuMp6I1Px_4_w r_ui = None   est = 3.99   {'was_impossible': False}\n",
      "user: ggl6fl-PM5O1WrdReL0l4A item: IFamp2iDylLbgkxN8WaG0A r_ui = None   est = 4.16   {'was_impossible': False}\n",
      "user: ggl6fl-PM5O1WrdReL0l4A item: TtoFgRsS2UXXhYi9GWxm1A r_ui = None   est = 3.67   {'was_impossible': False}\n",
      "user: ggl6fl-PM5O1WrdReL0l4A item: vNhNrZRVqiJTglRaxWwlmA r_ui = None   est = 3.67   {'was_impossible': False}\n",
      "user: ggl6fl-PM5O1WrdReL0l4A item: 81DSkoVezBC-9BYe63c0dw r_ui = None   est = 3.38   {'was_impossible': False}\n",
      "user: ggl6fl-PM5O1WrdReL0l4A item: BAC-9njvQzG9KekYJ2cEWg r_ui = None   est = 3.64   {'was_impossible': False}\n",
      "user: ggl6fl-PM5O1WrdReL0l4A item: mcJhge14uee3o7WsAUe4rQ r_ui = None   est = 3.67   {'was_impossible': False}\n",
      "user: ggl6fl-PM5O1WrdReL0l4A item: dy-XO6rRE1cAMMrpMDQRrw r_ui = None   est = 3.51   {'was_impossible': False}\n",
      "user: ggl6fl-PM5O1WrdReL0l4A item: qreH4BLueGlF913H_fSY0Q r_ui = None   est = 3.67   {'was_impossible': False}\n",
      "user: ggl6fl-PM5O1WrdReL0l4A item: 1f4ODqSgyJKhV9N-KMkJ0A r_ui = None   est = 3.67   {'was_impossible': False}\n",
      "user: ggl6fl-PM5O1WrdReL0l4A item: byR3cDtWfxYVNSY541QTXQ r_ui = None   est = 3.39   {'was_impossible': False}\n",
      "user: ggl6fl-PM5O1WrdReL0l4A item: 5Vo5jygrgCXNgaNbH86e7g r_ui = None   est = 2.69   {'was_impossible': False}\n",
      "user: ggl6fl-PM5O1WrdReL0l4A item: Jy7zFnjWuOb5i3dLvA9QgA r_ui = None   est = 3.67   {'was_impossible': False}\n",
      "user: ggl6fl-PM5O1WrdReL0l4A item: yr5PAGXB19P1cy9-QJ9IYA r_ui = None   est = 3.85   {'was_impossible': False}\n",
      "user: ggl6fl-PM5O1WrdReL0l4A item: RNqUyblZzXvg0a2fBjJQQg r_ui = 4.00   est = 3.33   {'was_impossible': False}\n",
      "user: ggl6fl-PM5O1WrdReL0l4A item: XCmRVkEIaEPkNtG6XHGZ0Q r_ui = None   est = 3.59   {'was_impossible': False}\n",
      "user: ggl6fl-PM5O1WrdReL0l4A item: vzO3wOIWVNNnxY3NlSXw-A r_ui = None   est = 3.67   {'was_impossible': False}\n",
      "user: ggl6fl-PM5O1WrdReL0l4A item: VxoRKAebGksNn5ewTGGxQQ r_ui = None   est = 2.84   {'was_impossible': False}\n",
      "user: ggl6fl-PM5O1WrdReL0l4A item: DpCa6wNADNPoZTDly2DkXA r_ui = None   est = 4.08   {'was_impossible': False}\n",
      "user: ggl6fl-PM5O1WrdReL0l4A item: zGJHpkVJcpsdRF5h2NyMPw r_ui = None   est = 3.82   {'was_impossible': False}\n",
      "user: ggl6fl-PM5O1WrdReL0l4A item: VN8qbrVvMCmTLNxEOhV5sg r_ui = None   est = 3.67   {'was_impossible': False}\n",
      "user: ggl6fl-PM5O1WrdReL0l4A item: k6Q3gluuTExfNr46JV6qGw r_ui = 5.00   est = 4.33   {'was_impossible': False}\n",
      "user: ggl6fl-PM5O1WrdReL0l4A item: VZ7Cg-hwILstsY5c0TtdBA r_ui = None   est = 3.90   {'was_impossible': False}\n",
      "user: ggl6fl-PM5O1WrdReL0l4A item: 6OCT26jlncXFRCtQkQaWmw r_ui = None   est = 1.91   {'was_impossible': False}\n",
      "user: ggl6fl-PM5O1WrdReL0l4A item: NfIWgqIbpvUD0cBRNIKypQ r_ui = None   est = 3.27   {'was_impossible': False}\n",
      "user: ggl6fl-PM5O1WrdReL0l4A item: 0Iva7qdGwb_Vv596pUdRtQ r_ui = None   est = 4.33   {'was_impossible': False}\n",
      "user: ggl6fl-PM5O1WrdReL0l4A item: rcERANnIyyyanLU0t2qdKg r_ui = 4.00   est = 3.89   {'was_impossible': False}\n",
      "user: ggl6fl-PM5O1WrdReL0l4A item: 2vH58mhkEl8GdcDug1OwWg r_ui = 3.00   est = 4.04   {'was_impossible': False}\n",
      "user: ggl6fl-PM5O1WrdReL0l4A item: 8NrCMdAUOfFhLnfRUVJPDA r_ui = None   est = 3.67   {'was_impossible': False}\n",
      "user: ggl6fl-PM5O1WrdReL0l4A item: wMIUdjntDop3maHR_1Nv7Q r_ui = None   est = 3.66   {'was_impossible': False}\n",
      "user: ggl6fl-PM5O1WrdReL0l4A item: HT22FICAqumPNoubT197Yw r_ui = 4.00   est = 4.25   {'was_impossible': False}\n",
      "user: ggl6fl-PM5O1WrdReL0l4A item: LGCC_NYgWz9qUFyYqeS89g r_ui = None   est = 3.67   {'was_impossible': False}\n",
      "user: ggl6fl-PM5O1WrdReL0l4A item: xTAizRLXGPMTXl61-K1eOQ r_ui = None   est = 3.64   {'was_impossible': False}\n",
      "user: ggl6fl-PM5O1WrdReL0l4A item: BdTXw_Xy7m3Jy25FMVXqSQ r_ui = None   est = 3.67   {'was_impossible': False}\n",
      "user: ggl6fl-PM5O1WrdReL0l4A item: 7LFSgs2v3Kzjqd8SaRrB5A r_ui = None   est = 3.95   {'was_impossible': False}\n",
      "user: ggl6fl-PM5O1WrdReL0l4A item: 8ju300tn3uzUvIPIvmkRWA r_ui = None   est = 4.01   {'was_impossible': False}\n",
      "user: ggl6fl-PM5O1WrdReL0l4A item: nyy38msunExaObJOeH7j0Q r_ui = None   est = 3.82   {'was_impossible': False}\n",
      "user: ggl6fl-PM5O1WrdReL0l4A item: cFEU4m0_5J8YDHJuCw-zDg r_ui = None   est = 3.67   {'was_impossible': False}\n",
      "user: ggl6fl-PM5O1WrdReL0l4A item: QfkY8mFyAIgxhBxr7sIwJw r_ui = None   est = 3.85   {'was_impossible': False}\n",
      "user: ggl6fl-PM5O1WrdReL0l4A item: fmw_0vST7GjdibObHWLOuQ r_ui = None   est = 3.93   {'was_impossible': False}\n",
      "user: ggl6fl-PM5O1WrdReL0l4A item: QDKWy6RL1Cgl1hkMjb19og r_ui = None   est = 4.22   {'was_impossible': False}\n",
      "user: ggl6fl-PM5O1WrdReL0l4A item: GwwX5JjuOVpw0ZlBvCqEOg r_ui = 3.00   est = 3.98   {'was_impossible': False}\n",
      "user: ggl6fl-PM5O1WrdReL0l4A item: N2lTGN6EuQwuEdDGPOkGow r_ui = None   est = 3.57   {'was_impossible': False}\n",
      "user: ggl6fl-PM5O1WrdReL0l4A item: mvDMXNJCQ28Oc9z5it_PJg r_ui = None   est = 3.41   {'was_impossible': False}\n",
      "user: ggl6fl-PM5O1WrdReL0l4A item: Q1TofnFQ4sMFA47sGYAyeg r_ui = 1.00   est = 2.77   {'was_impossible': False}\n",
      "user: ggl6fl-PM5O1WrdReL0l4A item: -G8UiqYsysIPY3FRmKoTqw r_ui = None   est = 3.96   {'was_impossible': False}\n",
      "user: ggl6fl-PM5O1WrdReL0l4A item: sd9b3n1GWBCPmvufiOoX4Q r_ui = None   est = 2.51   {'was_impossible': False}\n",
      "user: ggl6fl-PM5O1WrdReL0l4A item: 2IXSHR4pjeevJvk6eRoPgg r_ui = None   est = 2.61   {'was_impossible': False}\n",
      "user: ggl6fl-PM5O1WrdReL0l4A item: rM0sHlCj-sAr-shZdTsxYQ r_ui = None   est = 3.67   {'was_impossible': False}\n",
      "user: ggl6fl-PM5O1WrdReL0l4A item: W_YBG1lPLB-cehQbwtXKow r_ui = None   est = 3.15   {'was_impossible': False}\n",
      "user: ggl6fl-PM5O1WrdReL0l4A item: vChCvHlENOV9GWHKCF2emQ r_ui = None   est = 3.67   {'was_impossible': False}\n",
      "user: ggl6fl-PM5O1WrdReL0l4A item: BJp6E-If4MWLrOPGinXhcw r_ui = None   est = 3.14   {'was_impossible': False}\n",
      "user: ggl6fl-PM5O1WrdReL0l4A item: BOu8G-QQMOKZRjw79HM-lQ r_ui = None   est = 3.12   {'was_impossible': False}\n",
      "user: ggl6fl-PM5O1WrdReL0l4A item: 3KrxlYenUbAheaJWLTh7Zw r_ui = None   est = 3.67   {'was_impossible': False}\n",
      "user: ggl6fl-PM5O1WrdReL0l4A item: imBg1-qcZ9Wwvw8KsQBcUg r_ui = None   est = 3.77   {'was_impossible': False}\n",
      "user: ggl6fl-PM5O1WrdReL0l4A item: aHtRqwCT2KUP-hPmKjaCrA r_ui = None   est = 3.25   {'was_impossible': False}\n",
      "user: ggl6fl-PM5O1WrdReL0l4A item: ptwwkiGwta8jqooNZt0_0w r_ui = None   est = 3.31   {'was_impossible': False}\n",
      "user: ggl6fl-PM5O1WrdReL0l4A item: Co394lQ-3el7bcavAW9Haw r_ui = None   est = 3.71   {'was_impossible': False}\n",
      "user: ggl6fl-PM5O1WrdReL0l4A item: ZuY8VBrx69qDg9sxoTZLrQ r_ui = None   est = 3.10   {'was_impossible': False}\n",
      "user: ggl6fl-PM5O1WrdReL0l4A item: bsP7pGF9kzPezcn_9cS7TQ r_ui = None   est = 4.04   {'was_impossible': False}\n",
      "user: ggl6fl-PM5O1WrdReL0l4A item: hmKP0UCU1JYt-IUNm2sNPA r_ui = None   est = 4.00   {'was_impossible': False}\n",
      "user: ggl6fl-PM5O1WrdReL0l4A item: u60k13aJPDvXvEHQAyL3Vw r_ui = None   est = 3.79   {'was_impossible': False}\n",
      "user: ggl6fl-PM5O1WrdReL0l4A item: OThCf_WpfyqnSk95w_PaaQ r_ui = None   est = 3.00   {'was_impossible': False}\n",
      "user: ggl6fl-PM5O1WrdReL0l4A item: UR8asBQTJgVmXqQw-w5AnQ r_ui = None   est = 4.04   {'was_impossible': False}\n",
      "user: ggl6fl-PM5O1WrdReL0l4A item: 757zI3bNk4CZ9cql3T6rbQ r_ui = None   est = 4.19   {'was_impossible': False}\n",
      "user: ggl6fl-PM5O1WrdReL0l4A item: KbPL1DxBo2fGMTEkU2yoTg r_ui = None   est = 3.77   {'was_impossible': False}\n",
      "user: ggl6fl-PM5O1WrdReL0l4A item: SSmHkP0tZ4TKn_YUOEkVUg r_ui = None   est = 3.85   {'was_impossible': False}\n",
      "user: ggl6fl-PM5O1WrdReL0l4A item: EMgU4Dz69B4A2_GgNlzqaw r_ui = None   est = 3.88   {'was_impossible': False}\n",
      "user: ggl6fl-PM5O1WrdReL0l4A item: B3SYmXQ7Xtobk_XWJIdAnQ r_ui = None   est = 3.67   {'was_impossible': False}\n",
      "user: ggl6fl-PM5O1WrdReL0l4A item: XMxgZsQnBZ6r02QR2kIcWQ r_ui = None   est = 3.23   {'was_impossible': False}\n",
      "user: ggl6fl-PM5O1WrdReL0l4A item: qS_sydoMwEMuBU0ByOM-JA r_ui = None   est = 3.90   {'was_impossible': False}\n",
      "user: ggl6fl-PM5O1WrdReL0l4A item: 0_Gasj4t2pH5mNvYyBDPaQ r_ui = None   est = 3.67   {'was_impossible': False}\n",
      "user: ggl6fl-PM5O1WrdReL0l4A item: _0d408AYQPBJ0ywAaFBF3g r_ui = None   est = 3.44   {'was_impossible': False}\n",
      "user: ggl6fl-PM5O1WrdReL0l4A item: 7dtBcWPhW2WP7b0bjNPrAQ r_ui = None   est = 4.02   {'was_impossible': False}\n",
      "user: ggl6fl-PM5O1WrdReL0l4A item: kb7484P1s9eQx39xADFJ-A r_ui = None   est = 3.32   {'was_impossible': False}\n",
      "user: ggl6fl-PM5O1WrdReL0l4A item: AMOuvUEINcD8xomMSReFog r_ui = 3.00   est = 3.69   {'was_impossible': False}\n",
      "user: ggl6fl-PM5O1WrdReL0l4A item: 5UthFjEP8UhRKDtbNjIhGA r_ui = None   est = 3.63   {'was_impossible': False}\n",
      "user: ggl6fl-PM5O1WrdReL0l4A item: vNdUfmphxi3erCYe6f7q3A r_ui = None   est = 3.16   {'was_impossible': False}\n",
      "user: ggl6fl-PM5O1WrdReL0l4A item: sZiUCvGIfkmeucb_JwaZvQ r_ui = None   est = 2.78   {'was_impossible': False}\n",
      "user: ggl6fl-PM5O1WrdReL0l4A item: 6uuWg3RYUYzrLePphT3PQw r_ui = None   est = 2.63   {'was_impossible': False}\n",
      "user: ggl6fl-PM5O1WrdReL0l4A item: WLs3EjH4SzGD1wBFOwZ86Q r_ui = None   est = 3.67   {'was_impossible': False}\n",
      "user: ggl6fl-PM5O1WrdReL0l4A item: POckJBN79yzlqfMbbEToqA r_ui = 4.00   est = 4.27   {'was_impossible': False}\n",
      "user: ggl6fl-PM5O1WrdReL0l4A item: zqfbHraCjhS5ZOT70Svn1A r_ui = 4.00   est = 4.10   {'was_impossible': False}\n",
      "user: ggl6fl-PM5O1WrdReL0l4A item: 1_bIwtYU3RYuPooHpAIQZg r_ui = None   est = 4.09   {'was_impossible': False}\n",
      "user: ggl6fl-PM5O1WrdReL0l4A item: Jz4pheZ6m8eYV4EYzb_jeQ r_ui = None   est = 3.14   {'was_impossible': False}\n",
      "user: ggl6fl-PM5O1WrdReL0l4A item: Df2QJe-w68JM0fR9rFfPhA r_ui = None   est = 4.01   {'was_impossible': False}\n",
      "user: ggl6fl-PM5O1WrdReL0l4A item: mIZTif2mj2-CozNOOTFFpg r_ui = 4.00   est = 3.87   {'was_impossible': False}\n",
      "user: ggl6fl-PM5O1WrdReL0l4A item: yHuV7fdSJT96ChiWpDrU-Q r_ui = None   est = 3.99   {'was_impossible': False}\n",
      "user: ggl6fl-PM5O1WrdReL0l4A item: tN08NZTMnyX_yT89uVN2_w r_ui = None   est = 3.76   {'was_impossible': False}\n",
      "user: ggl6fl-PM5O1WrdReL0l4A item: XCPxbHLo0kmWSQv3ZqJvBg r_ui = None   est = 3.67   {'was_impossible': False}\n",
      "user: ggl6fl-PM5O1WrdReL0l4A item: S2RKI9wDmI4Y5KOM1fgRzQ r_ui = None   est = 3.67   {'was_impossible': False}\n",
      "user: ggl6fl-PM5O1WrdReL0l4A item: Dzqu8p58M3G2USX3TpifqA r_ui = None   est = 3.27   {'was_impossible': False}\n",
      "user: ggl6fl-PM5O1WrdReL0l4A item: y5iRrweISUHMnATpBGr6uQ r_ui = None   est = 4.09   {'was_impossible': False}\n",
      "user: ggl6fl-PM5O1WrdReL0l4A item: UXb5pTNPf31BpJ2oiDZBXQ r_ui = None   est = 3.49   {'was_impossible': False}\n",
      "user: ggl6fl-PM5O1WrdReL0l4A item: cFfWVZz8NUyE-ZhE_IaSWA r_ui = None   est = 3.67   {'was_impossible': False}\n",
      "user: ggl6fl-PM5O1WrdReL0l4A item: n_E8S4o9qywljKvzsADoRQ r_ui = None   est = 3.24   {'was_impossible': False}\n",
      "user: ggl6fl-PM5O1WrdReL0l4A item: znkU8_QJ4Dksd8XUVjXBcg r_ui = None   est = 3.23   {'was_impossible': False}\n",
      "user: ggl6fl-PM5O1WrdReL0l4A item: um4x6dIkv8w2a4e0VkRNmA r_ui = 3.00   est = 3.69   {'was_impossible': False}\n",
      "user: ggl6fl-PM5O1WrdReL0l4A item: wErvHalgCs_HzuQXSYaZQA r_ui = None   est = 4.03   {'was_impossible': False}\n",
      "user: ggl6fl-PM5O1WrdReL0l4A item: sca7tyVH-Ctbk67zMRdGmg r_ui = None   est = 3.98   {'was_impossible': False}\n",
      "user: ggl6fl-PM5O1WrdReL0l4A item: nS8uRoVeqe20VsDDH59jHQ r_ui = None   est = 3.67   {'was_impossible': False}\n",
      "user: ggl6fl-PM5O1WrdReL0l4A item: QMJ0uaY73v6OX2Wr5emEwg r_ui = None   est = 3.93   {'was_impossible': False}\n",
      "user: ggl6fl-PM5O1WrdReL0l4A item: WoI1IisL_AgmWdiJLRb-Zw r_ui = None   est = 3.93   {'was_impossible': False}\n",
      "user: ggl6fl-PM5O1WrdReL0l4A item: pXj9QQVummN5ANuseK4CvQ r_ui = None   est = 4.02   {'was_impossible': False}\n",
      "user: ggl6fl-PM5O1WrdReL0l4A item: 2Puvh1tZnbEuIimMv0hJ5Q r_ui = None   est = 3.58   {'was_impossible': False}\n",
      "user: ggl6fl-PM5O1WrdReL0l4A item: 87f7kR7nTz8WHnmtLM_S6w r_ui = 5.00   est = 4.56   {'was_impossible': False}\n",
      "user: ggl6fl-PM5O1WrdReL0l4A item: yQL8SrSETbbCI1U5esVJQw r_ui = None   est = 4.66   {'was_impossible': False}\n"
     ]
    }
   ],
   "source": [
    "pred_list = list()\n",
    "for business_id in business_id_dict:\n",
    "    if (df_new_user['business_id'] == business_id).any():\n",
    "        r_ui = df_new_user.loc[df_new_user['business_id'] == business_id, 'rating'].iloc[0]\n",
    "        pred = algo.predict(user_id, business_id, r_ui = r_ui, verbose=True)\n",
    "    else:\n",
    "        pred = algo.predict(user_id, business_id, verbose=True)\n",
    "    pred_list.append(pred)"
   ]
  },
  {
   "source": [
    "## Setup the Recommender algorithm\n",
    "> Sort the predicted review scores from high to low <br>\n",
    "Grab the top 25 review scores and print out the restaurants they belong to"
   ],
   "cell_type": "markdown",
   "metadata": {}
  },
  {
   "cell_type": "code",
   "execution_count": 390,
   "metadata": {},
   "outputs": [],
   "source": [
    "def find_topn(predictions, n, user_id):\n",
    "    topn = defaultdict(list)\n",
    "    for uid, bid, _, est, _ in predictions:\n",
    "        topn[uid].append((bid, est))\n",
    "\n",
    "    for uid, est in topn.items():\n",
    "        est.sort(key=lambda x: x[1], reverse=True)\n",
    "        topn[uid] = est[:n]\n",
    "\n",
    "    user_results = pd.DataFrame.from_dict(topn).transpose().loc[user_id]\n",
    "    top_restaurant_id = user_results.loc[0][0]\n",
    "    \n",
    "    print('Top {0} recommendations for user {1}:\\n'.format(n, get_user_attr(user_id, 'name')))\n",
    "    print('   Restaurant:                                  Predicted Rating:              Restaurant ID:\\n')\n",
    "    for i in range(n):\n",
    "        print('{:<3d}{:<50s}{:1.2f}{:>40s}'.format(i+1, get_business_attr(user_results.loc[i][0], 'name'), user_results.loc[i][1], user_results.loc[i][0]))\n",
    "        \n",
    "    return user_results, top_restaurant_id"
   ]
  },
  {
   "cell_type": "code",
   "execution_count": 391,
   "metadata": {},
   "outputs": [
    {
     "output_type": "stream",
     "name": "stdout",
     "text": [
      "Top 25 recommendations for user Michael:\n\n   Restaurant:                                  Predicted Rating:              Restaurant ID:\n\n1  Harry's Cheese and Cold Cuts                      4.86                  w7JR1y-TCXmWdFKDLW83eQ\n2  Polcari's Coffee                                  4.79                  y5lCCZ4YZk4jLSmBaATOmw\n3  Recreo Coffee & Roasterie                         4.75                  ZjNw6MQ9EyS16COI465xbQ\n4  Tony's Market                                     4.72                  9Ye0-c0YduHxUk707mftZw\n5  Tutto Italiano                                    4.70                  che285DuI-eo98PriDIerg\n6  Iggy's Bread                                      4.68                  R7BLdmInOLwKh6bpfuB-Pg\n7  Tasting Counter                                   4.68                  zMpWhHh6Cp1BkFRM8cbPhA\n8  The Table at Season to Taste                      4.67                  WkjIWu8rIpAAUhnqsuik9w\n9  Ciao! Pizza & Pasta                               4.66                  yQL8SrSETbbCI1U5esVJQw\n10 K Restaurant                                      4.65                  YK9sI9wMV23kY4QHViC2CA\n11 Adea's Mediterranean Kitchen                      4.65                  IRgsYIVjSZ0u2nm9gEqy5A\n12 Karl's Sausage Kitchen & European Market          4.64                  MYuqzv-jQLBUP0vIppAkGw\n13 Clear Flour Bread                                 4.63                  gTQyI2ORoHjmNHW-d8Tuew\n14 Dave's Fresh Pasta                                4.61                  1ajkKqDVs4oyhCSjj7-wqQ\n15 The Linden Store                                  4.61                  TsX8AJfyfVAnvpfHU61Q3w\n16 Volo Craft Pizza                                  4.59                  Zj8JMLuB14GzyKxGcCzjtw\n17 Roadworthy                                        4.59                  rGs0vEyN3puNd9RiIsPeKQ\n18 Louie's Pizza                                     4.59                  ZVQna5tFPyjgndQPv68P-w\n19 Bloomy Rind                                       4.58                  EEWOgqrLI1lJC6i75nr3Rg\n20 Curio Coffee and Wine                             4.58                  sYwiUHojCnVM7dZAhFWrmw\n21 Cambridge Center Roof Garden                      4.57                  x4vRczmgp446CdsDiJCUag\n22 Field & Vine                                      4.57                  pHIfIJiANQNDO_JxQKnorw\n23 ANI Catering & Cafe                               4.57                  iGJLrLGHbb8eY5V7BQrk6Q\n24 Previte's Marketplace                             4.57                  9554BElDKlrK2s_xH30oVA\n25 Twelve Hours                                      4.56                  avWsi0REM7WmxlDZ7JS30w\n"
     ]
    }
   ],
   "source": [
    "user_topn, top_restaurant_id = find_topn(pred_list, 25, user_id)"
   ]
  },
  {
   "source": [
    "## Business information on the top recommended restaurant"
   ],
   "cell_type": "markdown",
   "metadata": {}
  },
  {
   "cell_type": "code",
   "execution_count": 392,
   "metadata": {},
   "outputs": [
    {
     "output_type": "stream",
     "name": "stdout",
     "text": [
      "business_id: w7JR1y-TCXmWdFKDLW83eQ\nname: Harry's Cheese and Cold Cuts\naddress: 98 Blackstone St\ncity: Boston\nstate: MA\npostal_code: 02109\nlatitude: 42.3615179\nlongitude: -71.0564517\nstars: 5.0\nreview_count: 57\nis_open: 1\nattributes: {'RestaurantsTakeOut': 'True', 'BusinessAcceptsCreditCards': 'True', 'GoodForKids': 'True', 'OutdoorSeating': 'False', 'Alcohol': \"u'none'\", 'Ambience': \"{'romantic': False, 'intimate': False, 'classy': False, 'hipster': False, 'divey': True, 'touristy': False, 'trendy': False, 'upscale': False, 'casual': False}\", 'RestaurantsGoodForGroups': 'False', 'RestaurantsAttire': \"'casual'\", 'RestaurantsReservations': 'False', 'BusinessParking': \"{'garage': False, 'street': True, 'validated': True, 'lot': False, 'valet': False}\", 'NoiseLevel': \"u'average'\", 'Caters': 'True', 'WiFi': \"u'no'\", 'RestaurantsDelivery': 'False', 'RestaurantsPriceRange2': '1', 'BikeParking': 'False', 'HasTV': 'True'}\ncategories: Cheese Shops, Food, Meat Shops, Delis, Restaurants, Specialty Food\nhours: {'Monday': '6:0-15:0', 'Wednesday': '6:0-15:0', 'Thursday': '6:0-15:0', 'Friday': '6:0-18:0', 'Saturday': '6:0-18:0'}\n"
     ]
    }
   ],
   "source": [
    "print_business_info(top_restaurant_id)"
   ]
  },
  {
   "source": [
    "## Review breakdown of the top recommended restaurant"
   ],
   "cell_type": "markdown",
   "metadata": {}
  },
  {
   "cell_type": "code",
   "execution_count": 393,
   "metadata": {},
   "outputs": [
    {
     "output_type": "stream",
     "name": "stdout",
     "text": [
      "Name:                 User ID:               User Total Review Count         Rating\n",
      "Tanya          ILZtzt-3oEmLu8c1rfeJuw                 201                      5.0\n",
      "Steven         0Zq95YruU7IvCsvzFOSSzA                 170                      4.0\n",
      "Jacquelyn      F0_FBGWlJS7z_qTDm9dJSA                 281                      5.0\n",
      "boom           bje1P4XGW9lv79iuSKBgiw                  98                      5.0\n",
      "Lauretta       W_EQFi2fXpBtuRm510cCpA                 474                      5.0\n",
      "Vivian         nl8gWLDo6U6MjqzbBmE_9A                1871                      5.0\n",
      "Sarah          5LT0UfheP3c-_xKqmZDgxQ                  51                      4.0\n",
      "Dorothy        W-SyRg4KEOwcRRA_hj3Txw                 467                      5.0\n",
      "Max            p2NLkCmcPp1-Mr8x9TXXcQ                  73                      5.0\n",
      "Chewie         -GnSkFtT3axpOdkSxmx7Zw                  49                      5.0\n",
      "Benjamin       4v30Vm27ViLTv4pRQNCIPA                  29                      5.0\n",
      "Steve          AhsN6hwl6YOMoxx4tZkTEw                  42                      5.0\n",
      "Jenny          5BpJEC8YVi80ecWT5CtlfQ                2682                      4.0\n",
      "Anna           N6eoEXDb4Yrwjkkopz6j-A                  50                      5.0\n",
      "Nancy          _JATjpl2QlrIDJ7Y-3gmiA                 497                      5.0\n",
      "Tim            Gp6AHxjQZLNmF8TfxQOJIQ                  34                      5.0\n",
      "Christi        HM5hkVTNRVqqqFHhjbtZwQ                 179                      5.0\n",
      "Virginia       nr35WjC-YI0dFcsnW33Szw                 937                      5.0\n",
      "Rebecca        7PA7DYCcNPo79lyqS2J2fQ                 159                      5.0\n",
      "Nancy          5GYBDtLPStI2D0OcVNFyWA                  33                      5.0\n",
      "Eliza          1pzjkHhSg_gn1F829FzIlw                 125                      5.0\n",
      "Eliza          1pzjkHhSg_gn1F829FzIlw                 125                      5.0\n",
      "Adam           rShbct4rchQ1OX1p62aXVA                  73                      5.0\n",
      "Stephanie      FC1ZSB9fd4WlDMSAbEjq8Q                1767                      5.0\n",
      "Brianna        XyOlmy-Tc6DPfw5stMJ_zA                  41                      5.0\n",
      "Diana          Bco1WVVLtMz67Yi-ilJwsA                 423                      5.0\n",
      "Nancy          4-9JDM7Xxy3ruSiGjxVERA                 120                      5.0\n",
      "Adam           rShbct4rchQ1OX1p62aXVA                  73                      5.0\n",
      "Bob            kHp1dxdoyT-24_QCwFEPzg                 194                      5.0\n",
      "Stephanie      FC1ZSB9fd4WlDMSAbEjq8Q                1767                      5.0\n"
     ]
    }
   ],
   "source": [
    "get_business_reviews(top_restaurant_id)"
   ]
  },
  {
   "source": [
    "## More Information on the Sample User"
   ],
   "cell_type": "markdown",
   "metadata": {}
  },
  {
   "cell_type": "code",
   "execution_count": 394,
   "metadata": {},
   "outputs": [
    {
     "output_type": "stream",
     "name": "stdout",
     "text": [
      "user_id: ggl6fl-PM5O1WrdReL0l4A\nname: Michael\nreview_count: 1434\nyelping_since: 2008-01-28 07:34:15\nuseful: 3376\nfunny: 1329\ncool: 1658\nelite: 2009,2010,2011,2012,2013,2014,2015,2016,2017,2018,2019,20,20\nfriends: [list of user ids]\nfans: 120\naverage_stars: 3.85\ncompliment_hot: 51\ncompliment_more: 12\ncompliment_profile: 9\ncompliment_cute: 1\ncompliment_list: 1\ncompliment_note: 49\ncompliment_plain: 122\ncompliment_cool: 145\ncompliment_funny: 145\ncompliment_writer: 55\ncompliment_photos: 32\n"
     ]
    }
   ],
   "source": [
    "print_user_info(user_id)"
   ]
  }
 ]
}