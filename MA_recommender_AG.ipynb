{
 "cells": [
  {
   "cell_type": "code",
   "execution_count": 1,
   "metadata": {},
   "outputs": [
    {
     "output_type": "stream",
     "name": "stdout",
     "text": [
      "Requirement already satisfied: surprise in c:\\users\\albert\\miniconda3\\lib\\site-packages (0.1)\nRequirement already satisfied: scikit-surprise in c:\\users\\albert\\miniconda3\\lib\\site-packages (from surprise) (1.1.1)\nRequirement already satisfied: joblib>=0.11 in c:\\users\\albert\\miniconda3\\lib\\site-packages (from scikit-surprise->surprise) (1.0.1)\nRequirement already satisfied: numpy>=1.11.2 in c:\\users\\albert\\miniconda3\\lib\\site-packages (from scikit-surprise->surprise) (1.20.3)\nRequirement already satisfied: scipy>=1.0.0 in c:\\users\\albert\\miniconda3\\lib\\site-packages (from scikit-surprise->surprise) (1.5.4)\nRequirement already satisfied: six>=1.10.0 in c:\\users\\albert\\appdata\\roaming\\python\\python38\\site-packages (from scikit-surprise->surprise) (1.15.0)\n"
     ]
    }
   ],
   "source": [
    "!pip install surprise"
   ]
  },
  {
   "cell_type": "code",
   "execution_count": 2,
   "metadata": {},
   "outputs": [],
   "source": [
    "import json\n",
    "import time\n",
    "import numpy as np\n",
    "import pandas as pd\n",
    "from collections import defaultdict\n",
    "from surprise import AlgoBase\n",
    "from surprise import NormalPredictor\n",
    "from surprise import PredictionImpossible\n",
    "from surprise import KNNBasic\n",
    "from surprise import KNNWithMeans\n",
    "from surprise import SVD\n",
    "from surprise import Dataset\n",
    "from surprise import Reader\n",
    "from surprise import dump\n",
    "from surprise.model_selection import cross_validate"
   ]
  },
  {
   "cell_type": "code",
   "execution_count": 3,
   "metadata": {},
   "outputs": [
    {
     "output_type": "stream",
     "name": "stdout",
     "text": [
      "Reading MA_users.json\n",
      "Time taken to load user data: 1 seconds\n"
     ]
    }
   ],
   "source": [
    "start = time.time()\n",
    "with open('MA_users.json', encoding=\"utf8\") as fin:\n",
    "    print('Reading',fin.name)\n",
    "    user_data = json.load(fin)\n",
    "end = time.time()\n",
    "duration_without_dr = end-start\n",
    "print(\"Time taken to load user data: %d seconds\" %duration_without_dr)\n"
   ]
  },
  {
   "cell_type": "code",
   "execution_count": 4,
   "metadata": {},
   "outputs": [
    {
     "output_type": "stream",
     "name": "stdout",
     "text": [
      "Reading MA_restaurants.json\nTime taken to load restaurant data: 0 seconds\n"
     ]
    }
   ],
   "source": [
    "start = time.time()\n",
    "with open('MA_restaurants.json', encoding=\"utf8\") as fin:\n",
    "    print('Reading',fin.name)\n",
    "    restaurant_data = json.load(fin)\n",
    "end = time.time()\n",
    "duration_without_dr = end-start\n",
    "print(\"Time taken to load restaurant data: %d seconds\" %duration_without_dr)"
   ]
  },
  {
   "cell_type": "code",
   "execution_count": 5,
   "metadata": {},
   "outputs": [
    {
     "output_type": "stream",
     "name": "stdout",
     "text": [
      "Reading MA_reviews.json\n",
      "Time taken to load review data: 4 seconds\n"
     ]
    }
   ],
   "source": [
    "start = time.time()\n",
    "with open('MA_reviews.json', encoding=\"utf8\") as fin:\n",
    "    print('Reading',fin.name)\n",
    "    review_data = json.load(fin)\n",
    "end = time.time()\n",
    "duration_without_dr = end-start\n",
    "print(\"Time taken to load review data: %d seconds\" %duration_without_dr)"
   ]
  },
  {
   "cell_type": "code",
   "execution_count": 6,
   "metadata": {},
   "outputs": [
    {
     "output_type": "stream",
     "name": "stdout",
     "text": [
      "125521 user records loaded\n914710 review records loaded\n10550 business records loaded\n"
     ]
    }
   ],
   "source": [
    "print(str(len(user_data)) + ' user records loaded')\n",
    "print(str(len(review_data)) + ' review records loaded')\n",
    "print(str(len(restaurant_data)) + ' business records loaded')"
   ]
  },
  {
   "cell_type": "code",
   "execution_count": 7,
   "metadata": {},
   "outputs": [
    {
     "output_type": "stream",
     "name": "stdout",
     "text": [
      "dict_keys(['user_id', 'name', 'review_count', 'yelping_since', 'useful', 'funny', 'cool', 'elite', 'friends', 'fans', 'average_stars', 'compliment_hot', 'compliment_more', 'compliment_profile', 'compliment_cute', 'compliment_list', 'compliment_note', 'compliment_plain', 'compliment_cool', 'compliment_funny', 'compliment_writer', 'compliment_photos']) \n\ndict_keys(['review_id', 'user_id', 'business_id', 'stars', 'useful', 'funny', 'cool', 'text', 'date']) \n\ndict_keys(['business_id', 'name', 'address', 'city', 'state', 'postal_code', 'latitude', 'longitude', 'stars', 'review_count', 'is_open', 'attributes', 'categories', 'hours']) \n\n"
     ]
    }
   ],
   "source": [
    "print(user_data[0].keys(),'\\n')\n",
    "print(review_data[0].keys(),'\\n')\n",
    "print(restaurant_data[0].keys(),'\\n')"
   ]
  },
  {
   "cell_type": "markdown",
   "metadata": {},
   "source": [
    "Sample User"
   ]
  },
  {
   "cell_type": "code",
   "execution_count": 8,
   "metadata": {},
   "outputs": [
    {
     "output_type": "stream",
     "name": "stdout",
     "text": [
      "user_id: nl8gWLDo6U6MjqzbBmE_9A\nname: Vivian\nreview_count: 1871\nyelping_since: 2008-08-04 15:36:54\nuseful: 3624\nfunny: 1018\ncool: 1477\nelite: 2009,2010,2011,2012,2013,2014,2015,2016,2017,2018,2019,20,20\nfriends: [list of user ids]\nfans: 195\naverage_stars: 3.57\ncompliment_hot: 55\ncompliment_more: 12\ncompliment_profile: 1\ncompliment_cute: 2\ncompliment_list: 10\ncompliment_note: 47\ncompliment_plain: 210\ncompliment_cool: 113\ncompliment_funny: 113\ncompliment_writer: 59\ncompliment_photos: 62\n"
     ]
    }
   ],
   "source": [
    "user_id_dict = dict()\n",
    "for i,u in enumerate(user_data):\n",
    "    user_id_dict[u['user_id']] = i\n",
    "\n",
    "def print_user_info(user_id):\n",
    "    for attr in user_data[user_id_dict[user_id]].keys():\n",
    "        print('{0}: {1}'.format(str(attr), str(user_data[user_id_dict[user_id]][attr]) if attr != 'friends' else '[list of user ids]'))\n",
    "\n",
    "def get_user_attr(user_id, attribute):\n",
    "    return user_data[user_id_dict[user_id]][attribute]\n",
    "\n",
    "print_user_info('nl8gWLDo6U6MjqzbBmE_9A')"
   ]
  },
  {
   "cell_type": "markdown",
   "metadata": {},
   "source": [
    "Sample review"
   ]
  },
  {
   "cell_type": "code",
   "execution_count": 9,
   "metadata": {},
   "outputs": [
    {
     "output_type": "stream",
     "name": "stdout",
     "text": [
      "review_id: lWC-xP3rd6obsecCYsGZRg\nuser_id: ak0TdVmGKo4pwqdJSTLwWw\nbusiness_id: buF9druCkbuXLX526sGELQ\nstars: 4.0\nuseful: 3\nfunny: 1\ncool: 1\ntext: Apparently Prides Osteria had a rough summer as evidenced by the almost empty dining room at 6:30 on a Friday night. However new blood in the kitchen seems to have revitalized the food from other customers recent visits. Waitstaff was warm but unobtrusive. By 8 pm or so when we left the bar was full and the dining room was much more lively than it had been. Perhaps Beverly residents prefer a later seating. \n\nAfter reading the mixed reviews of late I was a little tentative over our choice but luckily there was nothing to worry about in the food department. We started with the fried dough, burrata and prosciutto which were all lovely. Then although they don't offer half portions of pasta we each ordered the entree size and split them. We chose the tagliatelle bolognese and a four cheese filled pasta in a creamy sauce with bacon, asparagus and grana frita. Both were very good. We split a secondi which was the special Berkshire pork secreto, which was described as a pork skirt steak with garlic potato purée and romanesco broccoli (incorrectly described as a romanesco sauce). Some tables received bread before the meal but for some reason we did not. \n\nManagement also seems capable for when the tenants in the apartment above began playing basketball she intervened and also comped the tables a dessert. We ordered the apple dumpling with gelato and it was also quite tasty. Portions are not huge which I particularly like because I prefer to order courses. If you are someone who orders just a meal you may leave hungry depending on you appetite. Dining room was mostly younger crowd while the bar was definitely the over 40 set. Would recommend that the naysayers return to see the improvement although I personally don't know the former glory to be able to compare. Easy access to downtown Salem without the crowds on this month of October.\ndate: 2014-10-11 03:34:02\n"
     ]
    }
   ],
   "source": [
    "for attr in review_data[0].keys():\n",
    "    print('{0}: {1}'.format(str(attr), str(review_data[0][attr])))"
   ]
  },
  {
   "cell_type": "markdown",
   "metadata": {},
   "source": [
    "Sample business"
   ]
  },
  {
   "cell_type": "code",
   "execution_count": 10,
   "metadata": {},
   "outputs": [
    {
     "output_type": "stream",
     "name": "stdout",
     "text": [
      "business_id: zMpWhHh6Cp1BkFRM8cbPhA\nname: Tasting Counter\naddress: 14 Tyler St\ncity: Somerville\nstate: MA\npostal_code: 02143\nlatitude: 42.3817829\nlongitude: -71.1056689\nstars: 4.5\nreview_count: 190\nis_open: 1\nattributes: {'RestaurantsPriceRange2': '4', 'RestaurantsTakeOut': 'False', 'RestaurantsDelivery': 'False', 'BusinessAcceptsCreditCards': 'True', 'OutdoorSeating': 'False', 'RestaurantsReservations': 'True', 'Alcohol': \"u'beer_and_wine'\", 'WiFi': \"u'no'\", 'BusinessAcceptsBitcoin': 'False', 'NoiseLevel': \"u'average'\", 'HasTV': 'False', 'RestaurantsAttire': \"u'dressy'\", 'Caters': 'False', 'BusinessParking': \"{'garage': False, 'street': True, 'validated': False, 'lot': True, 'valet': False}\", 'DogsAllowed': 'False', 'RestaurantsTableService': 'True', 'WheelchairAccessible': 'True', 'ByAppointmentOnly': 'True', 'RestaurantsGoodForGroups': 'False', 'GoodForKids': 'False', 'BikeParking': 'True', 'GoodForMeal': \"{'dessert': False, 'latenight': False, 'lunch': False, 'dinner': True, 'brunch': False, 'breakfast': False}\", 'BYOB': 'False', 'Ambience': \"{'touristy': False, 'hipster': False, 'romantic': False, 'divey': False, 'intimate': False, 'trendy': False, 'upscale': False, 'classy': True, 'casual': False}\"}\ncategories: American (New), Event Planning & Services, Restaurants, Food, Caterers, Personal Chefs\nhours: {'Thursday': '17:0-21:30', 'Friday': '17:0-21:30', 'Saturday': '17:0-21:30', 'Sunday': '17:0-21:30'}\n"
     ]
    }
   ],
   "source": [
    "business_id_dict = dict()\n",
    "for i,r in enumerate(restaurant_data):\n",
    "    business_id_dict[r['business_id']] = i\n",
    "\n",
    "def print_business_info(business_id):\n",
    "    for attr in restaurant_data[business_id_dict[business_id]].keys():\n",
    "        print('{0}: {1}'.format(str(attr), str(restaurant_data[business_id_dict[business_id]][attr])))\n",
    "        \n",
    "def get_business_attr(business_id, attribute):\n",
    "    return restaurant_data[business_id_dict[business_id]][attribute]\n",
    "        \n",
    "print_business_info('zMpWhHh6Cp1BkFRM8cbPhA')"
   ]
  },
  {
   "cell_type": "markdown",
   "metadata": {},
   "source": [
    "Create a 2d arary of user IDs and buisness IDs, with ratings(stars) as frequencies"
   ]
  },
  {
   "cell_type": "code",
   "execution_count": 11,
   "metadata": {},
   "outputs": [
    {
     "output_type": "stream",
     "name": "stdout",
     "text": [
      "(125521, 10550)\n",
      "number of non-zero elements(good ratings): 879189\n"
     ]
    }
   ],
   "source": [
    "rating_mat = np.zeros((len(user_data), len(restaurant_data)))\n",
    "rating_dict = {'user_id': [],\n",
    "               'business_id': [],\n",
    "               'rating': []}\n",
    "\n",
    "for review in review_data:\n",
    "    user_idx = user_id_dict[review['user_id']]\n",
    "    business_idx = business_id_dict[review['business_id']]\n",
    "    rating_mat[user_idx][business_idx] = review['stars']\n",
    "    \n",
    "    rating_dict['user_id'].append(review['user_id'])\n",
    "    rating_dict['business_id'].append(review['business_id'])\n",
    "    rating_dict['rating'].append(review['stars'])\n",
    "\n",
    "print(rating_mat.shape)\n",
    "print('number of non-zero elements(good ratings): ' +str(np.count_nonzero(rating_mat)))"
   ]
  },
  {
   "cell_type": "code",
   "execution_count": 12,
   "metadata": {},
   "outputs": [
    {
     "output_type": "stream",
     "name": "stdout",
     "text": [
      "The original data frame shape:\t(914710, 3)\nThe new data frame shape:\t(460459, 3)\n"
     ]
    }
   ],
   "source": [
    "df = pd.DataFrame(rating_dict)\n",
    "\n",
    "# filter to only the users/businesses with over 50 reviews\n",
    "# necessary in order to build the anti testset\n",
    "filter_user = df['user_id'].value_counts() >= 15\n",
    "filter_user = filter_user[filter_user].index.tolist()\n",
    "\n",
    "#filter_business = df['business_id'].value_counts() > 50\n",
    "filter_business = df['business_id'].value_counts() >= 50\n",
    "filter_business = filter_business[filter_business].index.tolist()\n",
    "\n",
    "df_new = df[(df['user_id'].isin(filter_user)) & (df['business_id'].isin(filter_business))]\n",
    "\n",
    "print('The original data frame shape:\\t{}'.format(df.shape))\n",
    "print('The new data frame shape:\\t{}'.format(df_new.shape))\n",
    "\n",
    "reader = Reader(rating_scale=(1, 5))\n",
    "data = Dataset.load_from_df(df_new[['user_id', 'business_id', 'rating']], reader)"
   ]
  },
  {
   "cell_type": "code",
   "execution_count": 13,
   "metadata": {},
   "outputs": [
    {
     "output_type": "execute_result",
     "data": {
      "text/plain": [
       "4260"
      ]
     },
     "metadata": {},
     "execution_count": 13
    }
   ],
   "source": [
    "len(filter_business)"
   ]
  },
  {
   "cell_type": "code",
   "execution_count": 14,
   "metadata": {},
   "outputs": [
    {
     "output_type": "stream",
     "name": "stdout",
     "text": [
      "14060\n",
      "Computing the cosine similarity matrix...\n",
      "Done computing similarity matrix.\n",
      "Time taken to fit data: 42 seconds\n",
      "Time taken to make antitest set: 0 seconds\n",
      "Time taken to predict data: 0 seconds\n"
     ]
    }
   ],
   "source": [
    "# clean up some memory\n",
    "#del rating_mat\n",
    "del df\n",
    "\n",
    "sim_options = {'name': 'cosine',\n",
    "               'user_based': True}\n",
    "trainset = data.build_full_trainset()\n",
    "print(trainset.n_users)\n",
    "algo = KNNWithMeans(sim_options=sim_options)\n",
    "\n",
    "# note: this takes quite a while...\n",
    "start = time.time()\n",
    "algo.fit(trainset)\n",
    "end = time.time()\n",
    "duration_without_dr = end-start\n",
    "print(\"Time taken to fit data: %d seconds\" %duration_without_dr)\n",
    "start = time.time()\n",
    "#testset = trainset.build_anti_testset()\n",
    "end = time.time()\n",
    "duration_without_dr = end-start\n",
    "print(\"Time taken to make antitest set: %d seconds\" %duration_without_dr)\n",
    "start = time.time()\n",
    "#predictions = algo.test(testset)\n",
    "end = time.time()\n",
    "duration_without_dr = end-start\n",
    "print(\"Time taken to predict data: %d seconds\" %duration_without_dr)\n",
    "#dump.dump('./predictions', predictions, algo=KNNWithMeans())\n",
    "#predictions, algo = dump.load('./predictions')\n",
    "#algo.fit(trainset)"
   ]
  },
  {
   "cell_type": "code",
   "execution_count": 15,
   "metadata": {},
   "outputs": [
    {
     "output_type": "stream",
     "name": "stdout",
     "text": [
      "3.7029225186172927\n"
     ]
    }
   ],
   "source": [
    "print(trainset.global_mean)"
   ]
  },
  {
   "cell_type": "code",
   "execution_count": 16,
   "metadata": {},
   "outputs": [
    {
     "output_type": "stream",
     "name": "stdout",
     "text": [
      "                       user_id             business_id  rating\n2658    nl8gWLDo6U6MjqzbBmE_9A  bU5tVs6IoXDeplQDl1QADw     4.0\n2662    nl8gWLDo6U6MjqzbBmE_9A  rQ8NMRJfhTTV77gFoVYHyA     4.0\n3401    nl8gWLDo6U6MjqzbBmE_9A  A5A8dP2q7_j1_jmKDjDz6w     4.0\n4136    nl8gWLDo6U6MjqzbBmE_9A  tDPO_D0tjoWUOzqgRUcDkA     4.0\n4674    nl8gWLDo6U6MjqzbBmE_9A  AG1ETqbneinRRJUeA8PfSA     3.0\n...                        ...                     ...     ...\n908614  nl8gWLDo6U6MjqzbBmE_9A  -iOW4FIS61TbvsWH-vmhEQ     4.0\n909782  nl8gWLDo6U6MjqzbBmE_9A  RNqUyblZzXvg0a2fBjJQQg     3.0\n910339  nl8gWLDo6U6MjqzbBmE_9A  BBblBHBnjpepOP1Q1kfi1A     3.0\n912738  nl8gWLDo6U6MjqzbBmE_9A  nyy38msunExaObJOeH7j0Q     4.0\n913395  nl8gWLDo6U6MjqzbBmE_9A  87f7kR7nTz8WHnmtLM_S6w     3.0\n\n[1036 rows x 3 columns]\n"
     ]
    }
   ],
   "source": [
    "user_id = 'nl8gWLDo6U6MjqzbBmE_9A' # sample user\n",
    "df_new_user = df_new.loc[df_new['user_id'] == user_id]\n",
    "print(df_new_user)"
   ]
  },
  {
   "cell_type": "code",
   "execution_count": 17,
   "metadata": {
    "tags": [
     "outputPrepend"
    ]
   },
   "outputs": [
    {
     "output_type": "stream",
     "name": "stdout",
     "text": [
      ".00   est = 3.32   {'actual_k': 40, 'was_impossible': False}\n",
      "user: nl8gWLDo6U6MjqzbBmE_9A item: Uo6zk1gFwaw21YZ2gqlZCw r_ui = 4.00   est = 3.67   {'actual_k': 40, 'was_impossible': False}\n",
      "user: nl8gWLDo6U6MjqzbBmE_9A item: q-Y7ep5JoBsFcPwsJsntlA r_ui = 3.00   est = 4.33   {'actual_k': 40, 'was_impossible': False}\n",
      "user: nl8gWLDo6U6MjqzbBmE_9A item: 3UHLX26d_iPERGVzxfVLXQ r_ui = 4.00   est = 3.44   {'actual_k': 40, 'was_impossible': False}\n",
      "user: nl8gWLDo6U6MjqzbBmE_9A item: 24k-L2B_NV5_gVSCXqkDYQ r_ui = 3.00   est = 2.81   {'actual_k': 40, 'was_impossible': False}\n",
      "user: nl8gWLDo6U6MjqzbBmE_9A item: OIVAJo8QryN-bJOjOvxkVQ r_ui = 3.00   est = 2.92   {'actual_k': 40, 'was_impossible': False}\n",
      "user: nl8gWLDo6U6MjqzbBmE_9A item: b0kpd0u7o8HBlrciMbGMqQ r_ui = 2.00   est = 2.82   {'actual_k': 40, 'was_impossible': False}\n",
      "user: nl8gWLDo6U6MjqzbBmE_9A item: 18WftZ008z-IH_XQ1-GnlQ r_ui = 3.00   est = 4.05   {'actual_k': 40, 'was_impossible': False}\n",
      "user: nl8gWLDo6U6MjqzbBmE_9A item: -rrC8RtPvvhUPcQFHXVDNQ r_ui = 4.00   est = 4.01   {'actual_k': 40, 'was_impossible': False}\n",
      "user: nl8gWLDo6U6MjqzbBmE_9A item: trZTpMG9OpaeIf7PDUTKtA r_ui = 3.00   est = 2.96   {'actual_k': 40, 'was_impossible': False}\n",
      "user: nl8gWLDo6U6MjqzbBmE_9A item: f7rqA0KFOoo3QO3_UiOzYw r_ui = 4.00   est = 3.86   {'actual_k': 40, 'was_impossible': False}\n",
      "user: nl8gWLDo6U6MjqzbBmE_9A item: lVWr1_4dtDQgZ1PQD0jllQ r_ui = 4.00   est = 3.79   {'actual_k': 40, 'was_impossible': False}\n",
      "user: nl8gWLDo6U6MjqzbBmE_9A item: Qbm7DFaPZ_0Aw0_M-k-2ng r_ui = 3.00   est = 3.02   {'actual_k': 40, 'was_impossible': False}\n",
      "user: nl8gWLDo6U6MjqzbBmE_9A item: mCX9XzBLB1y5_OrFASv1mA r_ui = 4.00   est = 3.59   {'actual_k': 40, 'was_impossible': False}\n",
      "user: nl8gWLDo6U6MjqzbBmE_9A item: AGKnQ1PvkTwSjv6DtQpEIg r_ui = 3.00   est = 3.35   {'actual_k': 40, 'was_impossible': False}\n",
      "user: nl8gWLDo6U6MjqzbBmE_9A item: e3NtZGQ8jegf6U7TOWvBSw r_ui = 3.00   est = 3.57   {'actual_k': 40, 'was_impossible': False}\n",
      "user: nl8gWLDo6U6MjqzbBmE_9A item: BgulHysfdgQa_-nxddiDDQ r_ui = 3.00   est = 3.37   {'actual_k': 40, 'was_impossible': False}\n",
      "user: nl8gWLDo6U6MjqzbBmE_9A item: SP97o6xotOT4fATH9HDsmQ r_ui = 4.00   est = 3.59   {'actual_k': 40, 'was_impossible': False}\n",
      "user: nl8gWLDo6U6MjqzbBmE_9A item: fgB_d6ekpyl30c4AbK_2Vw r_ui = 3.00   est = 3.55   {'actual_k': 40, 'was_impossible': False}\n",
      "user: nl8gWLDo6U6MjqzbBmE_9A item: 6dhZn2_jSpnQDVoTtHWYXQ r_ui = 4.00   est = 3.97   {'actual_k': 40, 'was_impossible': False}\n",
      "user: nl8gWLDo6U6MjqzbBmE_9A item: frTp4FF8-pxlAUREcMpStA r_ui = 3.00   est = 3.40   {'actual_k': 40, 'was_impossible': False}\n",
      "user: nl8gWLDo6U6MjqzbBmE_9A item: ROEqZRF42bbJOBpc1Cmr5Q r_ui = 3.00   est = 3.14   {'actual_k': 40, 'was_impossible': False}\n",
      "user: nl8gWLDo6U6MjqzbBmE_9A item: LtJVSLSocrP2BK8YOl7bJQ r_ui = 4.00   est = 3.69   {'actual_k': 40, 'was_impossible': False}\n",
      "user: nl8gWLDo6U6MjqzbBmE_9A item: rzEWLhWqWgpptJ3snajBCg r_ui = 3.00   est = 3.05   {'actual_k': 20, 'was_impossible': False}\n",
      "user: nl8gWLDo6U6MjqzbBmE_9A item: kWtNTElfL8wZQpaTs6CPlQ r_ui = 3.00   est = 2.88   {'actual_k': 40, 'was_impossible': False}\n",
      "user: nl8gWLDo6U6MjqzbBmE_9A item: A7DLDlOilcKBD4xFY24QJA r_ui = 4.00   est = 3.59   {'actual_k': 40, 'was_impossible': False}\n",
      "user: nl8gWLDo6U6MjqzbBmE_9A item: fQ-gzKCVTCzTSM1PaNRJtQ r_ui = 3.00   est = 3.37   {'actual_k': 40, 'was_impossible': False}\n",
      "user: nl8gWLDo6U6MjqzbBmE_9A item: JICk6JmOpWIBEk_iIfqpwg r_ui = 3.00   est = 3.45   {'actual_k': 40, 'was_impossible': False}\n",
      "user: nl8gWLDo6U6MjqzbBmE_9A item: YlVj2DB9-Ma64XoivnuCIw r_ui = 4.00   est = 3.63   {'actual_k': 40, 'was_impossible': False}\n",
      "user: nl8gWLDo6U6MjqzbBmE_9A item: y1Ze4JNsB6uDEhnhP2S6mQ r_ui = 3.00   est = 2.48   {'actual_k': 40, 'was_impossible': False}\n",
      "user: nl8gWLDo6U6MjqzbBmE_9A item: i6tYcwgNzFN76rd6aUO37g r_ui = 4.00   est = 3.97   {'actual_k': 40, 'was_impossible': False}\n",
      "user: nl8gWLDo6U6MjqzbBmE_9A item: 8dZZy6AV4Bu_ftoDKQWpEQ r_ui = 4.00   est = 3.63   {'actual_k': 40, 'was_impossible': False}\n",
      "user: nl8gWLDo6U6MjqzbBmE_9A item: kWxDrzW6MfyQYc8Ob9XXCg r_ui = 3.00   est = 3.41   {'actual_k': 40, 'was_impossible': False}\n",
      "user: nl8gWLDo6U6MjqzbBmE_9A item: CbqrnM0vECuYAT4qyQ_l2w r_ui = 3.00   est = 2.88   {'actual_k': 40, 'was_impossible': False}\n",
      "user: nl8gWLDo6U6MjqzbBmE_9A item: SpFEiT3OD07JJQc5qb89_Q r_ui = 3.00   est = 3.51   {'actual_k': 40, 'was_impossible': False}\n",
      "user: nl8gWLDo6U6MjqzbBmE_9A item: g2H58GCWZlYq6BcOywDi7g r_ui = 3.00   est = 3.12   {'actual_k': 40, 'was_impossible': False}\n",
      "user: nl8gWLDo6U6MjqzbBmE_9A item: WQOPFS8EarM5tUMwNcQF4g r_ui = 4.00   est = 3.47   {'actual_k': 40, 'was_impossible': False}\n",
      "user: nl8gWLDo6U6MjqzbBmE_9A item: ZLrEkt2FNLyJ2QHIC9NvrA r_ui = 4.00   est = 3.57   {'actual_k': 40, 'was_impossible': False}\n",
      "user: nl8gWLDo6U6MjqzbBmE_9A item: 4Vral-7vqnY_K7qPipu5zQ r_ui = 2.00   est = 3.13   {'actual_k': 40, 'was_impossible': False}\n",
      "user: nl8gWLDo6U6MjqzbBmE_9A item: VQWNrPrEp8pKtz9-o0q65Q r_ui = 3.00   est = 3.65   {'actual_k': 40, 'was_impossible': False}\n",
      "user: nl8gWLDo6U6MjqzbBmE_9A item: CwtDE8_Q1nrJ7VrKigozwg r_ui = 4.00   est = 4.30   {'actual_k': 40, 'was_impossible': False}\n",
      "user: nl8gWLDo6U6MjqzbBmE_9A item: ruQmMfMd9YAxj9I47FvxVA r_ui = 4.00   est = 3.87   {'actual_k': 40, 'was_impossible': False}\n",
      "user: nl8gWLDo6U6MjqzbBmE_9A item: qjzfWkh0KUcYccmDBfe6dw r_ui = 3.00   est = 3.20   {'actual_k': 40, 'was_impossible': False}\n",
      "user: nl8gWLDo6U6MjqzbBmE_9A item: mdy7mJOpclqTXS6WyY9Izw r_ui = 4.00   est = 3.78   {'actual_k': 40, 'was_impossible': False}\n",
      "user: nl8gWLDo6U6MjqzbBmE_9A item: 8ju300tn3uzUvIPIvmkRWA r_ui = 3.00   est = 3.83   {'actual_k': 40, 'was_impossible': False}\n",
      "user: nl8gWLDo6U6MjqzbBmE_9A item: aGRB4qFMZesQILHw-SX9Hw r_ui = 3.00   est = 3.91   {'actual_k': 40, 'was_impossible': False}\n",
      "user: nl8gWLDo6U6MjqzbBmE_9A item: nMQUeaj9yQTmNDDsc31aEg r_ui = 3.00   est = 3.15   {'actual_k': 40, 'was_impossible': False}\n",
      "user: nl8gWLDo6U6MjqzbBmE_9A item: T16IHgu69RrBf4-XaF7B3w r_ui = 3.00   est = 3.36   {'actual_k': 40, 'was_impossible': False}\n",
      "user: nl8gWLDo6U6MjqzbBmE_9A item: MW95w4W4OIlIsuSdwxMb-w r_ui = 2.00   est = 3.38   {'actual_k': 40, 'was_impossible': False}\n",
      "user: nl8gWLDo6U6MjqzbBmE_9A item: fF-E_vECLb_6kBo6tiF_Ew r_ui = 3.00   est = 2.93   {'actual_k': 40, 'was_impossible': False}\n",
      "user: nl8gWLDo6U6MjqzbBmE_9A item: C_wQAUxo-FLtVHUDi0KPxg r_ui = 4.00   est = 3.62   {'actual_k': 40, 'was_impossible': False}\n",
      "user: nl8gWLDo6U6MjqzbBmE_9A item: ZotVZBU8N-_6JkeZhNTKIg r_ui = 3.00   est = 3.49   {'actual_k': 40, 'was_impossible': False}\n",
      "user: nl8gWLDo6U6MjqzbBmE_9A item: hMXmkxDN5YhG14_kYfPJfw r_ui = 4.00   est = 3.64   {'actual_k': 40, 'was_impossible': False}\n",
      "user: nl8gWLDo6U6MjqzbBmE_9A item: ZriKK15zwNXWG1FZvPtpRQ r_ui = 3.00   est = 3.69   {'actual_k': 40, 'was_impossible': False}\n",
      "user: nl8gWLDo6U6MjqzbBmE_9A item: TS8Izmbm70OtbqDE7AaGTg r_ui = 4.00   est = 3.90   {'actual_k': 40, 'was_impossible': False}\n",
      "user: nl8gWLDo6U6MjqzbBmE_9A item: 8p5GOQ3Wa5I5Ki6NrDJyQQ r_ui = 2.00   est = 3.32   {'actual_k': 40, 'was_impossible': False}\n",
      "user: nl8gWLDo6U6MjqzbBmE_9A item: 1v_htWzNQLyhhNG4ibMt5Q r_ui = 3.00   est = 3.30   {'actual_k': 40, 'was_impossible': False}\n",
      "user: nl8gWLDo6U6MjqzbBmE_9A item: gA7b9Lk4w41H9aNeQc5Qdg r_ui = 2.00   est = 3.29   {'actual_k': 40, 'was_impossible': False}\n",
      "user: nl8gWLDo6U6MjqzbBmE_9A item: m9_ghFlVR2Mom0F99fkGNg r_ui = 3.00   est = 2.78   {'actual_k': 40, 'was_impossible': False}\n",
      "user: nl8gWLDo6U6MjqzbBmE_9A item: zSQzJk8I13CCISADVi1h1Q r_ui = 4.00   est = 2.80   {'actual_k': 40, 'was_impossible': False}\n",
      "user: nl8gWLDo6U6MjqzbBmE_9A item: _YB5QIVgxTUO0MHQWkm8rA r_ui = 3.00   est = 3.11   {'actual_k': 40, 'was_impossible': False}\n",
      "user: nl8gWLDo6U6MjqzbBmE_9A item: eEpWmk4HJ3V7llgUM5qCVg r_ui = 4.00   est = 3.10   {'actual_k': 40, 'was_impossible': False}\n",
      "user: nl8gWLDo6U6MjqzbBmE_9A item: brJDrKFzyIg3nP8gzH1Q2Q r_ui = 3.00   est = 3.45   {'actual_k': 40, 'was_impossible': False}\n",
      "user: nl8gWLDo6U6MjqzbBmE_9A item: Izb80BN8Qtp4QWmSFA__aA r_ui = 4.00   est = 3.69   {'actual_k': 36, 'was_impossible': False}\n",
      "user: nl8gWLDo6U6MjqzbBmE_9A item: qjd3zkHdNyw_YEO-SoBEBA r_ui = 2.00   est = 2.82   {'actual_k': 40, 'was_impossible': False}\n",
      "user: nl8gWLDo6U6MjqzbBmE_9A item: 2sQt8Ng8sns1X6_x3aGCHA r_ui = 4.00   est = 3.24   {'actual_k': 37, 'was_impossible': False}\n",
      "user: nl8gWLDo6U6MjqzbBmE_9A item: bpqgDX8s2pimrz2wxclG6w r_ui = 3.00   est = 3.64   {'actual_k': 40, 'was_impossible': False}\n",
      "user: nl8gWLDo6U6MjqzbBmE_9A item: EjxoHmihRcUiqcQh5ECTfw r_ui = 4.00   est = 3.51   {'actual_k': 32, 'was_impossible': False}\n",
      "user: nl8gWLDo6U6MjqzbBmE_9A item: BWd6NAPqPpmDhy6EQXeECA r_ui = 4.00   est = 3.54   {'actual_k': 40, 'was_impossible': False}\n",
      "user: nl8gWLDo6U6MjqzbBmE_9A item: pVJfXUOnJcNchRlnldfSzw r_ui = 3.00   est = 3.01   {'actual_k': 40, 'was_impossible': False}\n",
      "user: nl8gWLDo6U6MjqzbBmE_9A item: oYpQs22iUr68hSiTh7pMRA r_ui = 3.00   est = 3.56   {'actual_k': 40, 'was_impossible': False}\n",
      "user: nl8gWLDo6U6MjqzbBmE_9A item: leBIJOs_IqI_oNDfRZpVFg r_ui = 3.00   est = 3.08   {'actual_k': 40, 'was_impossible': False}\n",
      "user: nl8gWLDo6U6MjqzbBmE_9A item: IfUap3l-UVc7-FH_j8wPFw r_ui = 4.00   est = 3.82   {'actual_k': 32, 'was_impossible': False}\n",
      "user: nl8gWLDo6U6MjqzbBmE_9A item: oDycN7PPSmQEBtUYBRXvQw r_ui = 3.00   est = 3.10   {'actual_k': 32, 'was_impossible': False}\n",
      "user: nl8gWLDo6U6MjqzbBmE_9A item: RNqUyblZzXvg0a2fBjJQQg r_ui = 3.00   est = 3.04   {'actual_k': 40, 'was_impossible': False}\n",
      "user: nl8gWLDo6U6MjqzbBmE_9A item: 382AcCgS-JmUPgXWkmDStg r_ui = 4.00   est = 4.03   {'actual_k': 40, 'was_impossible': False}\n",
      "user: nl8gWLDo6U6MjqzbBmE_9A item: sN2G7DGRc_whgIcZf7FHdA r_ui = 3.00   est = 3.90   {'actual_k': 37, 'was_impossible': False}\n",
      "user: nl8gWLDo6U6MjqzbBmE_9A item: rQ8NMRJfhTTV77gFoVYHyA r_ui = 4.00   est = 3.55   {'actual_k': 40, 'was_impossible': False}\n",
      "user: nl8gWLDo6U6MjqzbBmE_9A item: ZtgiKT32RClXkNKaeoNehQ r_ui = 3.00   est = 4.02   {'actual_k': 40, 'was_impossible': False}\n",
      "user: nl8gWLDo6U6MjqzbBmE_9A item: KE43ROlvrWReR46v0hE_Qg r_ui = 4.00   est = 3.57   {'actual_k': 40, 'was_impossible': False}\n",
      "user: nl8gWLDo6U6MjqzbBmE_9A item: VhJjFqaUXWuW97E8ZrIuMA r_ui = 3.00   est = 3.39   {'actual_k': 40, 'was_impossible': False}\n",
      "user: nl8gWLDo6U6MjqzbBmE_9A item: zUDimbx710-UZsL98juyGA r_ui = 3.00   est = 2.84   {'actual_k': 40, 'was_impossible': False}\n",
      "user: nl8gWLDo6U6MjqzbBmE_9A item: o70uibX4QgIw_kcNkPQAXg r_ui = 4.00   est = 3.29   {'actual_k': 40, 'was_impossible': False}\n",
      "user: nl8gWLDo6U6MjqzbBmE_9A item: D8-ssK_8w1WBajKCXUG5Uw r_ui = 4.00   est = 3.54   {'actual_k': 40, 'was_impossible': False}\n",
      "user: nl8gWLDo6U6MjqzbBmE_9A item: h9qXNK2U3NklvfEN0MKiEA r_ui = 4.00   est = 3.50   {'actual_k': 40, 'was_impossible': False}\n",
      "user: nl8gWLDo6U6MjqzbBmE_9A item: -4P-EXfn-Urvkh6NHK4OTw r_ui = 4.00   est = 3.72   {'actual_k': 40, 'was_impossible': False}\n",
      "user: nl8gWLDo6U6MjqzbBmE_9A item: 5amwl12h4mASJrPUZ7BxZA r_ui = 3.00   est = 3.32   {'actual_k': 40, 'was_impossible': False}\n",
      "user: nl8gWLDo6U6MjqzbBmE_9A item: eoPQPSlbhHrxP0Ev5KSqhg r_ui = 3.00   est = 3.55   {'actual_k': 40, 'was_impossible': False}\n",
      "user: nl8gWLDo6U6MjqzbBmE_9A item: olyv8Q4ikQvjG75W7M-lYw r_ui = 4.00   est = 3.47   {'actual_k': 40, 'was_impossible': False}\n",
      "user: nl8gWLDo6U6MjqzbBmE_9A item: MODs_2qd02Jr3m0ZHqdV8A r_ui = 4.00   est = 3.88   {'actual_k': 40, 'was_impossible': False}\n",
      "user: nl8gWLDo6U6MjqzbBmE_9A item: ZsHo_B-vyVDq-NHBT0aJ5w r_ui = 3.00   est = 3.64   {'actual_k': 40, 'was_impossible': False}\n",
      "user: nl8gWLDo6U6MjqzbBmE_9A item: BJE7pVZg5byGBDwe6RWnKg r_ui = 4.00   est = 3.50   {'actual_k': 40, 'was_impossible': False}\n",
      "user: nl8gWLDo6U6MjqzbBmE_9A item: tdy4R9vKDqxUe7SY-y7W-Q r_ui = 4.00   est = 3.55   {'actual_k': 40, 'was_impossible': False}\n",
      "user: nl8gWLDo6U6MjqzbBmE_9A item: 9taeXt4yjXR7J7Z9Ry9MtQ r_ui = 3.00   est = 3.24   {'actual_k': 40, 'was_impossible': False}\n",
      "user: nl8gWLDo6U6MjqzbBmE_9A item: bU5tVs6IoXDeplQDl1QADw r_ui = 4.00   est = 4.07   {'actual_k': 40, 'was_impossible': False}\n",
      "user: nl8gWLDo6U6MjqzbBmE_9A item: 0WNgQP-ASuGe-13MrDlMJQ r_ui = 3.00   est = 3.24   {'actual_k': 35, 'was_impossible': False}\n",
      "user: nl8gWLDo6U6MjqzbBmE_9A item: CK13b3R78FYLSif-hFZ39g r_ui = 4.00   est = 3.78   {'actual_k': 40, 'was_impossible': False}\n",
      "user: nl8gWLDo6U6MjqzbBmE_9A item: XJA2gobGEFcljJGDpgLvaA r_ui = 3.00   est = 3.65   {'actual_k': 40, 'was_impossible': False}\n",
      "user: nl8gWLDo6U6MjqzbBmE_9A item: jvnuFNDtIxVDBrm2wIOiRA r_ui = 3.00   est = 3.80   {'actual_k': 40, 'was_impossible': False}\n",
      "user: nl8gWLDo6U6MjqzbBmE_9A item: sf21ttvbJ-fXV27v9YVg6A r_ui = 3.00   est = 2.79   {'actual_k': 40, 'was_impossible': False}\n",
      "user: nl8gWLDo6U6MjqzbBmE_9A item: 5GpWwHKMX4yObZrsguE80A r_ui = 4.00   est = 4.18   {'actual_k': 40, 'was_impossible': False}\n",
      "user: nl8gWLDo6U6MjqzbBmE_9A item: T3TJ3TW_UYOXnSqBeOHh-w r_ui = 3.00   est = 3.53   {'actual_k': 40, 'was_impossible': False}\n",
      "user: nl8gWLDo6U6MjqzbBmE_9A item: MUtnULdG2SSLHuJk55jTcQ r_ui = 4.00   est = 3.93   {'actual_k': 40, 'was_impossible': False}\n",
      "user: nl8gWLDo6U6MjqzbBmE_9A item: Z7yoRa82PRkwdUOl6AuCQg r_ui = 4.00   est = 3.74   {'actual_k': 40, 'was_impossible': False}\n",
      "user: nl8gWLDo6U6MjqzbBmE_9A item: eCZZTSpW9-UUvGZ_F-Vohg r_ui = 3.00   est = 3.58   {'actual_k': 40, 'was_impossible': False}\n",
      "user: nl8gWLDo6U6MjqzbBmE_9A item: P-acvWcDxmfuoX71QPmF-Q r_ui = 4.00   est = 3.28   {'actual_k': 40, 'was_impossible': False}\n",
      "user: nl8gWLDo6U6MjqzbBmE_9A item: 8Oz37ge-a_ZgTGpORlutPA r_ui = 3.00   est = 3.57   {'actual_k': 40, 'was_impossible': False}\n",
      "user: nl8gWLDo6U6MjqzbBmE_9A item: VJvbz8NCgUkKbRUQstQDug r_ui = 3.00   est = 3.03   {'actual_k': 40, 'was_impossible': False}\n",
      "user: nl8gWLDo6U6MjqzbBmE_9A item: L3P3wktEKtaPKlO3QtHdiw r_ui = 3.00   est = 2.84   {'actual_k': 40, 'was_impossible': False}\n",
      "user: nl8gWLDo6U6MjqzbBmE_9A item: JrDwhFDCXHRRdnILCiI9wQ r_ui = 3.00   est = 3.32   {'actual_k': 40, 'was_impossible': False}\n",
      "user: nl8gWLDo6U6MjqzbBmE_9A item: hXI1Yg55Rn-hoaYr5Jpmnw r_ui = 4.00   est = 4.28   {'actual_k': 40, 'was_impossible': False}\n",
      "user: nl8gWLDo6U6MjqzbBmE_9A item: yzQjl6CaFl-1VFnDpT7cPg r_ui = 3.00   est = 3.75   {'actual_k': 39, 'was_impossible': False}\n",
      "user: nl8gWLDo6U6MjqzbBmE_9A item: 7MVbVw7cUK2HPQO7ee7Qvg r_ui = 3.00   est = 3.42   {'actual_k': 40, 'was_impossible': False}\n",
      "user: nl8gWLDo6U6MjqzbBmE_9A item: 7ldjPaPvRApzmuHvmlXyMw r_ui = 4.00   est = 3.30   {'actual_k': 31, 'was_impossible': False}\n",
      "user: nl8gWLDo6U6MjqzbBmE_9A item: FtjZTO1BUlotjgas68nfHw r_ui = 3.00   est = 3.45   {'actual_k': 33, 'was_impossible': False}\n",
      "user: nl8gWLDo6U6MjqzbBmE_9A item: -nCnq0M7tfIcD3AYjbdYjQ r_ui = 3.00   est = 3.73   {'actual_k': 40, 'was_impossible': False}\n",
      "user: nl8gWLDo6U6MjqzbBmE_9A item: HWWQPRw7KXBDqVRamGvg9w r_ui = 4.00   est = 3.44   {'actual_k': 33, 'was_impossible': False}\n",
      "user: nl8gWLDo6U6MjqzbBmE_9A item: Jx5PeeSyFYWsP5WZHWypWA r_ui = 4.00   est = 3.20   {'actual_k': 40, 'was_impossible': False}\n",
      "user: nl8gWLDo6U6MjqzbBmE_9A item: -0Gbsd7ztvTyFpl7jF0DIw r_ui = 3.00   est = 3.79   {'actual_k': 40, 'was_impossible': False}\n",
      "user: nl8gWLDo6U6MjqzbBmE_9A item: _npFEECjLGimUbLACGwuTQ r_ui = 4.00   est = 3.51   {'actual_k': 40, 'was_impossible': False}\n",
      "user: nl8gWLDo6U6MjqzbBmE_9A item: L7azzjeTPzfxnGvrqPjtFg r_ui = 3.00   est = 3.51   {'actual_k': 40, 'was_impossible': False}\n",
      "user: nl8gWLDo6U6MjqzbBmE_9A item: Hx4lGxPDHTMK04iuBaMkcQ r_ui = 3.00   est = 3.58   {'actual_k': 38, 'was_impossible': False}\n",
      "user: nl8gWLDo6U6MjqzbBmE_9A item: RThni7WCs47HSqRiN19W8w r_ui = 4.00   est = 3.84   {'actual_k': 40, 'was_impossible': False}\n",
      "user: nl8gWLDo6U6MjqzbBmE_9A item: XQFvbZxfzbrMY_GqsYu1RQ r_ui = 4.00   est = 4.27   {'actual_k': 16, 'was_impossible': False}\n",
      "user: nl8gWLDo6U6MjqzbBmE_9A item: f-N5U20A9DjW3Dpwgg51yg r_ui = 3.00   est = 3.47   {'actual_k': 16, 'was_impossible': False}\n",
      "user: nl8gWLDo6U6MjqzbBmE_9A item: Pja5xHZJ8sQY1uEQssem_w r_ui = 4.00   est = 3.05   {'actual_k': 32, 'was_impossible': False}\n",
      "user: nl8gWLDo6U6MjqzbBmE_9A item: V90a_bAuZPcOLslG3B2DAg r_ui = 3.00   est = 3.33   {'actual_k': 33, 'was_impossible': False}\n",
      "user: nl8gWLDo6U6MjqzbBmE_9A item: G5YGLyVXgd5xbwxZmRYhdg r_ui = 3.00   est = 3.85   {'actual_k': 40, 'was_impossible': False}\n",
      "user: nl8gWLDo6U6MjqzbBmE_9A item: Fsh9hVU2xqPFpx-eVVxD6A r_ui = 4.00   est = 4.09   {'actual_k': 40, 'was_impossible': False}\n",
      "user: nl8gWLDo6U6MjqzbBmE_9A item: -1sIJLX71taHD-BgbwY64Q r_ui = 4.00   est = 3.12   {'actual_k': 34, 'was_impossible': False}\n",
      "user: nl8gWLDo6U6MjqzbBmE_9A item: CRbd6ME9QAD4oMswvHMzMA r_ui = 3.00   est = 3.95   {'actual_k': 40, 'was_impossible': False}\n",
      "user: nl8gWLDo6U6MjqzbBmE_9A item: _i-ik7oyJYZGLDYUvbVlrQ r_ui = 4.00   est = 2.85   {'actual_k': 37, 'was_impossible': False}\n",
      "user: nl8gWLDo6U6MjqzbBmE_9A item: eFA7z513ckKzfGPROQv0Ww r_ui = 4.00   est = 3.33   {'actual_k': 36, 'was_impossible': False}\n",
      "user: nl8gWLDo6U6MjqzbBmE_9A item: GmWw_4543uotBWI21xiwrA r_ui = 4.00   est = 3.79   {'actual_k': 37, 'was_impossible': False}\n",
      "user: nl8gWLDo6U6MjqzbBmE_9A item: sca7tyVH-Ctbk67zMRdGmg r_ui = 4.00   est = 3.77   {'actual_k': 32, 'was_impossible': False}\n",
      "user: nl8gWLDo6U6MjqzbBmE_9A item: Id_dvD0ucVGVdqmAKNizAw r_ui = 3.00   est = 3.73   {'actual_k': 39, 'was_impossible': False}\n",
      "user: nl8gWLDo6U6MjqzbBmE_9A item: rstN5XcWvsWUxrGoLBiK9g r_ui = 3.00   est = 3.41   {'actual_k': 40, 'was_impossible': False}\n",
      "user: nl8gWLDo6U6MjqzbBmE_9A item: ndlF9lH5TA5Uu3uDAZMLcA r_ui = 4.00   est = 2.92   {'actual_k': 40, 'was_impossible': False}\n",
      "user: nl8gWLDo6U6MjqzbBmE_9A item: I3wU08pdP80roBXD9rf3XQ r_ui = 3.00   est = 3.40   {'actual_k': 40, 'was_impossible': False}\n",
      "user: nl8gWLDo6U6MjqzbBmE_9A item: K7jF_DHzb6MtGN9vj7zbPg r_ui = 3.00   est = 3.16   {'actual_k': 29, 'was_impossible': False}\n",
      "user: nl8gWLDo6U6MjqzbBmE_9A item: -MN8HvzroFTcybmg_LZvkg r_ui = 3.00   est = 2.40   {'actual_k': 40, 'was_impossible': False}\n",
      "user: nl8gWLDo6U6MjqzbBmE_9A item: fotalVr1Ag1ZDWPQ10ta4A r_ui = 4.00   est = 3.77   {'actual_k': 40, 'was_impossible': False}\n",
      "user: nl8gWLDo6U6MjqzbBmE_9A item: 3jLE4gS2s7yeKjIdFBluUw r_ui = 3.00   est = 3.35   {'actual_k': 40, 'was_impossible': False}\n",
      "user: nl8gWLDo6U6MjqzbBmE_9A item: Xt7bUBMmir6NqkglfxPInw r_ui = 4.00   est = 4.38   {'actual_k': 28, 'was_impossible': False}\n",
      "user: nl8gWLDo6U6MjqzbBmE_9A item: 19NseZmRAm6jSUuyhwS-ag r_ui = 3.00   est = 3.78   {'actual_k': 25, 'was_impossible': False}\n",
      "user: nl8gWLDo6U6MjqzbBmE_9A item: iYeX0tOqdfMb2TjT3Uc5WQ r_ui = 3.00   est = 2.49   {'actual_k': 34, 'was_impossible': False}\n",
      "user: nl8gWLDo6U6MjqzbBmE_9A item: mNLn9hxvi2462HVGNTBz8Q r_ui = 4.00   est = 3.99   {'actual_k': 35, 'was_impossible': False}\n",
      "user: nl8gWLDo6U6MjqzbBmE_9A item: hJhsseplBpn7VVcF5bZGCA r_ui = 4.00   est = 3.54   {'actual_k': 31, 'was_impossible': False}\n",
      "user: nl8gWLDo6U6MjqzbBmE_9A item: tTzVRy24H-GFERKOl4OlJA r_ui = 3.00   est = 2.69   {'actual_k': 22, 'was_impossible': False}\n",
      "user: nl8gWLDo6U6MjqzbBmE_9A item: 2OkM6RT7vqCPuzuP3rvOfA r_ui = 4.00   est = 4.17   {'actual_k': 33, 'was_impossible': False}\n",
      "user: nl8gWLDo6U6MjqzbBmE_9A item: h4QxYdK3Ij0CmaHRN1YPjA r_ui = 4.00   est = 3.97   {'actual_k': 40, 'was_impossible': False}\n",
      "user: nl8gWLDo6U6MjqzbBmE_9A item: iDcT8noFyv1sEVzzEWq1ow r_ui = 3.00   est = 3.42   {'actual_k': 36, 'was_impossible': False}\n",
      "user: nl8gWLDo6U6MjqzbBmE_9A item: atQc4wWwEuAxPdgtEldEKQ r_ui = 4.00   est = 3.61   {'actual_k': 26, 'was_impossible': False}\n",
      "user: nl8gWLDo6U6MjqzbBmE_9A item: YgcZLW4jKjHVMkjwoeM2-A r_ui = 4.00   est = 4.00   {'actual_k': 31, 'was_impossible': False}\n",
      "user: nl8gWLDo6U6MjqzbBmE_9A item: iVTuysN5MoDfMdapoLLW6Q r_ui = 4.00   est = 3.69   {'actual_k': 37, 'was_impossible': False}\n",
      "user: nl8gWLDo6U6MjqzbBmE_9A item: 2fj72F9AjWfRf6QogOMt0A r_ui = 3.00   est = 3.91   {'actual_k': 32, 'was_impossible': False}\n",
      "user: nl8gWLDo6U6MjqzbBmE_9A item: KYdAKiak8iVoBEwavWbNYA r_ui = 4.00   est = 2.78   {'actual_k': 33, 'was_impossible': False}\n",
      "user: nl8gWLDo6U6MjqzbBmE_9A item: N_dSuYTenyybj0khXvaqTw r_ui = 3.00   est = 2.96   {'actual_k': 36, 'was_impossible': False}\n"
     ]
    }
   ],
   "source": [
    "pred_list = list()\n",
    "for business_id in filter_business:\n",
    "    if (df_new_user['business_id'] == business_id).any():\n",
    "        r_ui = df_new_user.loc[df_new_user['business_id'] == business_id, 'rating'].iloc[0]\n",
    "        pred = algo.predict(user_id, business_id, r_ui = r_ui, verbose=True)\n",
    "        pred_list.append(pred)\n",
    "#pred = algo.predict(user_id, business_id,verbose=True)"
   ]
  },
  {
   "cell_type": "code",
   "execution_count": 18,
   "metadata": {},
   "outputs": [
    {
     "output_type": "stream",
     "name": "stdout",
     "text": [
      "RMSE: 0.4759\n"
     ]
    },
    {
     "output_type": "execute_result",
     "data": {
      "text/plain": [
       "0.47592385254800645"
      ]
     },
     "metadata": {},
     "execution_count": 18
    }
   ],
   "source": [
    "from surprise import accuracy\n",
    "accuracy.rmse(pred_list)"
   ]
  },
  {
   "cell_type": "code",
   "execution_count": 43,
   "metadata": {
    "tags": [
     "outputPrepend"
    ]
   },
   "outputs": [
    {
     "output_type": "stream",
     "name": "stdout",
     "text": [
      ", 'was_impossible': False}\n",
      "user: nl8gWLDo6U6MjqzbBmE_9A item: -CxbIm-SqwKhXwpKV5s_uQ r_ui = 3.68   est = 2.06   {'actual_k': 14, 'was_impossible': False}\n",
      "user: nl8gWLDo6U6MjqzbBmE_9A item: QF4McYH5huGxgwOC2-Rxmg r_ui = 3.68   est = 2.50   {'actual_k': 12, 'was_impossible': False}\n",
      "user: nl8gWLDo6U6MjqzbBmE_9A item: 0LFo-SSHpSMDJyhHLaCPTw r_ui = 3.68   est = 2.06   {'actual_k': 7, 'was_impossible': False}\n",
      "user: nl8gWLDo6U6MjqzbBmE_9A item: YyE8sPnsccZdPRZ8b_t5PQ r_ui = 3.68   est = 4.01   {'actual_k': 14, 'was_impossible': False}\n",
      "user: nl8gWLDo6U6MjqzbBmE_9A item: xeE4V5ckTPktq1PgpkHanQ r_ui = 3.68   est = 1.00   {'actual_k': 6, 'was_impossible': False}\n",
      "user: nl8gWLDo6U6MjqzbBmE_9A item: lE9lGJMmsjwW8XgPOV-Wlw r_ui = 3.68   est = 4.09   {'actual_k': 7, 'was_impossible': False}\n",
      "user: nl8gWLDo6U6MjqzbBmE_9A item: yljfe0VbyfsvZIg-s5sXLg r_ui = 3.68   est = 2.85   {'actual_k': 10, 'was_impossible': False}\n",
      "user: nl8gWLDo6U6MjqzbBmE_9A item: WBFi8tbbDBMlKoeJxWYbZg r_ui = 3.68   est = 3.00   {'actual_k': 5, 'was_impossible': False}\n",
      "user: nl8gWLDo6U6MjqzbBmE_9A item: 06oJMnLX05N-xpWqq3f4mA r_ui = 3.68   est = 3.10   {'actual_k': 10, 'was_impossible': False}\n",
      "user: nl8gWLDo6U6MjqzbBmE_9A item: LHFQeuuRO5IqvK6DV8m9DQ r_ui = 3.68   est = 3.28   {'actual_k': 11, 'was_impossible': False}\n",
      "user: nl8gWLDo6U6MjqzbBmE_9A item: Emc-qqVQiHGydIDvSb041w r_ui = 3.68   est = 4.25   {'actual_k': 6, 'was_impossible': False}\n",
      "user: nl8gWLDo6U6MjqzbBmE_9A item: py10VCn5raT5mzgI_Oe9Mg r_ui = 3.68   est = 2.75   {'actual_k': 9, 'was_impossible': False}\n",
      "user: nl8gWLDo6U6MjqzbBmE_9A item: RkQNtpQN5amSm7h0h4aUbQ r_ui = 3.68   est = 3.99   {'actual_k': 7, 'was_impossible': False}\n",
      "user: nl8gWLDo6U6MjqzbBmE_9A item: aQO6UmyhoQEY79iXikiZnQ r_ui = 3.68   est = 2.21   {'actual_k': 13, 'was_impossible': False}\n",
      "user: nl8gWLDo6U6MjqzbBmE_9A item: 4Vu9dM8vidSmwSx9l_4Z6A r_ui = 3.68   est = 3.28   {'actual_k': 9, 'was_impossible': False}\n",
      "user: nl8gWLDo6U6MjqzbBmE_9A item: EX6mCCDadoWFaHRr9zdI7w r_ui = 3.68   est = 3.56   {'actual_k': 10, 'was_impossible': False}\n",
      "user: nl8gWLDo6U6MjqzbBmE_9A item: 2p1Iv3elG6s0dnibaa6UXw r_ui = 3.68   est = 2.29   {'actual_k': 8, 'was_impossible': False}\n",
      "user: nl8gWLDo6U6MjqzbBmE_9A item: 6AzuI31Em-kYjdS9rEf6fQ r_ui = 3.68   est = 2.75   {'actual_k': 9, 'was_impossible': False}\n",
      "user: nl8gWLDo6U6MjqzbBmE_9A item: z4l0ecnkV8ju5vkbbv91rw r_ui = 3.68   est = 3.11   {'actual_k': 14, 'was_impossible': False}\n",
      "user: nl8gWLDo6U6MjqzbBmE_9A item: NejEufOD6TdBGD-o_kts5Q r_ui = 3.68   est = 2.10   {'actual_k': 7, 'was_impossible': False}\n",
      "user: nl8gWLDo6U6MjqzbBmE_9A item: w1AMLVvtmSoPj_HecvBkkQ r_ui = 3.68   est = 3.78   {'actual_k': 9, 'was_impossible': False}\n",
      "user: nl8gWLDo6U6MjqzbBmE_9A item: E5Rp_drzf_SwISfR7Jo6LQ r_ui = 3.68   est = 3.12   {'actual_k': 12, 'was_impossible': False}\n",
      "user: nl8gWLDo6U6MjqzbBmE_9A item: AiQPgbtYloyNoJs1Ke7wxw r_ui = 3.68   est = 2.47   {'actual_k': 9, 'was_impossible': False}\n",
      "user: nl8gWLDo6U6MjqzbBmE_9A item: 0V0eqCO7C6sF5GjG6tglUg r_ui = 3.68   est = 3.64   {'actual_k': 8, 'was_impossible': False}\n",
      "user: nl8gWLDo6U6MjqzbBmE_9A item: uDI2yLLbxyg8fT4pyIkiHA r_ui = 3.68   est = 2.71   {'actual_k': 5, 'was_impossible': False}\n",
      "user: nl8gWLDo6U6MjqzbBmE_9A item: YfEd0BWuP1j7ZckES5qVdA r_ui = 3.68   est = 3.28   {'actual_k': 13, 'was_impossible': False}\n",
      "user: nl8gWLDo6U6MjqzbBmE_9A item: 4jmJfNpYghoTFHe5G0zahw r_ui = 3.68   est = 3.34   {'actual_k': 10, 'was_impossible': False}\n",
      "user: nl8gWLDo6U6MjqzbBmE_9A item: 9zM2nVBhKY2p8qiIj2og0A r_ui = 3.68   est = 2.83   {'actual_k': 12, 'was_impossible': False}\n",
      "user: nl8gWLDo6U6MjqzbBmE_9A item: tVhXK2l9iMwTqkeWDWDiTQ r_ui = 3.68   est = 3.25   {'actual_k': 14, 'was_impossible': False}\n",
      "user: nl8gWLDo6U6MjqzbBmE_9A item: O1J1nnYmCyhCc9TI1BY7YQ r_ui = 3.68   est = 2.82   {'actual_k': 10, 'was_impossible': False}\n",
      "user: nl8gWLDo6U6MjqzbBmE_9A item: TmnXu6OVKwwq9574uQuwuw r_ui = 3.68   est = 3.58   {'actual_k': 12, 'was_impossible': False}\n",
      "user: nl8gWLDo6U6MjqzbBmE_9A item: uvuNGP7KRtG-qK80eSgv7g r_ui = 3.68   est = 3.57   {'actual_k': 13, 'was_impossible': False}\n",
      "user: nl8gWLDo6U6MjqzbBmE_9A item: EXZUZLIqQqwl8_kd5ZOzyw r_ui = 3.68   est = 2.92   {'actual_k': 7, 'was_impossible': False}\n",
      "user: nl8gWLDo6U6MjqzbBmE_9A item: g6mlwTxavyFWJfT8ccCpBg r_ui = 3.68   est = 3.65   {'actual_k': 8, 'was_impossible': False}\n",
      "user: nl8gWLDo6U6MjqzbBmE_9A item: 5prA--2LtkDqiKNhocylMA r_ui = 3.68   est = 2.97   {'actual_k': 12, 'was_impossible': False}\n",
      "user: nl8gWLDo6U6MjqzbBmE_9A item: 3pKMdltKpJqDz6V8jDMbYw r_ui = 3.68   est = 3.19   {'actual_k': 10, 'was_impossible': False}\n",
      "user: nl8gWLDo6U6MjqzbBmE_9A item: 1qojobyKaEYx_TWXi4hBWg r_ui = 3.68   est = 3.07   {'actual_k': 12, 'was_impossible': False}\n",
      "user: nl8gWLDo6U6MjqzbBmE_9A item: P25qhxrGnD7Frg7dQpudSQ r_ui = 3.68   est = 2.95   {'actual_k': 7, 'was_impossible': False}\n",
      "user: nl8gWLDo6U6MjqzbBmE_9A item: IJHxL2EIPJW0GzfJL1vyeQ r_ui = 3.68   est = 3.87   {'actual_k': 8, 'was_impossible': False}\n",
      "user: nl8gWLDo6U6MjqzbBmE_9A item: TP-9fFUF_o1CsAZhezVUuQ r_ui = 3.68   est = 4.46   {'actual_k': 8, 'was_impossible': False}\n",
      "user: nl8gWLDo6U6MjqzbBmE_9A item: HDBfZ2Wh4Nr_aKpaadxpMw r_ui = 3.68   est = 3.09   {'actual_k': 8, 'was_impossible': False}\n",
      "user: nl8gWLDo6U6MjqzbBmE_9A item: QoRB43TDI4KzT4VSALayew r_ui = 3.68   est = 3.99   {'actual_k': 6, 'was_impossible': False}\n",
      "user: nl8gWLDo6U6MjqzbBmE_9A item: mCcj-NeeYUtdwYFqIAUaVA r_ui = 3.68   est = 3.40   {'actual_k': 9, 'was_impossible': False}\n",
      "user: nl8gWLDo6U6MjqzbBmE_9A item: TDEsA7oniZaEoW41Xco9JA r_ui = 3.68   est = 2.27   {'actual_k': 8, 'was_impossible': False}\n",
      "user: nl8gWLDo6U6MjqzbBmE_9A item: mabPkgz0SUbMurOl5vGjAg r_ui = 3.68   est = 3.30   {'actual_k': 8, 'was_impossible': False}\n",
      "user: nl8gWLDo6U6MjqzbBmE_9A item: knZLOhq8DG31uEm-gn178g r_ui = 3.68   est = 1.46   {'actual_k': 3, 'was_impossible': False}\n",
      "user: nl8gWLDo6U6MjqzbBmE_9A item: P9JN3ja1Lwes2LBD8RvcvA r_ui = 3.00   est = 2.47   {'actual_k': 8, 'was_impossible': False}\n",
      "user: nl8gWLDo6U6MjqzbBmE_9A item: dAUIFUfD8-2DWgxd9xd6yg r_ui = 3.68   est = 4.44   {'actual_k': 5, 'was_impossible': False}\n",
      "user: nl8gWLDo6U6MjqzbBmE_9A item: DNPxJ9sw1wj9iP2HkYgjHA r_ui = 3.68   est = 3.45   {'actual_k': 14, 'was_impossible': False}\n",
      "user: nl8gWLDo6U6MjqzbBmE_9A item: R_FxL3Cv6AJ0MxDgrbHQOQ r_ui = 3.68   est = 2.43   {'actual_k': 11, 'was_impossible': False}\n",
      "user: nl8gWLDo6U6MjqzbBmE_9A item: aU4RZnr2nGB0x8GyRaEC3w r_ui = 3.68   est = 3.23   {'actual_k': 9, 'was_impossible': False}\n",
      "user: nl8gWLDo6U6MjqzbBmE_9A item: Pw-pB_psVkeOV4MI7BH9tw r_ui = 3.68   est = 3.39   {'actual_k': 13, 'was_impossible': False}\n",
      "user: nl8gWLDo6U6MjqzbBmE_9A item: pNckZqhKAImvjQudlqkcgQ r_ui = 3.68   est = 3.87   {'actual_k': 7, 'was_impossible': False}\n",
      "user: nl8gWLDo6U6MjqzbBmE_9A item: Q1gUjnTw_n66KWwC88aXQA r_ui = 3.68   est = 3.43   {'actual_k': 9, 'was_impossible': False}\n",
      "user: nl8gWLDo6U6MjqzbBmE_9A item: 0vu2NcAV0KE85KtqFt9NPA r_ui = 3.68   est = 2.88   {'actual_k': 6, 'was_impossible': False}\n",
      "user: nl8gWLDo6U6MjqzbBmE_9A item: of6BK8sNqW_TG_t2c0Hvkg r_ui = 3.68   est = 4.02   {'actual_k': 8, 'was_impossible': False}\n",
      "user: nl8gWLDo6U6MjqzbBmE_9A item: 5yeNbEcSGwlW8vKEmX9wqQ r_ui = 3.68   est = 3.56   {'actual_k': 10, 'was_impossible': False}\n",
      "user: nl8gWLDo6U6MjqzbBmE_9A item: nEVMsmylu6x6CpUiat0ELw r_ui = 3.68   est = 3.26   {'actual_k': 7, 'was_impossible': False}\n",
      "user: nl8gWLDo6U6MjqzbBmE_9A item: BYfsnP_0kw5yTcbwNULWvg r_ui = 3.68   est = 3.77   {'actual_k': 7, 'was_impossible': False}\n",
      "user: nl8gWLDo6U6MjqzbBmE_9A item: dwLF6jEC5UB8hPa0r93Fxg r_ui = 3.68   est = 3.89   {'actual_k': 11, 'was_impossible': False}\n",
      "user: nl8gWLDo6U6MjqzbBmE_9A item: cZhGn6Jqwbn_aid6O7J-BQ r_ui = 3.68   est = 4.06   {'actual_k': 5, 'was_impossible': False}\n",
      "user: nl8gWLDo6U6MjqzbBmE_9A item: uOWvlCZ4COmTa76rj68QzA r_ui = 3.68   est = 3.28   {'actual_k': 5, 'was_impossible': False}\n",
      "user: nl8gWLDo6U6MjqzbBmE_9A item: I3ufPoWSTXAg7FeR_ME8YQ r_ui = 3.68   est = 3.12   {'actual_k': 5, 'was_impossible': False}\n",
      "user: nl8gWLDo6U6MjqzbBmE_9A item: Pa4bp7et-9LdX6kpDKEtfw r_ui = 3.68   est = 3.70   {'actual_k': 8, 'was_impossible': False}\n",
      "user: nl8gWLDo6U6MjqzbBmE_9A item: DrOHOtbOlMPZAtWOJlJnaA r_ui = 3.68   est = 1.99   {'actual_k': 13, 'was_impossible': False}\n",
      "user: nl8gWLDo6U6MjqzbBmE_9A item: JrEaOEaCOrbvV0SPjzCvxg r_ui = 3.68   est = 3.23   {'actual_k': 14, 'was_impossible': False}\n",
      "user: nl8gWLDo6U6MjqzbBmE_9A item: qn4VDNdGCtrSEKr0KxEcag r_ui = 3.68   est = 2.87   {'actual_k': 12, 'was_impossible': False}\n",
      "user: nl8gWLDo6U6MjqzbBmE_9A item: QFSPhD0um90_NXzz_SW85A r_ui = 3.68   est = 3.57   {'actual_k': 11, 'was_impossible': False}\n",
      "user: nl8gWLDo6U6MjqzbBmE_9A item: 3_crPRbpxRa1H8HxGO4b8A r_ui = 3.68   est = 3.48   {'actual_k': 7, 'was_impossible': False}\n",
      "user: nl8gWLDo6U6MjqzbBmE_9A item: -R-M4iJyjk7s9Z4JK7hYlw r_ui = 3.68   est = 3.82   {'actual_k': 8, 'was_impossible': False}\n",
      "user: nl8gWLDo6U6MjqzbBmE_9A item: 4OO-7dPMy73NUUmGdupHFg r_ui = 3.68   est = 4.14   {'actual_k': 9, 'was_impossible': False}\n",
      "user: nl8gWLDo6U6MjqzbBmE_9A item: SZJwDuuf9lVajj2VJCZSuA r_ui = 3.68   est = 3.39   {'actual_k': 5, 'was_impossible': False}\n",
      "user: nl8gWLDo6U6MjqzbBmE_9A item: vZM2oEpaCMb-KqDEDEusHA r_ui = 3.68   est = 2.20   {'actual_k': 8, 'was_impossible': False}\n",
      "user: nl8gWLDo6U6MjqzbBmE_9A item: bmNuarWaHVpEXaAB9clrcQ r_ui = 3.68   est = 4.00   {'actual_k': 5, 'was_impossible': False}\n",
      "user: nl8gWLDo6U6MjqzbBmE_9A item: t2OhFTTcMgpjVzd8LYyxCw r_ui = 3.68   est = 2.87   {'actual_k': 7, 'was_impossible': False}\n",
      "user: nl8gWLDo6U6MjqzbBmE_9A item: Y5Gr-LF7qoczGvP0Rrc0fw r_ui = 3.68   est = 3.84   {'actual_k': 10, 'was_impossible': False}\n",
      "user: nl8gWLDo6U6MjqzbBmE_9A item: viocVoaDT1k1QfJKFZTWTw r_ui = 3.68   est = 4.17   {'actual_k': 8, 'was_impossible': False}\n",
      "user: nl8gWLDo6U6MjqzbBmE_9A item: _tDureGgU3Zr9rq2MId3aw r_ui = 3.68   est = 2.53   {'actual_k': 10, 'was_impossible': False}\n",
      "user: nl8gWLDo6U6MjqzbBmE_9A item: BUkwBSuwQdPv9hBBL_03nQ r_ui = 3.68   est = 2.64   {'actual_k': 13, 'was_impossible': False}\n",
      "user: nl8gWLDo6U6MjqzbBmE_9A item: jX5WpTMyI0YhLeBnPI3Slg r_ui = 3.68   est = 4.47   {'actual_k': 12, 'was_impossible': False}\n",
      "user: nl8gWLDo6U6MjqzbBmE_9A item: xu-5zv35rITBrIw_OYzhfA r_ui = 3.68   est = 4.22   {'actual_k': 6, 'was_impossible': False}\n",
      "user: nl8gWLDo6U6MjqzbBmE_9A item: C-bMgUclsjhL0j4AEp0fcg r_ui = 3.68   est = 2.61   {'actual_k': 11, 'was_impossible': False}\n",
      "user: nl8gWLDo6U6MjqzbBmE_9A item: xZ5IurAVAA8LgX_KUAULBg r_ui = 3.68   est = 3.51   {'actual_k': 7, 'was_impossible': False}\n",
      "user: nl8gWLDo6U6MjqzbBmE_9A item: E3GyNGVprj_4eVaX4vhggw r_ui = 3.68   est = 2.94   {'actual_k': 13, 'was_impossible': False}\n",
      "user: nl8gWLDo6U6MjqzbBmE_9A item: sGnj8Ijquyory1vSMID5WQ r_ui = 3.68   est = 4.26   {'actual_k': 14, 'was_impossible': False}\n",
      "user: nl8gWLDo6U6MjqzbBmE_9A item: 9CmB51XZH04gZkwM_TvlAQ r_ui = 3.68   est = 3.22   {'actual_k': 8, 'was_impossible': False}\n",
      "user: nl8gWLDo6U6MjqzbBmE_9A item: s-1A_UTgaunqgCq34m9pXQ r_ui = 4.00   est = 3.18   {'actual_k': 10, 'was_impossible': False}\n",
      "user: nl8gWLDo6U6MjqzbBmE_9A item: PszjTIlzw8Wom2p2J3qEGQ r_ui = 3.68   est = 2.93   {'actual_k': 11, 'was_impossible': False}\n",
      "user: nl8gWLDo6U6MjqzbBmE_9A item: _VU3ahWLwcCqQmPpTFB0xg r_ui = 3.68   est = 3.32   {'actual_k': 10, 'was_impossible': False}\n",
      "user: nl8gWLDo6U6MjqzbBmE_9A item: JPQDKBaTSt1boaEVoRZFQQ r_ui = 3.68   est = 2.87   {'actual_k': 6, 'was_impossible': False}\n",
      "user: nl8gWLDo6U6MjqzbBmE_9A item: GxkYRLpsVjwE59_vToyrgA r_ui = 3.68   est = 3.96   {'actual_k': 7, 'was_impossible': False}\n",
      "user: nl8gWLDo6U6MjqzbBmE_9A item: OAiX6M1cpN7jqQy-gvGiqw r_ui = 3.68   est = 2.10   {'actual_k': 9, 'was_impossible': False}\n",
      "user: nl8gWLDo6U6MjqzbBmE_9A item: MHx0eqYHPu72dxjoU6cMMQ r_ui = 3.00   est = 2.15   {'actual_k': 9, 'was_impossible': False}\n",
      "user: nl8gWLDo6U6MjqzbBmE_9A item: bIpdjBZGgg_c35NImnTwGw r_ui = 3.68   est = 3.28   {'actual_k': 6, 'was_impossible': False}\n",
      "user: nl8gWLDo6U6MjqzbBmE_9A item: AfdJ_eAIX-wku97dUwlfIQ r_ui = 3.68   est = 2.05   {'actual_k': 10, 'was_impossible': False}\n",
      "user: nl8gWLDo6U6MjqzbBmE_9A item: ct1sZC2G_QICIrEgbexv8A r_ui = 3.68   est = 3.51   {'actual_k': 9, 'was_impossible': False}\n",
      "user: nl8gWLDo6U6MjqzbBmE_9A item: lytpKU_T-HPIwlZFNna2sg r_ui = 3.68   est = 3.22   {'actual_k': 13, 'was_impossible': False}\n",
      "user: nl8gWLDo6U6MjqzbBmE_9A item: rYlHTig5sP7TCe4cU6l4lg r_ui = 3.68   est = 3.48   {'actual_k': 10, 'was_impossible': False}\n",
      "user: nl8gWLDo6U6MjqzbBmE_9A item: kiYnCWKKaQ2p_rxVkO-Cug r_ui = 3.68   est = 2.99   {'actual_k': 7, 'was_impossible': False}\n",
      "user: nl8gWLDo6U6MjqzbBmE_9A item: oiAeXIRf5Q0p1dPH2nziug r_ui = 3.68   est = 2.88   {'actual_k': 13, 'was_impossible': False}\n",
      "user: nl8gWLDo6U6MjqzbBmE_9A item: eZCb2uOg2GrzGqjczrm3Sg r_ui = 3.68   est = 3.33   {'actual_k': 14, 'was_impossible': False}\n",
      "user: nl8gWLDo6U6MjqzbBmE_9A item: PDeQBuUiJdWkM9f64F1qUw r_ui = 3.68   est = 2.79   {'actual_k': 8, 'was_impossible': False}\n",
      "user: nl8gWLDo6U6MjqzbBmE_9A item: suLxxgBKKrpVxwk7TqjQCQ r_ui = 3.68   est = 3.64   {'actual_k': 12, 'was_impossible': False}\n",
      "user: nl8gWLDo6U6MjqzbBmE_9A item: VtBdzCiU00KARva2rqJcbg r_ui = 3.68   est = 3.67   {'actual_k': 8, 'was_impossible': False}\n",
      "user: nl8gWLDo6U6MjqzbBmE_9A item: C6PPNxqD2Y1nDdtWRPa0Lg r_ui = 3.68   est = 4.51   {'actual_k': 10, 'was_impossible': False}\n",
      "user: nl8gWLDo6U6MjqzbBmE_9A item: wiHsF-osBW-X6j8O22VjuQ r_ui = 3.68   est = 2.96   {'actual_k': 14, 'was_impossible': False}\n",
      "user: nl8gWLDo6U6MjqzbBmE_9A item: KwYyLnNqJrmTjVvg5QfxHg r_ui = 3.68   est = 3.46   {'actual_k': 12, 'was_impossible': False}\n",
      "user: nl8gWLDo6U6MjqzbBmE_9A item: dA0tsi1TkN7xOpVTPm1SWw r_ui = 3.68   est = 2.67   {'actual_k': 9, 'was_impossible': False}\n",
      "user: nl8gWLDo6U6MjqzbBmE_9A item: FTVkbIKHtwTK--gzN8k84Q r_ui = 3.68   est = 3.31   {'actual_k': 8, 'was_impossible': False}\n",
      "user: nl8gWLDo6U6MjqzbBmE_9A item: Z1Z-RXdoVvO04ElbAt80Wg r_ui = 3.68   est = 2.39   {'actual_k': 9, 'was_impossible': False}\n",
      "user: nl8gWLDo6U6MjqzbBmE_9A item: jbuImMehN8BYq3Ng1eTXQw r_ui = 3.68   est = 3.95   {'actual_k': 7, 'was_impossible': False}\n",
      "user: nl8gWLDo6U6MjqzbBmE_9A item: NYeVpGP_w3Eh2sPovDXO6A r_ui = 3.68   est = 3.19   {'actual_k': 12, 'was_impossible': False}\n",
      "user: nl8gWLDo6U6MjqzbBmE_9A item: CyIGz3GtNQAnJUKXQFGdnQ r_ui = 3.68   est = 3.26   {'actual_k': 7, 'was_impossible': False}\n",
      "user: nl8gWLDo6U6MjqzbBmE_9A item: OqgXuYppfycvwsCQOmGseQ r_ui = 3.68   est = 3.13   {'actual_k': 7, 'was_impossible': False}\n",
      "user: nl8gWLDo6U6MjqzbBmE_9A item: 9_si0rQEZdng0xRXgN21zA r_ui = 3.68   est = 2.83   {'actual_k': 12, 'was_impossible': False}\n",
      "user: nl8gWLDo6U6MjqzbBmE_9A item: l_iyOBsGo4jyidRRzCWliw r_ui = 3.68   est = 3.12   {'actual_k': 10, 'was_impossible': False}\n",
      "user: nl8gWLDo6U6MjqzbBmE_9A item: BDn8SztnJZsDdxWqUl_I6w r_ui = 3.68   est = 2.97   {'actual_k': 8, 'was_impossible': False}\n",
      "user: nl8gWLDo6U6MjqzbBmE_9A item: PGflcuE5wTchj-LfQWzfag r_ui = 3.68   est = 3.75   {'actual_k': 7, 'was_impossible': False}\n",
      "user: nl8gWLDo6U6MjqzbBmE_9A item: ZEkqDYklvMlbYwZQGy921Q r_ui = 3.68   est = 2.89   {'actual_k': 10, 'was_impossible': False}\n",
      "user: nl8gWLDo6U6MjqzbBmE_9A item: 0rdw33lxKmng4bQccqqc7w r_ui = 3.68   est = 2.52   {'actual_k': 8, 'was_impossible': False}\n",
      "user: nl8gWLDo6U6MjqzbBmE_9A item: NT913I9pSkp31M3pCdt5oQ r_ui = 3.68   est = 2.70   {'actual_k': 11, 'was_impossible': False}\n",
      "user: nl8gWLDo6U6MjqzbBmE_9A item: r0PuLP3gC4ElaIQZ1iMEeA r_ui = 3.68   est = 2.15   {'actual_k': 7, 'was_impossible': False}\n",
      "user: nl8gWLDo6U6MjqzbBmE_9A item: nuERu9UiNAMrCZG9wXKHog r_ui = 3.68   est = 3.26   {'actual_k': 9, 'was_impossible': False}\n",
      "user: nl8gWLDo6U6MjqzbBmE_9A item: 3xN6Z7wvmGWBnkMjWaQNMA r_ui = 3.68   est = 2.82   {'actual_k': 5, 'was_impossible': False}\n",
      "user: nl8gWLDo6U6MjqzbBmE_9A item: B2zPnnTX0vd0z7AeCRE5uA r_ui = 3.68   est = 3.94   {'actual_k': 10, 'was_impossible': False}\n",
      "user: nl8gWLDo6U6MjqzbBmE_9A item: fpe5juc0qLOKzNsucZmq9w r_ui = 3.68   est = 3.82   {'actual_k': 12, 'was_impossible': False}\n",
      "user: nl8gWLDo6U6MjqzbBmE_9A item: 99vgCKx6VeYNFNncgEkIlA r_ui = 3.68   est = 3.80   {'actual_k': 6, 'was_impossible': False}\n",
      "user: nl8gWLDo6U6MjqzbBmE_9A item: kERJnXQjD31MS0z86-Ry7Q r_ui = 3.68   est = 3.26   {'actual_k': 8, 'was_impossible': False}\n",
      "user: nl8gWLDo6U6MjqzbBmE_9A item: DhwGW49AoKxl4Uc37MA4pg r_ui = 3.68   est = 2.66   {'actual_k': 10, 'was_impossible': False}\n",
      "user: nl8gWLDo6U6MjqzbBmE_9A item: 0dAjeVid-SL_upY2tuLukg r_ui = 3.68   est = 2.73   {'actual_k': 6, 'was_impossible': False}\n",
      "user: nl8gWLDo6U6MjqzbBmE_9A item: 0RQ78Ym8qqwRyahu8NCXNg r_ui = 3.68   est = 4.31   {'actual_k': 8, 'was_impossible': False}\n",
      "user: nl8gWLDo6U6MjqzbBmE_9A item: e_59C9rnDRtVJnQa35xgzw r_ui = 3.68   est = 3.08   {'actual_k': 6, 'was_impossible': False}\n",
      "user: nl8gWLDo6U6MjqzbBmE_9A item: pA3cOOEPPa80n2e-siM3cQ r_ui = 3.68   est = 2.67   {'actual_k': 9, 'was_impossible': False}\n",
      "user: nl8gWLDo6U6MjqzbBmE_9A item: Ueyx6FHEIrYxxzulPDrZ0g r_ui = 3.68   est = 3.24   {'actual_k': 9, 'was_impossible': False}\n",
      "user: nl8gWLDo6U6MjqzbBmE_9A item: QZecOB5UC632MxVHuUGfow r_ui = 3.68   est = 3.38   {'actual_k': 13, 'was_impossible': False}\n",
      "user: nl8gWLDo6U6MjqzbBmE_9A item: rsGipdpPxBvmZ2xSzXsKjg r_ui = 3.68   est = 4.12   {'actual_k': 13, 'was_impossible': False}\n",
      "user: nl8gWLDo6U6MjqzbBmE_9A item: yZaDQjZ18dG13QnFnQ8Gow r_ui = 3.68   est = 4.72   {'actual_k': 3, 'was_impossible': False}\n",
      "user: nl8gWLDo6U6MjqzbBmE_9A item: h6L7znR_UwVcyylr5wqOmg r_ui = 3.68   est = 2.75   {'actual_k': 6, 'was_impossible': False}\n",
      "user: nl8gWLDo6U6MjqzbBmE_9A item: rLCMkeNtti0sCJdO-1gkKA r_ui = 3.68   est = 2.81   {'actual_k': 9, 'was_impossible': False}\n",
      "user: nl8gWLDo6U6MjqzbBmE_9A item: 6bs2Znus-LK2kL2-1C85hg r_ui = 3.68   est = 2.60   {'actual_k': 12, 'was_impossible': False}\n",
      "user: nl8gWLDo6U6MjqzbBmE_9A item: N69EMeY_yOQ1GJKvi3yuwQ r_ui = 3.68   est = 2.00   {'actual_k': 9, 'was_impossible': False}\n",
      "user: nl8gWLDo6U6MjqzbBmE_9A item: frVUBaOgrjoh4kvglUWXrA r_ui = 3.68   est = 2.28   {'actual_k': 13, 'was_impossible': False}\n",
      "user: nl8gWLDo6U6MjqzbBmE_9A item: nr7n-xNVYqCsaOt2QvtJ1A r_ui = 3.68   est = 3.68   {'actual_k': 8, 'was_impossible': False}\n",
      "user: nl8gWLDo6U6MjqzbBmE_9A item: Eqc6oi1NjZmaZf4E7QgeuQ r_ui = 3.68   est = 2.55   {'actual_k': 5, 'was_impossible': False}\n",
      "user: nl8gWLDo6U6MjqzbBmE_9A item: Cyh94nabEuptuswvRMOffQ r_ui = 3.68   est = 3.16   {'actual_k': 9, 'was_impossible': False}\n",
      "user: nl8gWLDo6U6MjqzbBmE_9A item: eKKfIQstsu5rhmkNMvjWYA r_ui = 3.68   est = 2.79   {'actual_k': 12, 'was_impossible': False}\n",
      "user: nl8gWLDo6U6MjqzbBmE_9A item: ZlgAVJ6x5PifqVVAKiNpYg r_ui = 3.68   est = 2.78   {'actual_k': 10, 'was_impossible': False}\n",
      "user: nl8gWLDo6U6MjqzbBmE_9A item: BBTJoP5EUfASuVDACGrulQ r_ui = 3.68   est = 1.93   {'actual_k': 10, 'was_impossible': False}\n",
      "user: nl8gWLDo6U6MjqzbBmE_9A item: O3RHSf2olTHNa_Artt-TWA r_ui = 3.68   est = 2.65   {'actual_k': 9, 'was_impossible': False}\n",
      "user: nl8gWLDo6U6MjqzbBmE_9A item: cvQ8bvFSudHcWZRNJGRgHQ r_ui = 3.68   est = 1.48   {'actual_k': 6, 'was_impossible': False}\n",
      "user: nl8gWLDo6U6MjqzbBmE_9A item: 9Is06PY5xUoymyJOfzMFbA r_ui = 3.68   est = 3.08   {'actual_k': 7, 'was_impossible': False}\n",
      "user: nl8gWLDo6U6MjqzbBmE_9A item: R-NBoI2X3sSh1CtfoHNaSA r_ui = 3.68   est = 3.59   {'actual_k': 4, 'was_impossible': False}\n",
      "user: nl8gWLDo6U6MjqzbBmE_9A item: wvICsbjeH9_39pvt1etsRg r_ui = 3.68   est = 3.00   {'actual_k': 12, 'was_impossible': False}\n",
      "user: nl8gWLDo6U6MjqzbBmE_9A item: aL9pnr-IuQ0xUMnZshoMEw r_ui = 3.68   est = 2.80   {'actual_k': 10, 'was_impossible': False}\n",
      "user: nl8gWLDo6U6MjqzbBmE_9A item: -A94Xamv_GNef0D1u6-FzQ r_ui = 3.68   est = 2.01   {'actual_k': 7, 'was_impossible': False}\n",
      "user: nl8gWLDo6U6MjqzbBmE_9A item: 6EwA03Jcw5VaPc8BNiwrpw r_ui = 3.68   est = 2.24   {'actual_k': 9, 'was_impossible': False}\n",
      "user: nl8gWLDo6U6MjqzbBmE_9A item: 4A-7VxQwAGvKyQGmdRW2MA r_ui = 3.68   est = 2.33   {'actual_k': 8, 'was_impossible': False}\n",
      "user: nl8gWLDo6U6MjqzbBmE_9A item: _afy08ZXtTEgMYxRhWIczQ r_ui = 3.68   est = 3.70   {'actual_k': 9, 'was_impossible': False}\n"
     ]
    }
   ],
   "source": [
    "pred_list = list()\n",
    "for business_id in filter_business:\n",
    "    if (df_new_user['business_id'] == business_id).any():\n",
    "        r_ui = df_new_user.loc[df_new_user['business_id'] == business_id, 'rating'].iloc[0]\n",
    "        pred = algo.predict(user_id, business_id, r_ui = r_ui, verbose=True)\n",
    "    else:\n",
    "        pred = algo.predict(user_id, business_id, r_ui = 3.6767821919497012, verbose=True)\n",
    "    pred_list.append(pred)\n",
    "#pred = algo.predict(user_id, business_id,verbose=True)"
   ]
  },
  {
   "cell_type": "code",
   "execution_count": 21,
   "metadata": {},
   "outputs": [
    {
     "output_type": "stream",
     "name": "stdout",
     "text": [
      "business_id: aQO6UmyhoQEY79iXikiZnQ\nname: Imperial Jade Gardens\naddress: 39 Tuttle St\ncity: Wakefield\nstate: MA\npostal_code: 01880\nlatitude: 42.502514\nlongitude: -71.0761907\nstars: 3.0\nreview_count: 17\nis_open: 0\nattributes: {'RestaurantsAttire': \"u'casual'\", 'BYOBCorkage': \"'yes_free'\", 'OutdoorSeating': 'False', 'RestaurantsPriceRange2': '1', 'RestaurantsGoodForGroups': 'False', 'Corkage': 'False', 'Alcohol': \"u'none'\", 'BusinessAcceptsCreditCards': 'True', 'RestaurantsReservations': 'False', 'Caters': 'False', 'HasTV': 'False', 'RestaurantsDelivery': 'True', 'RestaurantsTakeOut': 'True', 'BusinessParking': \"{'garage': False, 'street': True, 'validated': False, 'lot': False, 'valet': False}\", 'WiFi': \"u'no'\", 'GoodForKids': 'False', 'Ambience': \"{'romantic': False, 'intimate': False, 'classy': False, 'hipster': False, 'divey': False, 'touristy': False, 'trendy': False, 'upscale': False, 'casual': False}\", 'BikeParking': 'True', 'NoiseLevel': \"u'very_loud'\"}\ncategories: Seafood, Restaurants, Soup, Chinese\nhours: {'Monday': '11:0-22:0', 'Tuesday': '11:0-22:0', 'Wednesday': '11:0-22:0', 'Thursday': '11:0-22:0', 'Friday': '11:0-22:0', 'Saturday': '11:0-22:0', 'Sunday': '11:0-22:0'}\n"
     ]
    }
   ],
   "source": [
    "print_business_info('aQO6UmyhoQEY79iXikiZnQ')"
   ]
  },
  {
   "cell_type": "code",
   "execution_count": 17,
   "metadata": {},
   "outputs": [],
   "source": [
    "user_id = 'nl8gWLDo6U6MjqzbBmE_9A' # sample user\n",
    "\n",
    "def find_topn(predictions, n, user_id):\n",
    "    topn = defaultdict(list)\n",
    "    for uid, bid, _, est, _ in predictions:\n",
    "        topn[uid].append((bid, est))\n",
    "\n",
    "    for uid, est in topn.items():\n",
    "        est.sort(key=lambda x: x[1], reverse=True)\n",
    "        topn[uid] = est[:n]\n",
    "\n",
    "    user_results = pd.DataFrame.from_dict(topn).transpose().loc[user_id]\n",
    "    \n",
    "    print('Top {0} recommendations for user {1}:'.format(n, get_user_attr(user_id, 'name')))\n",
    "    for i in range(n):\n",
    "        print('  {0}. {1},\\t{2}'.format(i+1, get_business_attr(user_results.loc[i][0], 'name'), user_results.loc[i][1]))\n",
    "        \n",
    "    return user_results"
   ]
  },
  {
   "cell_type": "code",
   "execution_count": 18,
   "metadata": {},
   "outputs": [
    {
     "name": "stdout",
     "output_type": "stream",
     "text": [
      "Top 5 recommendations for user Vivian:\n",
      "  1. Java's Brewin',\t4.6229184743988245\n",
      "  2. Firenze Trattoria,\t4.576606210260593\n",
      "  3. Volo Craft Pizza,\t4.537806489374372\n",
      "  4. Cambridge Center Roof Garden,\t4.528964445045564\n",
      "  5. Polcari's Coffee,\t4.4933242484679035\n"
     ]
    }
   ],
   "source": [
    "user_topn = find_topn(predictions, 5, user_id)"
   ]
  },
  {
   "cell_type": "markdown",
   "metadata": {},
   "source": [
    "## Algorithm and Parameter Tuning"
   ]
  },
  {
   "cell_type": "markdown",
   "metadata": {},
   "source": [
    "### Validation methods\n",
    "Parameter grid search given the below error measurements:\n",
    "#### Root Mean Square Error (RMSE)\n",
    "* Measures standard deviation of errors in set of predictions\n",
    "* Goal: minimize RMSE\n",
    "\n",
    "#### Mean Absolute Error (MAE)\n",
    "* Measures average magnitude of errors in set of predictions\n",
    "* Goal: minimize MAE"
   ]
  },
  {
   "cell_type": "code",
   "execution_count": 19,
   "metadata": {},
   "outputs": [],
   "source": [
    "import random\n",
    "from surprise.model_selection import GridSearchCV\n",
    "from surprise import accuracy\n"
   ]
  },
  {
   "cell_type": "markdown",
   "metadata": {},
   "source": [
    "Load the full dataset"
   ]
  },
  {
   "cell_type": "code",
   "execution_count": 20,
   "metadata": {},
   "outputs": [],
   "source": [
    "df = pd.DataFrame(rating_dict)\n",
    "reader = Reader(rating_scale=(1, 5))\n",
    "data = Dataset.load_from_df(df[['user_id', 'business_id', 'rating']], reader)"
   ]
  },
  {
   "cell_type": "markdown",
   "metadata": {},
   "source": [
    "Get and shuffle ratings"
   ]
  },
  {
   "cell_type": "code",
   "execution_count": 21,
   "metadata": {},
   "outputs": [],
   "source": [
    "raw_ratings= data.raw_ratings\n",
    "random.shuffle(raw_ratings)"
   ]
  },
  {
   "cell_type": "markdown",
   "metadata": {},
   "source": [
    "Split Data (Train 80%-Test 20%)"
   ]
  },
  {
   "cell_type": "code",
   "execution_count": 22,
   "metadata": {},
   "outputs": [],
   "source": [
    "split_boundary = int(.8 * len(raw_ratings))\n",
    "trainset_ratings = raw_ratings[:split_boundary]\n",
    "testset_ratings = raw_ratings[split_boundary:]\n",
    "\n",
    "#set data to training_set\n",
    "data.raw_ratings = trainset_ratings"
   ]
  },
  {
   "cell_type": "markdown",
   "metadata": {},
   "source": [
    "Select best params/algo with Grid search"
   ]
  },
  {
   "cell_type": "code",
   "execution_count": 23,
   "metadata": {},
   "outputs": [],
   "source": [
    "sim_options = {\n",
    "    \"name\": [\"msd\", \"cosine\"],\n",
    "    \"min_support\": [3, 4, 5],\n",
    "    \"user_based\": [False]\n",
    "}\n",
    "param_grid = {\"sim_options\": sim_options}"
   ]
  },
  {
   "cell_type": "code",
   "execution_count": 24,
   "metadata": {},
   "outputs": [
    {
     "name": "stdout",
     "output_type": "stream",
     "text": [
      "Computing the msd similarity matrix...\n",
      "Done computing similarity matrix.\n",
      "Computing the msd similarity matrix...\n",
      "Done computing similarity matrix.\n",
      "Computing the msd similarity matrix...\n",
      "Done computing similarity matrix.\n",
      "Computing the msd similarity matrix...\n",
      "Done computing similarity matrix.\n",
      "Computing the msd similarity matrix...\n",
      "Done computing similarity matrix.\n",
      "Computing the msd similarity matrix...\n",
      "Done computing similarity matrix.\n",
      "Computing the msd similarity matrix...\n",
      "Done computing similarity matrix.\n",
      "Computing the msd similarity matrix...\n",
      "Done computing similarity matrix.\n",
      "Computing the msd similarity matrix...\n",
      "Done computing similarity matrix.\n",
      "Computing the cosine similarity matrix...\n",
      "Done computing similarity matrix.\n",
      "Computing the cosine similarity matrix...\n",
      "Done computing similarity matrix.\n",
      "Computing the cosine similarity matrix...\n",
      "Done computing similarity matrix.\n",
      "Computing the cosine similarity matrix...\n",
      "Done computing similarity matrix.\n",
      "Computing the cosine similarity matrix...\n",
      "Done computing similarity matrix.\n",
      "Computing the cosine similarity matrix...\n",
      "Done computing similarity matrix.\n",
      "Computing the cosine similarity matrix...\n",
      "Done computing similarity matrix.\n",
      "Computing the cosine similarity matrix...\n",
      "Done computing similarity matrix.\n",
      "Computing the cosine similarity matrix...\n",
      "Done computing similarity matrix.\n"
     ]
    }
   ],
   "source": [
    "trainset = data.build_full_trainset()\n",
    "grid_search = GridSearchCV(KNNBasic, param_grid, measures = [\"rmse\", \"mae\"], cv=3)\n",
    "grid_search.fit(data)"
   ]
  },
  {
   "cell_type": "code",
   "execution_count": 25,
   "metadata": {},
   "outputs": [
    {
     "name": "stdout",
     "output_type": "stream",
     "text": [
      "1.285579546674039\n",
      "{'sim_options': {'name': 'msd', 'min_support': 5, 'user_based': False}}\n",
      "1.0030552349283532\n",
      "{'sim_options': {'name': 'msd', 'min_support': 3, 'user_based': False}}\n"
     ]
    }
   ],
   "source": [
    "print(grid_search.best_score[\"rmse\"])\n",
    "print(grid_search.best_params[\"rmse\"])\n",
    "\n",
    "print(grid_search.best_score[\"mae\"])\n",
    "print(grid_search.best_params[\"mae\"])"
   ]
  },
  {
   "cell_type": "code",
   "execution_count": 26,
   "metadata": {},
   "outputs": [],
   "source": [
    "algo = grid_search.best_estimator['rmse']"
   ]
  },
  {
   "cell_type": "code",
   "execution_count": 27,
   "metadata": {},
   "outputs": [
    {
     "name": "stdout",
     "output_type": "stream",
     "text": [
      "Computing the msd similarity matrix...\n",
      "Done computing similarity matrix.\n"
     ]
    },
    {
     "data": {
      "text/plain": [
       "<surprise.prediction_algorithms.knns.KNNBasic at 0x19a8c47de80>"
      ]
     },
     "execution_count": 27,
     "metadata": {},
     "output_type": "execute_result"
    }
   ],
   "source": [
    "#retrain on the whole training set\n",
    "trainset = data.build_full_trainset()\n",
    "algo.fit(trainset)"
   ]
  },
  {
   "cell_type": "markdown",
   "metadata": {},
   "source": [
    "Compute biased accuracy of training set"
   ]
  },
  {
   "cell_type": "code",
   "execution_count": 28,
   "metadata": {},
   "outputs": [
    {
     "name": "stdout",
     "output_type": "stream",
     "text": [
      "Biased accuracy on training set: \n",
      "RMSE: 0.6130\n"
     ]
    },
    {
     "data": {
      "text/plain": [
       "0.6130029633682623"
      ]
     },
     "execution_count": 28,
     "metadata": {},
     "output_type": "execute_result"
    }
   ],
   "source": [
    "predictions = algo.test(trainset.build_testset())\n",
    "print(\"Biased accuracy on training set: \")\n",
    "accuracy.rmse(predictions)"
   ]
  },
  {
   "cell_type": "markdown",
   "metadata": {},
   "source": [
    "Compute unbiased accuracy of the test set:"
   ]
  },
  {
   "cell_type": "code",
   "execution_count": 29,
   "metadata": {},
   "outputs": [
    {
     "name": "stdout",
     "output_type": "stream",
     "text": [
      "Unbiased accuracy on training set: \n",
      "RMSE: 1.2722\n"
     ]
    },
    {
     "data": {
      "text/plain": [
       "1.2721647096829234"
      ]
     },
     "execution_count": 29,
     "metadata": {},
     "output_type": "execute_result"
    }
   ],
   "source": [
    "testset = data.construct_testset(testset_ratings)\n",
    "predictions = algo.test(testset)\n",
    "print(\"Unbiased accuracy on training set: \")\n",
    "accuracy.rmse(predictions)"
   ]
  },
  {
   "cell_type": "markdown",
   "metadata": {},
   "source": [
    "### Repeat process with KNNWithMeans Algorithm"
   ]
  },
  {
   "cell_type": "code",
   "execution_count": 30,
   "metadata": {},
   "outputs": [],
   "source": [
    "df = pd.DataFrame(rating_dict)\n",
    "reader = Reader(rating_scale=(1, 5))\n",
    "data = Dataset.load_from_df(df[['user_id', 'business_id', 'rating']], reader)\n",
    "\n",
    "# set data to training set\n",
    "data.raw_ratings = trainset_ratings"
   ]
  },
  {
   "cell_type": "code",
   "execution_count": 31,
   "metadata": {},
   "outputs": [
    {
     "name": "stdout",
     "output_type": "stream",
     "text": [
      "Computing the msd similarity matrix...\n",
      "Done computing similarity matrix.\n",
      "Computing the msd similarity matrix...\n",
      "Done computing similarity matrix.\n",
      "Computing the msd similarity matrix...\n",
      "Done computing similarity matrix.\n",
      "Computing the msd similarity matrix...\n",
      "Done computing similarity matrix.\n",
      "Computing the msd similarity matrix...\n",
      "Done computing similarity matrix.\n",
      "Computing the msd similarity matrix...\n",
      "Done computing similarity matrix.\n",
      "Computing the msd similarity matrix...\n",
      "Done computing similarity matrix.\n",
      "Computing the msd similarity matrix...\n",
      "Done computing similarity matrix.\n",
      "Computing the msd similarity matrix...\n",
      "Done computing similarity matrix.\n",
      "Computing the cosine similarity matrix...\n",
      "Done computing similarity matrix.\n",
      "Computing the cosine similarity matrix...\n",
      "Done computing similarity matrix.\n",
      "Computing the cosine similarity matrix...\n",
      "Done computing similarity matrix.\n",
      "Computing the cosine similarity matrix...\n",
      "Done computing similarity matrix.\n",
      "Computing the cosine similarity matrix...\n",
      "Done computing similarity matrix.\n",
      "Computing the cosine similarity matrix...\n",
      "Done computing similarity matrix.\n",
      "Computing the cosine similarity matrix...\n",
      "Done computing similarity matrix.\n",
      "Computing the cosine similarity matrix...\n",
      "Done computing similarity matrix.\n",
      "Computing the cosine similarity matrix...\n",
      "Done computing similarity matrix.\n"
     ]
    }
   ],
   "source": [
    "from surprise import KNNWithMeans\n",
    "\n",
    "grid_search = GridSearchCV(KNNWithMeans, param_grid, measures = [\"rmse\", \"mae\"], cv=3)\n",
    "grid_search.fit(data)"
   ]
  },
  {
   "cell_type": "code",
   "execution_count": 32,
   "metadata": {},
   "outputs": [
    {
     "name": "stdout",
     "output_type": "stream",
     "text": [
      "1.2118925323685261\n",
      "{'sim_options': {'name': 'cosine', 'min_support': 5, 'user_based': False}}\n",
      "0.9433466597626805\n",
      "{'sim_options': {'name': 'cosine', 'min_support': 3, 'user_based': False}}\n"
     ]
    }
   ],
   "source": [
    "print(grid_search.best_score[\"rmse\"])\n",
    "print(grid_search.best_params[\"rmse\"])\n",
    "\n",
    "print(grid_search.best_score[\"mae\"])\n",
    "print(grid_search.best_params[\"mae\"])"
   ]
  },
  {
   "cell_type": "code",
   "execution_count": 33,
   "metadata": {},
   "outputs": [],
   "source": [
    "algo = grid_search.best_estimator['rmse']"
   ]
  },
  {
   "cell_type": "code",
   "execution_count": 34,
   "metadata": {},
   "outputs": [
    {
     "name": "stdout",
     "output_type": "stream",
     "text": [
      "Computing the cosine similarity matrix...\n",
      "Done computing similarity matrix.\n"
     ]
    },
    {
     "data": {
      "text/plain": [
       "<surprise.prediction_algorithms.knns.KNNWithMeans at 0x19a29d29190>"
      ]
     },
     "execution_count": 34,
     "metadata": {},
     "output_type": "execute_result"
    }
   ],
   "source": [
    "# retrain on the whole training set\n",
    "trainset = data.build_full_trainset()\n",
    "algo.fit(trainset)"
   ]
  },
  {
   "cell_type": "markdown",
   "metadata": {},
   "source": [
    "Compute biased accuracy of training set"
   ]
  },
  {
   "cell_type": "code",
   "execution_count": null,
   "metadata": {},
   "outputs": [],
   "source": [
    "predictions = algo.test(trainset.build_testset())\n",
    "print(\"Biased accuracy on training set: \")\n",
    "accuracy.rmse(predictions)"
   ]
  },
  {
   "cell_type": "markdown",
   "metadata": {},
   "source": [
    "Compute unbiased accuracy of test set"
   ]
  },
  {
   "cell_type": "code",
   "execution_count": null,
   "metadata": {},
   "outputs": [],
   "source": [
    "testset = data.construct_testset(testset_ratings)\n",
    "predictions = algo.test(testset)\n",
    "print(\"Unbiased accuracy on training set: \")\n",
    "accuracy.rmse(predictions)"
   ]
  },
  {
   "cell_type": "markdown",
   "metadata": {},
   "source": [
    "### Parameter and Algorithm Tuning Results"
   ]
  },
  {
   "cell_type": "markdown",
   "metadata": {},
   "source": [
    "Best (smallest) MAE and RMSE score for collaborative filtering on the yelp dataset use the following params:\n",
    "\n",
    "* KNNWithMeans\n",
    "* cosine similarity\n",
    "* minimum support of 5? \n",
    "* not user_based\n",
    "\n",
    "(Note to team members -I notice someone was able to run the true, if so perhaps we should integrate into the grid search above and tell me if its more efficient than false? the only thing is I wont be able to run it, so if false has a better score than perhaps we should hold off but definitely use it in our final implementation)"
   ]
  },
  {
   "cell_type": "code",
   "execution_count": null,
   "metadata": {},
   "outputs": [],
   "source": [
    "sim_options = {\n",
    "    \"name\": [\"msd\", \"cosine\"],\n",
    "    \"min_support\": [3, 4, 5],\n",
    "    \"user_based\": [True]\n",
    "}\n",
    "param_grid = {\"sim_options\": sim_options}\n",
    "\n",
    "grid_search = GridSearchCV(KNNBasic, param_grid, measures = [\"rmse\", \"mae\"], cv=3)\n",
    "grid_search.fit(data)"
   ]
  },
  {
   "cell_type": "markdown",
   "metadata": {},
   "source": []
  },
  {
   "cell_type": "code",
   "execution_count": 43,
   "metadata": {},
   "outputs": [
    {
     "output_type": "stream",
     "name": "stdout",
     "text": [
      "5.0    293776\n4.0    300725\n3.0    157589\n2.0     93047\n1.0     69573\nName: rating, dtype: int64\n"
     ]
    },
    {
     "output_type": "display_data",
     "data": {
      "text/plain": "<Figure size 432x288 with 1 Axes>",
      "image/svg+xml": "<?xml version=\"1.0\" encoding=\"utf-8\" standalone=\"no\"?>\r\n<!DOCTYPE svg PUBLIC \"-//W3C//DTD SVG 1.1//EN\"\r\n  \"http://www.w3.org/Graphics/SVG/1.1/DTD/svg11.dtd\">\r\n<!-- Created with matplotlib (https://matplotlib.org/) -->\r\n<svg height=\"283.539375pt\" version=\"1.1\" viewBox=\"0 0 408.053125 283.539375\" width=\"408.053125pt\" xmlns=\"http://www.w3.org/2000/svg\" xmlns:xlink=\"http://www.w3.org/1999/xlink\">\r\n <metadata>\r\n  <rdf:RDF xmlns:cc=\"http://creativecommons.org/ns#\" xmlns:dc=\"http://purl.org/dc/elements/1.1/\" xmlns:rdf=\"http://www.w3.org/1999/02/22-rdf-syntax-ns#\">\r\n   <cc:Work>\r\n    <dc:type rdf:resource=\"http://purl.org/dc/dcmitype/StillImage\"/>\r\n    <dc:date>2021-05-29T09:19:47.018327</dc:date>\r\n    <dc:format>image/svg+xml</dc:format>\r\n    <dc:creator>\r\n     <cc:Agent>\r\n      <dc:title>Matplotlib v3.3.3, https://matplotlib.org/</dc:title>\r\n     </cc:Agent>\r\n    </dc:creator>\r\n   </cc:Work>\r\n  </rdf:RDF>\r\n </metadata>\r\n <defs>\r\n  <style type=\"text/css\">*{stroke-linecap:butt;stroke-linejoin:round;}</style>\r\n </defs>\r\n <g id=\"figure_1\">\r\n  <g id=\"patch_1\">\r\n   <path d=\"M 0 283.539375 \r\nL 408.053125 283.539375 \r\nL 408.053125 0 \r\nL 0 0 \r\nz\r\n\" style=\"fill:none;\"/>\r\n  </g>\r\n  <g id=\"axes_1\">\r\n   <g id=\"patch_2\">\r\n    <path d=\"M 66.053125 239.758125 \r\nL 400.853125 239.758125 \r\nL 400.853125 22.318125 \r\nL 66.053125 22.318125 \r\nz\r\n\" style=\"fill:#ffffff;\"/>\r\n   </g>\r\n   <g id=\"patch_3\">\r\n    <path clip-path=\"url(#p25d580a680)\" d=\"M 82.793125 239.758125 \r\nL 116.273125 239.758125 \r\nL 116.273125 37.457642 \r\nL 82.793125 37.457642 \r\nz\r\n\" style=\"fill:#1f77b4;\"/>\r\n   </g>\r\n   <g id=\"patch_4\">\r\n    <path clip-path=\"url(#p25d580a680)\" d=\"M 149.753125 239.758125 \r\nL 183.233125 239.758125 \r\nL 183.233125 32.672411 \r\nL 149.753125 32.672411 \r\nz\r\n\" style=\"fill:#1f77b4;\"/>\r\n   </g>\r\n   <g id=\"patch_5\">\r\n    <path clip-path=\"url(#p25d580a680)\" d=\"M 216.713125 239.758125 \r\nL 250.193125 239.758125 \r\nL 250.193125 131.238944 \r\nL 216.713125 131.238944 \r\nz\r\n\" style=\"fill:#1f77b4;\"/>\r\n   </g>\r\n   <g id=\"patch_6\">\r\n    <path clip-path=\"url(#p25d580a680)\" d=\"M 283.673125 239.758125 \r\nL 317.153125 239.758125 \r\nL 317.153125 175.683956 \r\nL 283.673125 175.683956 \r\nz\r\n\" style=\"fill:#1f77b4;\"/>\r\n   </g>\r\n   <g id=\"patch_7\">\r\n    <path clip-path=\"url(#p25d580a680)\" d=\"M 350.633125 239.758125 \r\nL 384.113125 239.758125 \r\nL 384.113125 191.848658 \r\nL 350.633125 191.848658 \r\nz\r\n\" style=\"fill:#1f77b4;\"/>\r\n   </g>\r\n   <g id=\"matplotlib.axis_1\">\r\n    <g id=\"xtick_1\">\r\n     <g id=\"line2d_1\">\r\n      <defs>\r\n       <path d=\"M 0 0 \r\nL 0 3.5 \r\n\" id=\"meb49ef8c12\" style=\"stroke:#000000;stroke-width:0.8;\"/>\r\n      </defs>\r\n      <g>\r\n       <use style=\"stroke:#000000;stroke-width:0.8;\" x=\"99.533125\" xlink:href=\"#meb49ef8c12\" y=\"239.758125\"/>\r\n      </g>\r\n     </g>\r\n     <g id=\"text_1\">\r\n      <!-- 5.0 -->\r\n      <g transform=\"translate(102.2925 262.66125)rotate(-90)scale(0.1 -0.1)\">\r\n       <defs>\r\n        <path d=\"M 10.796875 72.90625 \r\nL 49.515625 72.90625 \r\nL 49.515625 64.59375 \r\nL 19.828125 64.59375 \r\nL 19.828125 46.734375 \r\nQ 21.96875 47.46875 24.109375 47.828125 \r\nQ 26.265625 48.1875 28.421875 48.1875 \r\nQ 40.625 48.1875 47.75 41.5 \r\nQ 54.890625 34.8125 54.890625 23.390625 \r\nQ 54.890625 11.625 47.5625 5.09375 \r\nQ 40.234375 -1.421875 26.90625 -1.421875 \r\nQ 22.3125 -1.421875 17.546875 -0.640625 \r\nQ 12.796875 0.140625 7.71875 1.703125 \r\nL 7.71875 11.625 \r\nQ 12.109375 9.234375 16.796875 8.0625 \r\nQ 21.484375 6.890625 26.703125 6.890625 \r\nQ 35.15625 6.890625 40.078125 11.328125 \r\nQ 45.015625 15.765625 45.015625 23.390625 \r\nQ 45.015625 31 40.078125 35.4375 \r\nQ 35.15625 39.890625 26.703125 39.890625 \r\nQ 22.75 39.890625 18.8125 39.015625 \r\nQ 14.890625 38.140625 10.796875 36.28125 \r\nz\r\n\" id=\"DejaVuSans-53\"/>\r\n        <path d=\"M 10.6875 12.40625 \r\nL 21 12.40625 \r\nL 21 0 \r\nL 10.6875 0 \r\nz\r\n\" id=\"DejaVuSans-46\"/>\r\n        <path d=\"M 31.78125 66.40625 \r\nQ 24.171875 66.40625 20.328125 58.90625 \r\nQ 16.5 51.421875 16.5 36.375 \r\nQ 16.5 21.390625 20.328125 13.890625 \r\nQ 24.171875 6.390625 31.78125 6.390625 \r\nQ 39.453125 6.390625 43.28125 13.890625 \r\nQ 47.125 21.390625 47.125 36.375 \r\nQ 47.125 51.421875 43.28125 58.90625 \r\nQ 39.453125 66.40625 31.78125 66.40625 \r\nz\r\nM 31.78125 74.21875 \r\nQ 44.046875 74.21875 50.515625 64.515625 \r\nQ 56.984375 54.828125 56.984375 36.375 \r\nQ 56.984375 17.96875 50.515625 8.265625 \r\nQ 44.046875 -1.421875 31.78125 -1.421875 \r\nQ 19.53125 -1.421875 13.0625 8.265625 \r\nQ 6.59375 17.96875 6.59375 36.375 \r\nQ 6.59375 54.828125 13.0625 64.515625 \r\nQ 19.53125 74.21875 31.78125 74.21875 \r\nz\r\n\" id=\"DejaVuSans-48\"/>\r\n       </defs>\r\n       <use xlink:href=\"#DejaVuSans-53\"/>\r\n       <use x=\"63.623047\" xlink:href=\"#DejaVuSans-46\"/>\r\n       <use x=\"95.410156\" xlink:href=\"#DejaVuSans-48\"/>\r\n      </g>\r\n     </g>\r\n    </g>\r\n    <g id=\"xtick_2\">\r\n     <g id=\"line2d_2\">\r\n      <g>\r\n       <use style=\"stroke:#000000;stroke-width:0.8;\" x=\"166.493125\" xlink:href=\"#meb49ef8c12\" y=\"239.758125\"/>\r\n      </g>\r\n     </g>\r\n     <g id=\"text_2\">\r\n      <!-- 4.0 -->\r\n      <g transform=\"translate(169.2525 262.66125)rotate(-90)scale(0.1 -0.1)\">\r\n       <defs>\r\n        <path d=\"M 37.796875 64.3125 \r\nL 12.890625 25.390625 \r\nL 37.796875 25.390625 \r\nz\r\nM 35.203125 72.90625 \r\nL 47.609375 72.90625 \r\nL 47.609375 25.390625 \r\nL 58.015625 25.390625 \r\nL 58.015625 17.1875 \r\nL 47.609375 17.1875 \r\nL 47.609375 0 \r\nL 37.796875 0 \r\nL 37.796875 17.1875 \r\nL 4.890625 17.1875 \r\nL 4.890625 26.703125 \r\nz\r\n\" id=\"DejaVuSans-52\"/>\r\n       </defs>\r\n       <use xlink:href=\"#DejaVuSans-52\"/>\r\n       <use x=\"63.623047\" xlink:href=\"#DejaVuSans-46\"/>\r\n       <use x=\"95.410156\" xlink:href=\"#DejaVuSans-48\"/>\r\n      </g>\r\n     </g>\r\n    </g>\r\n    <g id=\"xtick_3\">\r\n     <g id=\"line2d_3\">\r\n      <g>\r\n       <use style=\"stroke:#000000;stroke-width:0.8;\" x=\"233.453125\" xlink:href=\"#meb49ef8c12\" y=\"239.758125\"/>\r\n      </g>\r\n     </g>\r\n     <g id=\"text_3\">\r\n      <!-- 3.0 -->\r\n      <g transform=\"translate(236.2125 262.66125)rotate(-90)scale(0.1 -0.1)\">\r\n       <defs>\r\n        <path d=\"M 40.578125 39.3125 \r\nQ 47.65625 37.796875 51.625 33 \r\nQ 55.609375 28.21875 55.609375 21.1875 \r\nQ 55.609375 10.40625 48.1875 4.484375 \r\nQ 40.765625 -1.421875 27.09375 -1.421875 \r\nQ 22.515625 -1.421875 17.65625 -0.515625 \r\nQ 12.796875 0.390625 7.625 2.203125 \r\nL 7.625 11.71875 \r\nQ 11.71875 9.328125 16.59375 8.109375 \r\nQ 21.484375 6.890625 26.8125 6.890625 \r\nQ 36.078125 6.890625 40.9375 10.546875 \r\nQ 45.796875 14.203125 45.796875 21.1875 \r\nQ 45.796875 27.640625 41.28125 31.265625 \r\nQ 36.765625 34.90625 28.71875 34.90625 \r\nL 20.21875 34.90625 \r\nL 20.21875 43.015625 \r\nL 29.109375 43.015625 \r\nQ 36.375 43.015625 40.234375 45.921875 \r\nQ 44.09375 48.828125 44.09375 54.296875 \r\nQ 44.09375 59.90625 40.109375 62.90625 \r\nQ 36.140625 65.921875 28.71875 65.921875 \r\nQ 24.65625 65.921875 20.015625 65.03125 \r\nQ 15.375 64.15625 9.8125 62.3125 \r\nL 9.8125 71.09375 \r\nQ 15.4375 72.65625 20.34375 73.4375 \r\nQ 25.25 74.21875 29.59375 74.21875 \r\nQ 40.828125 74.21875 47.359375 69.109375 \r\nQ 53.90625 64.015625 53.90625 55.328125 \r\nQ 53.90625 49.265625 50.4375 45.09375 \r\nQ 46.96875 40.921875 40.578125 39.3125 \r\nz\r\n\" id=\"DejaVuSans-51\"/>\r\n       </defs>\r\n       <use xlink:href=\"#DejaVuSans-51\"/>\r\n       <use x=\"63.623047\" xlink:href=\"#DejaVuSans-46\"/>\r\n       <use x=\"95.410156\" xlink:href=\"#DejaVuSans-48\"/>\r\n      </g>\r\n     </g>\r\n    </g>\r\n    <g id=\"xtick_4\">\r\n     <g id=\"line2d_4\">\r\n      <g>\r\n       <use style=\"stroke:#000000;stroke-width:0.8;\" x=\"300.413125\" xlink:href=\"#meb49ef8c12\" y=\"239.758125\"/>\r\n      </g>\r\n     </g>\r\n     <g id=\"text_4\">\r\n      <!-- 2.0 -->\r\n      <g transform=\"translate(303.1725 262.66125)rotate(-90)scale(0.1 -0.1)\">\r\n       <defs>\r\n        <path d=\"M 19.1875 8.296875 \r\nL 53.609375 8.296875 \r\nL 53.609375 0 \r\nL 7.328125 0 \r\nL 7.328125 8.296875 \r\nQ 12.9375 14.109375 22.625 23.890625 \r\nQ 32.328125 33.6875 34.8125 36.53125 \r\nQ 39.546875 41.84375 41.421875 45.53125 \r\nQ 43.3125 49.21875 43.3125 52.78125 \r\nQ 43.3125 58.59375 39.234375 62.25 \r\nQ 35.15625 65.921875 28.609375 65.921875 \r\nQ 23.96875 65.921875 18.8125 64.3125 \r\nQ 13.671875 62.703125 7.8125 59.421875 \r\nL 7.8125 69.390625 \r\nQ 13.765625 71.78125 18.9375 73 \r\nQ 24.125 74.21875 28.421875 74.21875 \r\nQ 39.75 74.21875 46.484375 68.546875 \r\nQ 53.21875 62.890625 53.21875 53.421875 \r\nQ 53.21875 48.921875 51.53125 44.890625 \r\nQ 49.859375 40.875 45.40625 35.40625 \r\nQ 44.1875 33.984375 37.640625 27.21875 \r\nQ 31.109375 20.453125 19.1875 8.296875 \r\nz\r\n\" id=\"DejaVuSans-50\"/>\r\n       </defs>\r\n       <use xlink:href=\"#DejaVuSans-50\"/>\r\n       <use x=\"63.623047\" xlink:href=\"#DejaVuSans-46\"/>\r\n       <use x=\"95.410156\" xlink:href=\"#DejaVuSans-48\"/>\r\n      </g>\r\n     </g>\r\n    </g>\r\n    <g id=\"xtick_5\">\r\n     <g id=\"line2d_5\">\r\n      <g>\r\n       <use style=\"stroke:#000000;stroke-width:0.8;\" x=\"367.373125\" xlink:href=\"#meb49ef8c12\" y=\"239.758125\"/>\r\n      </g>\r\n     </g>\r\n     <g id=\"text_5\">\r\n      <!-- 1.0 -->\r\n      <g transform=\"translate(370.1325 262.66125)rotate(-90)scale(0.1 -0.1)\">\r\n       <defs>\r\n        <path d=\"M 12.40625 8.296875 \r\nL 28.515625 8.296875 \r\nL 28.515625 63.921875 \r\nL 10.984375 60.40625 \r\nL 10.984375 69.390625 \r\nL 28.421875 72.90625 \r\nL 38.28125 72.90625 \r\nL 38.28125 8.296875 \r\nL 54.390625 8.296875 \r\nL 54.390625 0 \r\nL 12.40625 0 \r\nz\r\n\" id=\"DejaVuSans-49\"/>\r\n       </defs>\r\n       <use xlink:href=\"#DejaVuSans-49\"/>\r\n       <use x=\"63.623047\" xlink:href=\"#DejaVuSans-46\"/>\r\n       <use x=\"95.410156\" xlink:href=\"#DejaVuSans-48\"/>\r\n      </g>\r\n     </g>\r\n    </g>\r\n    <g id=\"text_6\">\r\n     <!-- Star Rating -->\r\n     <g transform=\"translate(205.492188 274.259687)scale(0.1 -0.1)\">\r\n      <defs>\r\n       <path d=\"M 53.515625 70.515625 \r\nL 53.515625 60.890625 \r\nQ 47.90625 63.578125 42.921875 64.890625 \r\nQ 37.9375 66.21875 33.296875 66.21875 \r\nQ 25.25 66.21875 20.875 63.09375 \r\nQ 16.5 59.96875 16.5 54.203125 \r\nQ 16.5 49.359375 19.40625 46.890625 \r\nQ 22.3125 44.4375 30.421875 42.921875 \r\nL 36.375 41.703125 \r\nQ 47.40625 39.59375 52.65625 34.296875 \r\nQ 57.90625 29 57.90625 20.125 \r\nQ 57.90625 9.515625 50.796875 4.046875 \r\nQ 43.703125 -1.421875 29.984375 -1.421875 \r\nQ 24.8125 -1.421875 18.96875 -0.25 \r\nQ 13.140625 0.921875 6.890625 3.21875 \r\nL 6.890625 13.375 \r\nQ 12.890625 10.015625 18.65625 8.296875 \r\nQ 24.421875 6.59375 29.984375 6.59375 \r\nQ 38.421875 6.59375 43.015625 9.90625 \r\nQ 47.609375 13.234375 47.609375 19.390625 \r\nQ 47.609375 24.75 44.3125 27.78125 \r\nQ 41.015625 30.8125 33.5 32.328125 \r\nL 27.484375 33.5 \r\nQ 16.453125 35.6875 11.515625 40.375 \r\nQ 6.59375 45.0625 6.59375 53.421875 \r\nQ 6.59375 63.09375 13.40625 68.65625 \r\nQ 20.21875 74.21875 32.171875 74.21875 \r\nQ 37.3125 74.21875 42.625 73.28125 \r\nQ 47.953125 72.359375 53.515625 70.515625 \r\nz\r\n\" id=\"DejaVuSans-83\"/>\r\n       <path d=\"M 18.3125 70.21875 \r\nL 18.3125 54.6875 \r\nL 36.8125 54.6875 \r\nL 36.8125 47.703125 \r\nL 18.3125 47.703125 \r\nL 18.3125 18.015625 \r\nQ 18.3125 11.328125 20.140625 9.421875 \r\nQ 21.96875 7.515625 27.59375 7.515625 \r\nL 36.8125 7.515625 \r\nL 36.8125 0 \r\nL 27.59375 0 \r\nQ 17.1875 0 13.234375 3.875 \r\nQ 9.28125 7.765625 9.28125 18.015625 \r\nL 9.28125 47.703125 \r\nL 2.6875 47.703125 \r\nL 2.6875 54.6875 \r\nL 9.28125 54.6875 \r\nL 9.28125 70.21875 \r\nz\r\n\" id=\"DejaVuSans-116\"/>\r\n       <path d=\"M 34.28125 27.484375 \r\nQ 23.390625 27.484375 19.1875 25 \r\nQ 14.984375 22.515625 14.984375 16.5 \r\nQ 14.984375 11.71875 18.140625 8.90625 \r\nQ 21.296875 6.109375 26.703125 6.109375 \r\nQ 34.1875 6.109375 38.703125 11.40625 \r\nQ 43.21875 16.703125 43.21875 25.484375 \r\nL 43.21875 27.484375 \r\nz\r\nM 52.203125 31.203125 \r\nL 52.203125 0 \r\nL 43.21875 0 \r\nL 43.21875 8.296875 \r\nQ 40.140625 3.328125 35.546875 0.953125 \r\nQ 30.953125 -1.421875 24.3125 -1.421875 \r\nQ 15.921875 -1.421875 10.953125 3.296875 \r\nQ 6 8.015625 6 15.921875 \r\nQ 6 25.140625 12.171875 29.828125 \r\nQ 18.359375 34.515625 30.609375 34.515625 \r\nL 43.21875 34.515625 \r\nL 43.21875 35.40625 \r\nQ 43.21875 41.609375 39.140625 45 \r\nQ 35.0625 48.390625 27.6875 48.390625 \r\nQ 23 48.390625 18.546875 47.265625 \r\nQ 14.109375 46.140625 10.015625 43.890625 \r\nL 10.015625 52.203125 \r\nQ 14.9375 54.109375 19.578125 55.046875 \r\nQ 24.21875 56 28.609375 56 \r\nQ 40.484375 56 46.34375 49.84375 \r\nQ 52.203125 43.703125 52.203125 31.203125 \r\nz\r\n\" id=\"DejaVuSans-97\"/>\r\n       <path d=\"M 41.109375 46.296875 \r\nQ 39.59375 47.171875 37.8125 47.578125 \r\nQ 36.03125 48 33.890625 48 \r\nQ 26.265625 48 22.1875 43.046875 \r\nQ 18.109375 38.09375 18.109375 28.8125 \r\nL 18.109375 0 \r\nL 9.078125 0 \r\nL 9.078125 54.6875 \r\nL 18.109375 54.6875 \r\nL 18.109375 46.1875 \r\nQ 20.953125 51.171875 25.484375 53.578125 \r\nQ 30.03125 56 36.53125 56 \r\nQ 37.453125 56 38.578125 55.875 \r\nQ 39.703125 55.765625 41.0625 55.515625 \r\nz\r\n\" id=\"DejaVuSans-114\"/>\r\n       <path id=\"DejaVuSans-32\"/>\r\n       <path d=\"M 44.390625 34.1875 \r\nQ 47.5625 33.109375 50.5625 29.59375 \r\nQ 53.5625 26.078125 56.59375 19.921875 \r\nL 66.609375 0 \r\nL 56 0 \r\nL 46.6875 18.703125 \r\nQ 43.0625 26.03125 39.671875 28.421875 \r\nQ 36.28125 30.8125 30.421875 30.8125 \r\nL 19.671875 30.8125 \r\nL 19.671875 0 \r\nL 9.8125 0 \r\nL 9.8125 72.90625 \r\nL 32.078125 72.90625 \r\nQ 44.578125 72.90625 50.734375 67.671875 \r\nQ 56.890625 62.453125 56.890625 51.90625 \r\nQ 56.890625 45.015625 53.6875 40.46875 \r\nQ 50.484375 35.9375 44.390625 34.1875 \r\nz\r\nM 19.671875 64.796875 \r\nL 19.671875 38.921875 \r\nL 32.078125 38.921875 \r\nQ 39.203125 38.921875 42.84375 42.21875 \r\nQ 46.484375 45.515625 46.484375 51.90625 \r\nQ 46.484375 58.296875 42.84375 61.546875 \r\nQ 39.203125 64.796875 32.078125 64.796875 \r\nz\r\n\" id=\"DejaVuSans-82\"/>\r\n       <path d=\"M 9.421875 54.6875 \r\nL 18.40625 54.6875 \r\nL 18.40625 0 \r\nL 9.421875 0 \r\nz\r\nM 9.421875 75.984375 \r\nL 18.40625 75.984375 \r\nL 18.40625 64.59375 \r\nL 9.421875 64.59375 \r\nz\r\n\" id=\"DejaVuSans-105\"/>\r\n       <path d=\"M 54.890625 33.015625 \r\nL 54.890625 0 \r\nL 45.90625 0 \r\nL 45.90625 32.71875 \r\nQ 45.90625 40.484375 42.875 44.328125 \r\nQ 39.84375 48.1875 33.796875 48.1875 \r\nQ 26.515625 48.1875 22.3125 43.546875 \r\nQ 18.109375 38.921875 18.109375 30.90625 \r\nL 18.109375 0 \r\nL 9.078125 0 \r\nL 9.078125 54.6875 \r\nL 18.109375 54.6875 \r\nL 18.109375 46.1875 \r\nQ 21.34375 51.125 25.703125 53.5625 \r\nQ 30.078125 56 35.796875 56 \r\nQ 45.21875 56 50.046875 50.171875 \r\nQ 54.890625 44.34375 54.890625 33.015625 \r\nz\r\n\" id=\"DejaVuSans-110\"/>\r\n       <path d=\"M 45.40625 27.984375 \r\nQ 45.40625 37.75 41.375 43.109375 \r\nQ 37.359375 48.484375 30.078125 48.484375 \r\nQ 22.859375 48.484375 18.828125 43.109375 \r\nQ 14.796875 37.75 14.796875 27.984375 \r\nQ 14.796875 18.265625 18.828125 12.890625 \r\nQ 22.859375 7.515625 30.078125 7.515625 \r\nQ 37.359375 7.515625 41.375 12.890625 \r\nQ 45.40625 18.265625 45.40625 27.984375 \r\nz\r\nM 54.390625 6.78125 \r\nQ 54.390625 -7.171875 48.1875 -13.984375 \r\nQ 42 -20.796875 29.203125 -20.796875 \r\nQ 24.46875 -20.796875 20.265625 -20.09375 \r\nQ 16.0625 -19.390625 12.109375 -17.921875 \r\nL 12.109375 -9.1875 \r\nQ 16.0625 -11.328125 19.921875 -12.34375 \r\nQ 23.78125 -13.375 27.78125 -13.375 \r\nQ 36.625 -13.375 41.015625 -8.765625 \r\nQ 45.40625 -4.15625 45.40625 5.171875 \r\nL 45.40625 9.625 \r\nQ 42.625 4.78125 38.28125 2.390625 \r\nQ 33.9375 0 27.875 0 \r\nQ 17.828125 0 11.671875 7.65625 \r\nQ 5.515625 15.328125 5.515625 27.984375 \r\nQ 5.515625 40.671875 11.671875 48.328125 \r\nQ 17.828125 56 27.875 56 \r\nQ 33.9375 56 38.28125 53.609375 \r\nQ 42.625 51.21875 45.40625 46.390625 \r\nL 45.40625 54.6875 \r\nL 54.390625 54.6875 \r\nz\r\n\" id=\"DejaVuSans-103\"/>\r\n      </defs>\r\n      <use xlink:href=\"#DejaVuSans-83\"/>\r\n      <use x=\"63.476562\" xlink:href=\"#DejaVuSans-116\"/>\r\n      <use x=\"102.685547\" xlink:href=\"#DejaVuSans-97\"/>\r\n      <use x=\"163.964844\" xlink:href=\"#DejaVuSans-114\"/>\r\n      <use x=\"205.078125\" xlink:href=\"#DejaVuSans-32\"/>\r\n      <use x=\"236.865234\" xlink:href=\"#DejaVuSans-82\"/>\r\n      <use x=\"304.097656\" xlink:href=\"#DejaVuSans-97\"/>\r\n      <use x=\"365.376953\" xlink:href=\"#DejaVuSans-116\"/>\r\n      <use x=\"404.585938\" xlink:href=\"#DejaVuSans-105\"/>\r\n      <use x=\"432.369141\" xlink:href=\"#DejaVuSans-110\"/>\r\n      <use x=\"495.748047\" xlink:href=\"#DejaVuSans-103\"/>\r\n     </g>\r\n    </g>\r\n   </g>\r\n   <g id=\"matplotlib.axis_2\">\r\n    <g id=\"ytick_1\">\r\n     <g id=\"line2d_6\">\r\n      <defs>\r\n       <path d=\"M 0 0 \r\nL -3.5 0 \r\n\" id=\"m903de25b1e\" style=\"stroke:#000000;stroke-width:0.8;\"/>\r\n      </defs>\r\n      <g>\r\n       <use style=\"stroke:#000000;stroke-width:0.8;\" x=\"66.053125\" xlink:href=\"#m903de25b1e\" y=\"239.758125\"/>\r\n      </g>\r\n     </g>\r\n     <g id=\"text_7\">\r\n      <!-- 0 -->\r\n      <g transform=\"translate(52.690625 243.557344)scale(0.1 -0.1)\">\r\n       <use xlink:href=\"#DejaVuSans-48\"/>\r\n      </g>\r\n     </g>\r\n    </g>\r\n    <g id=\"ytick_2\">\r\n     <g id=\"line2d_7\">\r\n      <g>\r\n       <use style=\"stroke:#000000;stroke-width:0.8;\" x=\"66.053125\" xlink:href=\"#m903de25b1e\" y=\"205.327048\"/>\r\n      </g>\r\n     </g>\r\n     <g id=\"text_8\">\r\n      <!-- 50000 -->\r\n      <g transform=\"translate(27.240625 209.126266)scale(0.1 -0.1)\">\r\n       <use xlink:href=\"#DejaVuSans-53\"/>\r\n       <use x=\"63.623047\" xlink:href=\"#DejaVuSans-48\"/>\r\n       <use x=\"127.246094\" xlink:href=\"#DejaVuSans-48\"/>\r\n       <use x=\"190.869141\" xlink:href=\"#DejaVuSans-48\"/>\r\n       <use x=\"254.492188\" xlink:href=\"#DejaVuSans-48\"/>\r\n      </g>\r\n     </g>\r\n    </g>\r\n    <g id=\"ytick_3\">\r\n     <g id=\"line2d_8\">\r\n      <g>\r\n       <use style=\"stroke:#000000;stroke-width:0.8;\" x=\"66.053125\" xlink:href=\"#m903de25b1e\" y=\"170.89597\"/>\r\n      </g>\r\n     </g>\r\n     <g id=\"text_9\">\r\n      <!-- 100000 -->\r\n      <g transform=\"translate(20.878125 174.695189)scale(0.1 -0.1)\">\r\n       <use xlink:href=\"#DejaVuSans-49\"/>\r\n       <use x=\"63.623047\" xlink:href=\"#DejaVuSans-48\"/>\r\n       <use x=\"127.246094\" xlink:href=\"#DejaVuSans-48\"/>\r\n       <use x=\"190.869141\" xlink:href=\"#DejaVuSans-48\"/>\r\n       <use x=\"254.492188\" xlink:href=\"#DejaVuSans-48\"/>\r\n       <use x=\"318.115234\" xlink:href=\"#DejaVuSans-48\"/>\r\n      </g>\r\n     </g>\r\n    </g>\r\n    <g id=\"ytick_4\">\r\n     <g id=\"line2d_9\">\r\n      <g>\r\n       <use style=\"stroke:#000000;stroke-width:0.8;\" x=\"66.053125\" xlink:href=\"#m903de25b1e\" y=\"136.464893\"/>\r\n      </g>\r\n     </g>\r\n     <g id=\"text_10\">\r\n      <!-- 150000 -->\r\n      <g transform=\"translate(20.878125 140.264112)scale(0.1 -0.1)\">\r\n       <use xlink:href=\"#DejaVuSans-49\"/>\r\n       <use x=\"63.623047\" xlink:href=\"#DejaVuSans-53\"/>\r\n       <use x=\"127.246094\" xlink:href=\"#DejaVuSans-48\"/>\r\n       <use x=\"190.869141\" xlink:href=\"#DejaVuSans-48\"/>\r\n       <use x=\"254.492188\" xlink:href=\"#DejaVuSans-48\"/>\r\n       <use x=\"318.115234\" xlink:href=\"#DejaVuSans-48\"/>\r\n      </g>\r\n     </g>\r\n    </g>\r\n    <g id=\"ytick_5\">\r\n     <g id=\"line2d_10\">\r\n      <g>\r\n       <use style=\"stroke:#000000;stroke-width:0.8;\" x=\"66.053125\" xlink:href=\"#m903de25b1e\" y=\"102.033816\"/>\r\n      </g>\r\n     </g>\r\n     <g id=\"text_11\">\r\n      <!-- 200000 -->\r\n      <g transform=\"translate(20.878125 105.833035)scale(0.1 -0.1)\">\r\n       <use xlink:href=\"#DejaVuSans-50\"/>\r\n       <use x=\"63.623047\" xlink:href=\"#DejaVuSans-48\"/>\r\n       <use x=\"127.246094\" xlink:href=\"#DejaVuSans-48\"/>\r\n       <use x=\"190.869141\" xlink:href=\"#DejaVuSans-48\"/>\r\n       <use x=\"254.492188\" xlink:href=\"#DejaVuSans-48\"/>\r\n       <use x=\"318.115234\" xlink:href=\"#DejaVuSans-48\"/>\r\n      </g>\r\n     </g>\r\n    </g>\r\n    <g id=\"ytick_6\">\r\n     <g id=\"line2d_11\">\r\n      <g>\r\n       <use style=\"stroke:#000000;stroke-width:0.8;\" x=\"66.053125\" xlink:href=\"#m903de25b1e\" y=\"67.602739\"/>\r\n      </g>\r\n     </g>\r\n     <g id=\"text_12\">\r\n      <!-- 250000 -->\r\n      <g transform=\"translate(20.878125 71.401957)scale(0.1 -0.1)\">\r\n       <use xlink:href=\"#DejaVuSans-50\"/>\r\n       <use x=\"63.623047\" xlink:href=\"#DejaVuSans-53\"/>\r\n       <use x=\"127.246094\" xlink:href=\"#DejaVuSans-48\"/>\r\n       <use x=\"190.869141\" xlink:href=\"#DejaVuSans-48\"/>\r\n       <use x=\"254.492188\" xlink:href=\"#DejaVuSans-48\"/>\r\n       <use x=\"318.115234\" xlink:href=\"#DejaVuSans-48\"/>\r\n      </g>\r\n     </g>\r\n    </g>\r\n    <g id=\"ytick_7\">\r\n     <g id=\"line2d_12\">\r\n      <g>\r\n       <use style=\"stroke:#000000;stroke-width:0.8;\" x=\"66.053125\" xlink:href=\"#m903de25b1e\" y=\"33.171661\"/>\r\n      </g>\r\n     </g>\r\n     <g id=\"text_13\">\r\n      <!-- 300000 -->\r\n      <g transform=\"translate(20.878125 36.97088)scale(0.1 -0.1)\">\r\n       <use xlink:href=\"#DejaVuSans-51\"/>\r\n       <use x=\"63.623047\" xlink:href=\"#DejaVuSans-48\"/>\r\n       <use x=\"127.246094\" xlink:href=\"#DejaVuSans-48\"/>\r\n       <use x=\"190.869141\" xlink:href=\"#DejaVuSans-48\"/>\r\n       <use x=\"254.492188\" xlink:href=\"#DejaVuSans-48\"/>\r\n       <use x=\"318.115234\" xlink:href=\"#DejaVuSans-48\"/>\r\n      </g>\r\n     </g>\r\n    </g>\r\n    <g id=\"text_14\">\r\n     <!-- Frequency -->\r\n     <g transform=\"translate(14.798438 156.867813)rotate(-90)scale(0.1 -0.1)\">\r\n      <defs>\r\n       <path d=\"M 9.8125 72.90625 \r\nL 51.703125 72.90625 \r\nL 51.703125 64.59375 \r\nL 19.671875 64.59375 \r\nL 19.671875 43.109375 \r\nL 48.578125 43.109375 \r\nL 48.578125 34.8125 \r\nL 19.671875 34.8125 \r\nL 19.671875 0 \r\nL 9.8125 0 \r\nz\r\n\" id=\"DejaVuSans-70\"/>\r\n       <path d=\"M 56.203125 29.59375 \r\nL 56.203125 25.203125 \r\nL 14.890625 25.203125 \r\nQ 15.484375 15.921875 20.484375 11.0625 \r\nQ 25.484375 6.203125 34.421875 6.203125 \r\nQ 39.59375 6.203125 44.453125 7.46875 \r\nQ 49.3125 8.734375 54.109375 11.28125 \r\nL 54.109375 2.78125 \r\nQ 49.265625 0.734375 44.1875 -0.34375 \r\nQ 39.109375 -1.421875 33.890625 -1.421875 \r\nQ 20.796875 -1.421875 13.15625 6.1875 \r\nQ 5.515625 13.8125 5.515625 26.8125 \r\nQ 5.515625 40.234375 12.765625 48.109375 \r\nQ 20.015625 56 32.328125 56 \r\nQ 43.359375 56 49.78125 48.890625 \r\nQ 56.203125 41.796875 56.203125 29.59375 \r\nz\r\nM 47.21875 32.234375 \r\nQ 47.125 39.59375 43.09375 43.984375 \r\nQ 39.0625 48.390625 32.421875 48.390625 \r\nQ 24.90625 48.390625 20.390625 44.140625 \r\nQ 15.875 39.890625 15.1875 32.171875 \r\nz\r\n\" id=\"DejaVuSans-101\"/>\r\n       <path d=\"M 14.796875 27.296875 \r\nQ 14.796875 17.390625 18.875 11.75 \r\nQ 22.953125 6.109375 30.078125 6.109375 \r\nQ 37.203125 6.109375 41.296875 11.75 \r\nQ 45.40625 17.390625 45.40625 27.296875 \r\nQ 45.40625 37.203125 41.296875 42.84375 \r\nQ 37.203125 48.484375 30.078125 48.484375 \r\nQ 22.953125 48.484375 18.875 42.84375 \r\nQ 14.796875 37.203125 14.796875 27.296875 \r\nz\r\nM 45.40625 8.203125 \r\nQ 42.578125 3.328125 38.25 0.953125 \r\nQ 33.9375 -1.421875 27.875 -1.421875 \r\nQ 17.96875 -1.421875 11.734375 6.484375 \r\nQ 5.515625 14.40625 5.515625 27.296875 \r\nQ 5.515625 40.1875 11.734375 48.09375 \r\nQ 17.96875 56 27.875 56 \r\nQ 33.9375 56 38.25 53.625 \r\nQ 42.578125 51.265625 45.40625 46.390625 \r\nL 45.40625 54.6875 \r\nL 54.390625 54.6875 \r\nL 54.390625 -20.796875 \r\nL 45.40625 -20.796875 \r\nz\r\n\" id=\"DejaVuSans-113\"/>\r\n       <path d=\"M 8.5 21.578125 \r\nL 8.5 54.6875 \r\nL 17.484375 54.6875 \r\nL 17.484375 21.921875 \r\nQ 17.484375 14.15625 20.5 10.265625 \r\nQ 23.53125 6.390625 29.59375 6.390625 \r\nQ 36.859375 6.390625 41.078125 11.03125 \r\nQ 45.3125 15.671875 45.3125 23.6875 \r\nL 45.3125 54.6875 \r\nL 54.296875 54.6875 \r\nL 54.296875 0 \r\nL 45.3125 0 \r\nL 45.3125 8.40625 \r\nQ 42.046875 3.421875 37.71875 1 \r\nQ 33.40625 -1.421875 27.6875 -1.421875 \r\nQ 18.265625 -1.421875 13.375 4.4375 \r\nQ 8.5 10.296875 8.5 21.578125 \r\nz\r\nM 31.109375 56 \r\nz\r\n\" id=\"DejaVuSans-117\"/>\r\n       <path d=\"M 48.78125 52.59375 \r\nL 48.78125 44.1875 \r\nQ 44.96875 46.296875 41.140625 47.34375 \r\nQ 37.3125 48.390625 33.40625 48.390625 \r\nQ 24.65625 48.390625 19.8125 42.84375 \r\nQ 14.984375 37.3125 14.984375 27.296875 \r\nQ 14.984375 17.28125 19.8125 11.734375 \r\nQ 24.65625 6.203125 33.40625 6.203125 \r\nQ 37.3125 6.203125 41.140625 7.25 \r\nQ 44.96875 8.296875 48.78125 10.40625 \r\nL 48.78125 2.09375 \r\nQ 45.015625 0.34375 40.984375 -0.53125 \r\nQ 36.96875 -1.421875 32.421875 -1.421875 \r\nQ 20.0625 -1.421875 12.78125 6.34375 \r\nQ 5.515625 14.109375 5.515625 27.296875 \r\nQ 5.515625 40.671875 12.859375 48.328125 \r\nQ 20.21875 56 33.015625 56 \r\nQ 37.15625 56 41.109375 55.140625 \r\nQ 45.0625 54.296875 48.78125 52.59375 \r\nz\r\n\" id=\"DejaVuSans-99\"/>\r\n       <path d=\"M 32.171875 -5.078125 \r\nQ 28.375 -14.84375 24.75 -17.8125 \r\nQ 21.140625 -20.796875 15.09375 -20.796875 \r\nL 7.90625 -20.796875 \r\nL 7.90625 -13.28125 \r\nL 13.1875 -13.28125 \r\nQ 16.890625 -13.28125 18.9375 -11.515625 \r\nQ 21 -9.765625 23.484375 -3.21875 \r\nL 25.09375 0.875 \r\nL 2.984375 54.6875 \r\nL 12.5 54.6875 \r\nL 29.59375 11.921875 \r\nL 46.6875 54.6875 \r\nL 56.203125 54.6875 \r\nz\r\n\" id=\"DejaVuSans-121\"/>\r\n      </defs>\r\n      <use xlink:href=\"#DejaVuSans-70\"/>\r\n      <use x=\"50.269531\" xlink:href=\"#DejaVuSans-114\"/>\r\n      <use x=\"89.132812\" xlink:href=\"#DejaVuSans-101\"/>\r\n      <use x=\"150.65625\" xlink:href=\"#DejaVuSans-113\"/>\r\n      <use x=\"214.132812\" xlink:href=\"#DejaVuSans-117\"/>\r\n      <use x=\"277.511719\" xlink:href=\"#DejaVuSans-101\"/>\r\n      <use x=\"339.035156\" xlink:href=\"#DejaVuSans-110\"/>\r\n      <use x=\"402.414062\" xlink:href=\"#DejaVuSans-99\"/>\r\n      <use x=\"457.394531\" xlink:href=\"#DejaVuSans-121\"/>\r\n     </g>\r\n    </g>\r\n   </g>\r\n   <g id=\"patch_8\">\r\n    <path d=\"M 66.053125 239.758125 \r\nL 66.053125 22.318125 \r\n\" style=\"fill:none;stroke:#000000;stroke-linecap:square;stroke-linejoin:miter;stroke-width:0.8;\"/>\r\n   </g>\r\n   <g id=\"patch_9\">\r\n    <path d=\"M 400.853125 239.758125 \r\nL 400.853125 22.318125 \r\n\" style=\"fill:none;stroke:#000000;stroke-linecap:square;stroke-linejoin:miter;stroke-width:0.8;\"/>\r\n   </g>\r\n   <g id=\"patch_10\">\r\n    <path d=\"M 66.053125 239.758125 \r\nL 400.853125 239.758125 \r\n\" style=\"fill:none;stroke:#000000;stroke-linecap:square;stroke-linejoin:miter;stroke-width:0.8;\"/>\r\n   </g>\r\n   <g id=\"patch_11\">\r\n    <path d=\"M 66.053125 22.318125 \r\nL 400.853125 22.318125 \r\n\" style=\"fill:none;stroke:#000000;stroke-linecap:square;stroke-linejoin:miter;stroke-width:0.8;\"/>\r\n   </g>\r\n   <g id=\"text_15\">\r\n    <!-- Rating Distribution -->\r\n    <g transform=\"translate(177.202188 16.318125)scale(0.12 -0.12)\">\r\n     <defs>\r\n      <path d=\"M 19.671875 64.796875 \r\nL 19.671875 8.109375 \r\nL 31.59375 8.109375 \r\nQ 46.6875 8.109375 53.6875 14.9375 \r\nQ 60.6875 21.78125 60.6875 36.53125 \r\nQ 60.6875 51.171875 53.6875 57.984375 \r\nQ 46.6875 64.796875 31.59375 64.796875 \r\nz\r\nM 9.8125 72.90625 \r\nL 30.078125 72.90625 \r\nQ 51.265625 72.90625 61.171875 64.09375 \r\nQ 71.09375 55.28125 71.09375 36.53125 \r\nQ 71.09375 17.671875 61.125 8.828125 \r\nQ 51.171875 0 30.078125 0 \r\nL 9.8125 0 \r\nz\r\n\" id=\"DejaVuSans-68\"/>\r\n      <path d=\"M 44.28125 53.078125 \r\nL 44.28125 44.578125 \r\nQ 40.484375 46.53125 36.375 47.5 \r\nQ 32.28125 48.484375 27.875 48.484375 \r\nQ 21.1875 48.484375 17.84375 46.4375 \r\nQ 14.5 44.390625 14.5 40.28125 \r\nQ 14.5 37.15625 16.890625 35.375 \r\nQ 19.28125 33.59375 26.515625 31.984375 \r\nL 29.59375 31.296875 \r\nQ 39.15625 29.25 43.1875 25.515625 \r\nQ 47.21875 21.78125 47.21875 15.09375 \r\nQ 47.21875 7.46875 41.1875 3.015625 \r\nQ 35.15625 -1.421875 24.609375 -1.421875 \r\nQ 20.21875 -1.421875 15.453125 -0.5625 \r\nQ 10.6875 0.296875 5.421875 2 \r\nL 5.421875 11.28125 \r\nQ 10.40625 8.6875 15.234375 7.390625 \r\nQ 20.0625 6.109375 24.8125 6.109375 \r\nQ 31.15625 6.109375 34.5625 8.28125 \r\nQ 37.984375 10.453125 37.984375 14.40625 \r\nQ 37.984375 18.0625 35.515625 20.015625 \r\nQ 33.0625 21.96875 24.703125 23.78125 \r\nL 21.578125 24.515625 \r\nQ 13.234375 26.265625 9.515625 29.90625 \r\nQ 5.8125 33.546875 5.8125 39.890625 \r\nQ 5.8125 47.609375 11.28125 51.796875 \r\nQ 16.75 56 26.8125 56 \r\nQ 31.78125 56 36.171875 55.265625 \r\nQ 40.578125 54.546875 44.28125 53.078125 \r\nz\r\n\" id=\"DejaVuSans-115\"/>\r\n      <path d=\"M 48.6875 27.296875 \r\nQ 48.6875 37.203125 44.609375 42.84375 \r\nQ 40.53125 48.484375 33.40625 48.484375 \r\nQ 26.265625 48.484375 22.1875 42.84375 \r\nQ 18.109375 37.203125 18.109375 27.296875 \r\nQ 18.109375 17.390625 22.1875 11.75 \r\nQ 26.265625 6.109375 33.40625 6.109375 \r\nQ 40.53125 6.109375 44.609375 11.75 \r\nQ 48.6875 17.390625 48.6875 27.296875 \r\nz\r\nM 18.109375 46.390625 \r\nQ 20.953125 51.265625 25.265625 53.625 \r\nQ 29.59375 56 35.59375 56 \r\nQ 45.5625 56 51.78125 48.09375 \r\nQ 58.015625 40.1875 58.015625 27.296875 \r\nQ 58.015625 14.40625 51.78125 6.484375 \r\nQ 45.5625 -1.421875 35.59375 -1.421875 \r\nQ 29.59375 -1.421875 25.265625 0.953125 \r\nQ 20.953125 3.328125 18.109375 8.203125 \r\nL 18.109375 0 \r\nL 9.078125 0 \r\nL 9.078125 75.984375 \r\nL 18.109375 75.984375 \r\nz\r\n\" id=\"DejaVuSans-98\"/>\r\n      <path d=\"M 30.609375 48.390625 \r\nQ 23.390625 48.390625 19.1875 42.75 \r\nQ 14.984375 37.109375 14.984375 27.296875 \r\nQ 14.984375 17.484375 19.15625 11.84375 \r\nQ 23.34375 6.203125 30.609375 6.203125 \r\nQ 37.796875 6.203125 41.984375 11.859375 \r\nQ 46.1875 17.53125 46.1875 27.296875 \r\nQ 46.1875 37.015625 41.984375 42.703125 \r\nQ 37.796875 48.390625 30.609375 48.390625 \r\nz\r\nM 30.609375 56 \r\nQ 42.328125 56 49.015625 48.375 \r\nQ 55.71875 40.765625 55.71875 27.296875 \r\nQ 55.71875 13.875 49.015625 6.21875 \r\nQ 42.328125 -1.421875 30.609375 -1.421875 \r\nQ 18.84375 -1.421875 12.171875 6.21875 \r\nQ 5.515625 13.875 5.515625 27.296875 \r\nQ 5.515625 40.765625 12.171875 48.375 \r\nQ 18.84375 56 30.609375 56 \r\nz\r\n\" id=\"DejaVuSans-111\"/>\r\n     </defs>\r\n     <use xlink:href=\"#DejaVuSans-82\"/>\r\n     <use x=\"67.232422\" xlink:href=\"#DejaVuSans-97\"/>\r\n     <use x=\"128.511719\" xlink:href=\"#DejaVuSans-116\"/>\r\n     <use x=\"167.720703\" xlink:href=\"#DejaVuSans-105\"/>\r\n     <use x=\"195.503906\" xlink:href=\"#DejaVuSans-110\"/>\r\n     <use x=\"258.882812\" xlink:href=\"#DejaVuSans-103\"/>\r\n     <use x=\"322.359375\" xlink:href=\"#DejaVuSans-32\"/>\r\n     <use x=\"354.146484\" xlink:href=\"#DejaVuSans-68\"/>\r\n     <use x=\"431.148438\" xlink:href=\"#DejaVuSans-105\"/>\r\n     <use x=\"458.931641\" xlink:href=\"#DejaVuSans-115\"/>\r\n     <use x=\"511.03125\" xlink:href=\"#DejaVuSans-116\"/>\r\n     <use x=\"550.240234\" xlink:href=\"#DejaVuSans-114\"/>\r\n     <use x=\"591.353516\" xlink:href=\"#DejaVuSans-105\"/>\r\n     <use x=\"619.136719\" xlink:href=\"#DejaVuSans-98\"/>\r\n     <use x=\"682.613281\" xlink:href=\"#DejaVuSans-117\"/>\r\n     <use x=\"745.992188\" xlink:href=\"#DejaVuSans-116\"/>\r\n     <use x=\"785.201172\" xlink:href=\"#DejaVuSans-105\"/>\r\n     <use x=\"812.984375\" xlink:href=\"#DejaVuSans-111\"/>\r\n     <use x=\"874.166016\" xlink:href=\"#DejaVuSans-110\"/>\r\n    </g>\r\n   </g>\r\n  </g>\r\n </g>\r\n <defs>\r\n  <clipPath id=\"p25d580a680\">\r\n   <rect height=\"217.44\" width=\"334.8\" x=\"66.053125\" y=\"22.318125\"/>\r\n  </clipPath>\r\n </defs>\r\n</svg>\r\n",
      "image/png": "[encoded data removed]"
     },
     "metadata": {
      "needs_background": "light"
     }
    }
   ],
   "source": [
    "import matplotlib.pyplot as plt\n",
    "df = pd.DataFrame(rating_dict)\n",
    "print(df['rating'].value_counts().sort_index(ascending=False))\n",
    "df.rating.value_counts().sort_index(ascending=False).plot(kind=\"bar\",title='Rating Distribution',xlabel='Star Rating',ylabel=\"Frequency\");\n"
   ]
  },
  {
   "cell_type": "code",
   "execution_count": 44,
   "metadata": {},
   "outputs": [
    {
     "output_type": "stream",
     "name": "stdout",
     "text": [
      "5.0    49880\n4.0    85747\n3.0    50546\n2.0    20865\n1.0     8653\nName: rating, dtype: int64\n"
     ]
    },
    {
     "output_type": "display_data",
     "data": {
      "text/plain": "<Figure size 432x288 with 1 Axes>",
      "image/svg+xml": "<?xml version=\"1.0\" encoding=\"utf-8\" standalone=\"no\"?>\r\n<!DOCTYPE svg PUBLIC \"-//W3C//DTD SVG 1.1//EN\"\r\n  \"http://www.w3.org/Graphics/SVG/1.1/DTD/svg11.dtd\">\r\n<!-- Created with matplotlib (https://matplotlib.org/) -->\r\n<svg height=\"283.539375pt\" version=\"1.1\" viewBox=\"0 0 401.690625 283.539375\" width=\"401.690625pt\" xmlns=\"http://www.w3.org/2000/svg\" xmlns:xlink=\"http://www.w3.org/1999/xlink\">\r\n <metadata>\r\n  <rdf:RDF xmlns:cc=\"http://creativecommons.org/ns#\" xmlns:dc=\"http://purl.org/dc/elements/1.1/\" xmlns:rdf=\"http://www.w3.org/1999/02/22-rdf-syntax-ns#\">\r\n   <cc:Work>\r\n    <dc:type rdf:resource=\"http://purl.org/dc/dcmitype/StillImage\"/>\r\n    <dc:date>2021-05-29T09:19:48.736907</dc:date>\r\n    <dc:format>image/svg+xml</dc:format>\r\n    <dc:creator>\r\n     <cc:Agent>\r\n      <dc:title>Matplotlib v3.3.3, https://matplotlib.org/</dc:title>\r\n     </cc:Agent>\r\n    </dc:creator>\r\n   </cc:Work>\r\n  </rdf:RDF>\r\n </metadata>\r\n <defs>\r\n  <style type=\"text/css\">*{stroke-linecap:butt;stroke-linejoin:round;}</style>\r\n </defs>\r\n <g id=\"figure_1\">\r\n  <g id=\"patch_1\">\r\n   <path d=\"M 0 283.539375 \r\nL 401.690625 283.539375 \r\nL 401.690625 0 \r\nL 0 0 \r\nz\r\n\" style=\"fill:none;\"/>\r\n  </g>\r\n  <g id=\"axes_1\">\r\n   <g id=\"patch_2\">\r\n    <path d=\"M 59.690625 239.758125 \r\nL 394.490625 239.758125 \r\nL 394.490625 22.318125 \r\nL 59.690625 22.318125 \r\nz\r\n\" style=\"fill:#ffffff;\"/>\r\n   </g>\r\n   <g id=\"patch_3\">\r\n    <path clip-path=\"url(#p3ea81d8c01)\" d=\"M 76.430625 239.758125 \r\nL 109.910625 239.758125 \r\nL 109.910625 119.294022 \r\nL 76.430625 119.294022 \r\nz\r\n\" style=\"fill:#1f77b4;\"/>\r\n   </g>\r\n   <g id=\"patch_4\">\r\n    <path clip-path=\"url(#p3ea81d8c01)\" d=\"M 143.390625 239.758125 \r\nL 176.870625 239.758125 \r\nL 176.870625 32.672411 \r\nL 143.390625 32.672411 \r\nz\r\n\" style=\"fill:#1f77b4;\"/>\r\n   </g>\r\n   <g id=\"patch_5\">\r\n    <path clip-path=\"url(#p3ea81d8c01)\" d=\"M 210.350625 239.758125 \r\nL 243.830625 239.758125 \r\nL 243.830625 117.68558 \r\nL 210.350625 117.68558 \r\nz\r\n\" style=\"fill:#1f77b4;\"/>\r\n   </g>\r\n   <g id=\"patch_6\">\r\n    <path clip-path=\"url(#p3ea81d8c01)\" d=\"M 277.310625 239.758125 \r\nL 310.790625 239.758125 \r\nL 310.790625 189.367517 \r\nL 277.310625 189.367517 \r\nz\r\n\" style=\"fill:#1f77b4;\"/>\r\n   </g>\r\n   <g id=\"patch_7\">\r\n    <path clip-path=\"url(#p3ea81d8c01)\" d=\"M 344.270625 239.758125 \r\nL 377.750625 239.758125 \r\nL 377.750625 218.860453 \r\nL 344.270625 218.860453 \r\nz\r\n\" style=\"fill:#1f77b4;\"/>\r\n   </g>\r\n   <g id=\"matplotlib.axis_1\">\r\n    <g id=\"xtick_1\">\r\n     <g id=\"line2d_1\">\r\n      <defs>\r\n       <path d=\"M 0 0 \r\nL 0 3.5 \r\n\" id=\"m84f46352a9\" style=\"stroke:#000000;stroke-width:0.8;\"/>\r\n      </defs>\r\n      <g>\r\n       <use style=\"stroke:#000000;stroke-width:0.8;\" x=\"93.170625\" xlink:href=\"#m84f46352a9\" y=\"239.758125\"/>\r\n      </g>\r\n     </g>\r\n     <g id=\"text_1\">\r\n      <!-- 5.0 -->\r\n      <g transform=\"translate(95.93 262.66125)rotate(-90)scale(0.1 -0.1)\">\r\n       <defs>\r\n        <path d=\"M 10.796875 72.90625 \r\nL 49.515625 72.90625 \r\nL 49.515625 64.59375 \r\nL 19.828125 64.59375 \r\nL 19.828125 46.734375 \r\nQ 21.96875 47.46875 24.109375 47.828125 \r\nQ 26.265625 48.1875 28.421875 48.1875 \r\nQ 40.625 48.1875 47.75 41.5 \r\nQ 54.890625 34.8125 54.890625 23.390625 \r\nQ 54.890625 11.625 47.5625 5.09375 \r\nQ 40.234375 -1.421875 26.90625 -1.421875 \r\nQ 22.3125 -1.421875 17.546875 -0.640625 \r\nQ 12.796875 0.140625 7.71875 1.703125 \r\nL 7.71875 11.625 \r\nQ 12.109375 9.234375 16.796875 8.0625 \r\nQ 21.484375 6.890625 26.703125 6.890625 \r\nQ 35.15625 6.890625 40.078125 11.328125 \r\nQ 45.015625 15.765625 45.015625 23.390625 \r\nQ 45.015625 31 40.078125 35.4375 \r\nQ 35.15625 39.890625 26.703125 39.890625 \r\nQ 22.75 39.890625 18.8125 39.015625 \r\nQ 14.890625 38.140625 10.796875 36.28125 \r\nz\r\n\" id=\"DejaVuSans-53\"/>\r\n        <path d=\"M 10.6875 12.40625 \r\nL 21 12.40625 \r\nL 21 0 \r\nL 10.6875 0 \r\nz\r\n\" id=\"DejaVuSans-46\"/>\r\n        <path d=\"M 31.78125 66.40625 \r\nQ 24.171875 66.40625 20.328125 58.90625 \r\nQ 16.5 51.421875 16.5 36.375 \r\nQ 16.5 21.390625 20.328125 13.890625 \r\nQ 24.171875 6.390625 31.78125 6.390625 \r\nQ 39.453125 6.390625 43.28125 13.890625 \r\nQ 47.125 21.390625 47.125 36.375 \r\nQ 47.125 51.421875 43.28125 58.90625 \r\nQ 39.453125 66.40625 31.78125 66.40625 \r\nz\r\nM 31.78125 74.21875 \r\nQ 44.046875 74.21875 50.515625 64.515625 \r\nQ 56.984375 54.828125 56.984375 36.375 \r\nQ 56.984375 17.96875 50.515625 8.265625 \r\nQ 44.046875 -1.421875 31.78125 -1.421875 \r\nQ 19.53125 -1.421875 13.0625 8.265625 \r\nQ 6.59375 17.96875 6.59375 36.375 \r\nQ 6.59375 54.828125 13.0625 64.515625 \r\nQ 19.53125 74.21875 31.78125 74.21875 \r\nz\r\n\" id=\"DejaVuSans-48\"/>\r\n       </defs>\r\n       <use xlink:href=\"#DejaVuSans-53\"/>\r\n       <use x=\"63.623047\" xlink:href=\"#DejaVuSans-46\"/>\r\n       <use x=\"95.410156\" xlink:href=\"#DejaVuSans-48\"/>\r\n      </g>\r\n     </g>\r\n    </g>\r\n    <g id=\"xtick_2\">\r\n     <g id=\"line2d_2\">\r\n      <g>\r\n       <use style=\"stroke:#000000;stroke-width:0.8;\" x=\"160.130625\" xlink:href=\"#m84f46352a9\" y=\"239.758125\"/>\r\n      </g>\r\n     </g>\r\n     <g id=\"text_2\">\r\n      <!-- 4.0 -->\r\n      <g transform=\"translate(162.89 262.66125)rotate(-90)scale(0.1 -0.1)\">\r\n       <defs>\r\n        <path d=\"M 37.796875 64.3125 \r\nL 12.890625 25.390625 \r\nL 37.796875 25.390625 \r\nz\r\nM 35.203125 72.90625 \r\nL 47.609375 72.90625 \r\nL 47.609375 25.390625 \r\nL 58.015625 25.390625 \r\nL 58.015625 17.1875 \r\nL 47.609375 17.1875 \r\nL 47.609375 0 \r\nL 37.796875 0 \r\nL 37.796875 17.1875 \r\nL 4.890625 17.1875 \r\nL 4.890625 26.703125 \r\nz\r\n\" id=\"DejaVuSans-52\"/>\r\n       </defs>\r\n       <use xlink:href=\"#DejaVuSans-52\"/>\r\n       <use x=\"63.623047\" xlink:href=\"#DejaVuSans-46\"/>\r\n       <use x=\"95.410156\" xlink:href=\"#DejaVuSans-48\"/>\r\n      </g>\r\n     </g>\r\n    </g>\r\n    <g id=\"xtick_3\">\r\n     <g id=\"line2d_3\">\r\n      <g>\r\n       <use style=\"stroke:#000000;stroke-width:0.8;\" x=\"227.090625\" xlink:href=\"#m84f46352a9\" y=\"239.758125\"/>\r\n      </g>\r\n     </g>\r\n     <g id=\"text_3\">\r\n      <!-- 3.0 -->\r\n      <g transform=\"translate(229.85 262.66125)rotate(-90)scale(0.1 -0.1)\">\r\n       <defs>\r\n        <path d=\"M 40.578125 39.3125 \r\nQ 47.65625 37.796875 51.625 33 \r\nQ 55.609375 28.21875 55.609375 21.1875 \r\nQ 55.609375 10.40625 48.1875 4.484375 \r\nQ 40.765625 -1.421875 27.09375 -1.421875 \r\nQ 22.515625 -1.421875 17.65625 -0.515625 \r\nQ 12.796875 0.390625 7.625 2.203125 \r\nL 7.625 11.71875 \r\nQ 11.71875 9.328125 16.59375 8.109375 \r\nQ 21.484375 6.890625 26.8125 6.890625 \r\nQ 36.078125 6.890625 40.9375 10.546875 \r\nQ 45.796875 14.203125 45.796875 21.1875 \r\nQ 45.796875 27.640625 41.28125 31.265625 \r\nQ 36.765625 34.90625 28.71875 34.90625 \r\nL 20.21875 34.90625 \r\nL 20.21875 43.015625 \r\nL 29.109375 43.015625 \r\nQ 36.375 43.015625 40.234375 45.921875 \r\nQ 44.09375 48.828125 44.09375 54.296875 \r\nQ 44.09375 59.90625 40.109375 62.90625 \r\nQ 36.140625 65.921875 28.71875 65.921875 \r\nQ 24.65625 65.921875 20.015625 65.03125 \r\nQ 15.375 64.15625 9.8125 62.3125 \r\nL 9.8125 71.09375 \r\nQ 15.4375 72.65625 20.34375 73.4375 \r\nQ 25.25 74.21875 29.59375 74.21875 \r\nQ 40.828125 74.21875 47.359375 69.109375 \r\nQ 53.90625 64.015625 53.90625 55.328125 \r\nQ 53.90625 49.265625 50.4375 45.09375 \r\nQ 46.96875 40.921875 40.578125 39.3125 \r\nz\r\n\" id=\"DejaVuSans-51\"/>\r\n       </defs>\r\n       <use xlink:href=\"#DejaVuSans-51\"/>\r\n       <use x=\"63.623047\" xlink:href=\"#DejaVuSans-46\"/>\r\n       <use x=\"95.410156\" xlink:href=\"#DejaVuSans-48\"/>\r\n      </g>\r\n     </g>\r\n    </g>\r\n    <g id=\"xtick_4\">\r\n     <g id=\"line2d_4\">\r\n      <g>\r\n       <use style=\"stroke:#000000;stroke-width:0.8;\" x=\"294.050625\" xlink:href=\"#m84f46352a9\" y=\"239.758125\"/>\r\n      </g>\r\n     </g>\r\n     <g id=\"text_4\">\r\n      <!-- 2.0 -->\r\n      <g transform=\"translate(296.81 262.66125)rotate(-90)scale(0.1 -0.1)\">\r\n       <defs>\r\n        <path d=\"M 19.1875 8.296875 \r\nL 53.609375 8.296875 \r\nL 53.609375 0 \r\nL 7.328125 0 \r\nL 7.328125 8.296875 \r\nQ 12.9375 14.109375 22.625 23.890625 \r\nQ 32.328125 33.6875 34.8125 36.53125 \r\nQ 39.546875 41.84375 41.421875 45.53125 \r\nQ 43.3125 49.21875 43.3125 52.78125 \r\nQ 43.3125 58.59375 39.234375 62.25 \r\nQ 35.15625 65.921875 28.609375 65.921875 \r\nQ 23.96875 65.921875 18.8125 64.3125 \r\nQ 13.671875 62.703125 7.8125 59.421875 \r\nL 7.8125 69.390625 \r\nQ 13.765625 71.78125 18.9375 73 \r\nQ 24.125 74.21875 28.421875 74.21875 \r\nQ 39.75 74.21875 46.484375 68.546875 \r\nQ 53.21875 62.890625 53.21875 53.421875 \r\nQ 53.21875 48.921875 51.53125 44.890625 \r\nQ 49.859375 40.875 45.40625 35.40625 \r\nQ 44.1875 33.984375 37.640625 27.21875 \r\nQ 31.109375 20.453125 19.1875 8.296875 \r\nz\r\n\" id=\"DejaVuSans-50\"/>\r\n       </defs>\r\n       <use xlink:href=\"#DejaVuSans-50\"/>\r\n       <use x=\"63.623047\" xlink:href=\"#DejaVuSans-46\"/>\r\n       <use x=\"95.410156\" xlink:href=\"#DejaVuSans-48\"/>\r\n      </g>\r\n     </g>\r\n    </g>\r\n    <g id=\"xtick_5\">\r\n     <g id=\"line2d_5\">\r\n      <g>\r\n       <use style=\"stroke:#000000;stroke-width:0.8;\" x=\"361.010625\" xlink:href=\"#m84f46352a9\" y=\"239.758125\"/>\r\n      </g>\r\n     </g>\r\n     <g id=\"text_5\">\r\n      <!-- 1.0 -->\r\n      <g transform=\"translate(363.77 262.66125)rotate(-90)scale(0.1 -0.1)\">\r\n       <defs>\r\n        <path d=\"M 12.40625 8.296875 \r\nL 28.515625 8.296875 \r\nL 28.515625 63.921875 \r\nL 10.984375 60.40625 \r\nL 10.984375 69.390625 \r\nL 28.421875 72.90625 \r\nL 38.28125 72.90625 \r\nL 38.28125 8.296875 \r\nL 54.390625 8.296875 \r\nL 54.390625 0 \r\nL 12.40625 0 \r\nz\r\n\" id=\"DejaVuSans-49\"/>\r\n       </defs>\r\n       <use xlink:href=\"#DejaVuSans-49\"/>\r\n       <use x=\"63.623047\" xlink:href=\"#DejaVuSans-46\"/>\r\n       <use x=\"95.410156\" xlink:href=\"#DejaVuSans-48\"/>\r\n      </g>\r\n     </g>\r\n    </g>\r\n    <g id=\"text_6\">\r\n     <!-- Star Rating -->\r\n     <g transform=\"translate(199.129688 274.259687)scale(0.1 -0.1)\">\r\n      <defs>\r\n       <path d=\"M 53.515625 70.515625 \r\nL 53.515625 60.890625 \r\nQ 47.90625 63.578125 42.921875 64.890625 \r\nQ 37.9375 66.21875 33.296875 66.21875 \r\nQ 25.25 66.21875 20.875 63.09375 \r\nQ 16.5 59.96875 16.5 54.203125 \r\nQ 16.5 49.359375 19.40625 46.890625 \r\nQ 22.3125 44.4375 30.421875 42.921875 \r\nL 36.375 41.703125 \r\nQ 47.40625 39.59375 52.65625 34.296875 \r\nQ 57.90625 29 57.90625 20.125 \r\nQ 57.90625 9.515625 50.796875 4.046875 \r\nQ 43.703125 -1.421875 29.984375 -1.421875 \r\nQ 24.8125 -1.421875 18.96875 -0.25 \r\nQ 13.140625 0.921875 6.890625 3.21875 \r\nL 6.890625 13.375 \r\nQ 12.890625 10.015625 18.65625 8.296875 \r\nQ 24.421875 6.59375 29.984375 6.59375 \r\nQ 38.421875 6.59375 43.015625 9.90625 \r\nQ 47.609375 13.234375 47.609375 19.390625 \r\nQ 47.609375 24.75 44.3125 27.78125 \r\nQ 41.015625 30.8125 33.5 32.328125 \r\nL 27.484375 33.5 \r\nQ 16.453125 35.6875 11.515625 40.375 \r\nQ 6.59375 45.0625 6.59375 53.421875 \r\nQ 6.59375 63.09375 13.40625 68.65625 \r\nQ 20.21875 74.21875 32.171875 74.21875 \r\nQ 37.3125 74.21875 42.625 73.28125 \r\nQ 47.953125 72.359375 53.515625 70.515625 \r\nz\r\n\" id=\"DejaVuSans-83\"/>\r\n       <path d=\"M 18.3125 70.21875 \r\nL 18.3125 54.6875 \r\nL 36.8125 54.6875 \r\nL 36.8125 47.703125 \r\nL 18.3125 47.703125 \r\nL 18.3125 18.015625 \r\nQ 18.3125 11.328125 20.140625 9.421875 \r\nQ 21.96875 7.515625 27.59375 7.515625 \r\nL 36.8125 7.515625 \r\nL 36.8125 0 \r\nL 27.59375 0 \r\nQ 17.1875 0 13.234375 3.875 \r\nQ 9.28125 7.765625 9.28125 18.015625 \r\nL 9.28125 47.703125 \r\nL 2.6875 47.703125 \r\nL 2.6875 54.6875 \r\nL 9.28125 54.6875 \r\nL 9.28125 70.21875 \r\nz\r\n\" id=\"DejaVuSans-116\"/>\r\n       <path d=\"M 34.28125 27.484375 \r\nQ 23.390625 27.484375 19.1875 25 \r\nQ 14.984375 22.515625 14.984375 16.5 \r\nQ 14.984375 11.71875 18.140625 8.90625 \r\nQ 21.296875 6.109375 26.703125 6.109375 \r\nQ 34.1875 6.109375 38.703125 11.40625 \r\nQ 43.21875 16.703125 43.21875 25.484375 \r\nL 43.21875 27.484375 \r\nz\r\nM 52.203125 31.203125 \r\nL 52.203125 0 \r\nL 43.21875 0 \r\nL 43.21875 8.296875 \r\nQ 40.140625 3.328125 35.546875 0.953125 \r\nQ 30.953125 -1.421875 24.3125 -1.421875 \r\nQ 15.921875 -1.421875 10.953125 3.296875 \r\nQ 6 8.015625 6 15.921875 \r\nQ 6 25.140625 12.171875 29.828125 \r\nQ 18.359375 34.515625 30.609375 34.515625 \r\nL 43.21875 34.515625 \r\nL 43.21875 35.40625 \r\nQ 43.21875 41.609375 39.140625 45 \r\nQ 35.0625 48.390625 27.6875 48.390625 \r\nQ 23 48.390625 18.546875 47.265625 \r\nQ 14.109375 46.140625 10.015625 43.890625 \r\nL 10.015625 52.203125 \r\nQ 14.9375 54.109375 19.578125 55.046875 \r\nQ 24.21875 56 28.609375 56 \r\nQ 40.484375 56 46.34375 49.84375 \r\nQ 52.203125 43.703125 52.203125 31.203125 \r\nz\r\n\" id=\"DejaVuSans-97\"/>\r\n       <path d=\"M 41.109375 46.296875 \r\nQ 39.59375 47.171875 37.8125 47.578125 \r\nQ 36.03125 48 33.890625 48 \r\nQ 26.265625 48 22.1875 43.046875 \r\nQ 18.109375 38.09375 18.109375 28.8125 \r\nL 18.109375 0 \r\nL 9.078125 0 \r\nL 9.078125 54.6875 \r\nL 18.109375 54.6875 \r\nL 18.109375 46.1875 \r\nQ 20.953125 51.171875 25.484375 53.578125 \r\nQ 30.03125 56 36.53125 56 \r\nQ 37.453125 56 38.578125 55.875 \r\nQ 39.703125 55.765625 41.0625 55.515625 \r\nz\r\n\" id=\"DejaVuSans-114\"/>\r\n       <path id=\"DejaVuSans-32\"/>\r\n       <path d=\"M 44.390625 34.1875 \r\nQ 47.5625 33.109375 50.5625 29.59375 \r\nQ 53.5625 26.078125 56.59375 19.921875 \r\nL 66.609375 0 \r\nL 56 0 \r\nL 46.6875 18.703125 \r\nQ 43.0625 26.03125 39.671875 28.421875 \r\nQ 36.28125 30.8125 30.421875 30.8125 \r\nL 19.671875 30.8125 \r\nL 19.671875 0 \r\nL 9.8125 0 \r\nL 9.8125 72.90625 \r\nL 32.078125 72.90625 \r\nQ 44.578125 72.90625 50.734375 67.671875 \r\nQ 56.890625 62.453125 56.890625 51.90625 \r\nQ 56.890625 45.015625 53.6875 40.46875 \r\nQ 50.484375 35.9375 44.390625 34.1875 \r\nz\r\nM 19.671875 64.796875 \r\nL 19.671875 38.921875 \r\nL 32.078125 38.921875 \r\nQ 39.203125 38.921875 42.84375 42.21875 \r\nQ 46.484375 45.515625 46.484375 51.90625 \r\nQ 46.484375 58.296875 42.84375 61.546875 \r\nQ 39.203125 64.796875 32.078125 64.796875 \r\nz\r\n\" id=\"DejaVuSans-82\"/>\r\n       <path d=\"M 9.421875 54.6875 \r\nL 18.40625 54.6875 \r\nL 18.40625 0 \r\nL 9.421875 0 \r\nz\r\nM 9.421875 75.984375 \r\nL 18.40625 75.984375 \r\nL 18.40625 64.59375 \r\nL 9.421875 64.59375 \r\nz\r\n\" id=\"DejaVuSans-105\"/>\r\n       <path d=\"M 54.890625 33.015625 \r\nL 54.890625 0 \r\nL 45.90625 0 \r\nL 45.90625 32.71875 \r\nQ 45.90625 40.484375 42.875 44.328125 \r\nQ 39.84375 48.1875 33.796875 48.1875 \r\nQ 26.515625 48.1875 22.3125 43.546875 \r\nQ 18.109375 38.921875 18.109375 30.90625 \r\nL 18.109375 0 \r\nL 9.078125 0 \r\nL 9.078125 54.6875 \r\nL 18.109375 54.6875 \r\nL 18.109375 46.1875 \r\nQ 21.34375 51.125 25.703125 53.5625 \r\nQ 30.078125 56 35.796875 56 \r\nQ 45.21875 56 50.046875 50.171875 \r\nQ 54.890625 44.34375 54.890625 33.015625 \r\nz\r\n\" id=\"DejaVuSans-110\"/>\r\n       <path d=\"M 45.40625 27.984375 \r\nQ 45.40625 37.75 41.375 43.109375 \r\nQ 37.359375 48.484375 30.078125 48.484375 \r\nQ 22.859375 48.484375 18.828125 43.109375 \r\nQ 14.796875 37.75 14.796875 27.984375 \r\nQ 14.796875 18.265625 18.828125 12.890625 \r\nQ 22.859375 7.515625 30.078125 7.515625 \r\nQ 37.359375 7.515625 41.375 12.890625 \r\nQ 45.40625 18.265625 45.40625 27.984375 \r\nz\r\nM 54.390625 6.78125 \r\nQ 54.390625 -7.171875 48.1875 -13.984375 \r\nQ 42 -20.796875 29.203125 -20.796875 \r\nQ 24.46875 -20.796875 20.265625 -20.09375 \r\nQ 16.0625 -19.390625 12.109375 -17.921875 \r\nL 12.109375 -9.1875 \r\nQ 16.0625 -11.328125 19.921875 -12.34375 \r\nQ 23.78125 -13.375 27.78125 -13.375 \r\nQ 36.625 -13.375 41.015625 -8.765625 \r\nQ 45.40625 -4.15625 45.40625 5.171875 \r\nL 45.40625 9.625 \r\nQ 42.625 4.78125 38.28125 2.390625 \r\nQ 33.9375 0 27.875 0 \r\nQ 17.828125 0 11.671875 7.65625 \r\nQ 5.515625 15.328125 5.515625 27.984375 \r\nQ 5.515625 40.671875 11.671875 48.328125 \r\nQ 17.828125 56 27.875 56 \r\nQ 33.9375 56 38.28125 53.609375 \r\nQ 42.625 51.21875 45.40625 46.390625 \r\nL 45.40625 54.6875 \r\nL 54.390625 54.6875 \r\nz\r\n\" id=\"DejaVuSans-103\"/>\r\n      </defs>\r\n      <use xlink:href=\"#DejaVuSans-83\"/>\r\n      <use x=\"63.476562\" xlink:href=\"#DejaVuSans-116\"/>\r\n      <use x=\"102.685547\" xlink:href=\"#DejaVuSans-97\"/>\r\n      <use x=\"163.964844\" xlink:href=\"#DejaVuSans-114\"/>\r\n      <use x=\"205.078125\" xlink:href=\"#DejaVuSans-32\"/>\r\n      <use x=\"236.865234\" xlink:href=\"#DejaVuSans-82\"/>\r\n      <use x=\"304.097656\" xlink:href=\"#DejaVuSans-97\"/>\r\n      <use x=\"365.376953\" xlink:href=\"#DejaVuSans-116\"/>\r\n      <use x=\"404.585938\" xlink:href=\"#DejaVuSans-105\"/>\r\n      <use x=\"432.369141\" xlink:href=\"#DejaVuSans-110\"/>\r\n      <use x=\"495.748047\" xlink:href=\"#DejaVuSans-103\"/>\r\n     </g>\r\n    </g>\r\n   </g>\r\n   <g id=\"matplotlib.axis_2\">\r\n    <g id=\"ytick_1\">\r\n     <g id=\"line2d_6\">\r\n      <defs>\r\n       <path d=\"M 0 0 \r\nL -3.5 0 \r\n\" id=\"me6b2c0950e\" style=\"stroke:#000000;stroke-width:0.8;\"/>\r\n      </defs>\r\n      <g>\r\n       <use style=\"stroke:#000000;stroke-width:0.8;\" x=\"59.690625\" xlink:href=\"#me6b2c0950e\" y=\"239.758125\"/>\r\n      </g>\r\n     </g>\r\n     <g id=\"text_7\">\r\n      <!-- 0 -->\r\n      <g transform=\"translate(46.328125 243.557344)scale(0.1 -0.1)\">\r\n       <use xlink:href=\"#DejaVuSans-48\"/>\r\n      </g>\r\n     </g>\r\n    </g>\r\n    <g id=\"ytick_2\">\r\n     <g id=\"line2d_7\">\r\n      <g>\r\n       <use style=\"stroke:#000000;stroke-width:0.8;\" x=\"59.690625\" xlink:href=\"#me6b2c0950e\" y=\"191.45656\"/>\r\n      </g>\r\n     </g>\r\n     <g id=\"text_8\">\r\n      <!-- 20000 -->\r\n      <g transform=\"translate(20.878125 195.255779)scale(0.1 -0.1)\">\r\n       <use xlink:href=\"#DejaVuSans-50\"/>\r\n       <use x=\"63.623047\" xlink:href=\"#DejaVuSans-48\"/>\r\n       <use x=\"127.246094\" xlink:href=\"#DejaVuSans-48\"/>\r\n       <use x=\"190.869141\" xlink:href=\"#DejaVuSans-48\"/>\r\n       <use x=\"254.492188\" xlink:href=\"#DejaVuSans-48\"/>\r\n      </g>\r\n     </g>\r\n    </g>\r\n    <g id=\"ytick_3\">\r\n     <g id=\"line2d_8\">\r\n      <g>\r\n       <use style=\"stroke:#000000;stroke-width:0.8;\" x=\"59.690625\" xlink:href=\"#me6b2c0950e\" y=\"143.154995\"/>\r\n      </g>\r\n     </g>\r\n     <g id=\"text_9\">\r\n      <!-- 40000 -->\r\n      <g transform=\"translate(20.878125 146.954214)scale(0.1 -0.1)\">\r\n       <use xlink:href=\"#DejaVuSans-52\"/>\r\n       <use x=\"63.623047\" xlink:href=\"#DejaVuSans-48\"/>\r\n       <use x=\"127.246094\" xlink:href=\"#DejaVuSans-48\"/>\r\n       <use x=\"190.869141\" xlink:href=\"#DejaVuSans-48\"/>\r\n       <use x=\"254.492188\" xlink:href=\"#DejaVuSans-48\"/>\r\n      </g>\r\n     </g>\r\n    </g>\r\n    <g id=\"ytick_4\">\r\n     <g id=\"line2d_9\">\r\n      <g>\r\n       <use style=\"stroke:#000000;stroke-width:0.8;\" x=\"59.690625\" xlink:href=\"#me6b2c0950e\" y=\"94.85343\"/>\r\n      </g>\r\n     </g>\r\n     <g id=\"text_10\">\r\n      <!-- 60000 -->\r\n      <g transform=\"translate(20.878125 98.652649)scale(0.1 -0.1)\">\r\n       <defs>\r\n        <path d=\"M 33.015625 40.375 \r\nQ 26.375 40.375 22.484375 35.828125 \r\nQ 18.609375 31.296875 18.609375 23.390625 \r\nQ 18.609375 15.53125 22.484375 10.953125 \r\nQ 26.375 6.390625 33.015625 6.390625 \r\nQ 39.65625 6.390625 43.53125 10.953125 \r\nQ 47.40625 15.53125 47.40625 23.390625 \r\nQ 47.40625 31.296875 43.53125 35.828125 \r\nQ 39.65625 40.375 33.015625 40.375 \r\nz\r\nM 52.59375 71.296875 \r\nL 52.59375 62.3125 \r\nQ 48.875 64.0625 45.09375 64.984375 \r\nQ 41.3125 65.921875 37.59375 65.921875 \r\nQ 27.828125 65.921875 22.671875 59.328125 \r\nQ 17.53125 52.734375 16.796875 39.40625 \r\nQ 19.671875 43.65625 24.015625 45.921875 \r\nQ 28.375 48.1875 33.59375 48.1875 \r\nQ 44.578125 48.1875 50.953125 41.515625 \r\nQ 57.328125 34.859375 57.328125 23.390625 \r\nQ 57.328125 12.15625 50.6875 5.359375 \r\nQ 44.046875 -1.421875 33.015625 -1.421875 \r\nQ 20.359375 -1.421875 13.671875 8.265625 \r\nQ 6.984375 17.96875 6.984375 36.375 \r\nQ 6.984375 53.65625 15.1875 63.9375 \r\nQ 23.390625 74.21875 37.203125 74.21875 \r\nQ 40.921875 74.21875 44.703125 73.484375 \r\nQ 48.484375 72.75 52.59375 71.296875 \r\nz\r\n\" id=\"DejaVuSans-54\"/>\r\n       </defs>\r\n       <use xlink:href=\"#DejaVuSans-54\"/>\r\n       <use x=\"63.623047\" xlink:href=\"#DejaVuSans-48\"/>\r\n       <use x=\"127.246094\" xlink:href=\"#DejaVuSans-48\"/>\r\n       <use x=\"190.869141\" xlink:href=\"#DejaVuSans-48\"/>\r\n       <use x=\"254.492188\" xlink:href=\"#DejaVuSans-48\"/>\r\n      </g>\r\n     </g>\r\n    </g>\r\n    <g id=\"ytick_5\">\r\n     <g id=\"line2d_10\">\r\n      <g>\r\n       <use style=\"stroke:#000000;stroke-width:0.8;\" x=\"59.690625\" xlink:href=\"#me6b2c0950e\" y=\"46.551865\"/>\r\n      </g>\r\n     </g>\r\n     <g id=\"text_11\">\r\n      <!-- 80000 -->\r\n      <g transform=\"translate(20.878125 50.351084)scale(0.1 -0.1)\">\r\n       <defs>\r\n        <path d=\"M 31.78125 34.625 \r\nQ 24.75 34.625 20.71875 30.859375 \r\nQ 16.703125 27.09375 16.703125 20.515625 \r\nQ 16.703125 13.921875 20.71875 10.15625 \r\nQ 24.75 6.390625 31.78125 6.390625 \r\nQ 38.8125 6.390625 42.859375 10.171875 \r\nQ 46.921875 13.96875 46.921875 20.515625 \r\nQ 46.921875 27.09375 42.890625 30.859375 \r\nQ 38.875 34.625 31.78125 34.625 \r\nz\r\nM 21.921875 38.8125 \r\nQ 15.578125 40.375 12.03125 44.71875 \r\nQ 8.5 49.078125 8.5 55.328125 \r\nQ 8.5 64.0625 14.71875 69.140625 \r\nQ 20.953125 74.21875 31.78125 74.21875 \r\nQ 42.671875 74.21875 48.875 69.140625 \r\nQ 55.078125 64.0625 55.078125 55.328125 \r\nQ 55.078125 49.078125 51.53125 44.71875 \r\nQ 48 40.375 41.703125 38.8125 \r\nQ 48.828125 37.15625 52.796875 32.3125 \r\nQ 56.78125 27.484375 56.78125 20.515625 \r\nQ 56.78125 9.90625 50.3125 4.234375 \r\nQ 43.84375 -1.421875 31.78125 -1.421875 \r\nQ 19.734375 -1.421875 13.25 4.234375 \r\nQ 6.78125 9.90625 6.78125 20.515625 \r\nQ 6.78125 27.484375 10.78125 32.3125 \r\nQ 14.796875 37.15625 21.921875 38.8125 \r\nz\r\nM 18.3125 54.390625 \r\nQ 18.3125 48.734375 21.84375 45.5625 \r\nQ 25.390625 42.390625 31.78125 42.390625 \r\nQ 38.140625 42.390625 41.71875 45.5625 \r\nQ 45.3125 48.734375 45.3125 54.390625 \r\nQ 45.3125 60.0625 41.71875 63.234375 \r\nQ 38.140625 66.40625 31.78125 66.40625 \r\nQ 25.390625 66.40625 21.84375 63.234375 \r\nQ 18.3125 60.0625 18.3125 54.390625 \r\nz\r\n\" id=\"DejaVuSans-56\"/>\r\n       </defs>\r\n       <use xlink:href=\"#DejaVuSans-56\"/>\r\n       <use x=\"63.623047\" xlink:href=\"#DejaVuSans-48\"/>\r\n       <use x=\"127.246094\" xlink:href=\"#DejaVuSans-48\"/>\r\n       <use x=\"190.869141\" xlink:href=\"#DejaVuSans-48\"/>\r\n       <use x=\"254.492188\" xlink:href=\"#DejaVuSans-48\"/>\r\n      </g>\r\n     </g>\r\n    </g>\r\n    <g id=\"text_12\">\r\n     <!-- Frequency -->\r\n     <g transform=\"translate(14.798438 156.867813)rotate(-90)scale(0.1 -0.1)\">\r\n      <defs>\r\n       <path d=\"M 9.8125 72.90625 \r\nL 51.703125 72.90625 \r\nL 51.703125 64.59375 \r\nL 19.671875 64.59375 \r\nL 19.671875 43.109375 \r\nL 48.578125 43.109375 \r\nL 48.578125 34.8125 \r\nL 19.671875 34.8125 \r\nL 19.671875 0 \r\nL 9.8125 0 \r\nz\r\n\" id=\"DejaVuSans-70\"/>\r\n       <path d=\"M 56.203125 29.59375 \r\nL 56.203125 25.203125 \r\nL 14.890625 25.203125 \r\nQ 15.484375 15.921875 20.484375 11.0625 \r\nQ 25.484375 6.203125 34.421875 6.203125 \r\nQ 39.59375 6.203125 44.453125 7.46875 \r\nQ 49.3125 8.734375 54.109375 11.28125 \r\nL 54.109375 2.78125 \r\nQ 49.265625 0.734375 44.1875 -0.34375 \r\nQ 39.109375 -1.421875 33.890625 -1.421875 \r\nQ 20.796875 -1.421875 13.15625 6.1875 \r\nQ 5.515625 13.8125 5.515625 26.8125 \r\nQ 5.515625 40.234375 12.765625 48.109375 \r\nQ 20.015625 56 32.328125 56 \r\nQ 43.359375 56 49.78125 48.890625 \r\nQ 56.203125 41.796875 56.203125 29.59375 \r\nz\r\nM 47.21875 32.234375 \r\nQ 47.125 39.59375 43.09375 43.984375 \r\nQ 39.0625 48.390625 32.421875 48.390625 \r\nQ 24.90625 48.390625 20.390625 44.140625 \r\nQ 15.875 39.890625 15.1875 32.171875 \r\nz\r\n\" id=\"DejaVuSans-101\"/>\r\n       <path d=\"M 14.796875 27.296875 \r\nQ 14.796875 17.390625 18.875 11.75 \r\nQ 22.953125 6.109375 30.078125 6.109375 \r\nQ 37.203125 6.109375 41.296875 11.75 \r\nQ 45.40625 17.390625 45.40625 27.296875 \r\nQ 45.40625 37.203125 41.296875 42.84375 \r\nQ 37.203125 48.484375 30.078125 48.484375 \r\nQ 22.953125 48.484375 18.875 42.84375 \r\nQ 14.796875 37.203125 14.796875 27.296875 \r\nz\r\nM 45.40625 8.203125 \r\nQ 42.578125 3.328125 38.25 0.953125 \r\nQ 33.9375 -1.421875 27.875 -1.421875 \r\nQ 17.96875 -1.421875 11.734375 6.484375 \r\nQ 5.515625 14.40625 5.515625 27.296875 \r\nQ 5.515625 40.1875 11.734375 48.09375 \r\nQ 17.96875 56 27.875 56 \r\nQ 33.9375 56 38.25 53.625 \r\nQ 42.578125 51.265625 45.40625 46.390625 \r\nL 45.40625 54.6875 \r\nL 54.390625 54.6875 \r\nL 54.390625 -20.796875 \r\nL 45.40625 -20.796875 \r\nz\r\n\" id=\"DejaVuSans-113\"/>\r\n       <path d=\"M 8.5 21.578125 \r\nL 8.5 54.6875 \r\nL 17.484375 54.6875 \r\nL 17.484375 21.921875 \r\nQ 17.484375 14.15625 20.5 10.265625 \r\nQ 23.53125 6.390625 29.59375 6.390625 \r\nQ 36.859375 6.390625 41.078125 11.03125 \r\nQ 45.3125 15.671875 45.3125 23.6875 \r\nL 45.3125 54.6875 \r\nL 54.296875 54.6875 \r\nL 54.296875 0 \r\nL 45.3125 0 \r\nL 45.3125 8.40625 \r\nQ 42.046875 3.421875 37.71875 1 \r\nQ 33.40625 -1.421875 27.6875 -1.421875 \r\nQ 18.265625 -1.421875 13.375 4.4375 \r\nQ 8.5 10.296875 8.5 21.578125 \r\nz\r\nM 31.109375 56 \r\nz\r\n\" id=\"DejaVuSans-117\"/>\r\n       <path d=\"M 48.78125 52.59375 \r\nL 48.78125 44.1875 \r\nQ 44.96875 46.296875 41.140625 47.34375 \r\nQ 37.3125 48.390625 33.40625 48.390625 \r\nQ 24.65625 48.390625 19.8125 42.84375 \r\nQ 14.984375 37.3125 14.984375 27.296875 \r\nQ 14.984375 17.28125 19.8125 11.734375 \r\nQ 24.65625 6.203125 33.40625 6.203125 \r\nQ 37.3125 6.203125 41.140625 7.25 \r\nQ 44.96875 8.296875 48.78125 10.40625 \r\nL 48.78125 2.09375 \r\nQ 45.015625 0.34375 40.984375 -0.53125 \r\nQ 36.96875 -1.421875 32.421875 -1.421875 \r\nQ 20.0625 -1.421875 12.78125 6.34375 \r\nQ 5.515625 14.109375 5.515625 27.296875 \r\nQ 5.515625 40.671875 12.859375 48.328125 \r\nQ 20.21875 56 33.015625 56 \r\nQ 37.15625 56 41.109375 55.140625 \r\nQ 45.0625 54.296875 48.78125 52.59375 \r\nz\r\n\" id=\"DejaVuSans-99\"/>\r\n       <path d=\"M 32.171875 -5.078125 \r\nQ 28.375 -14.84375 24.75 -17.8125 \r\nQ 21.140625 -20.796875 15.09375 -20.796875 \r\nL 7.90625 -20.796875 \r\nL 7.90625 -13.28125 \r\nL 13.1875 -13.28125 \r\nQ 16.890625 -13.28125 18.9375 -11.515625 \r\nQ 21 -9.765625 23.484375 -3.21875 \r\nL 25.09375 0.875 \r\nL 2.984375 54.6875 \r\nL 12.5 54.6875 \r\nL 29.59375 11.921875 \r\nL 46.6875 54.6875 \r\nL 56.203125 54.6875 \r\nz\r\n\" id=\"DejaVuSans-121\"/>\r\n      </defs>\r\n      <use xlink:href=\"#DejaVuSans-70\"/>\r\n      <use x=\"50.269531\" xlink:href=\"#DejaVuSans-114\"/>\r\n      <use x=\"89.132812\" xlink:href=\"#DejaVuSans-101\"/>\r\n      <use x=\"150.65625\" xlink:href=\"#DejaVuSans-113\"/>\r\n      <use x=\"214.132812\" xlink:href=\"#DejaVuSans-117\"/>\r\n      <use x=\"277.511719\" xlink:href=\"#DejaVuSans-101\"/>\r\n      <use x=\"339.035156\" xlink:href=\"#DejaVuSans-110\"/>\r\n      <use x=\"402.414062\" xlink:href=\"#DejaVuSans-99\"/>\r\n      <use x=\"457.394531\" xlink:href=\"#DejaVuSans-121\"/>\r\n     </g>\r\n    </g>\r\n   </g>\r\n   <g id=\"patch_8\">\r\n    <path d=\"M 59.690625 239.758125 \r\nL 59.690625 22.318125 \r\n\" style=\"fill:none;stroke:#000000;stroke-linecap:square;stroke-linejoin:miter;stroke-width:0.8;\"/>\r\n   </g>\r\n   <g id=\"patch_9\">\r\n    <path d=\"M 394.490625 239.758125 \r\nL 394.490625 22.318125 \r\n\" style=\"fill:none;stroke:#000000;stroke-linecap:square;stroke-linejoin:miter;stroke-width:0.8;\"/>\r\n   </g>\r\n   <g id=\"patch_10\">\r\n    <path d=\"M 59.690625 239.758125 \r\nL 394.490625 239.758125 \r\n\" style=\"fill:none;stroke:#000000;stroke-linecap:square;stroke-linejoin:miter;stroke-width:0.8;\"/>\r\n   </g>\r\n   <g id=\"patch_11\">\r\n    <path d=\"M 59.690625 22.318125 \r\nL 394.490625 22.318125 \r\n\" style=\"fill:none;stroke:#000000;stroke-linecap:square;stroke-linejoin:miter;stroke-width:0.8;\"/>\r\n   </g>\r\n   <g id=\"text_13\">\r\n    <!-- Rating Distribution -->\r\n    <g transform=\"translate(170.839688 16.318125)scale(0.12 -0.12)\">\r\n     <defs>\r\n      <path d=\"M 19.671875 64.796875 \r\nL 19.671875 8.109375 \r\nL 31.59375 8.109375 \r\nQ 46.6875 8.109375 53.6875 14.9375 \r\nQ 60.6875 21.78125 60.6875 36.53125 \r\nQ 60.6875 51.171875 53.6875 57.984375 \r\nQ 46.6875 64.796875 31.59375 64.796875 \r\nz\r\nM 9.8125 72.90625 \r\nL 30.078125 72.90625 \r\nQ 51.265625 72.90625 61.171875 64.09375 \r\nQ 71.09375 55.28125 71.09375 36.53125 \r\nQ 71.09375 17.671875 61.125 8.828125 \r\nQ 51.171875 0 30.078125 0 \r\nL 9.8125 0 \r\nz\r\n\" id=\"DejaVuSans-68\"/>\r\n      <path d=\"M 44.28125 53.078125 \r\nL 44.28125 44.578125 \r\nQ 40.484375 46.53125 36.375 47.5 \r\nQ 32.28125 48.484375 27.875 48.484375 \r\nQ 21.1875 48.484375 17.84375 46.4375 \r\nQ 14.5 44.390625 14.5 40.28125 \r\nQ 14.5 37.15625 16.890625 35.375 \r\nQ 19.28125 33.59375 26.515625 31.984375 \r\nL 29.59375 31.296875 \r\nQ 39.15625 29.25 43.1875 25.515625 \r\nQ 47.21875 21.78125 47.21875 15.09375 \r\nQ 47.21875 7.46875 41.1875 3.015625 \r\nQ 35.15625 -1.421875 24.609375 -1.421875 \r\nQ 20.21875 -1.421875 15.453125 -0.5625 \r\nQ 10.6875 0.296875 5.421875 2 \r\nL 5.421875 11.28125 \r\nQ 10.40625 8.6875 15.234375 7.390625 \r\nQ 20.0625 6.109375 24.8125 6.109375 \r\nQ 31.15625 6.109375 34.5625 8.28125 \r\nQ 37.984375 10.453125 37.984375 14.40625 \r\nQ 37.984375 18.0625 35.515625 20.015625 \r\nQ 33.0625 21.96875 24.703125 23.78125 \r\nL 21.578125 24.515625 \r\nQ 13.234375 26.265625 9.515625 29.90625 \r\nQ 5.8125 33.546875 5.8125 39.890625 \r\nQ 5.8125 47.609375 11.28125 51.796875 \r\nQ 16.75 56 26.8125 56 \r\nQ 31.78125 56 36.171875 55.265625 \r\nQ 40.578125 54.546875 44.28125 53.078125 \r\nz\r\n\" id=\"DejaVuSans-115\"/>\r\n      <path d=\"M 48.6875 27.296875 \r\nQ 48.6875 37.203125 44.609375 42.84375 \r\nQ 40.53125 48.484375 33.40625 48.484375 \r\nQ 26.265625 48.484375 22.1875 42.84375 \r\nQ 18.109375 37.203125 18.109375 27.296875 \r\nQ 18.109375 17.390625 22.1875 11.75 \r\nQ 26.265625 6.109375 33.40625 6.109375 \r\nQ 40.53125 6.109375 44.609375 11.75 \r\nQ 48.6875 17.390625 48.6875 27.296875 \r\nz\r\nM 18.109375 46.390625 \r\nQ 20.953125 51.265625 25.265625 53.625 \r\nQ 29.59375 56 35.59375 56 \r\nQ 45.5625 56 51.78125 48.09375 \r\nQ 58.015625 40.1875 58.015625 27.296875 \r\nQ 58.015625 14.40625 51.78125 6.484375 \r\nQ 45.5625 -1.421875 35.59375 -1.421875 \r\nQ 29.59375 -1.421875 25.265625 0.953125 \r\nQ 20.953125 3.328125 18.109375 8.203125 \r\nL 18.109375 0 \r\nL 9.078125 0 \r\nL 9.078125 75.984375 \r\nL 18.109375 75.984375 \r\nz\r\n\" id=\"DejaVuSans-98\"/>\r\n      <path d=\"M 30.609375 48.390625 \r\nQ 23.390625 48.390625 19.1875 42.75 \r\nQ 14.984375 37.109375 14.984375 27.296875 \r\nQ 14.984375 17.484375 19.15625 11.84375 \r\nQ 23.34375 6.203125 30.609375 6.203125 \r\nQ 37.796875 6.203125 41.984375 11.859375 \r\nQ 46.1875 17.53125 46.1875 27.296875 \r\nQ 46.1875 37.015625 41.984375 42.703125 \r\nQ 37.796875 48.390625 30.609375 48.390625 \r\nz\r\nM 30.609375 56 \r\nQ 42.328125 56 49.015625 48.375 \r\nQ 55.71875 40.765625 55.71875 27.296875 \r\nQ 55.71875 13.875 49.015625 6.21875 \r\nQ 42.328125 -1.421875 30.609375 -1.421875 \r\nQ 18.84375 -1.421875 12.171875 6.21875 \r\nQ 5.515625 13.875 5.515625 27.296875 \r\nQ 5.515625 40.765625 12.171875 48.375 \r\nQ 18.84375 56 30.609375 56 \r\nz\r\n\" id=\"DejaVuSans-111\"/>\r\n     </defs>\r\n     <use xlink:href=\"#DejaVuSans-82\"/>\r\n     <use x=\"67.232422\" xlink:href=\"#DejaVuSans-97\"/>\r\n     <use x=\"128.511719\" xlink:href=\"#DejaVuSans-116\"/>\r\n     <use x=\"167.720703\" xlink:href=\"#DejaVuSans-105\"/>\r\n     <use x=\"195.503906\" xlink:href=\"#DejaVuSans-110\"/>\r\n     <use x=\"258.882812\" xlink:href=\"#DejaVuSans-103\"/>\r\n     <use x=\"322.359375\" xlink:href=\"#DejaVuSans-32\"/>\r\n     <use x=\"354.146484\" xlink:href=\"#DejaVuSans-68\"/>\r\n     <use x=\"431.148438\" xlink:href=\"#DejaVuSans-105\"/>\r\n     <use x=\"458.931641\" xlink:href=\"#DejaVuSans-115\"/>\r\n     <use x=\"511.03125\" xlink:href=\"#DejaVuSans-116\"/>\r\n     <use x=\"550.240234\" xlink:href=\"#DejaVuSans-114\"/>\r\n     <use x=\"591.353516\" xlink:href=\"#DejaVuSans-105\"/>\r\n     <use x=\"619.136719\" xlink:href=\"#DejaVuSans-98\"/>\r\n     <use x=\"682.613281\" xlink:href=\"#DejaVuSans-117\"/>\r\n     <use x=\"745.992188\" xlink:href=\"#DejaVuSans-116\"/>\r\n     <use x=\"785.201172\" xlink:href=\"#DejaVuSans-105\"/>\r\n     <use x=\"812.984375\" xlink:href=\"#DejaVuSans-111\"/>\r\n     <use x=\"874.166016\" xlink:href=\"#DejaVuSans-110\"/>\r\n    </g>\r\n   </g>\r\n  </g>\r\n </g>\r\n <defs>\r\n  <clipPath id=\"p3ea81d8c01\">\r\n   <rect height=\"217.44\" width=\"334.8\" x=\"59.690625\" y=\"22.318125\"/>\r\n  </clipPath>\r\n </defs>\r\n</svg>\r\n",
      "image/png": "[encoded data removed]"
     },
     "metadata": {
      "needs_background": "light"
     }
    }
   ],
   "source": [
    "print(df_new['rating'].value_counts().sort_index(ascending=False))\n",
    "df_new.rating.value_counts().sort_index(ascending=False).plot(kind=\"bar\",title='Rating Distribution',xlabel='Star Rating',ylabel=\"Frequency\");"
   ]
  },
  {
   "cell_type": "code",
   "execution_count": null,
   "metadata": {},
   "outputs": [],
   "source": []
  }
 ],
 "metadata": {
  "kernelspec": {
   "name": "python383jvsc74a57bd0e079647b578f6e22f42cb979ca5c90bb711697013bb834e432a2160cedf42143",
   "display_name": "Python 3.8.3 64-bit (conda)"
  },
  "language_info": {
   "codemirror_mode": {
    "name": "ipython",
    "version": 3
   },
   "file_extension": ".py",
   "mimetype": "text/x-python",
   "name": "python",
   "nbconvert_exporter": "python",
   "pygments_lexer": "ipython3",
   "version": "3.8.3"
  }
 },
 "nbformat": 4,
 "nbformat_minor": 2
}