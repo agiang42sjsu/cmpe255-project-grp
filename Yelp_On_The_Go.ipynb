{
  "nbformat": 4,
  "nbformat_minor": 0,
  "metadata": {
    "colab": {
      "name": "Yelp-On-The-Go.ipynb",
      "provenance": [],
      "include_colab_link": true
    },
    "kernelspec": {
      "name": "python3",
      "display_name": "Python 3"
    },
    "language_info": {
      "name": "python"
    },
    "accelerator": "GPU"
  },
  "cells": [
    {
      "cell_type": "markdown",
      "metadata": {
        "id": "view-in-github",
        "colab_type": "text"
      },
      "source": [
        "<a href=\"https://colab.research.google.com/github/jonnells/cmpe255-project-grp/blob/main/Yelp_On_The_Go.ipynb\" target=\"_parent\"><img src=\"https://colab.research.google.com/assets/colab-badge.svg\" alt=\"Open In Colab\"/></a>"
      ]
    },
    {
      "cell_type": "code",
      "metadata": {
        "id": "nTv4agjeui2C"
      },
      "source": [
        "import os\n",
        "import json"
      ],
      "execution_count": 1,
      "outputs": []
    },
    {
      "cell_type": "code",
      "metadata": {
        "id": "HERfeACO0oCj"
      },
      "source": [
        "yelp_dataset_fp = 'yelp_dataset/'"
      ],
      "execution_count": 3,
      "outputs": []
    },
    {
      "cell_type": "code",
      "metadata": {
        "id": "rRiKEWPaujXo",
        "colab": {
          "base_uri": "https://localhost:8080/"
        },
        "outputId": "9daa4d3b-12cc-4e52-8a75-8645322b0f50"
      },
      "source": [
        "user_data = []\n",
        "with open(yelp_dataset_fp + 'yelp_academic_dataset_user.json', encoding=\"utf8\") as fin:\n",
        "    print('Reading yelp_academic_dataset_user.json')\n",
        "    for line in fin:\n",
        "        user_data.append(json.loads(line))"
      ],
      "execution_count": 4,
      "outputs": [
        {
          "output_type": "stream",
          "text": [
            "Reading yelp_academic_dataset_user.json\n"
          ],
          "name": "stdout"
        }
      ]
    },
    {
      "cell_type": "code",
      "metadata": {
        "colab": {
          "base_uri": "https://localhost:8080/"
        },
        "id": "nPA4DzOw5sni",
        "outputId": "99842da1-0997-4726-ac31-c2c3725d1958"
      },
      "source": [
        "review_data = []\n",
        "with open(yelp_dataset_fp + 'yelp_academic_dataset_review.json', encoding=\"utf8\") as fin:\n",
        "    print('Reading yelp_academic_dataset_review.json')\n",
        "    for line in fin:\n",
        "        review_data.append(json.loads(line))"
      ],
      "execution_count": null,
      "outputs": [
        {
          "output_type": "stream",
          "text": [
            "Reading yelp_academic_dataset_review.json\n"
          ],
          "name": "stdout"
        }
      ]
    },
    {
      "cell_type": "code",
      "metadata": {
        "id": "pMdVzJCwulNR"
      },
      "source": [
        "print(len(user_data) + ' user records loaded')\n",
        "print(len(review_data) + ' review records loaded')"
      ],
      "execution_count": null,
      "outputs": []
    }
  ]
}