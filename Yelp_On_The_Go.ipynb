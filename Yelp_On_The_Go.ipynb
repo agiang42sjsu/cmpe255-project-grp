{
  "nbformat": 4,
  "nbformat_minor": 0,
  "metadata": {
    "colab": {
      "name": "Yelp-On-The-Go.ipynb",
      "provenance": [],
      "authorship_tag": "ABX9TyPBf9zt7uDFyc4Tql2Hq0nz",
      "include_colab_link": true
    },
    "kernelspec": {
      "name": "python3",
      "display_name": "Python 3"
    },
    "language_info": {
      "name": "python"
    },
    "accelerator": "TPU"
  },
  "cells": [
    {
      "cell_type": "markdown",
      "metadata": {
        "id": "view-in-github",
        "colab_type": "text"
      },
      "source": [
        "<a href=\"https://colab.research.google.com/github/jonnells/cmpe255-project-grp/blob/main/Yelp_On_The_Go.ipynb\" target=\"_parent\"><img src=\"https://colab.research.google.com/assets/colab-badge.svg\" alt=\"Open In Colab\"/></a>"
      ]
    },
    {
      "cell_type": "code",
      "metadata": {
        "colab": {
          "base_uri": "https://localhost:8080/"
        },
        "id": "Olxjuk3jeHFH",
        "outputId": "ebf9a168-7efa-41e6-ff74-8848c0ac8a70"
      },
      "source": [
        "from psutil import virtual_memory\n",
        "ram_gb = virtual_memory().total / 1e9\n",
        "print('{:.1f}'.format(ram_gb))"
      ],
      "execution_count": null,
      "outputs": [
        {
          "output_type": "stream",
          "text": [
            "13.6\n"
          ],
          "name": "stdout"
        }
      ]
    },
    {
      "cell_type": "code",
      "metadata": {
        "id": "nTv4agjeui2C"
      },
      "source": [
        "import os\n",
        "import json"
      ],
      "execution_count": null,
      "outputs": []
    },
    {
      "cell_type": "code",
      "metadata": {
        "id": "rRiKEWPaujXo"
      },
      "source": [
        "user_data = []\n",
        "with open('yelp_dataset/yelp_academic_dataset_user.json', encoding=\"utf8\") as fin:\n",
        "    print('Reading yelp_academic_dataset_user.json')\n",
        "    for line in fin:\n",
        "        user_data.append(json.loads(line))\n",
        "        \n",
        "review_data = []\n",
        "with open('yelp_dataset/yelp_academic_dataset_review.json', encoding=\"utf8\") as fin:\n",
        "    print('Reading yelp_academic_dataset_review.json')\n",
        "    for line in fin:\n",
        "        review_data.append(json.loads(line))"
      ],
      "execution_count": null,
      "outputs": []
    },
    {
      "cell_type": "code",
      "metadata": {
        "id": "pMdVzJCwulNR"
      },
      "source": [
        ""
      ],
      "execution_count": null,
      "outputs": []
    }
  ]
}