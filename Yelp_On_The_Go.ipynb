{
 "cells": [
  {
   "cell_type": "markdown",
   "metadata": {
    "colab_type": "text",
    "id": "view-in-github"
   },
   "source": [
    "<a href=\"https://colab.research.google.com/github/jonnells/cmpe255-project-grp/blob/main/Yelp_On_The_Go.ipynb\" target=\"_parent\"><img src=\"https://colab.research.google.com/assets/colab-badge.svg\" alt=\"Open In Colab\"/></a>"
   ]
  },
  {
   "cell_type": "markdown",
   "metadata": {},
   "source": [
    "# Yelp On the Go!"
   ]
  },
  {
   "cell_type": "code",
   "execution_count": 1,
   "metadata": {
    "id": "nTv4agjeui2C"
   },
   "outputs": [],
   "source": [
    "import os\n",
    "import json\n",
    "import time"
   ]
  },
  {
   "cell_type": "markdown",
   "metadata": {},
   "source": [
    "## Import Data"
   ]
  },
  {
   "cell_type": "code",
   "execution_count": 2,
   "metadata": {
    "id": "HERfeACO0oCj"
   },
   "outputs": [],
   "source": [
    "yelp_dataset_path = 'yelp_dataset/'"
   ]
  },
  {
   "cell_type": "code",
   "execution_count": 3,
   "metadata": {
    "colab": {
     "base_uri": "https://localhost:8080/"
    },
    "id": "rRiKEWPaujXo",
    "outputId": "9daa4d3b-12cc-4e52-8a75-8645322b0f50"
   },
   "outputs": [
    {
     "output_type": "stream",
     "name": "stdout",
     "text": [
      "Reading yelp_academic_dataset_user.json\n",
      "Time taken to load user data: 23 seconds\n"
     ]
    }
   ],
   "source": [
    "user_data = []\n",
    "start = time.time()\n",
    "with open(yelp_dataset_path + 'yelp_academic_dataset_user.json', encoding=\"utf8\") as fin:\n",
    "    print('Reading yelp_academic_dataset_user.json')\n",
    "    for line in fin:\n",
    "        user_data.append(json.loads(line))\n",
    "end = time.time()\n",
    "duration_without_dr = end-start\n",
    "print(\"Time taken to load user data: %d seconds\" %duration_without_dr)"
   ]
  },
  {
   "cell_type": "code",
   "execution_count": 4,
   "metadata": {},
   "outputs": [
    {
     "output_type": "stream",
     "name": "stdout",
     "text": [
      "Reading yelp_academic_dataset_business.json\n",
      "Time taken to load business data: 2 seconds\n"
     ]
    }
   ],
   "source": [
    "business_data = []\n",
    "start = time.time()\n",
    "with open(yelp_dataset_path + 'yelp_academic_dataset_business.json', encoding=\"utf8\") as fin:\n",
    "    print('Reading yelp_academic_dataset_business.json')\n",
    "    for line in fin:\n",
    "        business_data.append(json.loads(line))\n",
    "\n",
    "end = time.time()\n",
    "duration_without_dr = end-start\n",
    "print(\"Time taken to load business data: %d seconds\" %duration_without_dr)"
   ]
  },
  {
   "cell_type": "markdown",
   "metadata": {},
   "source": [
    "## Data Investigation"
   ]
  },
  {
   "cell_type": "code",
   "execution_count": 5,
   "metadata": {
    "id": "pMdVzJCwulNR"
   },
   "outputs": [
    {
     "output_type": "stream",
     "name": "stdout",
     "text": [
      "2189457 user records loaded\n160585 business records loaded\n"
     ]
    }
   ],
   "source": [
    "print(str(len(user_data)) + ' user records loaded')\n",
    "#print(str(len(review_data)) + ' review records loaded')\n",
    "print(str(len(business_data)) + ' business records loaded')"
   ]
  },
  {
   "cell_type": "code",
   "execution_count": 6,
   "metadata": {},
   "outputs": [
    {
     "output_type": "stream",
     "name": "stdout",
     "text": [
      "dict_keys(['user_id', 'name', 'review_count', 'yelping_since', 'useful', 'funny', 'cool', 'elite', 'friends', 'fans', 'average_stars', 'compliment_hot', 'compliment_more', 'compliment_profile', 'compliment_cute', 'compliment_list', 'compliment_note', 'compliment_plain', 'compliment_cool', 'compliment_funny', 'compliment_writer', 'compliment_photos'])\n"
     ]
    }
   ],
   "source": [
    "print(user_data[0].keys())"
   ]
  },
  {
   "cell_type": "code",
   "execution_count": 7,
   "metadata": {},
   "outputs": [],
   "source": [
    "#print(review_data[0].keys())"
   ]
  },
  {
   "cell_type": "code",
   "execution_count": 8,
   "metadata": {},
   "outputs": [
    {
     "output_type": "stream",
     "name": "stdout",
     "text": [
      "dict_keys(['business_id', 'name', 'address', 'city', 'state', 'postal_code', 'latitude', 'longitude', 'stars', 'review_count', 'is_open', 'attributes', 'categories', 'hours'])\n"
     ]
    }
   ],
   "source": [
    "print(business_data[0].keys())"
   ]
  },
  {
   "cell_type": "markdown",
   "metadata": {},
   "source": [
    "## Data Pre-processing"
   ]
  },
  {
   "cell_type": "markdown",
   "metadata": {},
   "source": [
    "Remove users that do not have enough reviews (10)"
   ]
  },
  {
   "cell_type": "code",
   "execution_count": 9,
   "metadata": {},
   "outputs": [],
   "source": [
    "user_data = [user for user in user_data if user.get('review_count') >= 15]"
   ]
  },
  {
   "cell_type": "code",
   "execution_count": 10,
   "metadata": {},
   "outputs": [
    {
     "output_type": "stream",
     "name": "stdout",
     "text": [
      "573316 useful user records\n"
     ]
    }
   ],
   "source": [
    "print(str(len(user_data)) + ' useful user records')"
   ]
  },
  {
   "cell_type": "markdown",
   "metadata": {},
   "source": [
    "Only keep restaurant related businesses"
   ]
  },
  {
   "cell_type": "code",
   "execution_count": 11,
   "metadata": {},
   "outputs": [
    {
     "output_type": "stream",
     "name": "stdout",
     "text": [
      "{'business_id': '6iYb2HFDywm3zjuRg0shjw', 'name': 'Oskar Blues Taproom', 'address': '921 Pearl St', 'city': 'Boulder', 'state': 'CO', 'postal_code': '80302', 'latitude': 40.0175444, 'longitude': -105.2833481, 'stars': 4.0, 'review_count': 86, 'is_open': 1, 'attributes': {'RestaurantsTableService': 'True', 'WiFi': \"u'free'\", 'BikeParking': 'True', 'BusinessParking': \"{'garage': False, 'street': True, 'validated': False, 'lot': False, 'valet': False}\", 'BusinessAcceptsCreditCards': 'True', 'RestaurantsReservations': 'False', 'WheelchairAccessible': 'True', 'Caters': 'True', 'OutdoorSeating': 'True', 'RestaurantsGoodForGroups': 'True', 'HappyHour': 'True', 'BusinessAcceptsBitcoin': 'False', 'RestaurantsPriceRange2': '2', 'Ambience': \"{'touristy': False, 'hipster': False, 'romantic': False, 'divey': False, 'intimate': False, 'trendy': False, 'upscale': False, 'classy': False, 'casual': True}\", 'HasTV': 'True', 'Alcohol': \"'beer_and_wine'\", 'GoodForMeal': \"{'dessert': False, 'latenight': False, 'lunch': False, 'dinner': False, 'brunch': False, 'breakfast': False}\", 'DogsAllowed': 'False', 'RestaurantsTakeOut': 'True', 'NoiseLevel': \"u'average'\", 'RestaurantsAttire': \"'casual'\", 'RestaurantsDelivery': 'None'}, 'categories': 'Gastropubs, Food, Beer Gardens, Restaurants, Bars, American (Traditional), Beer Bar, Nightlife, Breweries', 'hours': {'Monday': '11:0-23:0', 'Tuesday': '11:0-23:0', 'Wednesday': '11:0-23:0', 'Thursday': '11:0-23:0', 'Friday': '11:0-23:0', 'Saturday': '11:0-23:0', 'Sunday': '11:0-23:0'}}\n"
     ]
    }
   ],
   "source": [
    "print(business_data[0])"
   ]
  },
  {
   "cell_type": "code",
   "execution_count": 12,
   "metadata": {},
   "outputs": [],
   "source": [
    "restaurant_category = 'Restaurants'\n",
    "restaurant_data = []\n",
    "for business in business_data:\n",
    "    try:\n",
    "        if restaurant_category in business.get('categories',):\n",
    "            restaurant_data.append(business)\n",
    "    except:\n",
    "        pass\n",
    "        \n",
    "\n",
    "#restaurant_data = [business for business in business_data if restaurant_category in business.get('categories', default=None)]"
   ]
  },
  {
   "cell_type": "code",
   "execution_count": 13,
   "metadata": {},
   "outputs": [
    {
     "output_type": "stream",
     "name": "stdout",
     "text": [
      "50763 restaurant records\n"
     ]
    }
   ],
   "source": [
    "print(str(len(restaurant_data)) + ' restaurant records')"
   ]
  },
  {
   "cell_type": "markdown",
   "metadata": {},
   "source": [
    "Grab imporant attributes"
   ]
  },
  {
   "cell_type": "code",
   "execution_count": 14,
   "metadata": {
    "tags": []
   },
   "outputs": [],
   "source": [
    "restaurant_ids = [restaurant.get('business_id') for restaurant in restaurant_data]"
   ]
  },
  {
   "cell_type": "code",
   "execution_count": 15,
   "metadata": {},
   "outputs": [],
   "source": [
    "restaurant_stars = [restaurant.get('stars') for restaurant in restaurant_data]"
   ]
  },
  {
   "cell_type": "code",
   "execution_count": 16,
   "metadata": {},
   "outputs": [],
   "source": [
    "user_ids = [user.get('user_id') for user in user_data]"
   ]
  },
  {
   "cell_type": "code",
   "execution_count": 17,
   "metadata": {},
   "outputs": [
    {
     "output_type": "stream",
     "name": "stdout",
     "text": [
      "['ABE', 'BC', 'CO', 'FL', 'GA', 'KS', 'KY', 'MA', 'MN', 'NH', 'OH', 'OR', 'TX', 'VA', 'WA', 'WY']\nNumber of restaurants by state\n {'ABE': 1, 'BC': 7506, 'CO': 865, 'FL': 7710, 'GA': 6140, 'KS': 1, 'KY': 1, 'MA': 10550, 'MN': 1, 'NH': 1, 'OH': 4377, 'OR': 7391, 'TX': 5444, 'VA': 1, 'WA': 773, 'WY': 1}\n"
     ]
    }
   ],
   "source": [
    "states = [restaurant.get('state') for restaurant in restaurant_data]\n",
    "tempset = set(states)\n",
    "states = sorted(list(tempset))\n",
    "print(states)\n",
    "restaurant_len = [1, 7506, 865, 7710, 6140, 1, 1, 10550, 1, 1, 4377, 7391, 5444, 1, 773, 1]\n",
    "restaurants_by_state = {states[i]: restaurant_len[i] for i in range(len(states))}\n",
    "print('Number of restaurants by state\\n',restaurants_by_state)"
   ]
  },
  {
   "cell_type": "code",
   "execution_count": 18,
   "metadata": {
    "tags": []
   },
   "outputs": [],
   "source": [
    "#ABE_restaurants = [restaurant for restaurant in restaurant_data if 'ABE' in restaurant.get('state')]\n",
    "#BC_restaurants = [restaurant for restaurant in restaurant_data if 'BC' in restaurant.get('state')]\n",
    "CO_restaurants = [restaurant for restaurant in restaurant_data if 'CO' in restaurant.get('state')]\n",
    "#FL_restaurants = [restaurant for restaurant in restaurant_data if 'FL' in restaurant.get('state')]\n",
    "#GA_restaurants = [restaurant for restaurant in restaurant_data if 'GA' in restaurant.get('state')]\n",
    "#KS_restaurants = [restaurant for restaurant in restaurant_data if 'KS' in restaurant.get('state')]\n",
    "#KY_restaurants = [restaurant for restaurant in restaurant_data if 'KY' in restaurant.get('state')]\n",
    "MA_restaurants = [restaurant for restaurant in restaurant_data if 'MA' in restaurant.get('state')]\n",
    "#MN_restaurants = [restaurant for restaurant in restaurant_data if 'MN' in restaurant.get('state')]\n",
    "#NH_restaurants = [restaurant for restaurant in restaurant_data if 'NH' in restaurant.get('state')]\n",
    "#OH_restaurants = [restaurant for restaurant in restaurant_data if 'OH' in restaurant.get('state')]\n",
    "#OR_restaurants = [restaurant for restaurant in restaurant_data if 'OR' in restaurant.get('state')]\n",
    "#TX_restaurants = [restaurant for restaurant in restaurant_data if 'TX' in restaurant.get('state')]\n",
    "#VA_restaurants = [restaurant for restaurant in restaurant_data if 'VA' in restaurant.get('state')]\n",
    "#WA_restaurants = [restaurant for restaurant in restaurant_data if 'WA' in restaurant.get('state')]\n",
    "#WY_restaurants = [restaurant for restaurant in restaurant_data if 'WY' in restaurant.get('state')]\n",
    "\n",
    "\n",
    "\n",
    "\n",
    "\n",
    "\n",
    "\n",
    "\n",
    "#restaurant_len = [len(ABE_restaurants),len(BC_restaurants),len(CO_restaurants),len(FL_restaurants),len(GA_restaurants),len(KS_restaurants),len(KY_restaurants),len(MA_restaurants),len(MN_restaurants),len(NH_restaurants),len(OH_restaurants),len(OR_restaurants),len(TX_restaurants),len(VA_restaurants),len(WA_restaurants),len(WY_restaurants)]"
   ]
  },
  {
   "cell_type": "code",
   "execution_count": 19,
   "metadata": {},
   "outputs": [],
   "source": [
    "with open('MA_restaurants.json', 'a') as outfile:\n",
    "    json.dump(MA_restaurants, outfile, indent=1)"
   ]
  },
  {
   "cell_type": "code",
   "execution_count": 20,
   "metadata": {
    "tags": []
   },
   "outputs": [
    {
     "output_type": "stream",
     "name": "stdout",
     "text": [
      "Sat May 22 13:07:42 2021\n",
      "Reading yelp_academic_dataset_review.json\n",
      "Looking at 100000  reviews at 0 seconds\n",
      "Looking at 200000  reviews at 1 seconds\n",
      "Looking at 300000  reviews at 2 seconds\n",
      "Looking at 400000  reviews at 2 seconds\n",
      "Looking at 500000  reviews at 3 seconds\n",
      "Looking at 600000  reviews at 4 seconds\n",
      "Looking at 700000  reviews at 4 seconds\n",
      "Looking at 800000  reviews at 5 seconds\n",
      "Looking at 900000  reviews at 6 seconds\n",
      "Looking at 1000000  reviews at 6 seconds\n",
      "Looking at 1100000  reviews at 7 seconds\n",
      "Looking at 1200000  reviews at 7 seconds\n",
      "Looking at 1300000  reviews at 8 seconds\n",
      "Looking at 1400000  reviews at 9 seconds\n",
      "Looking at 1500000  reviews at 9 seconds\n",
      "Looking at 1600000  reviews at 10 seconds\n",
      "Looking at 1700000  reviews at 11 seconds\n",
      "Looking at 1800000  reviews at 11 seconds\n",
      "Looking at 1900000  reviews at 12 seconds\n",
      "Looking at 2000000  reviews at 13 seconds\n",
      "Looking at 2100000  reviews at 13 seconds\n",
      "Looking at 2200000  reviews at 14 seconds\n",
      "Looking at 2300000  reviews at 15 seconds\n",
      "Looking at 2400000  reviews at 15 seconds\n",
      "Looking at 2500000  reviews at 16 seconds\n",
      "Looking at 2600000  reviews at 16 seconds\n",
      "Looking at 2700000  reviews at 17 seconds\n",
      "Looking at 2800000  reviews at 18 seconds\n",
      "Looking at 2900000  reviews at 18 seconds\n",
      "Looking at 3000000  reviews at 19 seconds\n",
      "Looking at 3100000  reviews at 20 seconds\n",
      "Looking at 3200000  reviews at 20 seconds\n",
      "Looking at 3300000  reviews at 21 seconds\n",
      "Looking at 3400000  reviews at 22 seconds\n",
      "Looking at 3500000  reviews at 22 seconds\n",
      "Looking at 3600000  reviews at 23 seconds\n",
      "Looking at 3700000  reviews at 24 seconds\n",
      "Looking at 3800000  reviews at 24 seconds\n",
      "Looking at 3900000  reviews at 25 seconds\n",
      "Looking at 4000000  reviews at 26 seconds\n",
      "Looking at 4100000  reviews at 26 seconds\n",
      "Looking at 4200000  reviews at 27 seconds\n",
      "Looking at 4300000  reviews at 27 seconds\n",
      "Looking at 4400000  reviews at 28 seconds\n",
      "Looking at 4500000  reviews at 29 seconds\n",
      "Looking at 4600000  reviews at 29 seconds\n",
      "Looking at 4700000  reviews at 30 seconds\n",
      "Looking at 4800000  reviews at 31 seconds\n",
      "Looking at 4900000  reviews at 31 seconds\n",
      "Looking at 5000000  reviews at 32 seconds\n",
      "Looking at 5100000  reviews at 33 seconds\n",
      "Looking at 5200000  reviews at 33 seconds\n",
      "Looking at 5300000  reviews at 34 seconds\n",
      "Looking at 5400000  reviews at 35 seconds\n",
      "Looking at 5500000  reviews at 35 seconds\n",
      "Looking at 5600000  reviews at 36 seconds\n",
      "Looking at 5700000  reviews at 37 seconds\n",
      "Looking at 5800000  reviews at 37 seconds\n",
      "Looking at 5900000  reviews at 38 seconds\n",
      "Looking at 6000000  reviews at 38 seconds\n",
      "Looking at 6100000  reviews at 39 seconds\n",
      "Looking at 6200000  reviews at 40 seconds\n",
      "Looking at 6300000  reviews at 40 seconds\n",
      "Looking at 6400000  reviews at 41 seconds\n",
      "Looking at 6500000  reviews at 42 seconds\n",
      "Looking at 6600000  reviews at 42 seconds\n",
      "Looking at 6700000  reviews at 43 seconds\n",
      "Looking at 6800000  reviews at 44 seconds\n",
      "Looking at 6900000  reviews at 44 seconds\n",
      "Looking at 7000000  reviews at 45 seconds\n",
      "Looking at 7100000  reviews at 46 seconds\n",
      "Looking at 7200000  reviews at 46 seconds\n",
      "Looking at 7300000  reviews at 47 seconds\n",
      "Looking at 7400000  reviews at 48 seconds\n",
      "Looking at 7500000  reviews at 48 seconds\n",
      "Looking at 7600000  reviews at 49 seconds\n",
      "Looking at 7700000  reviews at 50 seconds\n",
      "Looking at 7800000  reviews at 50 seconds\n",
      "Looking at 7900000  reviews at 51 seconds\n",
      "Looking at 8000000  reviews at 52 seconds\n",
      "Looking at 8100000  reviews at 52 seconds\n",
      "Looking at 8200000  reviews at 53 seconds\n",
      "Looking at 8300000  reviews at 53 seconds\n",
      "Looking at 8400000  reviews at 54 seconds\n",
      "Looking at 8500000  reviews at 55 seconds\n",
      "Looking at 8600000  reviews at 55 seconds\n",
      "Time taken to load review data: 56 seconds\n"
     ]
    }
   ],
   "source": [
    "review_data = []\n",
    "MA_restaurants_id = set([restaurant.get('business_id') for restaurant in MA_restaurants])\n",
    "valid_user_id = set([user.get('user_id') for user in user_data])\n",
    "start = time.time()\n",
    "print(time.asctime())\n",
    "with open(yelp_dataset_path + 'yelp_academic_dataset_review.json', encoding=\"utf8\") as fin:\n",
    "    print('Reading yelp_academic_dataset_review.json')\n",
    "    for line in fin:\n",
    "        review = json.loads(line)\n",
    "        if review.get('business_id') in MA_restaurants_id:\n",
    "            if review.get('user_id') in valid_user_id:\n",
    "                review_data.append(review)\n",
    "\n",
    "end = time.time()\n",
    "duration_without_dr = end-start\n",
    "print(\"Time taken to load review data: %d seconds\" %duration_without_dr)"
   ]
  },
  {
   "cell_type": "code",
   "execution_count": 21,
   "metadata": {},
   "outputs": [],
   "source": [
    "with open('MA_reviews.json', 'a') as outfile:\n",
    "    json.dump(review_data, outfile, indent=1)"
   ]
  },
  {
   "cell_type": "code",
   "execution_count": 22,
   "metadata": {},
   "outputs": [
    {
     "output_type": "stream",
     "name": "stdout",
     "text": [
      "dict_keys(['review_id', 'user_id', 'business_id', 'stars', 'useful', 'funny', 'cool', 'text', 'date'])\n"
     ]
    }
   ],
   "source": [
    "print(review_data[0].keys())"
   ]
  },
  {
   "cell_type": "code",
   "execution_count": 23,
   "metadata": {},
   "outputs": [],
   "source": [
    "MA_users = []\n",
    "MA_user_id = set([review.get('user_id') for review in review_data])\n",
    "for user in user_data:\n",
    "    if user.get('user_id') in MA_user_id:\n",
    "        MA_users.append(user)\n",
    "\n",
    "with open('MA_users.json', 'a') as outfile:\n",
    "    json.dump(MA_users, outfile, indent=1)\n",
    "\n",
    "\n"
   ]
  },
  {
   "cell_type": "code",
   "execution_count": null,
   "metadata": {},
   "outputs": [],
   "source": []
  }
 ],
 "metadata": {
  "accelerator": "GPU",
  "colab": {
   "include_colab_link": true,
   "name": "Yelp-On-The-Go.ipynb",
   "provenance": []
  },
  "kernelspec": {
   "display_name": "Python 3",
   "language": "python",
   "name": "python3"
  },
  "language_info": {
   "codemirror_mode": {
    "name": "ipython",
    "version": 3
   },
   "file_extension": ".py",
   "mimetype": "text/x-python",
   "name": "python",
   "nbconvert_exporter": "python",
   "pygments_lexer": "ipython3",
   "version": "3.8.3"
  }
 },
 "nbformat": 4,
 "nbformat_minor": 1
}