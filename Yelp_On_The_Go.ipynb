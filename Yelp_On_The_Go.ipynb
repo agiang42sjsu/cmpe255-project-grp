{
 "cells": [
  {
   "cell_type": "markdown",
   "metadata": {
    "colab_type": "text",
    "id": "view-in-github"
   },
   "source": [
    "<a href=\"https://colab.research.google.com/github/jonnells/cmpe255-project-grp/blob/main/Yelp_On_The_Go.ipynb\" target=\"_parent\"><img src=\"https://colab.research.google.com/assets/colab-badge.svg\" alt=\"Open In Colab\"/></a>"
   ]
  },
  {
   "cell_type": "markdown",
   "metadata": {},
   "source": [
    "# Yelp On the Go!"
   ]
  },
  {
   "cell_type": "code",
   "execution_count": 1,
   "metadata": {
    "id": "nTv4agjeui2C"
   },
   "outputs": [],
   "source": [
    "import os\n",
    "import json"
   ]
  },
  {
   "cell_type": "markdown",
   "metadata": {},
   "source": [
    "## Import Data"
   ]
  },
  {
   "cell_type": "code",
   "execution_count": 2,
   "metadata": {
    "id": "HERfeACO0oCj"
   },
   "outputs": [],
   "source": [
    "yelp_dataset_path = 'yelp_dataset/'"
   ]
  },
  {
   "cell_type": "code",
   "execution_count": 4,
   "metadata": {
    "colab": {
     "base_uri": "https://localhost:8080/"
    },
    "id": "rRiKEWPaujXo",
    "outputId": "9daa4d3b-12cc-4e52-8a75-8645322b0f50"
   },
   "outputs": [
    {
     "output_type": "stream",
     "name": "stdout",
     "text": [
      "Reading yelp_academic_dataset_user.json\n"
     ]
    }
   ],
   "source": [
    "user_data = []\n",
    "with open(yelp_dataset_path + 'yelp_academic_dataset_user.json', encoding=\"utf8\") as fin:\n",
    "    print('Reading yelp_academic_dataset_user.json')\n",
    "    for line in fin:\n",
    "        user_data.append(json.loads(line))"
   ]
  },
  {
   "cell_type": "code",
   "execution_count": 5,
   "metadata": {
    "colab": {
     "base_uri": "https://localhost:8080/"
    },
    "id": "nPA4DzOw5sni",
    "outputId": "99842da1-0997-4726-ac31-c2c3725d1958"
   },
   "outputs": [
    {
     "output_type": "stream",
     "name": "stdout",
     "text": [
      "Reading yelp_academic_dataset_review.json\n"
     ]
    }
   ],
   "source": [
    "review_data = []\n",
    "with open(yelp_dataset_path + 'yelp_academic_dataset_review.json', encoding=\"utf8\") as fin:\n",
    "    print('Reading yelp_academic_dataset_review.json')\n",
    "    for line in fin:\n",
    "        review_data.append(json.loads(line))"
   ]
  },
  {
   "cell_type": "code",
   "execution_count": 29,
   "metadata": {},
   "outputs": [
    {
     "output_type": "stream",
     "name": "stdout",
     "text": [
      "Reading yelp_academic_dataset_business.json\n"
     ]
    }
   ],
   "source": [
    "business_data = []\n",
    "with open(yelp_dataset_path + 'yelp_academic_dataset_business.json', encoding=\"utf8\") as fin:\n",
    "    print('Reading yelp_academic_dataset_business.json')\n",
    "    for line in fin:\n",
    "        business_data.append(json.loads(line))"
   ]
  },
  {
   "cell_type": "markdown",
   "metadata": {},
   "source": [
    "## Data Investigation"
   ]
  },
  {
   "cell_type": "code",
   "execution_count": 31,
   "metadata": {
    "id": "pMdVzJCwulNR"
   },
   "outputs": [
    {
     "output_type": "stream",
     "name": "stdout",
     "text": [
      "573316 user records loaded\n8635403 review records loaded\n160585 business records loaded\n"
     ]
    }
   ],
   "source": [
    "print(str(len(user_data)) + ' user records loaded')\n",
    "print(str(len(review_data)) + ' review records loaded')\n",
    "print(str(len(business_data)) + ' business records loaded')"
   ]
  },
  {
   "cell_type": "code",
   "execution_count": 8,
   "metadata": {},
   "outputs": [
    {
     "output_type": "stream",
     "name": "stdout",
     "text": [
      "dict_keys(['user_id', 'name', 'review_count', 'yelping_since', 'useful', 'funny', 'cool', 'elite', 'friends', 'fans', 'average_stars', 'compliment_hot', 'compliment_more', 'compliment_profile', 'compliment_cute', 'compliment_list', 'compliment_note', 'compliment_plain', 'compliment_cool', 'compliment_funny', 'compliment_writer', 'compliment_photos'])\n"
     ]
    }
   ],
   "source": [
    "print(user_data[0].keys())"
   ]
  },
  {
   "cell_type": "code",
   "execution_count": 9,
   "metadata": {},
   "outputs": [
    {
     "output_type": "stream",
     "name": "stdout",
     "text": [
      "dict_keys(['review_id', 'user_id', 'business_id', 'stars', 'useful', 'funny', 'cool', 'text', 'date'])\n"
     ]
    }
   ],
   "source": [
    "print(review_data[0].keys())"
   ]
  },
  {
   "cell_type": "code",
   "execution_count": 30,
   "metadata": {},
   "outputs": [
    {
     "output_type": "stream",
     "name": "stdout",
     "text": [
      "dict_keys(['business_id', 'name', 'address', 'city', 'state', 'postal_code', 'latitude', 'longitude', 'stars', 'review_count', 'is_open', 'attributes', 'categories', 'hours'])\n"
     ]
    }
   ],
   "source": [
    "print(business_data[0].keys())"
   ]
  },
  {
   "cell_type": "markdown",
   "metadata": {},
   "source": [
    "## Data Pre-processing"
   ]
  },
  {
   "cell_type": "markdown",
   "metadata": {},
   "source": [
    "Remove users that do not have enough reviews (10)"
   ]
  },
  {
   "cell_type": "code",
   "execution_count": 25,
   "metadata": {},
   "outputs": [],
   "source": [
    "user_data = [user for user in user_data if user.get('review_count') >= 15]"
   ]
  },
  {
   "cell_type": "code",
   "execution_count": 26,
   "metadata": {},
   "outputs": [
    {
     "output_type": "stream",
     "name": "stdout",
     "text": [
      "573316 useful user records\n"
     ]
    }
   ],
   "source": [
    "print(str(len(user_data)) + ' useful user records')"
   ]
  },
  {
   "cell_type": "markdown",
   "metadata": {},
   "source": [
    "Only keep restaurant related businesses"
   ]
  },
  {
   "cell_type": "code",
   "execution_count": 37,
   "metadata": {},
   "outputs": [
    {
     "output_type": "stream",
     "name": "stdout",
     "text": [
      "{'business_id': '6iYb2HFDywm3zjuRg0shjw', 'name': 'Oskar Blues Taproom', 'address': '921 Pearl St', 'city': 'Boulder', 'state': 'CO', 'postal_code': '80302', 'latitude': 40.0175444, 'longitude': -105.2833481, 'stars': 4.0, 'review_count': 86, 'is_open': 1, 'attributes': {'RestaurantsTableService': 'True', 'WiFi': \"u'free'\", 'BikeParking': 'True', 'BusinessParking': \"{'garage': False, 'street': True, 'validated': False, 'lot': False, 'valet': False}\", 'BusinessAcceptsCreditCards': 'True', 'RestaurantsReservations': 'False', 'WheelchairAccessible': 'True', 'Caters': 'True', 'OutdoorSeating': 'True', 'RestaurantsGoodForGroups': 'True', 'HappyHour': 'True', 'BusinessAcceptsBitcoin': 'False', 'RestaurantsPriceRange2': '2', 'Ambience': \"{'touristy': False, 'hipster': False, 'romantic': False, 'divey': False, 'intimate': False, 'trendy': False, 'upscale': False, 'classy': False, 'casual': True}\", 'HasTV': 'True', 'Alcohol': \"'beer_and_wine'\", 'GoodForMeal': \"{'dessert': False, 'latenight': False, 'lunch': False, 'dinner': False, 'brunch': False, 'breakfast': False}\", 'DogsAllowed': 'False', 'RestaurantsTakeOut': 'True', 'NoiseLevel': \"u'average'\", 'RestaurantsAttire': \"'casual'\", 'RestaurantsDelivery': 'None'}, 'categories': 'Gastropubs, Food, Beer Gardens, Restaurants, Bars, American (Traditional), Beer Bar, Nightlife, Breweries', 'hours': {'Monday': '11:0-23:0', 'Tuesday': '11:0-23:0', 'Wednesday': '11:0-23:0', 'Thursday': '11:0-23:0', 'Friday': '11:0-23:0', 'Saturday': '11:0-23:0', 'Sunday': '11:0-23:0'}}\n"
     ]
    }
   ],
   "source": [
    "print(business_data[0])"
   ]
  },
  {
   "cell_type": "code",
   "execution_count": 58,
   "metadata": {},
   "outputs": [],
   "source": [
    "restaurant_category = 'Restaurants'\n",
    "restaurant_data = []\n",
    "for business in business_data:\n",
    "    try:\n",
    "        if restaurant_category in business.get('categories',):\n",
    "            restaurant_data.append(business)\n",
    "    except:\n",
    "        pass\n",
    "        \n",
    "\n",
    "#restaurant_data = [business for business in business_data if restaurant_category in business.get('categories', default=None)]"
   ]
  },
  {
   "cell_type": "code",
   "execution_count": 59,
   "metadata": {},
   "outputs": [
    {
     "output_type": "stream",
     "name": "stdout",
     "text": [
      "50763 restaurant records\n"
     ]
    }
   ],
   "source": [
    "print(str(len(restaurant_data)) + ' restaurant records')"
   ]
  },
  {
   "cell_type": "markdown",
   "metadata": {},
   "source": [
    "Grab imporant attributes"
   ]
  },
  {
   "cell_type": "code",
   "execution_count": 65,
   "metadata": {
    "tags": []
   },
   "outputs": [],
   "source": [
    "restaurant_ids = [restaurant.get('business_id') for restaurant in restaurant_data]"
   ]
  },
  {
   "cell_type": "code",
   "execution_count": 53,
   "metadata": {},
   "outputs": [],
   "source": [
    "restaurant_stars = [restaurant.get('stars') for restaurant in restaurant_data]"
   ]
  },
  {
   "cell_type": "code",
   "execution_count": 54,
   "metadata": {},
   "outputs": [],
   "source": [
    "user_ids = [user.get('user_id') for user in user_data]"
   ]
  },
  {
   "cell_type": "code",
   "execution_count": 69,
   "metadata": {},
   "outputs": [
    {
     "output_type": "stream",
     "name": "stdout",
     "text": [
      "['MN', 'GA', 'NH', 'TX', 'OH', 'BC', 'WA', 'WY', 'OR', 'MA', 'FL', 'VA', 'KY', 'KS', 'ABE', 'CO']\n"
     ]
    }
   ],
   "source": [
    "states = [restaurant.get('state') for restaurant in restaurant_data]\n",
    "tempset = set(states)\n",
    "states = list(tempset)\n",
    "print(states)"
   ]
  },
  {
   "cell_type": "code",
   "execution_count": 89,
   "metadata": {
    "tags": []
   },
   "outputs": [],
   "source": [
    "MN_restaurants = [restaurant for restaurant in restaurant_data if 'MN' in restaurant.get('state')]\n",
    "GA_restaurants = [restaurant for restaurant in restaurant_data if 'GA' in restaurant.get('state')]\n",
    "NH_restaurants = [restaurant for restaurant in restaurant_data if 'NH' in restaurant.get('state')]\n",
    "TX_restaurants = [restaurant for restaurant in restaurant_data if 'TX' in restaurant.get('state')]\n",
    "OH_restaurants = [restaurant for restaurant in restaurant_data if 'OH' in restaurant.get('state')]\n",
    "BC_restaurants = [restaurant for restaurant in restaurant_data if 'BC' in restaurant.get('state')]\n",
    "WA_restaurants = [restaurant for restaurant in restaurant_data if 'WA' in restaurant.get('state')]\n",
    "WY_restaurants = [restaurant for restaurant in restaurant_data if 'WY' in restaurant.get('state')]\n",
    "OR_restaurants = [restaurant for restaurant in restaurant_data if 'OR' in restaurant.get('state')]\n",
    "MA_restaurants = [restaurant for restaurant in restaurant_data if 'MA' in restaurant.get('state')]\n",
    "FL_restaurants = [restaurant for restaurant in restaurant_data if 'FL' in restaurant.get('state')]\n",
    "VA_restaurants = [restaurant for restaurant in restaurant_data if 'VA' in restaurant.get('state')]\n",
    "KY_restaurants = [restaurant for restaurant in restaurant_data if 'KY' in restaurant.get('state')]\n",
    "KS_restaurants = [restaurant for restaurant in restaurant_data if 'KS' in restaurant.get('state')]\n",
    "ABE_restaurants = [restaurant for restaurant in restaurant_data if 'ABE' in restaurant.get('state')]\n",
    "CO_restaurants = [restaurant for restaurant in restaurant_data if 'CO' in restaurant.get('state')]"
   ]
  }
 ],
 "metadata": {
  "accelerator": "GPU",
  "colab": {
   "include_colab_link": true,
   "name": "Yelp-On-The-Go.ipynb",
   "provenance": []
  },
  "kernelspec": {
   "display_name": "Python 3",
   "language": "python",
   "name": "python3"
  },
  "language_info": {
   "codemirror_mode": {
    "name": "ipython",
    "version": 3
   },
   "file_extension": ".py",
   "mimetype": "text/x-python",
   "name": "python",
   "nbconvert_exporter": "python",
   "pygments_lexer": "ipython3",
   "version": "3.8.3"
  }
 },
 "nbformat": 4,
 "nbformat_minor": 1
}