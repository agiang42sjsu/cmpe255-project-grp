{
 "cells": [
  {
   "cell_type": "markdown",
   "metadata": {
    "colab_type": "text",
    "id": "view-in-github"
   },
   "source": [
    "<a href=\"https://colab.research.google.com/github/jonnells/cmpe255-project-grp/blob/main/Yelp_On_The_Go.ipynb\" target=\"_parent\"><img src=\"https://colab.research.google.com/assets/colab-badge.svg\" alt=\"Open In Colab\"/></a>"
   ]
  },
  {
   "cell_type": "code",
   "execution_count": 1,
   "metadata": {
    "id": "nTv4agjeui2C"
   },
   "outputs": [],
   "source": [
    "import os\n",
    "import json"
   ]
  },
  {
   "cell_type": "code",
   "execution_count": 2,
   "metadata": {
    "id": "HERfeACO0oCj"
   },
   "outputs": [],
   "source": [
    "yelp_dataset_fp = 'yelp_dataset/'"
   ]
  },
  {
   "cell_type": "code",
   "execution_count": 3,
   "metadata": {
    "colab": {
     "base_uri": "https://localhost:8080/"
    },
    "id": "rRiKEWPaujXo",
    "outputId": "9daa4d3b-12cc-4e52-8a75-8645322b0f50"
   },
   "outputs": [
    {
     "name": "stdout",
     "output_type": "stream",
     "text": [
      "Reading yelp_academic_dataset_user.json\n"
     ]
    }
   ],
   "source": [
    "user_data = []\n",
    "with open(yelp_dataset_fp + 'yelp_academic_dataset_user.json', encoding=\"utf8\") as fin:\n",
    "    print('Reading yelp_academic_dataset_user.json')\n",
    "    for line in fin:\n",
    "        user_data.append(json.loads(line))"
   ]
  },
  {
   "cell_type": "code",
   "execution_count": 4,
   "metadata": {
    "colab": {
     "base_uri": "https://localhost:8080/"
    },
    "id": "nPA4DzOw5sni",
    "outputId": "99842da1-0997-4726-ac31-c2c3725d1958"
   },
   "outputs": [
    {
     "name": "stdout",
     "output_type": "stream",
     "text": [
      "Reading yelp_academic_dataset_review.json\n"
     ]
    }
   ],
   "source": [
    "review_data = []\n",
    "with open(yelp_dataset_fp + 'yelp_academic_dataset_review.json', encoding=\"utf8\") as fin:\n",
    "    print('Reading yelp_academic_dataset_review.json')\n",
    "    for line in fin:\n",
    "        review_data.append(json.loads(line))"
   ]
  },
  {
   "cell_type": "code",
   "execution_count": 6,
   "metadata": {
    "id": "pMdVzJCwulNR"
   },
   "outputs": [
    {
     "name": "stdout",
     "output_type": "stream",
     "text": [
      "2189457 user records loaded\n",
      "8635403 review records loaded\n"
     ]
    }
   ],
   "source": [
    "print(str(len(user_data)) + ' user records loaded')\n",
    "print(str(len(review_data)) + ' review records loaded')"
   ]
  },
  {
   "cell_type": "code",
   "execution_count": null,
   "metadata": {},
   "outputs": [],
   "source": []
  }
 ],
 "metadata": {
  "accelerator": "GPU",
  "colab": {
   "include_colab_link": true,
   "name": "Yelp-On-The-Go.ipynb",
   "provenance": []
  },
  "kernelspec": {
   "display_name": "Python 3",
   "language": "python",
   "name": "python3"
  },
  "language_info": {
   "codemirror_mode": {
    "name": "ipython",
    "version": 3
   },
   "file_extension": ".py",
   "mimetype": "text/x-python",
   "name": "python",
   "nbconvert_exporter": "python",
   "pygments_lexer": "ipython3",
   "version": "3.8.8"
  }
 },
 "nbformat": 4,
 "nbformat_minor": 1
}
