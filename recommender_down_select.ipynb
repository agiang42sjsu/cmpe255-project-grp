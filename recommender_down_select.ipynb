{
 "cells": [
  {
   "source": [
    "\n",
    "# Recommender Similarity Algorithm Downselect File"
   ],
   "cell_type": "markdown",
   "metadata": {}
  },
  {
   "source": [
    "## Import Libraries\n",
    "> We are using the Suprise library because it has all the tools we need to import our dataset, <br>\n",
    "calculate the similarities and errors from all the similairity algorithms, fit the algorithms <br>\n",
    "to our dataset, and then output the similarity matrix."
   ],
   "cell_type": "markdown",
   "metadata": {}
  },
  {
   "cell_type": "code",
   "execution_count": 245,
   "metadata": {},
   "outputs": [
    {
     "output_type": "stream",
     "name": "stdout",
     "text": [
      "Requirement already satisfied: surprise in c:\\users\\albert\\miniconda3\\lib\\site-packages (0.1)\nRequirement already satisfied: scikit-surprise in c:\\users\\albert\\miniconda3\\lib\\site-packages (from surprise) (1.1.1)\nRequirement already satisfied: joblib>=0.11 in c:\\users\\albert\\miniconda3\\lib\\site-packages (from scikit-surprise->surprise) (1.0.1)\nRequirement already satisfied: numpy>=1.11.2 in c:\\users\\albert\\miniconda3\\lib\\site-packages (from scikit-surprise->surprise) (1.20.3)\nRequirement already satisfied: scipy>=1.0.0 in c:\\users\\albert\\miniconda3\\lib\\site-packages (from scikit-surprise->surprise) (1.5.4)\nRequirement already satisfied: six>=1.10.0 in c:\\users\\albert\\appdata\\roaming\\python\\python38\\site-packages (from scikit-surprise->surprise) (1.15.0)\n"
     ]
    }
   ],
   "source": [
    "!pip install surprise"
   ]
  },
  {
   "cell_type": "code",
   "execution_count": 246,
   "metadata": {},
   "outputs": [],
   "source": [
    "import json\n",
    "import time\n",
    "import numpy as np\n",
    "import pandas as pd\n",
    "from surprise.model_selection import GridSearchCV\n",
    "from surprise.model_selection import RandomizedSearchCV\n",
    "from surprise import accuracy\n",
    "from collections import defaultdict\n",
    "from surprise import AlgoBase\n",
    "from surprise import NormalPredictor\n",
    "from surprise import PredictionImpossible\n",
    "from surprise import KNNBasic\n",
    "from surprise import KNNWithMeans\n",
    "from surprise import KNNWithZScore\n",
    "from surprise import SVD\n",
    "from surprise import SVDpp\n",
    "from surprise import Dataset\n",
    "from surprise import Reader\n",
    "from surprise import dump\n",
    "from surprise.model_selection import cross_validate"
   ]
  },
  {
   "source": [
    "## Import Preprocessed User, Restaurant, and Review Data"
   ],
   "cell_type": "markdown",
   "metadata": {}
  },
  {
   "cell_type": "code",
   "execution_count": 247,
   "metadata": {},
   "outputs": [
    {
     "output_type": "stream",
     "name": "stdout",
     "text": [
      "Reading MA_users.json\n",
      "Time taken to load user data: 2 seconds\n"
     ]
    }
   ],
   "source": [
    "start = time.time()\n",
    "with open('MA_users.json', encoding=\"utf8\") as fin:\n",
    "    print('Reading',fin.name)\n",
    "    user_data = json.load(fin)\n",
    "end = time.time()\n",
    "duration_without_dr = end-start\n",
    "print(\"Time taken to load user data: %d seconds\" %duration_without_dr)\n"
   ]
  },
  {
   "cell_type": "code",
   "execution_count": 248,
   "metadata": {},
   "outputs": [
    {
     "output_type": "stream",
     "name": "stdout",
     "text": [
      "Reading MA_restaurants.json\nTime taken to load restaurant data: 0 seconds\n"
     ]
    }
   ],
   "source": [
    "start = time.time()\n",
    "with open('MA_restaurants.json', encoding=\"utf8\") as fin:\n",
    "    print('Reading',fin.name)\n",
    "    restaurant_data = json.load(fin)\n",
    "end = time.time()\n",
    "duration_without_dr = end-start\n",
    "print(\"Time taken to load restaurant data: %d seconds\" %duration_without_dr)"
   ]
  },
  {
   "cell_type": "code",
   "execution_count": 249,
   "metadata": {},
   "outputs": [
    {
     "output_type": "stream",
     "name": "stdout",
     "text": [
      "Reading MA_reviews.json\n",
      "Time taken to load review data: 6 seconds\n"
     ]
    }
   ],
   "source": [
    "start = time.time()\n",
    "with open('MA_reviews.json', encoding=\"utf8\") as fin:\n",
    "    print('Reading',fin.name)\n",
    "    review_data = json.load(fin)\n",
    "end = time.time()\n",
    "duration_without_dr = end-start\n",
    "print(\"Time taken to load review data: %d seconds\" %duration_without_dr)"
   ]
  },
  {
   "cell_type": "code",
   "execution_count": 250,
   "metadata": {},
   "outputs": [
    {
     "output_type": "stream",
     "name": "stdout",
     "text": [
      "125521 user records loaded\n914710 review records loaded\n10550 business records loaded\n"
     ]
    }
   ],
   "source": [
    "print(str(len(user_data)) + ' user records loaded')\n",
    "print(str(len(review_data)) + ' review records loaded')\n",
    "print(str(len(restaurant_data)) + ' business records loaded')"
   ]
  },
  {
   "cell_type": "markdown",
   "metadata": {},
   "source": [
    "Create a 2d arary of user IDs and buisness IDs, with ratings(stars) as frequencies"
   ]
  },
  {
   "cell_type": "code",
   "execution_count": 251,
   "metadata": {},
   "outputs": [],
   "source": [
    "user_id_dict = dict()\n",
    "for i,u in enumerate(user_data):\n",
    "    user_id_dict[u['user_id']] = i\n",
    "\n",
    "business_id_dict = dict()\n",
    "for i,r in enumerate(restaurant_data):\n",
    "    business_id_dict[r['business_id']] = i"
   ]
  },
  {
   "cell_type": "code",
   "execution_count": 252,
   "metadata": {},
   "outputs": [
    {
     "output_type": "stream",
     "name": "stdout",
     "text": [
      "(125521, 10550)\n",
      "number of non-zero elements(good ratings): 879189\n"
     ]
    }
   ],
   "source": [
    "rating_mat = np.zeros((len(user_data), len(restaurant_data)))\n",
    "rating_dict = {'user_id': [],\n",
    "               'business_id': [],\n",
    "               'rating': []}\n",
    "\n",
    "for review in review_data:\n",
    "    user_idx = user_id_dict[review['user_id']]\n",
    "    business_idx = business_id_dict[review['business_id']]\n",
    "    rating_mat[user_idx][business_idx] = review['stars']\n",
    "    \n",
    "    rating_dict['user_id'].append(review['user_id'])\n",
    "    rating_dict['business_id'].append(review['business_id'])\n",
    "    rating_dict['rating'].append(review['stars'])\n",
    "\n",
    "print(rating_mat.shape)\n",
    "print('number of non-zero elements(good ratings): ' +str(np.count_nonzero(rating_mat)))"
   ]
  },
  {
   "source": [
    "# This code will be removed and put into preprocessing later"
   ],
   "cell_type": "markdown",
   "metadata": {}
  },
  {
   "cell_type": "code",
   "execution_count": 253,
   "metadata": {},
   "outputs": [
    {
     "output_type": "stream",
     "name": "stdout",
     "text": [
      "The original data frame shape:\t(914710, 3)\nThe new data frame shape:\t(475458, 3)\n"
     ]
    }
   ],
   "source": [
    "df = pd.DataFrame(rating_dict)\n",
    "\n",
    "# filter to only the users/businesses with over 50 reviews\n",
    "# necessary in order to build the anti testset\n",
    "filter_user = df['user_id'].value_counts() >= 15\n",
    "filter_user = filter_user[filter_user].index.tolist()\n",
    "\n",
    "filter_business = df['business_id'].value_counts() > 40\n",
    "filter_business = filter_business[filter_business].index.tolist()\n",
    "\n",
    "df_new = df[(df['user_id'].isin(filter_user)) & (df['business_id'].isin(filter_business))]\n",
    "\n",
    "print('The original data frame shape:\\t{}'.format(df.shape))\n",
    "print('The new data frame shape:\\t{}'.format(df_new.shape))\n",
    "\n",
    "reader = Reader(rating_scale=(1, 5))\n",
    "data = Dataset.load_from_df(df_new[['user_id', 'business_id', 'rating']], reader)"
   ]
  },
  {
   "cell_type": "code",
   "execution_count": 254,
   "metadata": {},
   "outputs": [],
   "source": [
    "if 'rating_mat' in globals():\n",
    "    del rating_mat\n",
    "    del df"
   ]
  },
  {
   "cell_type": "code",
   "execution_count": 255,
   "metadata": {},
   "outputs": [],
   "source": [
    "sim_options = {\n",
    "    \"name\": [\"msd\",\"cosine\"],\n",
    "    \"min_support\": [1,5],\n",
    "    \"user_based\": [False,True]\n",
    "}\n",
    "param_grid = {\"k\": [10, 40],\n",
    "              \"min_k:\": [1, 5, 10],\n",
    "              \"sim_options\": sim_options}"
   ]
  },
  {
   "cell_type": "code",
   "execution_count": 256,
   "metadata": {},
   "outputs": [],
   "source": [
    "#if 'grid_search' in globals():\n",
    "#    del grid_search\n",
    "#grid_search = GridSearchCV(KNNBasic, param_grid, measures = [\"rmse\", \"mae\"], cv=5, n_jobs=3,joblib_verbose=10)\n",
    "#grid_search.fit(data)"
   ]
  },
  {
   "cell_type": "code",
   "execution_count": 257,
   "metadata": {
    "tags": []
   },
   "outputs": [],
   "source": [
    "#KNNBasic_results_df = pd.DataFrame.from_dict(grid_search.cv_results)\n",
    "#algo = KNNBasic_results_df\n",
    "#for n in range(len(algo.params)):\n",
    "#    print('Mean RSME: {0:11.10f} Mean MAE: {1:11.10f} Params{2:}'\n",
    "#          .format(algo.mean_test_rmse[n],algo.mean_test_mae[n],algo.params[n]))\n",
    "#print('\\nBest RSME: {0:11.10f} Best Params:{1:}'\n",
    "#      .format(algo.loc[algo['rank_test_rmse'] == 1, 'mean_test_rmse'].iloc[0],algo.loc[algo['rank_test_rmse'] == 1, 'params'].iloc[0]))\n",
    "#print('\\nBest MAE:  {0:11.10f} Best Params:{1:}'\n",
    "#      .format(algo.loc[algo['rank_test_mae'] == 1, 'mean_test_mae'].iloc[0],algo.loc[algo['rank_test_mae'] == 1, 'params'].iloc[0]))"
   ]
  },
  {
   "source": [
    "## KNNBasic Results\n",
    "Best RSME: 1.0797624464 Best Params:{'k': 40, 'min_k:': 5, 'sim_options': {'name': 'msd', 'min_support': 1, 'user_based': True}} <br>\n",
    "Best MAE:  0.8460764842 Best Params:{'k': 40, 'min_k:': 10, 'sim_options': {'name': 'msd', 'min_support': 1, 'user_based': True}}"
   ],
   "cell_type": "markdown",
   "metadata": {}
  },
  {
   "cell_type": "code",
   "execution_count": 258,
   "metadata": {},
   "outputs": [],
   "source": [
    "#if 'grid_search' in globals():\n",
    "#    del grid_search\n",
    "#grid_search = GridSearchCV(KNNWithMeans, param_grid, measures = [\"rmse\", \"mae\"], cv=5, n_jobs=3,joblib_verbose=10)\n",
    "#grid_search.fit(data)"
   ]
  },
  {
   "cell_type": "code",
   "execution_count": 259,
   "metadata": {},
   "outputs": [],
   "source": [
    "#KNNMeans_results_df = pd.DataFrame.from_dict(grid_search.cv_results)\n",
    "#algo = KNNMeans_results_df\n",
    "#for n in range(len(algo.params)):\n",
    "#    print('Mean RSME: {0:11.10f} Mean MAE: {1:11.10f} Params{2:}'\n",
    "#          .format(algo.mean_test_rmse[n],algo.mean_test_mae[n],algo.params[n]))\n",
    "#print('\\nBest RSME: {0:11.10f} Best Params:{1:}'\n",
    "#      .format(algo.loc[algo['rank_test_rmse'] == 1, 'mean_test_rmse'].iloc[0],algo.loc[algo['rank_test_rmse'] == 1, 'params'].iloc[0]))\n",
    "#print('\\nBest MAE:  {0:11.10f} Best Params:{1:}'\n",
    "#      .format(algo.loc[algo['rank_test_mae'] == 1, 'mean_test_mae'].iloc[0],algo.loc[algo['rank_test_mae'] == 1, 'params'].iloc[0]))"
   ]
  },
  {
   "source": [
    "## KNNMeans Results\n",
    "Best RSME: 1.0367942082 Best Params:{'k': 40, 'min_k:': 5, 'sim_options': {'name': 'cosine', 'min_support': 1, 'user_based': False}} <br>\n",
    "Best MAE:  0.8085535760 Best Params:{'k': 40, 'min_k:': 5, 'sim_options': {'name': 'msd', 'min_support': 1, 'user_based': False}}"
   ],
   "cell_type": "markdown",
   "metadata": {}
  },
  {
   "source": [
    "## KNNZScore Grid Search"
   ],
   "cell_type": "markdown",
   "metadata": {}
  },
  {
   "cell_type": "code",
   "execution_count": 260,
   "metadata": {},
   "outputs": [],
   "source": [
    "#if 'grid_search' in globals():\n",
    "#    del grid_search\n",
    "#grid_search = GridSearchCV(KNNWithZScore, param_grid, measures = [\"rmse\", \"mae\"], cv=5, n_jobs=3,joblib_verbose=10)\n",
    "#grid_search.fit(data)"
   ]
  },
  {
   "cell_type": "code",
   "execution_count": 261,
   "metadata": {},
   "outputs": [],
   "source": [
    "#KNNZScore_results_df = pd.DataFrame.from_dict(grid_search.cv_results)\n",
    "#algo = KNNZScore_results_df\n",
    "#for n in range(len(algo.params)):\n",
    "#    print('Mean RSME: {0:11.10f} Mean MAE: {1:11.10f} Params{2:}'\n",
    "#          .format(algo.mean_test_rmse[n],algo.mean_test_mae[n],algo.params[n]))\n",
    "#print('\\nBest RSME: {0:11.10f} Best Params:{1:}'\n",
    "#      .format(algo.loc[algo['rank_test_rmse'] == 1, 'mean_test_rmse'].iloc[0],algo.loc[algo['rank_test_rmse'] == 1, 'params'].iloc[0]))\n",
    "#print('\\nBest MAE:  {0:11.10f} Best Params:{1:}'\n",
    "#      .format(algo.loc[algo['rank_test_mae'] == 1, 'mean_test_mae'].iloc[0],algo.loc[algo['rank_test_mae'] == 1, 'params'].iloc[0]))"
   ]
  },
  {
   "source": [
    "## KNNZScore Results\n",
    "Best RSME: 1.0387852982 Best Params:{'k': 40, 'min_k:': 5, 'sim_options': {'name': 'cosine', 'min_support': 1, 'user_based': False}} <br>\n",
    "Best MAE:  0.8090497383 Best Params:{'k': 40, 'min_k:': 5, 'sim_options': {'name': 'cosine', 'min_support': 1, 'user_based': False}}"
   ],
   "cell_type": "markdown",
   "metadata": {}
  },
  {
   "cell_type": "code",
   "execution_count": 262,
   "metadata": {},
   "outputs": [],
   "source": [
    "from surprise import SVD\n",
    "from surprise import SVDpp"
   ]
  },
  {
   "cell_type": "code",
   "execution_count": 263,
   "metadata": {},
   "outputs": [],
   "source": [
    "sim_options = {\n",
    "    \"n_epochs\": [5, 10, 20, 30],\n",
    "    \"lr_all\": [.0025, .005, .001, .01]}\n"
   ]
  },
  {
   "cell_type": "code",
   "execution_count": 264,
   "metadata": {},
   "outputs": [],
   "source": [
    "#if 'grid_search' in globals():\n",
    "#    del grid_search\n",
    "#grid_search = GridSearchCV(SVD, sim_options, measures = [\"rmse\", \"mae\"], cv=5, n_jobs=9,joblib_verbose=10)\n",
    "#grid_search.fit(data)"
   ]
  },
  {
   "cell_type": "code",
   "execution_count": 265,
   "metadata": {},
   "outputs": [],
   "source": [
    "#SVD_results_df = pd.DataFrame.from_dict(grid_search.cv_results)\n",
    "#algo = SVD_results_df\n",
    "#for n in range(len(algo.params)):\n",
    "#    print('Mean RSME: {0:11.10f} Mean MAE: {1:11.10f} Params{2:}'\n",
    "#          .format(algo.mean_test_rmse[n],algo.mean_test_mae[n],algo.params[n]))\n",
    "#print('\\nBest RSME: {0:11.10f} Best Params:{1:}'\n",
    "#      .format(algo.loc[algo['rank_test_rmse'] == 1, 'mean_test_rmse'].iloc[0],algo.loc[algo['rank_test_rmse'] == 1, 'params'].iloc[0]))\n",
    "#print('\\nBest MAE:  {0:11.10f} Best Params:{1:}'\n",
    "#      .format(algo.loc[algo['rank_test_mae'] == 1, 'mean_test_mae'].iloc[0],algo.loc[algo['rank_test_mae'] == 1, 'params'].iloc[0]))"
   ]
  },
  {
   "source": [
    "## SVD Results\n",
    "\n",
    "Best RSME: 1.0272185025 Best Params:{'n_epochs': 20, 'lr_all': 0.0025} <br>\n",
    "Best MAE:  0.8116613978 Best Params:{'n_epochs': 30, 'lr_all': 0.0025}"
   ],
   "cell_type": "markdown",
   "metadata": {}
  },
  {
   "cell_type": "code",
   "execution_count": 266,
   "metadata": {},
   "outputs": [],
   "source": [
    "#if 'grid_search' in globals():\n",
    "#    del grid_search\n",
    "#grid_search = GridSearchCV(SVDpp, sim_options, measures = [\"rmse\", \"mae\"], cv=5, n_jobs=9,joblib_verbose=10)\n",
    "#grid_search.fit(data)"
   ]
  },
  {
   "cell_type": "code",
   "execution_count": 267,
   "metadata": {},
   "outputs": [],
   "source": [
    "#SVDpp_results_df = pd.DataFrame.from_dict(grid_search.cv_results)\n",
    "#algo = SVDpp_results_df\n",
    "#for n in range(len(algo.params)):\n",
    "#    print('Mean RSME: {0:11.10f} Mean MAE: {1:11.10f} Params{2:}'\n",
    "#          .format(algo.mean_test_rmse[n],algo.mean_test_mae[n],algo.params[n]))\n",
    "#print('\\nBest RSME: {0:11.10f} Best Params:{1:}'\n",
    "#      .format(algo.loc[algo['rank_test_rmse'] == 1, 'mean_test_rmse'].iloc[0],algo.loc[algo['rank_test_rmse'] == 1, 'params'].iloc[0]))\n",
    "#print('\\nBest MAE:  {0:11.10f} Best Params:{1:}'\n",
    "#      .format(algo.loc[algo['rank_test_mae'] == 1, 'mean_test_mae'].iloc[0],algo.loc[algo['rank_test_mae'] == 1, 'params'].iloc[0]))"
   ]
  },
  {
   "source": [
    "## SVDpp Results\n",
    "Best RSME: 1.0230810561 Best Params:{'n_epochs': 30, 'lr_all': 0.0025} <br>\n",
    "Best MAE:  0.8075366007 Best Params:{'n_epochs': 30, 'lr_all': 0.0025}"
   ],
   "cell_type": "markdown",
   "metadata": {}
  },
  {
   "cell_type": "code",
   "execution_count": 268,
   "metadata": {},
   "outputs": [
    {
     "output_type": "stream",
     "name": "stdout",
     "text": [
      "Evaluating RMSE, MAE of algorithm KNNBasic on 5 split(s).\n\n                  Fold 1  Fold 2  Fold 3  Fold 4  Fold 5  Mean    Std     \nRMSE (testset)    1.0818  1.0787  1.0826  1.0750  1.0797  1.0795  0.0027  \nMAE (testset)     0.8511  0.8475  0.8495  0.8436  0.8493  0.8482  0.0026  \nFit time          9.04    9.17    9.18    8.75    8.73    8.98    0.20    \nTest time         12.48   12.30   12.42   12.12   12.13   12.29   0.15    \n"
     ]
    }
   ],
   "source": [
    "sim_options = {\n",
    "    \"name\": \"msd\",\n",
    "    \"min_support\": 1,\n",
    "    \"user_based\": True\n",
    "}\n",
    "\n",
    "algo = KNNBasic(k=40, min_k=10, sim_options=sim_options)\n",
    "cross_validate(algo, data, measures=['RMSE', 'MAE'], cv=5, n_jobs=3, verbose=True);"
   ]
  },
  {
   "cell_type": "code",
   "execution_count": 269,
   "metadata": {},
   "outputs": [
    {
     "output_type": "stream",
     "name": "stdout",
     "text": [
      "Evaluating RMSE, MAE of algorithm KNNWithMeans on 5 split(s).\n\n                  Fold 1  Fold 2  Fold 3  Fold 4  Fold 5  Mean    Std     \nRMSE (testset)    1.0361  1.0352  1.0378  1.0397  1.0369  1.0372  0.0015  \nMAE (testset)     0.8140  0.8136  0.8159  0.8162  0.8149  0.8149  0.0010  \nFit time          7.64    7.75    7.65    7.41    7.33    7.55    0.16    \nTest time         6.19    6.22    6.27    6.08    6.02    6.16    0.09    \n"
     ]
    }
   ],
   "source": [
    "sim_options = {\n",
    "    \"name\": \"cosine\",\n",
    "    \"min_support\": 1,\n",
    "    \"user_based\": False\n",
    "}\n",
    "algo = KNNWithMeans(k=40, min_k=10, sim_options=sim_options)\n",
    "cross_validate(algo, data, measures=['RMSE', 'MAE'], cv=5, n_jobs=3, verbose=True);"
   ]
  },
  {
   "cell_type": "code",
   "execution_count": 270,
   "metadata": {},
   "outputs": [
    {
     "output_type": "stream",
     "name": "stdout",
     "text": [
      "Evaluating RMSE, MAE of algorithm KNNWithZScore on 5 split(s).\n\n                  Fold 1  Fold 2  Fold 3  Fold 4  Fold 5  Mean    Std     \nRMSE (testset)    1.0395  1.0371  1.0360  1.0385  1.0370  1.0376  0.0012  \nMAE (testset)     0.8165  0.8139  0.8123  0.8148  0.8148  0.8145  0.0014  \nFit time          7.96    7.83    7.80    7.47    7.47    7.71    0.20    \nTest time         6.65    6.67    6.69    6.50    6.55    6.61    0.07    \n"
     ]
    }
   ],
   "source": [
    "sim_options = {\n",
    "    \"name\": \"cosine\",\n",
    "    \"min_support\": 1,\n",
    "    \"user_based\": False\n",
    "}\n",
    "algo = KNNWithZScore(k=40, min_k=10, sim_options=sim_options)\n",
    "cross_validate(algo, data, measures=['RMSE', 'MAE'], cv=5, n_jobs=3, verbose=True);"
   ]
  },
  {
   "cell_type": "code",
   "execution_count": 271,
   "metadata": {},
   "outputs": [
    {
     "output_type": "stream",
     "name": "stdout",
     "text": [
      "Evaluating RMSE, MAE of algorithm SVD on 5 split(s).\n\n                  Fold 1  Fold 2  Fold 3  Fold 4  Fold 5  Mean    Std     \nRMSE (testset)    1.0279  1.0294  1.0248  1.0296  1.0268  1.0277  0.0018  \nMAE (testset)     0.8137  0.8159  0.8117  0.8150  0.8127  0.8138  0.0015  \nFit time          15.74   15.66   15.72   15.51   15.63   15.65   0.08    \nTest time         0.60    0.66    0.70    0.65    0.63    0.65    0.03    \n"
     ]
    }
   ],
   "source": [
    "\n",
    "algo = SVD(n_epochs=20, lr_all=0.0025)\n",
    "cross_validate(algo, data, measures=['RMSE', 'MAE'], cv=5, n_jobs=9, verbose=True);"
   ]
  },
  {
   "cell_type": "code",
   "execution_count": 272,
   "metadata": {},
   "outputs": [
    {
     "output_type": "stream",
     "name": "stdout",
     "text": [
      "Evaluating RMSE, MAE of algorithm SVDpp on 5 split(s).\n\n                  Fold 1  Fold 2  Fold 3  Fold 4  Fold 5  Mean    Std     \nRMSE (testset)    1.0227  1.0200  1.0257  1.0242  1.0209  1.0227  0.0021  \nMAE (testset)     0.8079  0.8051  0.8093  0.8092  0.8043  0.8072  0.0021  \nFit time          381.70  378.62  384.34  373.80  373.58  378.41  4.26    \nTest time         4.52    4.50    4.46    4.42    4.39    4.46    0.05    \n"
     ]
    }
   ],
   "source": [
    "algo = SVDpp(n_epochs=30, lr_all=0.0025)\n",
    "cross_validate(algo, data, measures=['RMSE', 'MAE'], cv=5, n_jobs=9, verbose=True);"
   ]
  },
  {
   "cell_type": "markdown",
   "metadata": {},
   "source": [
    "## Algorithm and Parameter Tuning"
   ]
  },
  {
   "cell_type": "code",
   "execution_count": null,
   "metadata": {},
   "outputs": [],
   "source": []
  },
  {
   "cell_type": "markdown",
   "metadata": {},
   "source": [
    "### Validation methods\n",
    "Parameter grid search given the below error measurements:\n",
    "#### Root Mean Square Error (RMSE)\n",
    "* Measures standard deviation of errors in set of predictions\n",
    "* Goal: minimize RMSE\n",
    "\n",
    "#### Mean Absolute Error (MAE)\n",
    "* Measures average magnitude of errors in set of predictions\n",
    "* Goal: minimize MAE"
   ]
  },
  {
   "source": [
    "# Backup Data from Runs"
   ],
   "cell_type": "markdown",
   "metadata": {}
  },
  {
   "source": [
    "## KNNBasic\n",
    "[Parallel(n_jobs=3)]: Using backend LokyBackend with 3 concurrent workers. <br>\n",
    "[Parallel(n_jobs=3)]: Done   2 tasks      | elapsed:    7.9s <br>\n",
    "[Parallel(n_jobs=3)]: Done   7 tasks      | elapsed:   32.7s <br>\n",
    "[Parallel(n_jobs=3)]: Done  12 tasks      | elapsed:   52.2s <br>\n",
    "[Parallel(n_jobs=3)]: Done  19 tasks      | elapsed:  1.5min <br>\n",
    "[Parallel(n_jobs=3)]: Done  26 tasks      | elapsed:  2.4min <br>\n",
    "[Parallel(n_jobs=3)]: Done  35 tasks      | elapsed:  3.3min <br>\n",
    "[Parallel(n_jobs=3)]: Done  44 tasks      | elapsed:  4.2min <br>\n",
    "[Parallel(n_jobs=3)]: Done  55 tasks      | elapsed:  4.9min <br>\n",
    "[Parallel(n_jobs=3)]: Done  66 tasks      | elapsed:  6.4min <br>\n",
    "[Parallel(n_jobs=3)]: Done  79 tasks      | elapsed:  7.9min <br>\n",
    "[Parallel(n_jobs=3)]: Done  92 tasks      | elapsed:  8.8min <br>\n",
    "[Parallel(n_jobs=3)]: Done 107 tasks      | elapsed: 10.5min <br>\n",
    "[Parallel(n_jobs=3)]: Done 122 tasks      | elapsed: 12.2min <br>\n",
    "[Parallel(n_jobs=3)]: Done 139 tasks      | elapsed: 13.7min <br>\n",
    "[Parallel(n_jobs=3)]: Done 156 tasks      | elapsed: 16.1min <br>\n",
    "[Parallel(n_jobs=3)]: Done 175 tasks      | elapsed: 17.6min <br>\n",
    "[Parallel(n_jobs=3)]: Done 194 tasks      | elapsed: 20.1min <br>\n",
    "[Parallel(n_jobs=3)]: Done 215 tasks      | elapsed: 22.1min <br>\n",
    "[Parallel(n_jobs=3)]: Done 240 out of 240 | elapsed: 25.5min finished  <br>\n",
    "\n",
    "Mean RSME: 1.1207483198 Mean MAE: 0.8704986843 Params{'k': 10, 'min_k:': 1, 'sim_options': {'name': 'msd', 'min_support': 1, 'user_based': False}}  <br>\n",
    "Mean RSME: 1.1134275198 Mean MAE: 0.8676869132 Params{'k': 10, 'min_k:': 1, 'sim_options': {'name': 'msd', 'min_support': 1, 'user_based': True}}  <br>\n",
    "Mean RSME: 1.1579731854 Mean MAE: 0.8879868382 Params{'k': 10, 'min_k:': 1, 'sim_options': {'name': 'msd', 'min_support': 5, 'user_based': False}}  <br>\n",
    "Mean RSME: 1.1483985917 Mean MAE: 0.9015830440 Params{'k': 10, 'min_k:': 1, 'sim_options': {'name': 'msd', 'min_support': 5, 'user_based': True}}  <br>\n",
    "Mean RSME: 1.1317509528 Mean MAE: 0.8901500859 Params{'k': 10, 'min_k:': 1, 'sim_options': {'name': 'cosine', 'min_support': 1, 'user_based': False}}  <br>\n",
    "Mean RSME: 1.1185394953 Mean MAE: 0.8864770112 Params{'k': 10, 'min_k:': 1, 'sim_options': {'name': 'cosine', 'min_support': 1, 'user_based': True}}  <br>\n",
    "Mean RSME: 1.1678848949 Mean MAE: 0.8979010320 Params{'k': 10, 'min_k:': 1, 'sim_options': {'name': 'cosine', 'min_support': 5, 'user_based': False}}  <br>\n",
    "Mean RSME: 1.1553289835 Mean MAE: 0.9092083362 Params{'k': 10, 'min_k:': 1, 'sim_options': {'name': 'cosine', 'min_support': 5, 'user_based': True}}  <br>\n",
    "Mean RSME: 1.1207483198 Mean MAE: 0.8704986843 Params{'k': 10, 'min_k:': 5, 'sim_options': {'name': 'msd', 'min_support': 1, 'user_based': False}}  <br>\n",
    "Mean RSME: 1.1134275198 Mean MAE: 0.8676869132 Params{'k': 10, 'min_k:': 5, 'sim_options': {'name': 'msd', 'min_support': 1, 'user_based': True}}  <br>\n",
    "Mean RSME: 1.1579731854 Mean MAE: 0.8879868382 Params{'k': 10, 'min_k:': 5, 'sim_options': {'name': 'msd', 'min_support': 5, 'user_based': False}}  <br>\n",
    "Mean RSME: 1.1483985917 Mean MAE: 0.9015830440 Params{'k': 10, 'min_k:': 5, 'sim_options': {'name': 'msd', 'min_support': 5, 'user_based': True}}  <br>\n",
    "Mean RSME: 1.1317509528 Mean MAE: 0.8901500859 Params{'k': 10, 'min_k:': 5, 'sim_options': {'name': 'cosine', 'min_support': 1, 'user_based': False}}  <br>\n",
    "Mean RSME: 1.1185394953 Mean MAE: 0.8864770112 Params{'k': 10, 'min_k:': 5, 'sim_options': {'name': 'cosine', 'min_support': 1, 'user_based': True}}  <br>\n",
    "Mean RSME: 1.1678848949 Mean MAE: 0.8979010320 Params{'k': 10, 'min_k:': 5, 'sim_options': {'name': 'cosine', 'min_support': 5, 'user_based': False}}  <br>\n",
    "Mean RSME: 1.1553289835 Mean MAE: 0.9092083362 Params{'k': 10, 'min_k:': 5, 'sim_options': {'name': 'cosine', 'min_support': 5, 'user_based': True}}  <br>\n",
    "Mean RSME: 1.1207483198 Mean MAE: 0.8704986843 Params{'k': 10, 'min_k:': 10, 'sim_options': {'name': 'msd', 'min_support': 1, 'user_based': False}}  <br>\n",
    "Mean RSME: 1.1134275198 Mean MAE: 0.8676869132 Params{'k': 10, 'min_k:': 10, 'sim_options': {'name': 'msd', 'min_support': 1, 'user_based': True}}  <br>\n",
    "Mean RSME: 1.1579731854 Mean MAE: 0.8879868382 Params{'k': 10, 'min_k:': 10, 'sim_options': {'name': 'msd', 'min_support': 5, 'user_based': False}}  <br>\n",
    "Mean RSME: 1.1483985917 Mean MAE: 0.9015830440 Params{'k': 10, 'min_k:': 10, 'sim_options': {'name': 'msd', 'min_support': 5, 'user_based': True}}  <br>\n",
    "Mean RSME: 1.1317509528 Mean MAE: 0.8901500859 Params{'k': 10, 'min_k:': 10, 'sim_options': {'name': 'cosine', 'min_support': 1, 'user_based': False}}  <br>\n",
    "Mean RSME: 1.1185394953 Mean MAE: 0.8864770112 Params{'k': 10, 'min_k:': 10, 'sim_options': {'name': 'cosine', 'min_support': 1, 'user_based': True}}  <br>\n",
    "Mean RSME: 1.1678848949 Mean MAE: 0.8979010320 Params{'k': 10, 'min_k:': 10, 'sim_options': {'name': 'cosine', 'min_support': 5, 'user_based': False}}  <br>\n",
    "Mean RSME: 1.1553289835 Mean MAE: 0.9092083362 Params{'k': 10, 'min_k:': 10, 'sim_options': {'name': 'cosine', 'min_support': 5, 'user_based': True}}  <br>\n",
    "Mean RSME: 1.0988640938 Mean MAE: 0.8584146262 Params{'k': 40, 'min_k:': 1, 'sim_options': {'name': 'msd', 'min_support': 1, 'user_based': False}}  <br>\n",
    "Mean RSME: 1.0797624464 Mean MAE: 0.8460764842 Params{'k': 40, 'min_k:': 1, 'sim_options': {'name': 'msd', 'min_support': 1, 'user_based': True}}  <br>\n",
    "Mean RSME: 1.1519888017 Mean MAE: 0.8850846700 Params{'k': 40, 'min_k:': 1, 'sim_options': {'name': 'msd', 'min_support': 5, 'user_based': False}}  <br>\n",
    "Mean RSME: 1.1424616886 Mean MAE: 0.8975418082 Params{'k': 40, 'min_k:': 1, 'sim_options': {'name': 'msd', 'min_support': 5, 'user_based': True}}  <br>\n",
    "Mean RSME: 1.1064197209 Mean MAE: 0.8716636523 Params{'k': 40, 'min_k:': 1, 'sim_options': {'name': 'cosine', 'min_support': 1, 'user_based': False}}  <br>\n",
    "Mean RSME: 1.0854190414 Mean MAE: 0.8598299793 Params{'k': 40, 'min_k:': 1, 'sim_options': {'name': 'cosine', 'min_support': 1, 'user_based': True}}  <br>\n",
    "Mean RSME: 1.1583798093 Mean MAE: 0.8930909435 Params{'k': 40, 'min_k:': 1, 'sim_options': {'name': 'cosine', 'min_support': 5, 'user_based': False}}  <br>\n",
    "Mean RSME: 1.1484190091 Mean MAE: 0.9044068678 Params{'k': 40, 'min_k:': 1, 'sim_options': {'name': 'cosine', 'min_support': 5, 'user_based': True}}  <br>\n",
    "Mean RSME: 1.0988640938 Mean MAE: 0.8584146262 Params{'k': 40, 'min_k:': 5, 'sim_options': {'name': 'msd', 'min_support': 1, 'user_based': False}}  <br>\n",
    "Mean RSME: 1.0797624464 Mean MAE: 0.8460764842 Params{'k': 40, 'min_k:': 5, 'sim_options': {'name': 'msd', 'min_support': 1, 'user_based': True}}  <br>\n",
    "Mean RSME: 1.1519888017 Mean MAE: 0.8850846700 Params{'k': 40, 'min_k:': 5, 'sim_options': {'name': 'msd', 'min_support': 5, 'user_based': False}}  <br>\n",
    "Mean RSME: 1.1424616886 Mean MAE: 0.8975418082 Params{'k': 40, 'min_k:': 5, 'sim_options': {'name': 'msd', 'min_support': 5, 'user_based': True}}  <br>\n",
    "Mean RSME: 1.1064197209 Mean MAE: 0.8716636523 Params{'k': 40, 'min_k:': 5, 'sim_options': {'name': 'cosine', 'min_support': 1, 'user_based': False}}  <br>\n",
    "Mean RSME: 1.0854190414 Mean MAE: 0.8598299793 Params{'k': 40, 'min_k:': 5, 'sim_options': {'name': 'cosine', 'min_support': 1, 'user_based': True}}  <br>\n",
    "Mean RSME: 1.1583798093 Mean MAE: 0.8930909435 Params{'k': 40, 'min_k:': 5, 'sim_options': {'name': 'cosine', 'min_support': 5, 'user_based': False}}  <br>\n",
    "Mean RSME: 1.1484190091 Mean MAE: 0.9044068678 Params{'k': 40, 'min_k:': 5, 'sim_options': {'name': 'cosine', 'min_support': 5, 'user_based': True}}  <br>\n",
    "Mean RSME: 1.0988640938 Mean MAE: 0.8584146262 Params{'k': 40, 'min_k:': 10, 'sim_options': {'name': 'msd', 'min_support': 1, 'user_based': False}}  <br>\n",
    "Mean RSME: 1.0797624464 Mean MAE: 0.8460764842 Params{'k': 40, 'min_k:': 10, 'sim_options': {'name': 'msd', 'min_support': 1, 'user_based': True}}  <br>\n",
    "Mean RSME: 1.1519888017 Mean MAE: 0.8850846700 Params{'k': 40, 'min_k:': 10, 'sim_options': {'name': 'msd', 'min_support': 5, 'user_based': False}}  <br>\n",
    "Mean RSME: 1.1424616886 Mean MAE: 0.8975418082 Params{'k': 40, 'min_k:': 10, 'sim_options': {'name': 'msd', 'min_support': 5, 'user_based': True}}  <br>\n",
    "Mean RSME: 1.1064197209 Mean MAE: 0.8716636523 Params{'k': 40, 'min_k:': 10, 'sim_options': {'name': 'cosine', 'min_support': 1, 'user_based': False}}  <br>\n",
    "Mean RSME: 1.0854190414 Mean MAE: 0.8598299793 Params{'k': 40, 'min_k:': 10, 'sim_options': {'name': 'cosine', 'min_support': 1, 'user_based': True}}  <br>\n",
    "Mean RSME: 1.1583798093 Mean MAE: 0.8930909435 Params{'k': 40, 'min_k:': 10, 'sim_options': {'name': 'cosine', 'min_support': 5, 'user_based': False}}  <br>\n",
    "Mean RSME: 1.1484190091 Mean MAE: 0.9044068678 Params{'k': 40, 'min_k:': 10, 'sim_options': {'name': 'cosine', 'min_support': 5, 'user_based': True}}  <br>  <br>\n",
    "\n",
    "Best RSME: 1.0797624464 Best Params:{'k': 40, 'min_k:': 5, 'sim_options': {'name': 'msd', 'min_support': 1, 'user_based': True}}  <br>  <br>\n",
    "\n",
    "Best MAE:  0.8460764842 Best Params:{'k': 40, 'min_k:': 10, 'sim_options': {'name': 'msd', 'min_support': 1, 'user_based': True}}"
   ],
   "cell_type": "markdown",
   "metadata": {}
  },
  {
   "source": [
    "## KNNMeans\n",
    "[Parallel(n_jobs=3)]: Using backend LokyBackend with 3 concurrent workers. <br>\n",
    "[Parallel(n_jobs=3)]: Done   2 tasks      | elapsed:    7.7s <br>\n",
    "[Parallel(n_jobs=3)]: Done   7 tasks      | elapsed:   33.4s <br>\n",
    "[Parallel(n_jobs=3)]: Done  12 tasks      | elapsed:   52.8s <br>\n",
    "[Parallel(n_jobs=3)]: Done  19 tasks      | elapsed:  1.5min <br>\n",
    "[Parallel(n_jobs=3)]: Done  26 tasks      | elapsed:  2.5min <br>\n",
    "[Parallel(n_jobs=3)]: Done  35 tasks      | elapsed:  3.3min <br>\n",
    "[Parallel(n_jobs=3)]: Done  44 tasks      | elapsed:  4.2min <br>\n",
    "[Parallel(n_jobs=3)]: Done  55 tasks      | elapsed:  4.9min <br>\n",
    "[Parallel(n_jobs=3)]: Done  66 tasks      | elapsed:  6.4min <br>\n",
    "[Parallel(n_jobs=3)]: Done  79 tasks      | elapsed:  7.8min <br>\n",
    "[Parallel(n_jobs=3)]: Done  92 tasks      | elapsed:  8.7min <br>\n",
    "[Parallel(n_jobs=3)]: Done 107 tasks      | elapsed: 10.4min <br>\n",
    "[Parallel(n_jobs=3)]: Done 122 tasks      | elapsed: 12.0min <br>\n",
    "[Parallel(n_jobs=3)]: Done 139 tasks      | elapsed: 13.6min <br>\n",
    "[Parallel(n_jobs=3)]: Done 156 tasks      | elapsed: 15.9min <br>\n",
    "[Parallel(n_jobs=3)]: Done 175 tasks      | elapsed: 17.4min <br>\n",
    "[Parallel(n_jobs=3)]: Done 194 tasks      | elapsed: 19.9min <br>\n",
    "[Parallel(n_jobs=3)]: Done 215 tasks      | elapsed: 21.8min <br>\n",
    "[Parallel(n_jobs=3)]: Done 240 out of 240 | elapsed: 25.3min finished <br>  <br>\n",
    "\n",
    "Mean RSME: 1.0655983535 Mean MAE: 0.8247306086 Params{'k': 10, 'min_k:': 1, 'sim_options': {'name': 'msd', 'min_support': 1, 'user_based': False}} <br>\n",
    "Mean RSME: 1.0810146844 Mean MAE: 0.8394403437 Params{'k': 10, 'min_k:': 1, 'sim_options': {'name': 'msd', 'min_support': 1, 'user_based': True}} <br>\n",
    "Mean RSME: 1.0969267715 Mean MAE: 0.8441156753 Params{'k': 10, 'min_k:': 1, 'sim_options': {'name': 'msd', 'min_support': 5, 'user_based': False}} <br>\n",
    "Mean RSME: 1.1072333151 Mean MAE: 0.8583919258 Params{'k': 10, 'min_k:': 1, 'sim_options': {'name': 'msd', 'min_support': 5, 'user_based': True}} <br>\n",
    "Mean RSME: 1.0588264076 Mean MAE: 0.8252494764 Params{'k': 10, 'min_k:': 1, 'sim_options': {'name': 'cosine', 'min_support': 1, 'user_based': False}} <br>\n",
    "Mean RSME: 1.0756201468 Mean MAE: 0.8414108802 Params{'k': 10, 'min_k:': 1, 'sim_options': {'name': 'cosine', 'min_support': 1, 'user_based': True}} <br>\n",
    "Mean RSME: 1.0939136988 Mean MAE: 0.8440246289 Params{'k': 10, 'min_k:': 1, 'sim_options': {'name': 'cosine', 'min_support': 5, 'user_based': False}} <br>\n",
    "Mean RSME: 1.1061819101 Mean MAE: 0.8593716276 Params{'k': 10, 'min_k:': 1, 'sim_options': {'name': 'cosine', 'min_support': 5, 'user_based': True}} <br>\n",
    "Mean RSME: 1.0655983535 Mean MAE: 0.8247306086 Params{'k': 10, 'min_k:': 5, 'sim_options': {'name': 'msd', 'min_support': 1, 'user_based': False}} <br>\n",
    "Mean RSME: 1.0810146844 Mean MAE: 0.8394403437 Params{'k': 10, 'min_k:': 5, 'sim_options': {'name': 'msd', 'min_support': 1, 'user_based': True}} <br>\n",
    "Mean RSME: 1.0969267715 Mean MAE: 0.8441156753 Params{'k': 10, 'min_k:': 5, 'sim_options': {'name': 'msd', 'min_support': 5, 'user_based': False}} <br>\n",
    "Mean RSME: 1.1072333151 Mean MAE: 0.8583919258 Params{'k': 10, 'min_k:': 5, 'sim_options': {'name': 'msd', 'min_support': 5, 'user_based': True}} <br>\n",
    "Mean RSME: 1.0588264076 Mean MAE: 0.8252494764 Params{'k': 10, 'min_k:': 5, 'sim_options': {'name': 'cosine', 'min_support': 1, 'user_based': False}} <br>\n",
    "Mean RSME: 1.0756201468 Mean MAE: 0.8414108802 Params{'k': 10, 'min_k:': 5, 'sim_options': {'name': 'cosine', 'min_support': 1, 'user_based': True}} <br>\n",
    "Mean RSME: 1.0939136988 Mean MAE: 0.8440246289 Params{'k': 10, 'min_k:': 5, 'sim_options': {'name': 'cosine', 'min_support': 5, 'user_based': False}} <br>\n",
    "Mean RSME: 1.1061819101 Mean MAE: 0.8593716276 Params{'k': 10, 'min_k:': 5, 'sim_options': {'name': 'cosine', 'min_support': 5, 'user_based': True}} <br>\n",
    "Mean RSME: 1.0655983535 Mean MAE: 0.8247306086 Params{'k': 10, 'min_k:': 10, 'sim_options': {'name': 'msd', 'min_support': 1, 'user_based': False}} <br>\n",
    "Mean RSME: 1.0810146844 Mean MAE: 0.8394403437 Params{'k': 10, 'min_k:': 10, 'sim_options': {'name': 'msd', 'min_support': 1, 'user_based': True}} <br>\n",
    "Mean RSME: 1.0969267715 Mean MAE: 0.8441156753 Params{'k': 10, 'min_k:': 10, 'sim_options': {'name': 'msd', 'min_support': 5, 'user_based': False}} <br>\n",
    "Mean RSME: 1.1072333151 Mean MAE: 0.8583919258 Params{'k': 10, 'min_k:': 10, 'sim_options': {'name': 'msd', 'min_support': 5, 'user_based': True}} <br>\n",
    "Mean RSME: 1.0588264076 Mean MAE: 0.8252494764 Params{'k': 10, 'min_k:': 10, 'sim_options': {'name': 'cosine', 'min_support': 1, 'user_based': False}} <br>\n",
    "Mean RSME: 1.0756201468 Mean MAE: 0.8414108802 Params{'k': 10, 'min_k:': 10, 'sim_options': {'name': 'cosine', 'min_support': 1, 'user_based': True}} <br>\n",
    "Mean RSME: 1.0939136988 Mean MAE: 0.8440246289 Params{'k': 10, 'min_k:': 10, 'sim_options': {'name': 'cosine', 'min_support': 5, 'user_based': False}} <br>\n",
    "Mean RSME: 1.1061819101 Mean MAE: 0.8593716276 Params{'k': 10, 'min_k:': 10, 'sim_options': {'name': 'cosine', 'min_support': 5, 'user_based': True}} <br>\n",
    "Mean RSME: 1.0418043176 Mean MAE: 0.8085535760 Params{'k': 40, 'min_k:': 1, 'sim_options': {'name': 'msd', 'min_support': 1, 'user_based': False}} <br>\n",
    "Mean RSME: 1.0505257691 Mean MAE: 0.8166440026 Params{'k': 40, 'min_k:': 1, 'sim_options': {'name': 'msd', 'min_support': 1, 'user_based': True}} <br>\n",
    "Mean RSME: 1.0863256661 Mean MAE: 0.8361652569 Params{'k': 40, 'min_k:': 1, 'sim_options': {'name': 'msd', 'min_support': 5, 'user_based': False}} <br>\n",
    "Mean RSME: 1.0991071862 Mean MAE: 0.8512321919 Params{'k': 40, 'min_k:': 1, 'sim_options': {'name': 'msd', 'min_support': 5, 'user_based': True}} <br>\n",
    "Mean RSME: 1.0367942082 Mean MAE: 0.8087903210 Params{'k': 40, 'min_k:': 1, 'sim_options': {'name': 'cosine', 'min_support': 1, 'user_based': False}} <br>\n",
    "Mean RSME: 1.0464099210 Mean MAE: 0.8180279348 Params{'k': 40, 'min_k:': 1, 'sim_options': {'name': 'cosine', 'min_support': 1, 'user_based': True}} <br>\n",
    "Mean RSME: 1.0841756143 Mean MAE: 0.8367188777 Params{'k': 40, 'min_k:': 1, 'sim_options': {'name': 'cosine', 'min_support': 5, 'user_based': False}} <br>\n",
    "Mean RSME: 1.0989079211 Mean MAE: 0.8526456971 Params{'k': 40, 'min_k:': 1, 'sim_options': {'name': 'cosine', 'min_support': 5, 'user_based': True}} <br>\n",
    "Mean RSME: 1.0418043176 Mean MAE: 0.8085535760 Params{'k': 40, 'min_k:': 5, 'sim_options': {'name': 'msd', 'min_support': 1, 'user_based': False}} <br>\n",
    "Mean RSME: 1.0505257691 Mean MAE: 0.8166440026 Params{'k': 40, 'min_k:': 5, 'sim_options': {'name': 'msd', 'min_support': 1, 'user_based': True}} <br>\n",
    "Mean RSME: 1.0863256661 Mean MAE: 0.8361652569 Params{'k': 40, 'min_k:': 5, 'sim_options': {'name': 'msd', 'min_support': 5, 'user_based': False}} <br>\n",
    "Mean RSME: 1.0991071862 Mean MAE: 0.8512321919 Params{'k': 40, 'min_k:': 5, 'sim_options': {'name': 'msd', 'min_support': 5, 'user_based': True}} <br>\n",
    "Mean RSME: 1.0367942082 Mean MAE: 0.8087903210 Params{'k': 40, 'min_k:': 5, 'sim_options': {'name': 'cosine', 'min_support': 1, 'user_based': False}} <br>\n",
    "Mean RSME: 1.0464099210 Mean MAE: 0.8180279348 Params{'k': 40, 'min_k:': 5, 'sim_options': {'name': 'cosine', 'min_support': 1, 'user_based': True}} <br>\n",
    "Mean RSME: 1.0841756143 Mean MAE: 0.8367188777 Params{'k': 40, 'min_k:': 5, 'sim_options': {'name': 'cosine', 'min_support': 5, 'user_based': False}} <br>\n",
    "Mean RSME: 1.0989079211 Mean MAE: 0.8526456971 Params{'k': 40, 'min_k:': 5, 'sim_options': {'name': 'cosine', 'min_support': 5, 'user_based': True}} <br>\n",
    "Mean RSME: 1.0418043176 Mean MAE: 0.8085535760 Params{'k': 40, 'min_k:': 10, 'sim_options': {'name': 'msd', 'min_support': 1, 'user_based': False}} <br>\n",
    "Mean RSME: 1.0505257691 Mean MAE: 0.8166440026 Params{'k': 40, 'min_k:': 10, 'sim_options': {'name': 'msd', 'min_support': 1, 'user_based': True}} <br>\n",
    "Mean RSME: 1.0863256661 Mean MAE: 0.8361652569 Params{'k': 40, 'min_k:': 10, 'sim_options': {'name': 'msd', 'min_support': 5, 'user_based': False}} <br>\n",
    "Mean RSME: 1.0991071862 Mean MAE: 0.8512321919 Params{'k': 40, 'min_k:': 10, 'sim_options': {'name': 'msd', 'min_support': 5, 'user_based': True}} <br>\n",
    "Mean RSME: 1.0367942082 Mean MAE: 0.8087903210 Params{'k': 40, 'min_k:': 10, 'sim_options': {'name': 'cosine', 'min_support': 1, 'user_based': False}} <br>\n",
    "Mean RSME: 1.0464099210 Mean MAE: 0.8180279348 Params{'k': 40, 'min_k:': 10, 'sim_options': {'name': 'cosine', 'min_support': 1, 'user_based': True}} <br>\n",
    "Mean RSME: 1.0841756143 Mean MAE: 0.8367188777 Params{'k': 40, 'min_k:': 10, 'sim_options': {'name': 'cosine', 'min_support': 5, 'user_based': False}} <br>\n",
    "Mean RSME: 1.0989079211 Mean MAE: 0.8526456971 Params{'k': 40, 'min_k:': 10, 'sim_options': {'name': 'cosine', 'min_support': 5, 'user_based': True}} <br> <br>\n",
    "\n",
    "Best RSME: 1.0367942082 Best Params:{'k': 40, 'min_k:': 5, 'sim_options': {'name': 'cosine', 'min_support': 1, 'user_based': False}} <br> <br>\n",
    "\n",
    "Best MAE:  0.8085535760 Best Params:{'k': 40, 'min_k:': 5, 'sim_options': {'name': 'msd', 'min_support': 1, 'user_based': False}}"
   ],
   "cell_type": "markdown",
   "metadata": {}
  },
  {
   "source": [
    "## KNNZScore\n",
    "[Parallel(n_jobs=3)]: Using backend LokyBackend with 3 concurrent workers. <br>\n",
    "[Parallel(n_jobs=3)]: Done   2 tasks      | elapsed:    8.9s <br>\n",
    "[Parallel(n_jobs=3)]: Done   7 tasks      | elapsed:   37.7s <br>\n",
    "[Parallel(n_jobs=3)]: Done  12 tasks      | elapsed:   58.3s <br>\n",
    "[Parallel(n_jobs=3)]: Done  19 tasks      | elapsed:  1.6min <br>\n",
    "[Parallel(n_jobs=3)]: Done  26 tasks      | elapsed:  2.6min <br>\n",
    "[Parallel(n_jobs=3)]: Done  35 tasks      | elapsed:  3.6min <br>\n",
    "[Parallel(n_jobs=3)]: Done  44 tasks      | elapsed:  4.5min <br>\n",
    "[Parallel(n_jobs=3)]: Done  55 tasks      | elapsed:  5.3min <br>\n",
    "[Parallel(n_jobs=3)]: Done  66 tasks      | elapsed:  6.9min <br>\n",
    "[Parallel(n_jobs=3)]: Done  79 tasks      | elapsed:  8.4min <br>\n",
    "[Parallel(n_jobs=3)]: Done  92 tasks      | elapsed:  9.4min <br>\n",
    "[Parallel(n_jobs=3)]: Done 107 tasks      | elapsed: 11.2min <br>\n",
    "[Parallel(n_jobs=3)]: Done 122 tasks      | elapsed: 12.9min <br>\n",
    "[Parallel(n_jobs=3)]: Done 139 tasks      | elapsed: 14.6min <br>\n",
    "[Parallel(n_jobs=3)]: Done 156 tasks      | elapsed: 17.1min <br>\n",
    "[Parallel(n_jobs=3)]: Done 175 tasks      | elapsed: 18.7min <br>\n",
    "[Parallel(n_jobs=3)]: Done 194 tasks      | elapsed: 21.4min <br>\n",
    "[Parallel(n_jobs=3)]: Done 215 tasks      | elapsed: 23.5min <br>\n",
    "[Parallel(n_jobs=3)]: Done 240 out of 240 | elapsed: 27.1min finished <br> <br>\n",
    "\n",
    "Mean RSME: 1.0683386376 Mean MAE: 0.8253927641 Params{'k': 10, 'min_k:': 1, 'sim_options': {'name': 'msd', 'min_support': 1, 'user_based': False}} <br>\n",
    "Mean RSME: 1.0859524368 Mean MAE: 0.8355716867 Params{'k': 10, 'min_k:': 1, 'sim_options': {'name': 'msd', 'min_support': 1, 'user_based': True}} <br>\n",
    "Mean RSME: 1.1045790112 Mean MAE: 0.8476680557 Params{'k': 10, 'min_k:': 1, 'sim_options': {'name': 'msd', 'min_support': 5, 'user_based': False}} <br>\n",
    "Mean RSME: 1.1243669356 Mean MAE: 0.8624770596 Params{'k': 10, 'min_k:': 1, 'sim_options': {'name': 'msd', 'min_support': 5, 'user_based': True}} <br>\n",
    "Mean RSME: 1.0607615892 Mean MAE: 0.8255806361 Params{'k': 10, 'min_k:': 1, 'sim_options': {'name': 'cosine', 'min_support': 1, 'user_based': False}} <br>\n",
    "Mean RSME: 1.0767696238 Mean MAE: 0.8356348845 Params{'k': 10, 'min_k:': 1, 'sim_options': {'name': 'cosine', 'min_support': 1, 'user_based': True}} <br>\n",
    "Mean RSME: 1.1016096449 Mean MAE: 0.8474963164 Params{'k': 10, 'min_k:': 1, 'sim_options': {'name': 'cosine', 'min_support': 5, 'user_based': False}} <br>\n",
    "Mean RSME: 1.1218763154 Mean MAE: 0.8624511027 Params{'k': 10, 'min_k:': 1, 'sim_options': {'name': 'cosine', 'min_support': 5, 'user_based': True}} <br>\n",
    "Mean RSME: 1.0683386376 Mean MAE: 0.8253927641 Params{'k': 10, 'min_k:': 5, 'sim_options': {'name': 'msd', 'min_support': 1, 'user_based': False}} <br>\n",
    "Mean RSME: 1.0859524368 Mean MAE: 0.8355716867 Params{'k': 10, 'min_k:': 5, 'sim_options': {'name': 'msd', 'min_support': 1, 'user_based': True}} <br>\n",
    "Mean RSME: 1.1045790112 Mean MAE: 0.8476680557 Params{'k': 10, 'min_k:': 5, 'sim_options': {'name': 'msd', 'min_support': 5, 'user_based': False}} <br>\n",
    "Mean RSME: 1.1243669356 Mean MAE: 0.8624770596 Params{'k': 10, 'min_k:': 5, 'sim_options': {'name': 'msd', 'min_support': 5, 'user_based': True}} <br>\n",
    "Mean RSME: 1.0607615892 Mean MAE: 0.8255806361 Params{'k': 10, 'min_k:': 5, 'sim_options': {'name': 'cosine', 'min_support': 1, 'user_based': False}} <br>\n",
    "Mean RSME: 1.0767696238 Mean MAE: 0.8356348845 Params{'k': 10, 'min_k:': 5, 'sim_options': {'name': 'cosine', 'min_support': 1, 'user_based': True}} <br>\n",
    "Mean RSME: 1.1016096449 Mean MAE: 0.8474963164 Params{'k': 10, 'min_k:': 5, 'sim_options': {'name': 'cosine', 'min_support': 5, 'user_based': False}} <br>\n",
    "Mean RSME: 1.1218763154 Mean MAE: 0.8624511027 Params{'k': 10, 'min_k:': 5, 'sim_options': {'name': 'cosine', 'min_support': 5, 'user_based': True}} <br>\n",
    "Mean RSME: 1.0683386376 Mean MAE: 0.8253927641 Params{'k': 10, 'min_k:': 10, 'sim_options': {'name': 'msd', 'min_support': 1, 'user_based': False}} <br>\n",
    "Mean RSME: 1.0859524368 Mean MAE: 0.8355716867 Params{'k': 10, 'min_k:': 10, 'sim_options': {'name': 'msd', 'min_support': 1, 'user_based': True}} <br>\n",
    "Mean RSME: 1.1045790112 Mean MAE: 0.8476680557 Params{'k': 10, 'min_k:': 10, 'sim_options': {'name': 'msd', 'min_support': 5, 'user_based': False}} <br>\n",
    "Mean RSME: 1.1243669356 Mean MAE: 0.8624770596 Params{'k': 10, 'min_k:': 10, 'sim_options': {'name': 'msd', 'min_support': 5, 'user_based': True}} <br>\n",
    "Mean RSME: 1.0607615892 Mean MAE: 0.8255806361 Params{'k': 10, 'min_k:': 10, 'sim_options': {'name': 'cosine', 'min_support': 1, 'user_based': False}} <br>\n",
    "Mean RSME: 1.0767696238 Mean MAE: 0.8356348845 Params{'k': 10, 'min_k:': 10, 'sim_options': {'name': 'cosine', 'min_support': 1, 'user_based': True}} <br>\n",
    "Mean RSME: 1.1016096449 Mean MAE: 0.8474963164 Params{'k': 10, 'min_k:': 10, 'sim_options': {'name': 'cosine', 'min_support': 5, 'user_based': False}} <br>\n",
    "Mean RSME: 1.1218763154 Mean MAE: 0.8624511027 Params{'k': 10, 'min_k:': 10, 'sim_options': {'name': 'cosine', 'min_support': 5, 'user_based': True}} <br>\n",
    "Mean RSME: 1.0443347945 Mean MAE: 0.8090751138 Params{'k': 40, 'min_k:': 1, 'sim_options': {'name': 'msd', 'min_support': 1, 'user_based': False}} <br>\n",
    "Mean RSME: 1.0552517612 Mean MAE: 0.8141773828 Params{'k': 40, 'min_k:': 1, 'sim_options': {'name': 'msd', 'min_support': 1, 'user_based': True}} <br>\n",
    "Mean RSME: 1.0940389812 Mean MAE: 0.8396742721 Params{'k': 40, 'min_k:': 1, 'sim_options': {'name': 'msd', 'min_support': 5, 'user_based': False}} <br>\n",
    "Mean RSME: 1.1150317967 Mean MAE: 0.8549600818 Params{'k': 40, 'min_k:': 1, 'sim_options': {'name': 'msd', 'min_support': 5, 'user_based': True}} <br>\n",
    "Mean RSME: 1.0387852982 Mean MAE: 0.8090497383 Params{'k': 40, 'min_k:': 1, 'sim_options': {'name': 'cosine', 'min_support': 1, 'user_based': False}} <br>\n",
    "Mean RSME: 1.0479187969 Mean MAE: 0.8144749330 Params{'k': 40, 'min_k:': 1, 'sim_options': {'name': 'cosine', 'min_support': 1, 'user_based': True}} <br>\n",
    "Mean RSME: 1.0914201809 Mean MAE: 0.8397484110 Params{'k': 40, 'min_k:': 1, 'sim_options': {'name': 'cosine', 'min_support': 5, 'user_based': False}} <br>\n",
    "Mean RSME: 1.1133504557 Mean MAE: 0.8552410299 Params{'k': 40, 'min_k:': 1, 'sim_options': {'name': 'cosine', 'min_support': 5, 'user_based': True}} <br>\n",
    "Mean RSME: 1.0443347945 Mean MAE: 0.8090751138 Params{'k': 40, 'min_k:': 5, 'sim_options': {'name': 'msd', 'min_support': 1, 'user_based': False}} <br>\n",
    "Mean RSME: 1.0552517612 Mean MAE: 0.8141773828 Params{'k': 40, 'min_k:': 5, 'sim_options': {'name': 'msd', 'min_support': 1, 'user_based': True}} <br>\n",
    "Mean RSME: 1.0940389812 Mean MAE: 0.8396742721 Params{'k': 40, 'min_k:': 5, 'sim_options': {'name': 'msd', 'min_support': 5, 'user_based': False}} <br>\n",
    "Mean RSME: 1.1150317967 Mean MAE: 0.8549600818 Params{'k': 40, 'min_k:': 5, 'sim_options': {'name': 'msd', 'min_support': 5, 'user_based': True}} <br>\n",
    "Mean RSME: 1.0387852982 Mean MAE: 0.8090497383 Params{'k': 40, 'min_k:': 5, 'sim_options': {'name': 'cosine', 'min_support': 1, 'user_based': False}} <br>\n",
    "Mean RSME: 1.0479187969 Mean MAE: 0.8144749330 Params{'k': 40, 'min_k:': 5, 'sim_options': {'name': 'cosine', 'min_support': 1, 'user_based': True}} <br>\n",
    "Mean RSME: 1.0914201809 Mean MAE: 0.8397484110 Params{'k': 40, 'min_k:': 5, 'sim_options': {'name': 'cosine', 'min_support': 5, 'user_based': False}} <br>\n",
    "Mean RSME: 1.1133504557 Mean MAE: 0.8552410299 Params{'k': 40, 'min_k:': 5, 'sim_options': {'name': 'cosine', 'min_support': 5, 'user_based': True}} <br>\n",
    "Mean RSME: 1.0443347945 Mean MAE: 0.8090751138 Params{'k': 40, 'min_k:': 10, 'sim_options': {'name': 'msd', 'min_support': 1, 'user_based': False}} <br>\n",
    "Mean RSME: 1.0552517612 Mean MAE: 0.8141773828 Params{'k': 40, 'min_k:': 10, 'sim_options': {'name': 'msd', 'min_support': 1, 'user_based': True}} <br>\n",
    "Mean RSME: 1.0940389812 Mean MAE: 0.8396742721 Params{'k': 40, 'min_k:': 10, 'sim_options': {'name': 'msd', 'min_support': 5, 'user_based': False}} <br>\n",
    "Mean RSME: 1.1150317967 Mean MAE: 0.8549600818 Params{'k': 40, 'min_k:': 10, 'sim_options': {'name': 'msd', 'min_support': 5, 'user_based': True}} <br>\n",
    "Mean RSME: 1.0387852982 Mean MAE: 0.8090497383 Params{'k': 40, 'min_k:': 10, 'sim_options': {'name': 'cosine', 'min_support': 1, 'user_based': False}} <br>\n",
    "Mean RSME: 1.0479187969 Mean MAE: 0.8144749330 Params{'k': 40, 'min_k:': 10, 'sim_options': {'name': 'cosine', 'min_support': 1, 'user_based': True}} <br>\n",
    "Mean RSME: 1.0914201809 Mean MAE: 0.8397484110 Params{'k': 40, 'min_k:': 10, 'sim_options': {'name': 'cosine', 'min_support': 5, 'user_based': False}} <br>\n",
    "Mean RSME: 1.1133504557 Mean MAE: 0.8552410299 Params{'k': 40, 'min_k:': 10, 'sim_options': {'name': 'cosine', 'min_support': 5, 'user_based': True}} <br> <br>\n",
    "\n",
    "Best RSME: 1.0387852982 Best Params:{'k': 40, 'min_k:': 5, 'sim_options': {'name': 'cosine', 'min_support': 1, 'user_based': False}} <br>\n",
    "\n",
    "Best MAE:  0.8090497383 Best Params:{'k': 40, 'min_k:': 5, 'sim_options': {'name': 'cosine', 'min_support': 1, 'user_based': False}}"
   ],
   "cell_type": "markdown",
   "metadata": {}
  },
  {
   "source": [
    "## SVD\n",
    "[Parallel(n_jobs=3)]: Using backend LokyBackend with 3 concurrent workers. <br>\n",
    "[Parallel(n_jobs=3)]: Done   2 tasks      | elapsed:    6.0s <br>\n",
    "[Parallel(n_jobs=3)]: Done   7 tasks      | elapsed:   15.5s <br>\n",
    "[Parallel(n_jobs=3)]: Done  12 tasks      | elapsed:   21.5s <br>\n",
    "[Parallel(n_jobs=3)]: Done  19 tasks      | elapsed:   35.3s <br>\n",
    "[Parallel(n_jobs=3)]: Done  26 tasks      | elapsed:   53.7s <br>\n",
    "[Parallel(n_jobs=3)]: Done  35 tasks      | elapsed:  1.3min <br>\n",
    "[Parallel(n_jobs=3)]: Done  44 tasks      | elapsed:  2.1min <br>\n",
    "[Parallel(n_jobs=3)]: Done  55 tasks      | elapsed:  3.0min <br>\n",
    "[Parallel(n_jobs=3)]: Done  66 tasks      | elapsed:  4.4min <br>\n",
    "[Parallel(n_jobs=3)]: Done  80 out of  80 | elapsed:  6.4min finished <br>\n",
    "\n",
    "Mean RSME: 1.0553292065 Mean MAE: 0.8416993990 Params{'n_epochs': 5, 'lr_all': 0.0025} <br>\n",
    "Mean RSME: 1.0370958851 Mean MAE: 0.8244407821 Params{'n_epochs': 5, 'lr_all': 0.005} <br>\n",
    "Mean RSME: 1.0850222425 Mean MAE: 0.8707043753 Params{'n_epochs': 5, 'lr_all': 0.001} <br>\n",
    "Mean RSME: 1.0277610396 Mean MAE: 0.8138482030 Params{'n_epochs': 5, 'lr_all': 0.01} <br>\n",
    "Mean RSME: 1.0374359618 Mean MAE: 0.8247214879 Params{'n_epochs': 10, 'lr_all': 0.0025} <br>\n",
    "Mean RSME: 1.0273846146 Mean MAE: 0.8137289083 Params{'n_epochs': 10, 'lr_all': 0.005} <br>\n",
    "Mean RSME: 1.0621503302 Mean MAE: 0.8481700594 Params{'n_epochs': 10, 'lr_all': 0.001} <br>\n",
    "Mean RSME: 1.0319438457 Mean MAE: 0.8132544921 Params{'n_epochs': 10, 'lr_all': 0.01} <br>\n",
    "Mean RSME: 1.0272185025 Mean MAE: 0.8134268693 Params{'n_epochs': 20, 'lr_all': 0.0025} <br>\n",
    "Mean RSME: 1.0321072951 Mean MAE: 0.8134278075 Params{'n_epochs': 20, 'lr_all': 0.005} <br>\n",
    "Mean RSME: 1.0422773009 Mean MAE: 0.8292470705 Params{'n_epochs': 20, 'lr_all': 0.001} <br>\n",
    "Mean RSME: 1.0711510227 Mean MAE: 0.8384373243 Params{'n_epochs': 20, 'lr_all': 0.01} <br>\n",
    "Mean RSME: 1.0273488208 Mean MAE: 0.8116613978 Params{'n_epochs': 30, 'lr_all': 0.0025} <br>\n",
    "Mean RSME: 1.0505430556 Mean MAE: 0.8246282391 Params{'n_epochs': 30, 'lr_all': 0.005} <br>\n",
    "Mean RSME: 1.0335123672 Mean MAE: 0.8208200307 Params{'n_epochs': 30, 'lr_all': 0.001} <br>\n",
    "Mean RSME: 1.0928715037 Mean MAE: 0.8520616481 Params{'n_epochs': 30, 'lr_all': 0.01} <br>\n",
    "\n",
    "Best RSME: 1.0272185025 Best Params:{'n_epochs': 20, 'lr_all': 0.0025} <br>\n",
    "Best MAE:  0.8116613978 Best Params:{'n_epochs': 30, 'lr_all': 0.0025}"
   ],
   "cell_type": "markdown",
   "metadata": {}
  },
  {
   "source": [
    "## SVDpp\n",
    "[Parallel(n_jobs=9)]: Using backend LokyBackend with 9 concurrent workers. <br>\n",
    "[Parallel(n_jobs=9)]: Done   7 tasks      | elapsed:  1.5min <br>\n",
    "[Parallel(n_jobs=9)]: Done  14 tasks      | elapsed:  3.0min <br>\n",
    "[Parallel(n_jobs=9)]: Done  23 tasks      | elapsed:  5.8min <br>\n",
    "[Parallel(n_jobs=9)]: Done  32 tasks      | elapsed:  8.5min <br>\n",
    "[Parallel(n_jobs=9)]: Done  43 tasks      | elapsed: 13.8min <br>\n",
    "[Parallel(n_jobs=9)]: Done  54 tasks      | elapsed: 19.2min <br>\n",
    "[Parallel(n_jobs=9)]: Done  72 out of  80 | elapsed: 35.5min remaining:  3.9min <br>\n",
    "[Parallel(n_jobs=9)]: Done  80 out of  80 | elapsed: 42.0min finished <br>\n",
    "\n",
    "Mean RSME: 1.0527578934 Mean MAE: 0.8395470539 Params{'n_epochs': 5, 'lr_all': 0.0025} <br>\n",
    "Mean RSME: 1.0350319500 Mean MAE: 0.8223487040 Params{'n_epochs': 5, 'lr_all': 0.005} <br>\n",
    "Mean RSME: 1.0817778398 Mean MAE: 0.8688821281 Params{'n_epochs': 5, 'lr_all': 0.001} <br>\n",
    "Mean RSME: 1.0251171408 Mean MAE: 0.8113078296 Params{'n_epochs': 5, 'lr_all': 0.01} <br>\n",
    "Mean RSME: 1.0349418847 Mean MAE: 0.8222710249 Params{'n_epochs': 10, 'lr_all': 0.0025} <br>\n",
    "Mean RSME: 1.0246375321 Mean MAE: 0.8110269266 Params{'n_epochs': 10, 'lr_all': 0.005} <br>\n",
    "Mean RSME: 1.0595689547 Mean MAE: 0.8462357504 Params{'n_epochs': 10, 'lr_all': 0.001} <br>\n",
    "Mean RSME: 1.0258545384 Mean MAE: 0.8081739308 Params{'n_epochs': 10, 'lr_all': 0.01} <br>\n",
    "Mean RSME: 1.0245282081 Mean MAE: 0.8109067178 Params{'n_epochs': 20, 'lr_all': 0.0025} <br>\n",
    "Mean RSME: 1.0252212612 Mean MAE: 0.8076680217 Params{'n_epochs': 20, 'lr_all': 0.005} <br>\n",
    "Mean RSME: 1.0400221067 Mean MAE: 0.8271907348 Params{'n_epochs': 20, 'lr_all': 0.001} <br>\n",
    "Mean RSME: 1.0643620756 Mean MAE: 0.8319213222 Params{'n_epochs': 20, 'lr_all': 0.01} <br>\n",
    "Mean RSME: 1.0230810561 Mean MAE: 0.8075366007 Params{'n_epochs': 30, 'lr_all': 0.0025} <br>\n",
    "Mean RSME: 1.0405533039 Mean MAE: 0.8166455465 Params{'n_epochs': 30, 'lr_all': 0.005} <br>\n",
    "Mean RSME: 1.0314976872 Mean MAE: 0.8187010611 Params{'n_epochs': 30, 'lr_all': 0.001} <br>\n",
    "Mean RSME: 1.1138983438 Mean MAE: 0.8647625829 Params{'n_epochs': 30, 'lr_all': 0.01} <br>\n",
    "\n",
    "Best RSME: 1.0230810561 Best Params:{'n_epochs': 30, 'lr_all': 0.0025} <br>\n",
    "Best MAE:  0.8075366007 Best Params:{'n_epochs': 30, 'lr_all': 0.0025} <br>"
   ],
   "cell_type": "markdown",
   "metadata": {}
  }
 ],
 "metadata": {
  "kernelspec": {
   "name": "python383jvsc74a57bd0e079647b578f6e22f42cb979ca5c90bb711697013bb834e432a2160cedf42143",
   "display_name": "Python 3.8.3 64-bit (conda)"
  },
  "language_info": {
   "codemirror_mode": {
    "name": "ipython",
    "version": 3
   },
   "file_extension": ".py",
   "mimetype": "text/x-python",
   "name": "python",
   "nbconvert_exporter": "python",
   "pygments_lexer": "ipython3",
   "version": "3.8.3"
  }
 },
 "nbformat": 4,
 "nbformat_minor": 2
}