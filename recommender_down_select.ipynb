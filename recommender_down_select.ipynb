{
 "cells": [
  {
   "source": [
    "\n",
    "# Recommender Similarity Algorithm Downselect File"
   ],
   "cell_type": "markdown",
   "metadata": {}
  },
  {
   "source": [
    "## Import Libraries\n",
    "> We are using the Suprise library because it has all the tools we need to import our dataset, <br>\n",
    "calculate the similarities and errors from all the similairity algorithms, fit the algorithms <br>\n",
    "to our dataset, and then output the similarity matrix."
   ],
   "cell_type": "markdown",
   "metadata": {}
  },
  {
   "cell_type": "code",
   "execution_count": 146,
   "metadata": {},
   "outputs": [
    {
     "output_type": "stream",
     "name": "stdout",
     "text": [
      "Requirement already satisfied: surprise in c:\\users\\albert\\miniconda3\\lib\\site-packages (0.1)\nRequirement already satisfied: scikit-surprise in c:\\users\\albert\\miniconda3\\lib\\site-packages (from surprise) (1.1.1)\nRequirement already satisfied: joblib>=0.11 in c:\\users\\albert\\miniconda3\\lib\\site-packages (from scikit-surprise->surprise) (1.0.1)\nRequirement already satisfied: numpy>=1.11.2 in c:\\users\\albert\\miniconda3\\lib\\site-packages (from scikit-surprise->surprise) (1.20.3)\nRequirement already satisfied: scipy>=1.0.0 in c:\\users\\albert\\miniconda3\\lib\\site-packages (from scikit-surprise->surprise) (1.5.4)\nRequirement already satisfied: six>=1.10.0 in c:\\users\\albert\\appdata\\roaming\\python\\python38\\site-packages (from scikit-surprise->surprise) (1.15.0)\n"
     ]
    }
   ],
   "source": [
    "!pip install surprise"
   ]
  },
  {
   "cell_type": "code",
   "execution_count": 147,
   "metadata": {},
   "outputs": [],
   "source": [
    "import json\n",
    "import time\n",
    "import numpy as np\n",
    "import pandas as pd\n",
    "from surprise.model_selection import GridSearchCV\n",
    "from surprise.model_selection import RandomizedSearchCV\n",
    "from surprise import accuracy\n",
    "from collections import defaultdict\n",
    "from surprise import AlgoBase\n",
    "from surprise import NormalPredictor\n",
    "from surprise import PredictionImpossible\n",
    "from surprise import KNNBasic\n",
    "from surprise import KNNWithMeans\n",
    "from surprise import KNNWithZScore\n",
    "from surprise import SVD\n",
    "from surprise import SVDpp\n",
    "from surprise import Dataset\n",
    "from surprise import Reader\n",
    "from surprise import dump\n",
    "from surprise.model_selection import cross_validate"
   ]
  },
  {
   "source": [
    "## Import Preprocessed User, Restaurant, and Review Data"
   ],
   "cell_type": "markdown",
   "metadata": {}
  },
  {
   "cell_type": "code",
   "execution_count": 148,
   "metadata": {},
   "outputs": [
    {
     "output_type": "stream",
     "name": "stdout",
     "text": [
      "Reading MA_users.json\n",
      "Time taken to load user data: 1 seconds\n"
     ]
    }
   ],
   "source": [
    "start = time.time()\n",
    "with open('MA_users.json', encoding=\"utf8\") as fin:\n",
    "    print('Reading',fin.name)\n",
    "    user_data = json.load(fin)\n",
    "end = time.time()\n",
    "duration_without_dr = end-start\n",
    "print(\"Time taken to load user data: %d seconds\" %duration_without_dr)\n"
   ]
  },
  {
   "cell_type": "code",
   "execution_count": 149,
   "metadata": {},
   "outputs": [
    {
     "output_type": "stream",
     "name": "stdout",
     "text": [
      "Reading MA_restaurants.json\n",
      "Time taken to load restaurant data: 0 seconds\n"
     ]
    }
   ],
   "source": [
    "start = time.time()\n",
    "with open('MA_restaurants.json', encoding=\"utf8\") as fin:\n",
    "    print('Reading',fin.name)\n",
    "    restaurant_data = json.load(fin)\n",
    "end = time.time()\n",
    "duration_without_dr = end-start\n",
    "print(\"Time taken to load restaurant data: %d seconds\" %duration_without_dr)"
   ]
  },
  {
   "cell_type": "code",
   "execution_count": 150,
   "metadata": {},
   "outputs": [
    {
     "output_type": "stream",
     "name": "stdout",
     "text": [
      "Reading MA_reviews.json\n",
      "Time taken to load review data: 4 seconds\n"
     ]
    }
   ],
   "source": [
    "start = time.time()\n",
    "with open('MA_reviews.json', encoding=\"utf8\") as fin:\n",
    "    print('Reading',fin.name)\n",
    "    review_data = json.load(fin)\n",
    "end = time.time()\n",
    "duration_without_dr = end-start\n",
    "print(\"Time taken to load review data: %d seconds\" %duration_without_dr)"
   ]
  },
  {
   "cell_type": "code",
   "execution_count": 151,
   "metadata": {},
   "outputs": [
    {
     "output_type": "stream",
     "name": "stdout",
     "text": [
      "125521 user records loaded\n914710 review records loaded\n10550 business records loaded\n"
     ]
    }
   ],
   "source": [
    "print(str(len(user_data)) + ' user records loaded')\n",
    "print(str(len(review_data)) + ' review records loaded')\n",
    "print(str(len(restaurant_data)) + ' business records loaded')"
   ]
  },
  {
   "cell_type": "markdown",
   "metadata": {},
   "source": [
    "Create a 2d arary of user IDs and buisness IDs, with ratings(stars) as frequencies"
   ]
  },
  {
   "cell_type": "code",
   "execution_count": 152,
   "metadata": {},
   "outputs": [],
   "source": [
    "user_id_dict = dict()\n",
    "for i,u in enumerate(user_data):\n",
    "    user_id_dict[u['user_id']] = i\n",
    "\n",
    "business_id_dict = dict()\n",
    "for i,r in enumerate(restaurant_data):\n",
    "    business_id_dict[r['business_id']] = i"
   ]
  },
  {
   "cell_type": "code",
   "execution_count": 153,
   "metadata": {},
   "outputs": [
    {
     "output_type": "stream",
     "name": "stdout",
     "text": [
      "(125521, 10550)\n",
      "number of non-zero elements(good ratings): 879189\n"
     ]
    }
   ],
   "source": [
    "rating_mat = np.zeros((len(user_data), len(restaurant_data)))\n",
    "rating_dict = {'user_id': [],\n",
    "               'business_id': [],\n",
    "               'rating': []}\n",
    "\n",
    "for review in review_data:\n",
    "    user_idx = user_id_dict[review['user_id']]\n",
    "    business_idx = business_id_dict[review['business_id']]\n",
    "    rating_mat[user_idx][business_idx] = review['stars']\n",
    "    \n",
    "    rating_dict['user_id'].append(review['user_id'])\n",
    "    rating_dict['business_id'].append(review['business_id'])\n",
    "    rating_dict['rating'].append(review['stars'])\n",
    "\n",
    "print(rating_mat.shape)\n",
    "print('number of non-zero elements(good ratings): ' +str(np.count_nonzero(rating_mat)))"
   ]
  },
  {
   "source": [
    "# This code will be removed and put into preprocessing later"
   ],
   "cell_type": "markdown",
   "metadata": {}
  },
  {
   "cell_type": "code",
   "execution_count": 154,
   "metadata": {},
   "outputs": [
    {
     "output_type": "stream",
     "name": "stdout",
     "text": [
      "The original data frame shape:\t(914710, 3)\nThe new data frame shape:\t(475458, 3)\n"
     ]
    }
   ],
   "source": [
    "df = pd.DataFrame(rating_dict)\n",
    "\n",
    "# filter to only the users/businesses with over 50 reviews\n",
    "# necessary in order to build the anti testset\n",
    "filter_user = df['user_id'].value_counts() >= 15\n",
    "filter_user = filter_user[filter_user].index.tolist()\n",
    "\n",
    "filter_business = df['business_id'].value_counts() > 40\n",
    "filter_business = filter_business[filter_business].index.tolist()\n",
    "\n",
    "df_new = df[(df['user_id'].isin(filter_user)) & (df['business_id'].isin(filter_business))]\n",
    "\n",
    "print('The original data frame shape:\\t{}'.format(df.shape))\n",
    "print('The new data frame shape:\\t{}'.format(df_new.shape))\n",
    "\n",
    "reader = Reader(rating_scale=(1, 5))\n",
    "data = Dataset.load_from_df(df_new[['user_id', 'business_id', 'rating']], reader)"
   ]
  },
  {
   "cell_type": "code",
   "execution_count": 155,
   "metadata": {},
   "outputs": [],
   "source": [
    "if 'rating_mat' in globals():\n",
    "    del rating_mat\n",
    "    del df"
   ]
  },
  {
   "cell_type": "code",
   "execution_count": 156,
   "metadata": {},
   "outputs": [],
   "source": [
    "sim_options = {\n",
    "    \"name\": [\"msd\",\"cosine\"],\n",
    "    \"min_support\": [1,5],\n",
    "    \"user_based\": [False,True]\n",
    "}\n",
    "param_grid = {\"k\": [10, 40],\n",
    "              \"min_k:\": [1, 5, 10],\n",
    "              \"sim_options\": sim_options}"
   ]
  },
  {
   "cell_type": "code",
   "execution_count": 159,
   "metadata": {},
   "outputs": [
    {
     "output_type": "stream",
     "name": "stderr",
     "text": [
      "[Parallel(n_jobs=3)]: Using backend LokyBackend with 3 concurrent workers.\n",
      "[Parallel(n_jobs=3)]: Done   2 tasks      | elapsed:    7.9s\n",
      "[Parallel(n_jobs=3)]: Done   7 tasks      | elapsed:   32.7s\n",
      "[Parallel(n_jobs=3)]: Done  12 tasks      | elapsed:   52.2s\n",
      "[Parallel(n_jobs=3)]: Done  19 tasks      | elapsed:  1.5min\n",
      "[Parallel(n_jobs=3)]: Done  26 tasks      | elapsed:  2.4min\n",
      "[Parallel(n_jobs=3)]: Done  35 tasks      | elapsed:  3.3min\n",
      "[Parallel(n_jobs=3)]: Done  44 tasks      | elapsed:  4.2min\n",
      "[Parallel(n_jobs=3)]: Done  55 tasks      | elapsed:  4.9min\n",
      "[Parallel(n_jobs=3)]: Done  66 tasks      | elapsed:  6.4min\n",
      "[Parallel(n_jobs=3)]: Done  79 tasks      | elapsed:  7.9min\n",
      "[Parallel(n_jobs=3)]: Done  92 tasks      | elapsed:  8.8min\n",
      "[Parallel(n_jobs=3)]: Done 107 tasks      | elapsed: 10.5min\n",
      "[Parallel(n_jobs=3)]: Done 122 tasks      | elapsed: 12.2min\n",
      "[Parallel(n_jobs=3)]: Done 139 tasks      | elapsed: 13.7min\n",
      "[Parallel(n_jobs=3)]: Done 156 tasks      | elapsed: 16.1min\n",
      "[Parallel(n_jobs=3)]: Done 175 tasks      | elapsed: 17.6min\n",
      "[Parallel(n_jobs=3)]: Done 194 tasks      | elapsed: 20.1min\n",
      "[Parallel(n_jobs=3)]: Done 215 tasks      | elapsed: 22.1min\n",
      "[Parallel(n_jobs=3)]: Done 240 out of 240 | elapsed: 25.5min finished\n"
     ]
    }
   ],
   "source": [
    "#if 'grid_search' in globals():\n",
    "#    del grid_search\n",
    "#grid_search = GridSearchCV(KNNBasic, param_grid, measures = [\"rmse\", \"mae\"], cv=5, n_jobs=3,joblib_verbose=10)\n",
    "#grid_search.fit(data)"
   ]
  },
  {
   "cell_type": "code",
   "execution_count": 160,
   "metadata": {},
   "outputs": [
    {
     "output_type": "stream",
     "name": "stdout",
     "text": [
      "Mean RSME: 1.1207483197619375 Params: {'k': 10, 'min_k:': 1, 'sim_options': {'name': 'msd', 'min_support': 1, 'user_based': False}}\nMean RSME: 1.1134275197738244 Params: {'k': 10, 'min_k:': 1, 'sim_options': {'name': 'msd', 'min_support': 1, 'user_based': True}}\nMean RSME: 1.1579731853753492 Params: {'k': 10, 'min_k:': 1, 'sim_options': {'name': 'msd', 'min_support': 5, 'user_based': False}}\nMean RSME: 1.148398591723234 Params: {'k': 10, 'min_k:': 1, 'sim_options': {'name': 'msd', 'min_support': 5, 'user_based': True}}\nMean RSME: 1.131750952774477 Params: {'k': 10, 'min_k:': 1, 'sim_options': {'name': 'cosine', 'min_support': 1, 'user_based': False}}\nMean RSME: 1.1185394953067425 Params: {'k': 10, 'min_k:': 1, 'sim_options': {'name': 'cosine', 'min_support': 1, 'user_based': True}}\nMean RSME: 1.167884894893078 Params: {'k': 10, 'min_k:': 1, 'sim_options': {'name': 'cosine', 'min_support': 5, 'user_based': False}}\nMean RSME: 1.1553289834961757 Params: {'k': 10, 'min_k:': 1, 'sim_options': {'name': 'cosine', 'min_support': 5, 'user_based': True}}\nMean RSME: 1.1207483197619375 Params: {'k': 10, 'min_k:': 5, 'sim_options': {'name': 'msd', 'min_support': 1, 'user_based': False}}\nMean RSME: 1.1134275197738244 Params: {'k': 10, 'min_k:': 5, 'sim_options': {'name': 'msd', 'min_support': 1, 'user_based': True}}\nMean RSME: 1.1579731853753492 Params: {'k': 10, 'min_k:': 5, 'sim_options': {'name': 'msd', 'min_support': 5, 'user_based': False}}\nMean RSME: 1.148398591723234 Params: {'k': 10, 'min_k:': 5, 'sim_options': {'name': 'msd', 'min_support': 5, 'user_based': True}}\nMean RSME: 1.131750952774477 Params: {'k': 10, 'min_k:': 5, 'sim_options': {'name': 'cosine', 'min_support': 1, 'user_based': False}}\nMean RSME: 1.1185394953067425 Params: {'k': 10, 'min_k:': 5, 'sim_options': {'name': 'cosine', 'min_support': 1, 'user_based': True}}\nMean RSME: 1.167884894893078 Params: {'k': 10, 'min_k:': 5, 'sim_options': {'name': 'cosine', 'min_support': 5, 'user_based': False}}\nMean RSME: 1.1553289834961757 Params: {'k': 10, 'min_k:': 5, 'sim_options': {'name': 'cosine', 'min_support': 5, 'user_based': True}}\nMean RSME: 1.1207483197619375 Params: {'k': 10, 'min_k:': 10, 'sim_options': {'name': 'msd', 'min_support': 1, 'user_based': False}}\nMean RSME: 1.1134275197738244 Params: {'k': 10, 'min_k:': 10, 'sim_options': {'name': 'msd', 'min_support': 1, 'user_based': True}}\nMean RSME: 1.1579731853753492 Params: {'k': 10, 'min_k:': 10, 'sim_options': {'name': 'msd', 'min_support': 5, 'user_based': False}}\nMean RSME: 1.148398591723234 Params: {'k': 10, 'min_k:': 10, 'sim_options': {'name': 'msd', 'min_support': 5, 'user_based': True}}\nMean RSME: 1.131750952774477 Params: {'k': 10, 'min_k:': 10, 'sim_options': {'name': 'cosine', 'min_support': 1, 'user_based': False}}\nMean RSME: 1.1185394953067425 Params: {'k': 10, 'min_k:': 10, 'sim_options': {'name': 'cosine', 'min_support': 1, 'user_based': True}}\nMean RSME: 1.167884894893078 Params: {'k': 10, 'min_k:': 10, 'sim_options': {'name': 'cosine', 'min_support': 5, 'user_based': False}}\nMean RSME: 1.1553289834961757 Params: {'k': 10, 'min_k:': 10, 'sim_options': {'name': 'cosine', 'min_support': 5, 'user_based': True}}\nMean RSME: 1.098864093774702 Params: {'k': 40, 'min_k:': 1, 'sim_options': {'name': 'msd', 'min_support': 1, 'user_based': False}}\nMean RSME: 1.079762446415431 Params: {'k': 40, 'min_k:': 1, 'sim_options': {'name': 'msd', 'min_support': 1, 'user_based': True}}\nMean RSME: 1.1519888017006183 Params: {'k': 40, 'min_k:': 1, 'sim_options': {'name': 'msd', 'min_support': 5, 'user_based': False}}\nMean RSME: 1.1424616885995078 Params: {'k': 40, 'min_k:': 1, 'sim_options': {'name': 'msd', 'min_support': 5, 'user_based': True}}\nMean RSME: 1.106419720913237 Params: {'k': 40, 'min_k:': 1, 'sim_options': {'name': 'cosine', 'min_support': 1, 'user_based': False}}\nMean RSME: 1.085419041395013 Params: {'k': 40, 'min_k:': 1, 'sim_options': {'name': 'cosine', 'min_support': 1, 'user_based': True}}\nMean RSME: 1.1583798093010693 Params: {'k': 40, 'min_k:': 1, 'sim_options': {'name': 'cosine', 'min_support': 5, 'user_based': False}}\nMean RSME: 1.1484190090912159 Params: {'k': 40, 'min_k:': 1, 'sim_options': {'name': 'cosine', 'min_support': 5, 'user_based': True}}\nMean RSME: 1.098864093774702 Params: {'k': 40, 'min_k:': 5, 'sim_options': {'name': 'msd', 'min_support': 1, 'user_based': False}}\nMean RSME: 1.079762446415431 Params: {'k': 40, 'min_k:': 5, 'sim_options': {'name': 'msd', 'min_support': 1, 'user_based': True}}\nMean RSME: 1.1519888017006183 Params: {'k': 40, 'min_k:': 5, 'sim_options': {'name': 'msd', 'min_support': 5, 'user_based': False}}\nMean RSME: 1.1424616885995078 Params: {'k': 40, 'min_k:': 5, 'sim_options': {'name': 'msd', 'min_support': 5, 'user_based': True}}\nMean RSME: 1.106419720913237 Params: {'k': 40, 'min_k:': 5, 'sim_options': {'name': 'cosine', 'min_support': 1, 'user_based': False}}\nMean RSME: 1.085419041395013 Params: {'k': 40, 'min_k:': 5, 'sim_options': {'name': 'cosine', 'min_support': 1, 'user_based': True}}\nMean RSME: 1.1583798093010693 Params: {'k': 40, 'min_k:': 5, 'sim_options': {'name': 'cosine', 'min_support': 5, 'user_based': False}}\nMean RSME: 1.1484190090912159 Params: {'k': 40, 'min_k:': 5, 'sim_options': {'name': 'cosine', 'min_support': 5, 'user_based': True}}\nMean RSME: 1.098864093774702 Params: {'k': 40, 'min_k:': 10, 'sim_options': {'name': 'msd', 'min_support': 1, 'user_based': False}}\nMean RSME: 1.079762446415431 Params: {'k': 40, 'min_k:': 10, 'sim_options': {'name': 'msd', 'min_support': 1, 'user_based': True}}\nMean RSME: 1.1519888017006183 Params: {'k': 40, 'min_k:': 10, 'sim_options': {'name': 'msd', 'min_support': 5, 'user_based': False}}\nMean RSME: 1.1424616885995078 Params: {'k': 40, 'min_k:': 10, 'sim_options': {'name': 'msd', 'min_support': 5, 'user_based': True}}\nMean RSME: 1.106419720913237 Params: {'k': 40, 'min_k:': 10, 'sim_options': {'name': 'cosine', 'min_support': 1, 'user_based': False}}\nMean RSME: 1.085419041395013 Params: {'k': 40, 'min_k:': 10, 'sim_options': {'name': 'cosine', 'min_support': 1, 'user_based': True}}\nMean RSME: 1.1583798093010693 Params: {'k': 40, 'min_k:': 10, 'sim_options': {'name': 'cosine', 'min_support': 5, 'user_based': False}}\nMean RSME: 1.1484190090912159 Params: {'k': 40, 'min_k:': 10, 'sim_options': {'name': 'cosine', 'min_support': 5, 'user_based': True}}\n\nBest RSME: 1.079762446415431 Best Params: {'k': 40, 'min_k:': 1, 'sim_options': {'name': 'msd', 'min_support': 1, 'user_based': True}}\n"
     ]
    }
   ],
   "source": [
    "#KNNBasic_results_df = pd.DataFrame.from_dict(grid_search.cv_results)\n",
    "#for n in range(len(KNNBasic_results_df.params)):\n",
    "#    print('Mean RSME:',KNNBasic_results_df.mean_test_rmse[n], 'Params:',KNNBasic_results_df.params[n])\n",
    "#print('\\nBest RSME:',grid_search.best_score[\"rmse\"],'Best Params:',grid_search.best_params[\"rmse\"])"
   ]
  },
  {
   "source": [
    "[Parallel(n_jobs=3)]: Using backend LokyBackend with 3 concurrent workers. <br>\n",
    "[Parallel(n_jobs=3)]: Done   2 tasks      | elapsed:    7.9s <br>\n",
    "[Parallel(n_jobs=3)]: Done   7 tasks      | elapsed:   32.7s <br>\n",
    "[Parallel(n_jobs=3)]: Done  12 tasks      | elapsed:   52.2s <br>\n",
    "[Parallel(n_jobs=3)]: Done  19 tasks      | elapsed:  1.5min <br>\n",
    "[Parallel(n_jobs=3)]: Done  26 tasks      | elapsed:  2.4min <br>\n",
    "[Parallel(n_jobs=3)]: Done  35 tasks      | elapsed:  3.3min <br>\n",
    "[Parallel(n_jobs=3)]: Done  44 tasks      | elapsed:  4.2min <br>\n",
    "[Parallel(n_jobs=3)]: Done  55 tasks      | elapsed:  4.9min <br>\n",
    "[Parallel(n_jobs=3)]: Done  66 tasks      | elapsed:  6.4min <br>\n",
    "[Parallel(n_jobs=3)]: Done  79 tasks      | elapsed:  7.9min <br>\n",
    "[Parallel(n_jobs=3)]: Done  92 tasks      | elapsed:  8.8min <br>\n",
    "[Parallel(n_jobs=3)]: Done 107 tasks      | elapsed: 10.5min <br>\n",
    "[Parallel(n_jobs=3)]: Done 122 tasks      | elapsed: 12.2min <br>\n",
    "[Parallel(n_jobs=3)]: Done 139 tasks      | elapsed: 13.7min <br>\n",
    "[Parallel(n_jobs=3)]: Done 156 tasks      | elapsed: 16.1min <br>\n",
    "[Parallel(n_jobs=3)]: Done 175 tasks      | elapsed: 17.6min <br>\n",
    "[Parallel(n_jobs=3)]: Done 194 tasks      | elapsed: 20.1min <br>\n",
    "[Parallel(n_jobs=3)]: Done 215 tasks      | elapsed: 22.1min <br>\n",
    "[Parallel(n_jobs=3)]: Done 240 out of 240 | elapsed: 25.5min finished  <br>\n",
    "\n",
    "Mean RSME: 1.1207483197619375 Params: {'k': 10, 'min_k:': 1, 'sim_options': {'name': 'msd', 'min_support': 1, 'user_based': False}} <br>\n",
    "Mean RSME: 1.1134275197738244 Params: {'k': 10, 'min_k:': 1, 'sim_options': {'name': 'msd', 'min_support': 1, 'user_based': True}} <br>\n",
    "Mean RSME: 1.1579731853753492 Params: {'k': 10, 'min_k:': 1, 'sim_options': {'name': 'msd', 'min_support': 5, 'user_based': False}} <br>\n",
    "Mean RSME: 1.148398591723234 Params: {'k': 10, 'min_k:': 1, 'sim_options': {'name': 'msd', 'min_support': 5, 'user_based': True}} <br>\n",
    "Mean RSME: 1.131750952774477 Params: {'k': 10, 'min_k:': 1, 'sim_options': {'name': 'cosine', 'min_support': 1, 'user_based': False}} <br>\n",
    "Mean RSME: 1.1185394953067425 Params: {'k': 10, 'min_k:': 1, 'sim_options': {'name': 'cosine', 'min_support': 1, 'user_based': True}} <br>\n",
    "Mean RSME: 1.167884894893078 Params: {'k': 10, 'min_k:': 1, 'sim_options': {'name': 'cosine', 'min_support': 5, 'user_based': False}} <br>\n",
    "Mean RSME: 1.1553289834961757 Params: {'k': 10, 'min_k:': 1, 'sim_options': {'name': 'cosine', 'min_support': 5, 'user_based': True}} <br>\n",
    "Mean RSME: 1.1207483197619375 Params: {'k': 10, 'min_k:': 5, 'sim_options': {'name': 'msd', 'min_support': 1, 'user_based': False}} <br>\n",
    "Mean RSME: 1.1134275197738244 Params: {'k': 10, 'min_k:': 5, 'sim_options': {'name': 'msd', 'min_support': 1, 'user_based': True}} <br>\n",
    "Mean RSME: 1.1579731853753492 Params: {'k': 10, 'min_k:': 5, 'sim_options': {'name': 'msd', 'min_support': 5, 'user_based': False}} <br>\n",
    "Mean RSME: 1.148398591723234 Params: {'k': 10, 'min_k:': 5, 'sim_options': {'name': 'msd', 'min_support': 5, 'user_based': True}} <br>\n",
    "Mean RSME: 1.131750952774477 Params: {'k': 10, 'min_k:': 5, 'sim_options': {'name': 'cosine', 'min_support': 1, 'user_based': False}} <br>\n",
    "Mean RSME: 1.1185394953067425 Params: {'k': 10, 'min_k:': 5, 'sim_options': {'name': 'cosine', 'min_support': 1, 'user_based': True}} <br>\n",
    "Mean RSME: 1.167884894893078 Params: {'k': 10, 'min_k:': 5, 'sim_options': {'name': 'cosine', 'min_support': 5, 'user_based': False}} <br>\n",
    "Mean RSME: 1.1553289834961757 Params: {'k': 10, 'min_k:': 5, 'sim_options': {'name': 'cosine', 'min_support': 5, 'user_based': True}} <br>\n",
    "Mean RSME: 1.1207483197619375 Params: {'k': 10, 'min_k:': 10, 'sim_options': {'name': 'msd', 'min_support': 1, 'user_based': False}} <br>\n",
    "Mean RSME: 1.1134275197738244 Params: {'k': 10, 'min_k:': 10, 'sim_options': {'name': 'msd', 'min_support': 1, 'user_based': True}} <br>\n",
    "Mean RSME: 1.1579731853753492 Params: {'k': 10, 'min_k:': 10, 'sim_options': {'name': 'msd', 'min_support': 5, 'user_based': False}} <br>\n",
    "Mean RSME: 1.148398591723234 Params: {'k': 10, 'min_k:': 10, 'sim_options': {'name': 'msd', 'min_support': 5, 'user_based': True}} <br>\n",
    "Mean RSME: 1.131750952774477 Params: {'k': 10, 'min_k:': 10, 'sim_options': {'name': 'cosine', 'min_support': 1, 'user_based': False}} <br>\n",
    "Mean RSME: 1.1185394953067425 Params: {'k': 10, 'min_k:': 10, 'sim_options': {'name': 'cosine', 'min_support': 1, 'user_based': True}} <br>\n",
    "Mean RSME: 1.167884894893078 Params: {'k': 10, 'min_k:': 10, 'sim_options': {'name': 'cosine', 'min_support': 5, 'user_based': False}} <br>\n",
    "Mean RSME: 1.1553289834961757 Params: {'k': 10, 'min_k:': 10, 'sim_options': {'name': 'cosine', 'min_support': 5, 'user_based': True}} <br>\n",
    "Mean RSME: 1.098864093774702 Params: {'k': 40, 'min_k:': 1, 'sim_options': {'name': 'msd', 'min_support': 1, 'user_based': False}} <br>\n",
    "Mean RSME: 1.079762446415431 Params: {'k': 40, 'min_k:': 1, 'sim_options': {'name': 'msd', 'min_support': 1, 'user_based': True}} <br>\n",
    "Mean RSME: 1.1519888017006183 Params: {'k': 40, 'min_k:': 1, 'sim_options': {'name': 'msd', 'min_support': 5, 'user_based': False}} <br>\n",
    "Mean RSME: 1.1424616885995078 Params: {'k': 40, 'min_k:': 1, 'sim_options': {'name': 'msd', 'min_support': 5, 'user_based': True}} <br>\n",
    "Mean RSME: 1.106419720913237 Params: {'k': 40, 'min_k:': 1, 'sim_options': {'name': 'cosine', 'min_support': 1, 'user_based': False}} <br>\n",
    "Mean RSME: 1.085419041395013 Params: {'k': 40, 'min_k:': 1, 'sim_options': {'name': 'cosine', 'min_support': 1, 'user_based': True}} <br>\n",
    "Mean RSME: 1.1583798093010693 Params: {'k': 40, 'min_k:': 1, 'sim_options': {'name': 'cosine', 'min_support': 5, 'user_based': False}} <br>\n",
    "Mean RSME: 1.1484190090912159 Params: {'k': 40, 'min_k:': 1, 'sim_options': {'name': 'cosine', 'min_support': 5, 'user_based': True}} <br>\n",
    "Mean RSME: 1.098864093774702 Params: {'k': 40, 'min_k:': 5, 'sim_options': {'name': 'msd', 'min_support': 1, 'user_based': False}} <br>\n",
    "Mean RSME: 1.079762446415431 Params: {'k': 40, 'min_k:': 5, 'sim_options': {'name': 'msd', 'min_support': 1, 'user_based': True}} <br>\n",
    "Mean RSME: 1.1519888017006183 Params: {'k': 40, 'min_k:': 5, 'sim_options': {'name': 'msd', 'min_support': 5, 'user_based': False}} <br>\n",
    "Mean RSME: 1.1424616885995078 Params: {'k': 40, 'min_k:': 5, 'sim_options': {'name': 'msd', 'min_support': 5, 'user_based': True}} <br>\n",
    "Mean RSME: 1.106419720913237 Params: {'k': 40, 'min_k:': 5, 'sim_options': {'name': 'cosine', 'min_support': 1, 'user_based': False}} <br>\n",
    "Mean RSME: 1.085419041395013 Params: {'k': 40, 'min_k:': 5, 'sim_options': {'name': 'cosine', 'min_support': 1, 'user_based': True}} <br>\n",
    "Mean RSME: 1.1583798093010693 Params: {'k': 40, 'min_k:': 5, 'sim_options': {'name': 'cosine', 'min_support': 5, 'user_based': False}} <br>\n",
    "Mean RSME: 1.1484190090912159 Params: {'k': 40, 'min_k:': 5, 'sim_options': {'name': 'cosine', 'min_support': 5, 'user_based': True}} <br>\n",
    "Mean RSME: 1.098864093774702 Params: {'k': 40, 'min_k:': 10, 'sim_options': {'name': 'msd', 'min_support': 1, 'user_based': False}} <br>\n",
    "Mean RSME: 1.079762446415431 Params: {'k': 40, 'min_k:': 10, 'sim_options': {'name': 'msd', 'min_support': 1, 'user_based': True}} <br>\n",
    "Mean RSME: 1.1519888017006183 Params: {'k': 40, 'min_k:': 10, 'sim_options': {'name': 'msd', 'min_support': 5, 'user_based': False}} <br>\n",
    "Mean RSME: 1.1424616885995078 Params: {'k': 40, 'min_k:': 10, 'sim_options': {'name': 'msd', 'min_support': 5, 'user_based': True}} <br>\n",
    "Mean RSME: 1.106419720913237 Params: {'k': 40, 'min_k:': 10, 'sim_options': {'name': 'cosine', 'min_support': 1, 'user_based': False}} <br>\n",
    "Mean RSME: 1.085419041395013 Params: {'k': 40, 'min_k:': 10, 'sim_options': {'name': 'cosine', 'min_support': 1, 'user_based': True}} <br>\n",
    "Mean RSME: 1.1583798093010693 Params: {'k': 40, 'min_k:': 10, 'sim_options': {'name': 'cosine', 'min_support': 5, 'user_based': False}} <br>\n",
    "Mean RSME: 1.1484190090912159 Params: {'k': 40, 'min_k:': 10, 'sim_options': {'name': 'cosine', 'min_support': 5, 'user_based': True}} <br>  <br>\n",
    "\n",
    "Best RSME: 1.079762446415431 Best Params: {'k': 40, 'min_k:': 1, 'sim_options': {'name': 'msd', 'min_support': 1, 'user_based': True}}"
   ],
   "cell_type": "markdown",
   "metadata": {}
  },
  {
   "cell_type": "code",
   "execution_count": 161,
   "metadata": {},
   "outputs": [
    {
     "output_type": "stream",
     "name": "stderr",
     "text": [
      "[Parallel(n_jobs=3)]: Using backend LokyBackend with 3 concurrent workers.\n",
      "[Parallel(n_jobs=3)]: Done   2 tasks      | elapsed:    7.7s\n",
      "[Parallel(n_jobs=3)]: Done   7 tasks      | elapsed:   33.4s\n",
      "[Parallel(n_jobs=3)]: Done  12 tasks      | elapsed:   52.8s\n",
      "[Parallel(n_jobs=3)]: Done  19 tasks      | elapsed:  1.5min\n",
      "[Parallel(n_jobs=3)]: Done  26 tasks      | elapsed:  2.5min\n",
      "[Parallel(n_jobs=3)]: Done  35 tasks      | elapsed:  3.3min\n",
      "[Parallel(n_jobs=3)]: Done  44 tasks      | elapsed:  4.2min\n",
      "[Parallel(n_jobs=3)]: Done  55 tasks      | elapsed:  4.9min\n",
      "[Parallel(n_jobs=3)]: Done  66 tasks      | elapsed:  6.4min\n",
      "[Parallel(n_jobs=3)]: Done  79 tasks      | elapsed:  7.8min\n",
      "[Parallel(n_jobs=3)]: Done  92 tasks      | elapsed:  8.7min\n",
      "[Parallel(n_jobs=3)]: Done 107 tasks      | elapsed: 10.4min\n",
      "[Parallel(n_jobs=3)]: Done 122 tasks      | elapsed: 12.0min\n",
      "[Parallel(n_jobs=3)]: Done 139 tasks      | elapsed: 13.6min\n",
      "[Parallel(n_jobs=3)]: Done 156 tasks      | elapsed: 15.9min\n",
      "[Parallel(n_jobs=3)]: Done 175 tasks      | elapsed: 17.4min\n",
      "[Parallel(n_jobs=3)]: Done 194 tasks      | elapsed: 19.9min\n",
      "[Parallel(n_jobs=3)]: Done 215 tasks      | elapsed: 21.8min\n",
      "[Parallel(n_jobs=3)]: Done 240 out of 240 | elapsed: 25.3min finished\n"
     ]
    }
   ],
   "source": [
    "#if 'grid_search' in globals():\n",
    "#    del grid_search\n",
    "#grid_search = GridSearchCV(KNNWithMeans, param_grid, measures = [\"rmse\", \"mae\"], cv=5, n_jobs=3,joblib_verbose=10)\n",
    "#grid_search.fit(data)"
   ]
  },
  {
   "cell_type": "code",
   "execution_count": 162,
   "metadata": {},
   "outputs": [
    {
     "output_type": "stream",
     "name": "stdout",
     "text": [
      "Mean RSME: 1.0655983534710998 Params: {'k': 10, 'min_k:': 1, 'sim_options': {'name': 'msd', 'min_support': 1, 'user_based': False}}\nMean RSME: 1.0810146843927848 Params: {'k': 10, 'min_k:': 1, 'sim_options': {'name': 'msd', 'min_support': 1, 'user_based': True}}\nMean RSME: 1.0969267715454047 Params: {'k': 10, 'min_k:': 1, 'sim_options': {'name': 'msd', 'min_support': 5, 'user_based': False}}\nMean RSME: 1.1072333151450648 Params: {'k': 10, 'min_k:': 1, 'sim_options': {'name': 'msd', 'min_support': 5, 'user_based': True}}\nMean RSME: 1.0588264076304275 Params: {'k': 10, 'min_k:': 1, 'sim_options': {'name': 'cosine', 'min_support': 1, 'user_based': False}}\nMean RSME: 1.075620146814002 Params: {'k': 10, 'min_k:': 1, 'sim_options': {'name': 'cosine', 'min_support': 1, 'user_based': True}}\nMean RSME: 1.093913698842813 Params: {'k': 10, 'min_k:': 1, 'sim_options': {'name': 'cosine', 'min_support': 5, 'user_based': False}}\nMean RSME: 1.1061819100823953 Params: {'k': 10, 'min_k:': 1, 'sim_options': {'name': 'cosine', 'min_support': 5, 'user_based': True}}\nMean RSME: 1.0655983534710998 Params: {'k': 10, 'min_k:': 5, 'sim_options': {'name': 'msd', 'min_support': 1, 'user_based': False}}\nMean RSME: 1.0810146843927848 Params: {'k': 10, 'min_k:': 5, 'sim_options': {'name': 'msd', 'min_support': 1, 'user_based': True}}\nMean RSME: 1.0969267715454047 Params: {'k': 10, 'min_k:': 5, 'sim_options': {'name': 'msd', 'min_support': 5, 'user_based': False}}\nMean RSME: 1.1072333151450648 Params: {'k': 10, 'min_k:': 5, 'sim_options': {'name': 'msd', 'min_support': 5, 'user_based': True}}\nMean RSME: 1.0588264076304275 Params: {'k': 10, 'min_k:': 5, 'sim_options': {'name': 'cosine', 'min_support': 1, 'user_based': False}}\nMean RSME: 1.075620146814002 Params: {'k': 10, 'min_k:': 5, 'sim_options': {'name': 'cosine', 'min_support': 1, 'user_based': True}}\nMean RSME: 1.093913698842813 Params: {'k': 10, 'min_k:': 5, 'sim_options': {'name': 'cosine', 'min_support': 5, 'user_based': False}}\nMean RSME: 1.1061819100823953 Params: {'k': 10, 'min_k:': 5, 'sim_options': {'name': 'cosine', 'min_support': 5, 'user_based': True}}\nMean RSME: 1.0655983534710998 Params: {'k': 10, 'min_k:': 10, 'sim_options': {'name': 'msd', 'min_support': 1, 'user_based': False}}\nMean RSME: 1.0810146843927848 Params: {'k': 10, 'min_k:': 10, 'sim_options': {'name': 'msd', 'min_support': 1, 'user_based': True}}\nMean RSME: 1.0969267715454047 Params: {'k': 10, 'min_k:': 10, 'sim_options': {'name': 'msd', 'min_support': 5, 'user_based': False}}\nMean RSME: 1.1072333151450648 Params: {'k': 10, 'min_k:': 10, 'sim_options': {'name': 'msd', 'min_support': 5, 'user_based': True}}\nMean RSME: 1.0588264076304275 Params: {'k': 10, 'min_k:': 10, 'sim_options': {'name': 'cosine', 'min_support': 1, 'user_based': False}}\nMean RSME: 1.075620146814002 Params: {'k': 10, 'min_k:': 10, 'sim_options': {'name': 'cosine', 'min_support': 1, 'user_based': True}}\nMean RSME: 1.093913698842813 Params: {'k': 10, 'min_k:': 10, 'sim_options': {'name': 'cosine', 'min_support': 5, 'user_based': False}}\nMean RSME: 1.1061819100823953 Params: {'k': 10, 'min_k:': 10, 'sim_options': {'name': 'cosine', 'min_support': 5, 'user_based': True}}\nMean RSME: 1.0418043175562492 Params: {'k': 40, 'min_k:': 1, 'sim_options': {'name': 'msd', 'min_support': 1, 'user_based': False}}\nMean RSME: 1.050525769096177 Params: {'k': 40, 'min_k:': 1, 'sim_options': {'name': 'msd', 'min_support': 1, 'user_based': True}}\nMean RSME: 1.086325666101672 Params: {'k': 40, 'min_k:': 1, 'sim_options': {'name': 'msd', 'min_support': 5, 'user_based': False}}\nMean RSME: 1.0991071861591728 Params: {'k': 40, 'min_k:': 1, 'sim_options': {'name': 'msd', 'min_support': 5, 'user_based': True}}\nMean RSME: 1.036794208238455 Params: {'k': 40, 'min_k:': 1, 'sim_options': {'name': 'cosine', 'min_support': 1, 'user_based': False}}\nMean RSME: 1.0464099209984212 Params: {'k': 40, 'min_k:': 1, 'sim_options': {'name': 'cosine', 'min_support': 1, 'user_based': True}}\nMean RSME: 1.084175614300176 Params: {'k': 40, 'min_k:': 1, 'sim_options': {'name': 'cosine', 'min_support': 5, 'user_based': False}}\nMean RSME: 1.0989079211079469 Params: {'k': 40, 'min_k:': 1, 'sim_options': {'name': 'cosine', 'min_support': 5, 'user_based': True}}\nMean RSME: 1.0418043175562492 Params: {'k': 40, 'min_k:': 5, 'sim_options': {'name': 'msd', 'min_support': 1, 'user_based': False}}\nMean RSME: 1.050525769096177 Params: {'k': 40, 'min_k:': 5, 'sim_options': {'name': 'msd', 'min_support': 1, 'user_based': True}}\nMean RSME: 1.086325666101672 Params: {'k': 40, 'min_k:': 5, 'sim_options': {'name': 'msd', 'min_support': 5, 'user_based': False}}\nMean RSME: 1.0991071861591728 Params: {'k': 40, 'min_k:': 5, 'sim_options': {'name': 'msd', 'min_support': 5, 'user_based': True}}\nMean RSME: 1.036794208238455 Params: {'k': 40, 'min_k:': 5, 'sim_options': {'name': 'cosine', 'min_support': 1, 'user_based': False}}\nMean RSME: 1.0464099209984212 Params: {'k': 40, 'min_k:': 5, 'sim_options': {'name': 'cosine', 'min_support': 1, 'user_based': True}}\nMean RSME: 1.084175614300176 Params: {'k': 40, 'min_k:': 5, 'sim_options': {'name': 'cosine', 'min_support': 5, 'user_based': False}}\nMean RSME: 1.0989079211079469 Params: {'k': 40, 'min_k:': 5, 'sim_options': {'name': 'cosine', 'min_support': 5, 'user_based': True}}\nMean RSME: 1.0418043175562492 Params: {'k': 40, 'min_k:': 10, 'sim_options': {'name': 'msd', 'min_support': 1, 'user_based': False}}\nMean RSME: 1.050525769096177 Params: {'k': 40, 'min_k:': 10, 'sim_options': {'name': 'msd', 'min_support': 1, 'user_based': True}}\nMean RSME: 1.086325666101672 Params: {'k': 40, 'min_k:': 10, 'sim_options': {'name': 'msd', 'min_support': 5, 'user_based': False}}\nMean RSME: 1.0991071861591728 Params: {'k': 40, 'min_k:': 10, 'sim_options': {'name': 'msd', 'min_support': 5, 'user_based': True}}\nMean RSME: 1.036794208238455 Params: {'k': 40, 'min_k:': 10, 'sim_options': {'name': 'cosine', 'min_support': 1, 'user_based': False}}\nMean RSME: 1.0464099209984212 Params: {'k': 40, 'min_k:': 10, 'sim_options': {'name': 'cosine', 'min_support': 1, 'user_based': True}}\nMean RSME: 1.084175614300176 Params: {'k': 40, 'min_k:': 10, 'sim_options': {'name': 'cosine', 'min_support': 5, 'user_based': False}}\nMean RSME: 1.0989079211079469 Params: {'k': 40, 'min_k:': 10, 'sim_options': {'name': 'cosine', 'min_support': 5, 'user_based': True}}\n\nBest RSME: 1.036794208238455 Best Params: {'k': 40, 'min_k:': 1, 'sim_options': {'name': 'cosine', 'min_support': 1, 'user_based': False}}\n"
     ]
    }
   ],
   "source": [
    "#KNNMeans_results_df = pd.DataFrame.from_dict(grid_search.cv_results)\n",
    "#for n in range(len(KNNMeans_results_df.params)):\n",
    "#    print('Mean RSME:',KNNMeans_results_df.mean_test_rmse[n], 'Params:',KNNMeans_results_df.params[n])\n",
    "#print('\\nBest RSME:',grid_search.best_score[\"rmse\"],'Best Params:',grid_search.best_params[\"rmse\"])"
   ]
  },
  {
   "source": [
    "[Parallel(n_jobs=3)]: Using backend LokyBackend with 3 concurrent workers. <br>\n",
    "[Parallel(n_jobs=3)]: Done   2 tasks      | elapsed:    7.7s <br>\n",
    "[Parallel(n_jobs=3)]: Done   7 tasks      | elapsed:   33.4s <br>\n",
    "[Parallel(n_jobs=3)]: Done  12 tasks      | elapsed:   52.8s <br>\n",
    "[Parallel(n_jobs=3)]: Done  19 tasks      | elapsed:  1.5min <br>\n",
    "[Parallel(n_jobs=3)]: Done  26 tasks      | elapsed:  2.5min <br>\n",
    "[Parallel(n_jobs=3)]: Done  35 tasks      | elapsed:  3.3min <br>\n",
    "[Parallel(n_jobs=3)]: Done  44 tasks      | elapsed:  4.2min <br>\n",
    "[Parallel(n_jobs=3)]: Done  55 tasks      | elapsed:  4.9min <br>\n",
    "[Parallel(n_jobs=3)]: Done  66 tasks      | elapsed:  6.4min <br>\n",
    "[Parallel(n_jobs=3)]: Done  79 tasks      | elapsed:  7.8min <br>\n",
    "[Parallel(n_jobs=3)]: Done  92 tasks      | elapsed:  8.7min <br>\n",
    "[Parallel(n_jobs=3)]: Done 107 tasks      | elapsed: 10.4min <br>\n",
    "[Parallel(n_jobs=3)]: Done 122 tasks      | elapsed: 12.0min <br>\n",
    "[Parallel(n_jobs=3)]: Done 139 tasks      | elapsed: 13.6min <br>\n",
    "[Parallel(n_jobs=3)]: Done 156 tasks      | elapsed: 15.9min <br>\n",
    "[Parallel(n_jobs=3)]: Done 175 tasks      | elapsed: 17.4min <br>\n",
    "[Parallel(n_jobs=3)]: Done 194 tasks      | elapsed: 19.9min <br>\n",
    "[Parallel(n_jobs=3)]: Done 215 tasks      | elapsed: 21.8min <br>\n",
    "[Parallel(n_jobs=3)]: Done 240 out of 240 | elapsed: 25.3min finished <br>  <br>\n",
    "\n",
    "Mean RSME: 1.0655983534710998 Params: {'k': 10, 'min_k:': 1, 'sim_options': {'name': 'msd', 'min_support': 1, 'user_based': False}} <br>\n",
    "Mean RSME: 1.0810146843927848 Params: {'k': 10, 'min_k:': 1, 'sim_options': {'name': 'msd', 'min_support': 1, 'user_based': True}} <br>\n",
    "Mean RSME: 1.0969267715454047 Params: {'k': 10, 'min_k:': 1, 'sim_options': {'name': 'msd', 'min_support': 5, 'user_based': False}} <br>\n",
    "Mean RSME: 1.1072333151450648 Params: {'k': 10, 'min_k:': 1, 'sim_options': {'name': 'msd', 'min_support': 5, 'user_based': True}} <br>\n",
    "Mean RSME: 1.0588264076304275 Params: {'k': 10, 'min_k:': 1, 'sim_options': {'name': 'cosine', 'min_support': 1, 'user_based': False}} <br>\n",
    "Mean RSME: 1.075620146814002 Params: {'k': 10, 'min_k:': 1, 'sim_options': {'name': 'cosine', 'min_support': 1, 'user_based': True}} <br>\n",
    "Mean RSME: 1.093913698842813 Params: {'k': 10, 'min_k:': 1, 'sim_options': {'name': 'cosine', 'min_support': 5, 'user_based': False}} <br>\n",
    "Mean RSME: 1.1061819100823953 Params: {'k': 10, 'min_k:': 1, 'sim_options': {'name': 'cosine', 'min_support': 5, 'user_based': True}} <br>\n",
    "Mean RSME: 1.0655983534710998 Params: {'k': 10, 'min_k:': 5, 'sim_options': {'name': 'msd', 'min_support': 1, 'user_based': False}} <br>\n",
    "Mean RSME: 1.0810146843927848 Params: {'k': 10, 'min_k:': 5, 'sim_options': {'name': 'msd', 'min_support': 1, 'user_based': True}} <br>\n",
    "Mean RSME: 1.0969267715454047 Params: {'k': 10, 'min_k:': 5, 'sim_options': {'name': 'msd', 'min_support': 5, 'user_based': False}} <br>\n",
    "Mean RSME: 1.1072333151450648 Params: {'k': 10, 'min_k:': 5, 'sim_options': {'name': 'msd', 'min_support': 5, 'user_based': True}} <br>\n",
    "Mean RSME: 1.0588264076304275 Params: {'k': 10, 'min_k:': 5, 'sim_options': {'name': 'cosine', 'min_support': 1, 'user_based': False}} <br>\n",
    "Mean RSME: 1.075620146814002 Params: {'k': 10, 'min_k:': 5, 'sim_options': {'name': 'cosine', 'min_support': 1, 'user_based': True}} <br>\n",
    "Mean RSME: 1.093913698842813 Params: {'k': 10, 'min_k:': 5, 'sim_options': {'name': 'cosine', 'min_support': 5, 'user_based': False}} <br>\n",
    "Mean RSME: 1.1061819100823953 Params: {'k': 10, 'min_k:': 5, 'sim_options': {'name': 'cosine', 'min_support': 5, 'user_based': True}} <br>\n",
    "Mean RSME: 1.0655983534710998 Params: {'k': 10, 'min_k:': 10, 'sim_options': {'name': 'msd', 'min_support': 1, 'user_based': False}} <br>\n",
    "Mean RSME: 1.0810146843927848 Params: {'k': 10, 'min_k:': 10, 'sim_options': {'name': 'msd', 'min_support': 1, 'user_based': True}} <br>\n",
    "Mean RSME: 1.0969267715454047 Params: {'k': 10, 'min_k:': 10, 'sim_options': {'name': 'msd', 'min_support': 5, 'user_based': False}} <br>\n",
    "Mean RSME: 1.1072333151450648 Params: {'k': 10, 'min_k:': 10, 'sim_options': {'name': 'msd', 'min_support': 5, 'user_based': True}} <br>\n",
    "Mean RSME: 1.0588264076304275 Params: {'k': 10, 'min_k:': 10, 'sim_options': {'name': 'cosine', 'min_support': 1, 'user_based': False}} <br>\n",
    "Mean RSME: 1.075620146814002 Params: {'k': 10, 'min_k:': 10, 'sim_options': {'name': 'cosine', 'min_support': 1, 'user_based': True}} <br>\n",
    "Mean RSME: 1.093913698842813 Params: {'k': 10, 'min_k:': 10, 'sim_options': {'name': 'cosine', 'min_support': 5, 'user_based': False}} <br>\n",
    "Mean RSME: 1.1061819100823953 Params: {'k': 10, 'min_k:': 10, 'sim_options': {'name': 'cosine', 'min_support': 5, 'user_based': True}} <br>\n",
    "Mean RSME: 1.0418043175562492 Params: {'k': 40, 'min_k:': 1, 'sim_options': {'name': 'msd', 'min_support': 1, 'user_based': False}} <br>\n",
    "Mean RSME: 1.050525769096177 Params: {'k': 40, 'min_k:': 1, 'sim_options': {'name': 'msd', 'min_support': 1, 'user_based': True}} <br>\n",
    "Mean RSME: 1.086325666101672 Params: {'k': 40, 'min_k:': 1, 'sim_options': {'name': 'msd', 'min_support': 5, 'user_based': False}} <br>\n",
    "Mean RSME: 1.0991071861591728 Params: {'k': 40, 'min_k:': 1, 'sim_options': {'name': 'msd', 'min_support': 5, 'user_based': True}} <br>\n",
    "Mean RSME: 1.036794208238455 Params: {'k': 40, 'min_k:': 1, 'sim_options': {'name': 'cosine', 'min_support': 1, 'user_based': False}} <br>\n",
    "Mean RSME: 1.0464099209984212 Params: {'k': 40, 'min_k:': 1, 'sim_options': {'name': 'cosine', 'min_support': 1, 'user_based': True}} <br>\n",
    "Mean RSME: 1.084175614300176 Params: {'k': 40, 'min_k:': 1, 'sim_options': {'name': 'cosine', 'min_support': 5, 'user_based': False}} <br>\n",
    "Mean RSME: 1.0989079211079469 Params: {'k': 40, 'min_k:': 1, 'sim_options': {'name': 'cosine', 'min_support': 5, 'user_based': True}} <br>\n",
    "Mean RSME: 1.0418043175562492 Params: {'k': 40, 'min_k:': 5, 'sim_options': {'name': 'msd', 'min_support': 1, 'user_based': False}} <br>\n",
    "Mean RSME: 1.050525769096177 Params: {'k': 40, 'min_k:': 5, 'sim_options': {'name': 'msd', 'min_support': 1, 'user_based': True}} <br>\n",
    "Mean RSME: 1.086325666101672 Params: {'k': 40, 'min_k:': 5, 'sim_options': {'name': 'msd', 'min_support': 5, 'user_based': False}} <br>\n",
    "Mean RSME: 1.0991071861591728 Params: {'k': 40, 'min_k:': 5, 'sim_options': {'name': 'msd', 'min_support': 5, 'user_based': True}} <br>\n",
    "Mean RSME: 1.036794208238455 Params: {'k': 40, 'min_k:': 5, 'sim_options': {'name': 'cosine', 'min_support': 1, 'user_based': False}} <br>\n",
    "Mean RSME: 1.0464099209984212 Params: {'k': 40, 'min_k:': 5, 'sim_options': {'name': 'cosine', 'min_support': 1, 'user_based': True}} <br>\n",
    "Mean RSME: 1.084175614300176 Params: {'k': 40, 'min_k:': 5, 'sim_options': {'name': 'cosine', 'min_support': 5, 'user_based': False}} <br>\n",
    "Mean RSME: 1.0989079211079469 Params: {'k': 40, 'min_k:': 5, 'sim_options': {'name': 'cosine', 'min_support': 5, 'user_based': True}} <br>\n",
    "Mean RSME: 1.0418043175562492 Params: {'k': 40, 'min_k:': 10, 'sim_options': {'name': 'msd', 'min_support': 1, 'user_based': False}} <br>\n",
    "Mean RSME: 1.050525769096177 Params: {'k': 40, 'min_k:': 10, 'sim_options': {'name': 'msd', 'min_support': 1, 'user_based': True}} <br>\n",
    "Mean RSME: 1.086325666101672 Params: {'k': 40, 'min_k:': 10, 'sim_options': {'name': 'msd', 'min_support': 5, 'user_based': False}} <br>\n",
    "Mean RSME: 1.0991071861591728 Params: {'k': 40, 'min_k:': 10, 'sim_options': {'name': 'msd', 'min_support': 5, 'user_based': True}} <br>\n",
    "Mean RSME: 1.036794208238455 Params: {'k': 40, 'min_k:': 10, 'sim_options': {'name': 'cosine', 'min_support': 1, 'user_based': False}} <br>\n",
    "Mean RSME: 1.0464099209984212 Params: {'k': 40, 'min_k:': 10, 'sim_options': {'name': 'cosine', 'min_support': 1, 'user_based': True}} <br>\n",
    "Mean RSME: 1.084175614300176 Params: {'k': 40, 'min_k:': 10, 'sim_options': {'name': 'cosine', 'min_support': 5, 'user_based': False}} <br>\n",
    "Mean RSME: 1.0989079211079469 Params: {'k': 40, 'min_k:': 10, 'sim_options': {'name': 'cosine', 'min_support': 5, 'user_based': True}} <br>  <br>\n",
    "\n",
    "Best RSME: 1.036794208238455 Best Params: {'k': 40, 'min_k:': 1, 'sim_options': {'name': 'cosine', 'min_support': 1, 'user_based': False}}"
   ],
   "cell_type": "markdown",
   "metadata": {}
  },
  {
   "cell_type": "code",
   "execution_count": 163,
   "metadata": {},
   "outputs": [
    {
     "output_type": "stream",
     "name": "stderr",
     "text": [
      "[Parallel(n_jobs=3)]: Using backend LokyBackend with 3 concurrent workers.\n",
      "[Parallel(n_jobs=3)]: Done   2 tasks      | elapsed:    8.9s\n",
      "[Parallel(n_jobs=3)]: Done   7 tasks      | elapsed:   37.7s\n",
      "[Parallel(n_jobs=3)]: Done  12 tasks      | elapsed:   58.3s\n",
      "[Parallel(n_jobs=3)]: Done  19 tasks      | elapsed:  1.6min\n",
      "[Parallel(n_jobs=3)]: Done  26 tasks      | elapsed:  2.6min\n",
      "[Parallel(n_jobs=3)]: Done  35 tasks      | elapsed:  3.6min\n",
      "[Parallel(n_jobs=3)]: Done  44 tasks      | elapsed:  4.5min\n",
      "[Parallel(n_jobs=3)]: Done  55 tasks      | elapsed:  5.3min\n",
      "[Parallel(n_jobs=3)]: Done  66 tasks      | elapsed:  6.9min\n",
      "[Parallel(n_jobs=3)]: Done  79 tasks      | elapsed:  8.4min\n",
      "[Parallel(n_jobs=3)]: Done  92 tasks      | elapsed:  9.4min\n",
      "[Parallel(n_jobs=3)]: Done 107 tasks      | elapsed: 11.2min\n",
      "[Parallel(n_jobs=3)]: Done 122 tasks      | elapsed: 12.9min\n",
      "[Parallel(n_jobs=3)]: Done 139 tasks      | elapsed: 14.6min\n",
      "[Parallel(n_jobs=3)]: Done 156 tasks      | elapsed: 17.1min\n",
      "[Parallel(n_jobs=3)]: Done 175 tasks      | elapsed: 18.7min\n",
      "[Parallel(n_jobs=3)]: Done 194 tasks      | elapsed: 21.4min\n",
      "[Parallel(n_jobs=3)]: Done 215 tasks      | elapsed: 23.5min\n",
      "[Parallel(n_jobs=3)]: Done 240 out of 240 | elapsed: 27.1min finished\n"
     ]
    }
   ],
   "source": [
    "#if 'grid_search' in globals():\n",
    "#    del grid_search\n",
    "#grid_search = GridSearchCV(KNNWithZScore, param_grid, measures = [\"rmse\", \"mae\"], cv=5, n_jobs=3,joblib_verbose=10)\n",
    "#grid_search.fit(data)"
   ]
  },
  {
   "cell_type": "code",
   "execution_count": 164,
   "metadata": {},
   "outputs": [
    {
     "output_type": "stream",
     "name": "stdout",
     "text": [
      "Mean RSME: 1.0683386376029975 Params: {'k': 10, 'min_k:': 1, 'sim_options': {'name': 'msd', 'min_support': 1, 'user_based': False}}\nMean RSME: 1.0859524367717235 Params: {'k': 10, 'min_k:': 1, 'sim_options': {'name': 'msd', 'min_support': 1, 'user_based': True}}\nMean RSME: 1.1045790112123492 Params: {'k': 10, 'min_k:': 1, 'sim_options': {'name': 'msd', 'min_support': 5, 'user_based': False}}\nMean RSME: 1.124366935600634 Params: {'k': 10, 'min_k:': 1, 'sim_options': {'name': 'msd', 'min_support': 5, 'user_based': True}}\nMean RSME: 1.060761589193492 Params: {'k': 10, 'min_k:': 1, 'sim_options': {'name': 'cosine', 'min_support': 1, 'user_based': False}}\nMean RSME: 1.0767696237615965 Params: {'k': 10, 'min_k:': 1, 'sim_options': {'name': 'cosine', 'min_support': 1, 'user_based': True}}\nMean RSME: 1.1016096448920973 Params: {'k': 10, 'min_k:': 1, 'sim_options': {'name': 'cosine', 'min_support': 5, 'user_based': False}}\nMean RSME: 1.121876315356279 Params: {'k': 10, 'min_k:': 1, 'sim_options': {'name': 'cosine', 'min_support': 5, 'user_based': True}}\nMean RSME: 1.0683386376029975 Params: {'k': 10, 'min_k:': 5, 'sim_options': {'name': 'msd', 'min_support': 1, 'user_based': False}}\nMean RSME: 1.0859524367717235 Params: {'k': 10, 'min_k:': 5, 'sim_options': {'name': 'msd', 'min_support': 1, 'user_based': True}}\nMean RSME: 1.1045790112123492 Params: {'k': 10, 'min_k:': 5, 'sim_options': {'name': 'msd', 'min_support': 5, 'user_based': False}}\nMean RSME: 1.124366935600634 Params: {'k': 10, 'min_k:': 5, 'sim_options': {'name': 'msd', 'min_support': 5, 'user_based': True}}\nMean RSME: 1.060761589193492 Params: {'k': 10, 'min_k:': 5, 'sim_options': {'name': 'cosine', 'min_support': 1, 'user_based': False}}\nMean RSME: 1.0767696237615965 Params: {'k': 10, 'min_k:': 5, 'sim_options': {'name': 'cosine', 'min_support': 1, 'user_based': True}}\nMean RSME: 1.1016096448920973 Params: {'k': 10, 'min_k:': 5, 'sim_options': {'name': 'cosine', 'min_support': 5, 'user_based': False}}\nMean RSME: 1.121876315356279 Params: {'k': 10, 'min_k:': 5, 'sim_options': {'name': 'cosine', 'min_support': 5, 'user_based': True}}\nMean RSME: 1.0683386376029975 Params: {'k': 10, 'min_k:': 10, 'sim_options': {'name': 'msd', 'min_support': 1, 'user_based': False}}\nMean RSME: 1.0859524367717235 Params: {'k': 10, 'min_k:': 10, 'sim_options': {'name': 'msd', 'min_support': 1, 'user_based': True}}\nMean RSME: 1.1045790112123492 Params: {'k': 10, 'min_k:': 10, 'sim_options': {'name': 'msd', 'min_support': 5, 'user_based': False}}\nMean RSME: 1.124366935600634 Params: {'k': 10, 'min_k:': 10, 'sim_options': {'name': 'msd', 'min_support': 5, 'user_based': True}}\nMean RSME: 1.060761589193492 Params: {'k': 10, 'min_k:': 10, 'sim_options': {'name': 'cosine', 'min_support': 1, 'user_based': False}}\nMean RSME: 1.0767696237615965 Params: {'k': 10, 'min_k:': 10, 'sim_options': {'name': 'cosine', 'min_support': 1, 'user_based': True}}\nMean RSME: 1.1016096448920973 Params: {'k': 10, 'min_k:': 10, 'sim_options': {'name': 'cosine', 'min_support': 5, 'user_based': False}}\nMean RSME: 1.121876315356279 Params: {'k': 10, 'min_k:': 10, 'sim_options': {'name': 'cosine', 'min_support': 5, 'user_based': True}}\nMean RSME: 1.04433479448415 Params: {'k': 40, 'min_k:': 1, 'sim_options': {'name': 'msd', 'min_support': 1, 'user_based': False}}\nMean RSME: 1.0552517611900165 Params: {'k': 40, 'min_k:': 1, 'sim_options': {'name': 'msd', 'min_support': 1, 'user_based': True}}\nMean RSME: 1.0940389811938673 Params: {'k': 40, 'min_k:': 1, 'sim_options': {'name': 'msd', 'min_support': 5, 'user_based': False}}\nMean RSME: 1.1150317967049255 Params: {'k': 40, 'min_k:': 1, 'sim_options': {'name': 'msd', 'min_support': 5, 'user_based': True}}\nMean RSME: 1.0387852982068733 Params: {'k': 40, 'min_k:': 1, 'sim_options': {'name': 'cosine', 'min_support': 1, 'user_based': False}}\nMean RSME: 1.0479187969087314 Params: {'k': 40, 'min_k:': 1, 'sim_options': {'name': 'cosine', 'min_support': 1, 'user_based': True}}\nMean RSME: 1.091420180856124 Params: {'k': 40, 'min_k:': 1, 'sim_options': {'name': 'cosine', 'min_support': 5, 'user_based': False}}\nMean RSME: 1.1133504557199738 Params: {'k': 40, 'min_k:': 1, 'sim_options': {'name': 'cosine', 'min_support': 5, 'user_based': True}}\nMean RSME: 1.04433479448415 Params: {'k': 40, 'min_k:': 5, 'sim_options': {'name': 'msd', 'min_support': 1, 'user_based': False}}\nMean RSME: 1.0552517611900165 Params: {'k': 40, 'min_k:': 5, 'sim_options': {'name': 'msd', 'min_support': 1, 'user_based': True}}\nMean RSME: 1.0940389811938673 Params: {'k': 40, 'min_k:': 5, 'sim_options': {'name': 'msd', 'min_support': 5, 'user_based': False}}\nMean RSME: 1.1150317967049255 Params: {'k': 40, 'min_k:': 5, 'sim_options': {'name': 'msd', 'min_support': 5, 'user_based': True}}\nMean RSME: 1.0387852982068733 Params: {'k': 40, 'min_k:': 5, 'sim_options': {'name': 'cosine', 'min_support': 1, 'user_based': False}}\nMean RSME: 1.0479187969087314 Params: {'k': 40, 'min_k:': 5, 'sim_options': {'name': 'cosine', 'min_support': 1, 'user_based': True}}\nMean RSME: 1.091420180856124 Params: {'k': 40, 'min_k:': 5, 'sim_options': {'name': 'cosine', 'min_support': 5, 'user_based': False}}\nMean RSME: 1.1133504557199738 Params: {'k': 40, 'min_k:': 5, 'sim_options': {'name': 'cosine', 'min_support': 5, 'user_based': True}}\nMean RSME: 1.04433479448415 Params: {'k': 40, 'min_k:': 10, 'sim_options': {'name': 'msd', 'min_support': 1, 'user_based': False}}\nMean RSME: 1.0552517611900165 Params: {'k': 40, 'min_k:': 10, 'sim_options': {'name': 'msd', 'min_support': 1, 'user_based': True}}\nMean RSME: 1.0940389811938673 Params: {'k': 40, 'min_k:': 10, 'sim_options': {'name': 'msd', 'min_support': 5, 'user_based': False}}\nMean RSME: 1.1150317967049255 Params: {'k': 40, 'min_k:': 10, 'sim_options': {'name': 'msd', 'min_support': 5, 'user_based': True}}\nMean RSME: 1.0387852982068733 Params: {'k': 40, 'min_k:': 10, 'sim_options': {'name': 'cosine', 'min_support': 1, 'user_based': False}}\nMean RSME: 1.0479187969087314 Params: {'k': 40, 'min_k:': 10, 'sim_options': {'name': 'cosine', 'min_support': 1, 'user_based': True}}\nMean RSME: 1.091420180856124 Params: {'k': 40, 'min_k:': 10, 'sim_options': {'name': 'cosine', 'min_support': 5, 'user_based': False}}\nMean RSME: 1.1133504557199738 Params: {'k': 40, 'min_k:': 10, 'sim_options': {'name': 'cosine', 'min_support': 5, 'user_based': True}}\n\nBest RSME: 1.0387852982068733 Best Params: {'k': 40, 'min_k:': 1, 'sim_options': {'name': 'cosine', 'min_support': 1, 'user_based': False}}\n"
     ]
    }
   ],
   "source": [
    "#KNNZScore_results_df = pd.DataFrame.from_dict(grid_search.cv_results)\n",
    "#for n in range(len(KNNZScore_results_df.params)):\n",
    "#    print('Mean RSME:',KNNZScore_results_df.mean_test_rmse[n], 'Params:',KNNZScore_results_df.params[n])\n",
    "#print('\\nBest RSME:',grid_search.best_score[\"rmse\"],'Best Params:',grid_search.best_params[\"rmse\"])"
   ]
  },
  {
   "source": [
    "[Parallel(n_jobs=3)]: Using backend LokyBackend with 3 concurrent workers. <br>\n",
    "[Parallel(n_jobs=3)]: Done   2 tasks      | elapsed:    8.9s <br>\n",
    "[Parallel(n_jobs=3)]: Done   7 tasks      | elapsed:   37.7s <br>\n",
    "[Parallel(n_jobs=3)]: Done  12 tasks      | elapsed:   58.3s <br>\n",
    "[Parallel(n_jobs=3)]: Done  19 tasks      | elapsed:  1.6min <br>\n",
    "[Parallel(n_jobs=3)]: Done  26 tasks      | elapsed:  2.6min <br>\n",
    "[Parallel(n_jobs=3)]: Done  35 tasks      | elapsed:  3.6min <br>\n",
    "[Parallel(n_jobs=3)]: Done  44 tasks      | elapsed:  4.5min <br>\n",
    "[Parallel(n_jobs=3)]: Done  55 tasks      | elapsed:  5.3min <br>\n",
    "[Parallel(n_jobs=3)]: Done  66 tasks      | elapsed:  6.9min <br>\n",
    "[Parallel(n_jobs=3)]: Done  79 tasks      | elapsed:  8.4min <br>\n",
    "[Parallel(n_jobs=3)]: Done  92 tasks      | elapsed:  9.4min <br>\n",
    "[Parallel(n_jobs=3)]: Done 107 tasks      | elapsed: 11.2min <br>\n",
    "[Parallel(n_jobs=3)]: Done 122 tasks      | elapsed: 12.9min <br>\n",
    "[Parallel(n_jobs=3)]: Done 139 tasks      | elapsed: 14.6min <br>\n",
    "[Parallel(n_jobs=3)]: Done 156 tasks      | elapsed: 17.1min <br>\n",
    "[Parallel(n_jobs=3)]: Done 175 tasks      | elapsed: 18.7min <br>\n",
    "[Parallel(n_jobs=3)]: Done 194 tasks      | elapsed: 21.4min <br>\n",
    "[Parallel(n_jobs=3)]: Done 215 tasks      | elapsed: 23.5min <br>\n",
    "[Parallel(n_jobs=3)]: Done 240 out of 240 | elapsed: 27.1min finished <br> <br>\n",
    "\n",
    "Mean RSME: 1.0683386376029975 Params: {'k': 10, 'min_k:': 1, 'sim_options': {'name': 'msd', 'min_support': 1, 'user_based': False}} <br>\n",
    "Mean RSME: 1.0859524367717235 Params: {'k': 10, 'min_k:': 1, 'sim_options': {'name': 'msd', 'min_support': 1, 'user_based': True}} <br>\n",
    "Mean RSME: 1.1045790112123492 Params: {'k': 10, 'min_k:': 1, 'sim_options': {'name': 'msd', 'min_support': 5, 'user_based': False}} <br>\n",
    "Mean RSME: 1.124366935600634 Params: {'k': 10, 'min_k:': 1, 'sim_options': {'name': 'msd', 'min_support': 5, 'user_based': True}} <br>\n",
    "Mean RSME: 1.060761589193492 Params: {'k': 10, 'min_k:': 1, 'sim_options': {'name': 'cosine', 'min_support': 1, 'user_based': False}} <br>\n",
    "Mean RSME: 1.0767696237615965 Params: {'k': 10, 'min_k:': 1, 'sim_options': {'name': 'cosine', 'min_support': 1, 'user_based': True}} <br>\n",
    "Mean RSME: 1.1016096448920973 Params: {'k': 10, 'min_k:': 1, 'sim_options': {'name': 'cosine', 'min_support': 5, 'user_based': False}} <br>\n",
    "Mean RSME: 1.121876315356279 Params: {'k': 10, 'min_k:': 1, 'sim_options': {'name': 'cosine', 'min_support': 5, 'user_based': True}} <br>\n",
    "Mean RSME: 1.0683386376029975 Params: {'k': 10, 'min_k:': 5, 'sim_options': {'name': 'msd', 'min_support': 1, 'user_based': False}} <br>\n",
    "Mean RSME: 1.0859524367717235 Params: {'k': 10, 'min_k:': 5, 'sim_options': {'name': 'msd', 'min_support': 1, 'user_based': True}} <br>\n",
    "Mean RSME: 1.1045790112123492 Params: {'k': 10, 'min_k:': 5, 'sim_options': {'name': 'msd', 'min_support': 5, 'user_based': False}} <br>\n",
    "Mean RSME: 1.124366935600634 Params: {'k': 10, 'min_k:': 5, 'sim_options': {'name': 'msd', 'min_support': 5, 'user_based': True}} <br>\n",
    "Mean RSME: 1.060761589193492 Params: {'k': 10, 'min_k:': 5, 'sim_options': {'name': 'cosine', 'min_support': 1, 'user_based': False}} <br>\n",
    "Mean RSME: 1.0767696237615965 Params: {'k': 10, 'min_k:': 5, 'sim_options': {'name': 'cosine', 'min_support': 1, 'user_based': True}} <br>\n",
    "Mean RSME: 1.1016096448920973 Params: {'k': 10, 'min_k:': 5, 'sim_options': {'name': 'cosine', 'min_support': 5, 'user_based': False}} <br>\n",
    "Mean RSME: 1.1016096448920973 Params: {'k': 10, 'min_k:': 5, 'sim_options': {'name': 'cosine', 'min_support': 5, 'user_based': False}} <br>\n",
    "Mean RSME: 1.1016096448920973 Params: {'k': 10, 'min_k:': 5, 'sim_options': {'name': 'cosine', 'min_support': 5, 'user_based': False}} <br>\n",
    "Mean RSME: 1.1016096448920973 Params: {'k': 10, 'min_k:': 5, 'sim_options': {'name': 'cosine', 'min_support': 5, 'user_based': False}} <br>\n",
    "Mean RSME: 1.121876315356279 Params: {'k': 10, 'min_k:': 5, 'sim_options': {'name': 'cosine', 'min_support': 5, 'user_based': True}} <br> \n",
    "Mean RSME: 1.0683386376029975 Params: {'k': 10, 'min_k:': 10, 'sim_options': {'name': 'msd', 'min_support': 1, 'user_based': False}} <br>\n",
    "Mean RSME: 1.0859524367717235 Params: {'k': 10, 'min_k:': 10, 'sim_options': {'name': 'msd', 'min_support': 1, 'user_based': True}} <br>\n",
    "Mean RSME: 1.1045790112123492 Params: {'k': 10, 'min_k:': 10, 'sim_options': {'name': 'msd', 'min_support': 5, 'user_based': False}} <br>\n",
    "Mean RSME: 1.124366935600634 Params: {'k': 10, 'min_k:': 10, 'sim_options': {'name': 'msd', 'min_support': 5, 'user_based': True}} <br>\n",
    "Mean RSME: 1.060761589193492 Params: {'k': 10, 'min_k:': 10, 'sim_options': {'name': 'cosine', 'min_support': 1, 'user_based': False}} <br>\n",
    "Mean RSME: 1.0767696237615965 Params: {'k': 10, 'min_k:': 10, 'sim_options': {'name': 'cosine', 'min_support': 1, 'user_based': True}} <br>\n",
    "Mean RSME: 1.1016096448920973 Params: {'k': 10, 'min_k:': 10, 'sim_options': {'name': 'cosine', 'min_support': 5, 'user_based': False}} <br>\n",
    "Mean RSME: 1.121876315356279 Params: {'k': 10, 'min_k:': 10, 'sim_options': {'name': 'cosine', 'min_support': 5, 'user_based': True}} <br>\n",
    "Mean RSME: 1.04433479448415 Params: {'k': 40, 'min_k:': 1, 'sim_options': {'name': 'msd', 'min_support': 1, 'user_based': False}} <br>\n",
    "Mean RSME: 1.0552517611900165 Params: {'k': 40, 'min_k:': 1, 'sim_options': {'name': 'msd', 'min_support': 1, 'user_based': True}} <br>\n",
    "Mean RSME: 1.0940389811938673 Params: {'k': 40, 'min_k:': 1, 'sim_options': {'name': 'msd', 'min_support': 5, 'user_based': False}} <br>\n",
    "Mean RSME: 1.1150317967049255 Params: {'k': 40, 'min_k:': 1, 'sim_options': {'name': 'msd', 'min_support': 5, 'user_based': True}} <br>\n",
    "Mean RSME: 1.0387852982068733 Params: {'k': 40, 'min_k:': 1, 'sim_options': {'name': 'cosine', 'min_support': 1, 'user_based': False}} <br>\n",
    "Mean RSME: 1.0479187969087314 Params: {'k': 40, 'min_k:': 1, 'sim_options': {'name': 'cosine', 'min_support': 1, 'user_based': True}} <br>\n",
    "Mean RSME: 1.091420180856124 Params: {'k': 40, 'min_k:': 1, 'sim_options': {'name': 'cosine', 'min_support': 5, 'user_based': False}} <br>\n",
    "Mean RSME: 1.1133504557199738 Params: {'k': 40, 'min_k:': 1, 'sim_options': {'name': 'cosine', 'min_support': 5, 'user_based': True}} <br>\n",
    "Mean RSME: 1.04433479448415 Params: {'k': 40, 'min_k:': 5, 'sim_options': {'name': 'msd', 'min_support': 1, 'user_based': False}} <br>\n",
    "Mean RSME: 1.0552517611900165 Params: {'k': 40, 'min_k:': 5, 'sim_options': {'name': 'msd', 'min_support': 1, 'user_based': True}} <br>\n",
    "Mean RSME: 1.0940389811938673 Params: {'k': 40, 'min_k:': 5, 'sim_options': {'name': 'msd', 'min_support': 5, 'user_based': False}} <br>\n",
    "Mean RSME: 1.1150317967049255 Params: {'k': 40, 'min_k:': 5, 'sim_options': {'name': 'msd', 'min_support': 5, 'user_based': True}} <br>\n",
    "Mean RSME: 1.0387852982068733 Params: {'k': 40, 'min_k:': 5, 'sim_options': {'name': 'cosine', 'min_support': 1, 'user_based': False}} <br>\n",
    "Mean RSME: 1.0479187969087314 Params: {'k': 40, 'min_k:': 5, 'sim_options': {'name': 'cosine', 'min_support': 1, 'user_based': True}} <br>\n",
    "Mean RSME: 1.091420180856124 Params: {'k': 40, 'min_k:': 5, 'sim_options': {'name': 'cosine', 'min_support': 5, 'user_based': False}} <br>\n",
    "Mean RSME: 1.1133504557199738 Params: {'k': 40, 'min_k:': 5, 'sim_options': {'name': 'cosine', 'min_support': 5, 'user_based': True}} <br>\n",
    "Mean RSME: 1.04433479448415 Params: {'k': 40, 'min_k:': 10, 'sim_options': {'name': 'msd', 'min_support': 1, 'user_based': False}} <br>\n",
    "Mean RSME: 1.0552517611900165 Params: {'k': 40, 'min_k:': 10, 'sim_options': {'name': 'msd', 'min_support': 1, 'user_based': True}} <br>\n",
    "Mean RSME: 1.0940389811938673 Params: {'k': 40, 'min_k:': 10, 'sim_options': {'name': 'msd', 'min_support': 5, 'user_based': False}} <br>\n",
    "Mean RSME: 1.1150317967049255 Params: {'k': 40, 'min_k:': 10, 'sim_options': {'name': 'msd', 'min_support': 5, 'user_based': True}} <br>\n",
    "Mean RSME: 1.0387852982068733 Params: {'k': 40, 'min_k:': 10, 'sim_options': {'name': 'cosine', 'min_support': 1, 'user_based': False}} <br>\n",
    "Mean RSME: 1.0479187969087314 Params: {'k': 40, 'min_k:': 10, 'sim_options': {'name': 'cosine', 'min_support': 1, 'user_based': True}} <br>\n",
    "Mean RSME: 1.091420180856124 Params: {'k': 40, 'min_k:': 10, 'sim_options': {'name': 'cosine', 'min_support': 5, 'user_based': False}} <br>\n",
    "Mean RSME: 1.1133504557199738 Params: {'k': 40, 'min_k:': 10, 'sim_options': {'name': 'cosine', 'min_support': 5, 'user_based': True}} <br> <br>\n",
    "\n",
    "Best RSME: 1.0387852982068733 Best Params: {'k': 40, 'min_k:': 1, 'sim_options': {'name': 'cosine', 'min_support': 1, 'user_based': False}}"
   ],
   "cell_type": "markdown",
   "metadata": {}
  },
  {
   "cell_type": "code",
   "execution_count": null,
   "metadata": {},
   "outputs": [],
   "source": [
    "from surprise import SVD\n",
    "from surprise import SVDpp"
   ]
  },
  {
   "cell_type": "code",
   "execution_count": null,
   "metadata": {},
   "outputs": [],
   "source": [
    "sim_options = {\n",
    "    \"n_epochs\": [5, 10, 20, 30],\n",
    "    \"lr_all\": [.0025, .005, .001, .01]}\n",
    "\n",
    "param_grid = {\"sim_options\": sim_options}"
   ]
  },
  {
   "cell_type": "code",
   "execution_count": null,
   "metadata": {},
   "outputs": [],
   "source": [
    "if 'grid_search' in globals():\n",
    "    del grid_search\n",
    "grid_search = GridSearchCV(SVD, param_grid, measures = [\"rmse\", \"mae\"], cv=5, n_jobs=3,joblib_verbose=10)\n",
    "grid_search.fit(data)"
   ]
  },
  {
   "cell_type": "code",
   "execution_count": null,
   "metadata": {},
   "outputs": [],
   "source": [
    "SVD_results_df = pd.DataFrame.from_dict(grid_search.cv_results)\n",
    "for n in range(len(SVD_results_df.params)):\n",
    "    print('Mean RSME:',SVD_results_df.mean_test_rmse[n], 'Params:',SVD_results_df.params[n])\n",
    "print('\\nBest RSME:',grid_search.best_score[\"rmse\"],'Best Params:',grid_search.best_params[\"rmse\"])"
   ]
  },
  {
   "cell_type": "code",
   "execution_count": null,
   "metadata": {},
   "outputs": [],
   "source": [
    "if 'grid_search' in globals():\n",
    "    del grid_search\n",
    "grid_search = GridSearchCV(SVDpp, param_grid, measures = [\"rmse\", \"mae\"], cv=5, n_jobs=3,joblib_verbose=10)\n",
    "grid_search.fit(data)"
   ]
  },
  {
   "cell_type": "code",
   "execution_count": null,
   "metadata": {},
   "outputs": [],
   "source": [
    "SVDpp_results_df = pd.DataFrame.from_dict(grid_search.cv_results)\n",
    "for n in range(len(SVDpp_results_df.params)):\n",
    "    print('Mean RSME:',SVDpp_results_df.mean_test_rmse[n], 'Params:',SVDpp_results_df.params[n])\n",
    "print('\\nBest RSME:',grid_search.best_score[\"rmse\"],'Best Params:',grid_search.best_params[\"rmse\"])"
   ]
  },
  {
   "cell_type": "markdown",
   "metadata": {},
   "source": [
    "## Algorithm and Parameter Tuning"
   ]
  },
  {
   "cell_type": "code",
   "execution_count": null,
   "metadata": {},
   "outputs": [],
   "source": []
  },
  {
   "cell_type": "markdown",
   "metadata": {},
   "source": [
    "### Validation methods\n",
    "Parameter grid search given the below error measurements:\n",
    "#### Root Mean Square Error (RMSE)\n",
    "* Measures standard deviation of errors in set of predictions\n",
    "* Goal: minimize RMSE\n",
    "\n",
    "#### Mean Absolute Error (MAE)\n",
    "* Measures average magnitude of errors in set of predictions\n",
    "* Goal: minimize MAE"
   ]
  }
 ],
 "metadata": {
  "kernelspec": {
   "name": "python383jvsc74a57bd0e079647b578f6e22f42cb979ca5c90bb711697013bb834e432a2160cedf42143",
   "display_name": "Python 3.8.3 64-bit (conda)"
  },
  "language_info": {
   "codemirror_mode": {
    "name": "ipython",
    "version": 3
   },
   "file_extension": ".py",
   "mimetype": "text/x-python",
   "name": "python",
   "nbconvert_exporter": "python",
   "pygments_lexer": "ipython3",
   "version": "3.8.3"
  }
 },
 "nbformat": 4,
 "nbformat_minor": 2
}