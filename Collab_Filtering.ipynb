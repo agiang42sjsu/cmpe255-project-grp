{
 "cells": [
  {
   "cell_type": "markdown",
   "metadata": {},
   "source": [
    "# Yelp On the Go! \n",
    "### Collaborative Filtering Recommender (SVD++)\n"
   ]
  },
  {
   "cell_type": "markdown",
   "metadata": {},
   "source": [
    "## Install and Import Library Dependencies  "
   ]
  },
  {
   "cell_type": "code",
   "execution_count": null,
   "metadata": {},
   "outputs": [],
   "source": [
    "!pip install surprise"
   ]
  },
  {
   "cell_type": "code",
   "execution_count": null,
   "metadata": {},
   "outputs": [],
   "source": [
    "import json\n",
    "import time\n",
    "import pandas as pd\n",
    "from surprise import SVDpp\n",
    "from surprise import Dataset\n",
    "from surprise import Reader\n",
    "from collections import defaultdict\n",
    "from surprise import accuracy"
   ]
  },
  {
   "cell_type": "markdown",
   "metadata": {},
   "source": [
    "## Load Preprocessed User, Restaurant, and Review Data "
   ]
  },
  {
   "cell_type": "code",
   "execution_count": null,
   "metadata": {},
   "outputs": [],
   "source": [
    "start = time.time()\n",
    "with open('MA_users.json', encoding=\"utf8\") as fin:\n",
    "    print('Reading',fin.name)\n",
    "    user_data = json.load(fin)\n",
    "end = time.time()\n",
    "duration_without_dr = end-start\n",
    "print(\"Time taken to load user data: %d seconds\" %duration_without_dr)"
   ]
  },
  {
   "cell_type": "code",
   "execution_count": null,
   "metadata": {},
   "outputs": [],
   "source": [
    "start = time.time()\n",
    "with open('MA_restaurants.json', encoding=\"utf8\") as fin:\n",
    "    print('Reading',fin.name)\n",
    "    restaurant_data = json.load(fin)\n",
    "end = time.time()\n",
    "duration_without_dr = end-start\n",
    "print(\"Time taken to load restaurant data: %d seconds\" %duration_without_dr)"
   ]
  },
  {
   "cell_type": "code",
   "execution_count": null,
   "metadata": {},
   "outputs": [],
   "source": [
    "start = time.time()\n",
    "with open('MA_reviews.json', encoding=\"utf8\") as fin:\n",
    "    print('Reading',fin.name)\n",
    "    review_data = json.load(fin)\n",
    "end = time.time()\n",
    "duration_without_dr = end-start\n",
    "print(\"Time taken to load review data: %d seconds\" %duration_without_dr)"
   ]
  },
  {
   "cell_type": "code",
   "execution_count": null,
   "metadata": {},
   "outputs": [],
   "source": [
    "print(str(len(user_data)) + ' user records loaded')\n",
    "print(str(len(review_data)) + ' review records loaded')\n",
    "print(str(len(restaurant_data)) + ' business records loaded')"
   ]
  },
  {
   "cell_type": "markdown",
   "metadata": {},
   "source": [
    "## Algorithm Setup\n",
    "> Create business and user dictionary that will be helpful with viewing the results of the recommender"
   ]
  },
  {
   "cell_type": "code",
   "execution_count": null,
   "metadata": {},
   "outputs": [],
   "source": [
    "business_id_dict = dict()\n",
    "for i,r in enumerate(restaurant_data):\n",
    "    business_id_dict[r['business_id']] = i\n",
    "\n",
    "def print_business_info(business_id):\n",
    "    for attr in restaurant_data[business_id_dict[business_id]].keys():\n",
    "        print('{0}: {1}'.format(str(attr), str(restaurant_data[business_id_dict[business_id]][attr])))\n",
    "        \n",
    "def get_business_attr(business_id, attribute):\n",
    "    return restaurant_data[business_id_dict[business_id]][attribute]\n",
    "\n",
    "def get_business_reviews(business_id):\n",
    "    print('Name:                 User ID:               User Total Review Count         Rating')\n",
    "    for review in review_data:\n",
    "        if review['business_id'] == business_id:\n",
    "            print('{:<15s}{:<15s}{:>20.0f}{:>25.1f}'.format(get_user_attr(review['user_id'], 'name'),review['user_id'],get_user_attr(review['user_id'], 'review_count'), review['stars']))"
   ]
  },
  {
   "cell_type": "code",
   "execution_count": null,
   "metadata": {},
   "outputs": [],
   "source": [
    "user_id_dict = dict()\n",
    "for i,u in enumerate(user_data):\n",
    "    user_id_dict[u['user_id']] = i\n",
    "\n",
    "def print_user_info(user_id):\n",
    "    for attr in user_data[user_id_dict[user_id]].keys():\n",
    "        print('{0}: {1}'.format(str(attr), str(user_data[user_id_dict[user_id]][attr]) if attr != 'friends' else '[list of user ids]'))\n",
    "\n",
    "def get_user_attr(user_id, attribute):\n",
    "    return user_data[user_id_dict[user_id]][attribute]"
   ]
  },
  {
   "cell_type": "markdown",
   "metadata": {},
   "source": [
    "## Create the Review Dataframe\n",
    "> Create the rating dictionary by extracting the user_id, business_id, and rating from each review <br>\n",
    "Import the rating dictionary into a pandas dataframe for fitting the algorithm"
   ]
  },
  {
   "cell_type": "code",
   "execution_count": null,
   "metadata": {},
   "outputs": [],
   "source": [
    "rating_dict = {'user_id': [],\n",
    "               'business_id': [],\n",
    "               'rating': []}\n",
    "\n",
    "for review in review_data:\n",
    "    rating_dict['user_id'].append(review['user_id'])\n",
    "    rating_dict['business_id'].append(review['business_id'])\n",
    "    rating_dict['rating'].append(review['stars'])\n",
    "\n",
    "df = pd.DataFrame(rating_dict)\n",
    "reader = Reader(rating_scale=(1, 5))\n",
    "data = Dataset.load_from_df(df[['user_id', 'business_id', 'rating']], reader)\n",
    "print('The data frame shape:\\t{}'.format(df.shape))"
   ]
  },
  {
   "cell_type": "markdown",
   "metadata": {},
   "source": [
    "## Running SVD++ on the Review Dataframe\n",
    "> Set up the SVD++ hyperparameters found in the downselect process <br>\n",
    "Run SVD++ on the entire dataset (this takes around 15 minutes)"
   ]
  },
  {
   "cell_type": "code",
   "execution_count": null,
   "metadata": {},
   "outputs": [],
   "source": [
    "trainset = data.build_full_trainset()\n",
    "algo = SVDpp(n_epochs=30, lr_all=0.0025)\n",
    "\n",
    "# note: this takes quite a while...\n",
    "start = time.time()\n",
    "algo.fit(trainset)\n",
    "end = time.time()\n",
    "duration_without_dr = end-start\n",
    "print(\"Time taken to fit data: %d seconds\" %duration_without_dr)"
   ]
  },
  {
   "cell_type": "markdown",
   "metadata": {},
   "source": [
    "## Sample User Test and Validation\n",
    "Select a sample user to view rating predictions and the top recommended restaurants"
   ]
  },
  {
   "cell_type": "markdown",
   "metadata": {},
   "source": [
    "> Get a user_id from the review dataframe <br>\n",
    "The following code block outputs a list of user_ids and their total # of reviews <br>"
   ]
  },
  {
   "cell_type": "code",
   "execution_count": null,
   "metadata": {},
   "outputs": [],
   "source": [
    "print('User_ID               # of Reviews\\n')\n",
    "print('{}'.format(df['user_id'].value_counts()[:900]))"
   ]
  },
  {
   "cell_type": "code",
   "execution_count": null,
   "metadata": {},
   "outputs": [],
   "source": [
    "########     User Input     ########\n",
    "########     User Input     ########\n",
    "########     User Input     ########\n",
    "user_id = 'ggl6fl-PM5O1WrdReL0l4A' # sample user\n",
    "########     User Input     ########\n",
    "########     User Input     ########\n",
    "########     User Input     ########"
   ]
  },
  {
   "cell_type": "markdown",
   "metadata": {},
   "source": [
    "### Sample User Reviews\n",
    "Get All Reviews Made by the Sample User"
   ]
  },
  {
   "cell_type": "code",
   "execution_count": null,
   "metadata": {},
   "outputs": [],
   "source": [
    "df_new_user = df.loc[df['user_id'] == user_id]\n",
    "print(df_new_user)"
   ]
  },
  {
   "cell_type": "markdown",
   "metadata": {},
   "source": [
    "### Predict Sample User's Restaurant Review Scores for Restaurants Already Reviewed\n",
    "\n",
    "Call the Predict Method for Each of the Restaurants the Sample User has Reviewed\n",
    "> r_ui is the actual review score the sample user gave to the restaurant <br>\n",
    "est is the estimated review score given by the collaborative filtering algorithm"
   ]
  },
  {
   "cell_type": "code",
   "execution_count": null,
   "metadata": {
    "tags": [
     "outputPrepend"
    ]
   },
   "outputs": [],
   "source": [
    "pred_list = list()\n",
    "for business_id in business_id_dict:\n",
    "    if (df_new_user['business_id'] == business_id).any():\n",
    "        r_ui = df_new_user.loc[df_new_user['business_id'] == business_id, 'rating'].iloc[0]\n",
    "        pred = algo.predict(user_id, business_id, r_ui = r_ui, verbose=True)\n",
    "        pred_list.append(pred)"
   ]
  },
  {
   "cell_type": "markdown",
   "metadata": {},
   "source": [
    "## Accuracy Metrics\n",
    "### Root Mean Square Error (RMSE)"
   ]
  },
  {
   "cell_type": "markdown",
   "metadata": {},
   "source": [
    "> Calculate the RMSE between the predicted rating and the acutal rating given by the sample user"
   ]
  },
  {
   "cell_type": "code",
   "execution_count": null,
   "metadata": {},
   "outputs": [],
   "source": [
    "accuracy.rmse(pred_list)"
   ]
  },
  {
   "cell_type": "markdown",
   "metadata": {},
   "source": [
    "> Classify reviews with 3 or more stars as Recommended/Positive and reviews with less than 3 stars as Not Recommended/Negative <br>\n",
    "Calculate the Precision, Recall, and f1 scores"
   ]
  },
  {
   "cell_type": "markdown",
   "metadata": {},
   "source": [
    "### Precision, Recall, and F1 Score"
   ]
  },
  {
   "cell_type": "code",
   "execution_count": null,
   "metadata": {},
   "outputs": [],
   "source": [
    "def precision_recall_f1_at_k(predictions, threshold=3):\n",
    "    rating_list = []\n",
    "    for n in range(len(pred_list)):\n",
    "        rating_list.append([pred_list[n][2],pred_list[n][3]])\n",
    "    n_rel = sum((true_r[0] >= threshold) for true_r in rating_list)\n",
    "    n_rec_k = sum((est[1] >= threshold) for est in rating_list)\n",
    "    n_rel_and_rec_k = sum(((rating[0] >= threshold) and (rating[1] >= threshold)) for rating in rating_list)\n",
    "    precision = n_rel_and_rec_k / n_rec_k if n_rec_k != 0 else 0\n",
    "    recall = n_rel_and_rec_k / n_rel if n_rel != 0 else 0\n",
    "    f1 = 2*(precision*recall)/(precision+recall)\n",
    "\n",
    "    return precision, recall, f1"
   ]
  },
  {
   "cell_type": "markdown",
   "metadata": {},
   "source": [
    "> Precision: Ability of the algorithm to not recommend a restaurant that the user has given a negative review for <br>\n",
    "Recall: Ability of the algorithm to recommend a restaurant that the user has given a positive review for <br>\n",
    "f1 score: Weighted mean of the precision and recall metrics"
   ]
  },
  {
   "cell_type": "code",
   "execution_count": null,
   "metadata": {
    "scrolled": true
   },
   "outputs": [],
   "source": [
    "user_precision, user_recall, user_f1 = precision_recall_f1_at_k(pred_list)\n",
    "print('Precision Score: {0:0.2f}'.format(user_precision*100))\n",
    "print('Recall Score: {0:0.2f}'.format(user_recall*100))\n",
    "print('f1 Score: {0:0.2f}'.format(user_f1*100))"
   ]
  },
  {
   "cell_type": "markdown",
   "metadata": {},
   "source": [
    "### Make Recommendations to Sample User\n",
    "Predictions across all the restaurants in the dataset (even those not visited by the user)"
   ]
  },
  {
   "cell_type": "code",
   "execution_count": null,
   "metadata": {
    "tags": [
     "outputPrepend"
    ]
   },
   "outputs": [],
   "source": [
    "pred_list = list()\n",
    "for business_id in business_id_dict:\n",
    "    if (df_new_user['business_id'] == business_id).any():\n",
    "        r_ui = df_new_user.loc[df_new_user['business_id'] == business_id, 'rating'].iloc[0]\n",
    "        pred = algo.predict(user_id, business_id, r_ui = r_ui, verbose=True)\n",
    "    else:\n",
    "        pred = algo.predict(user_id, business_id, verbose=True)\n",
    "    pred_list.append(pred)"
   ]
  },
  {
   "cell_type": "markdown",
   "metadata": {},
   "source": [
    "## Recommender Algorithm Set up\n",
    "> Sort the predicted review scores from high to low <br>\n",
    "Grab the top 25 review scores and print out the restaurants they belong to"
   ]
  },
  {
   "cell_type": "code",
   "execution_count": null,
   "metadata": {},
   "outputs": [],
   "source": [
    "def find_topn(predictions, n, user_id):\n",
    "    topn = defaultdict(list)\n",
    "    for uid, bid, _, est, _ in predictions:\n",
    "        topn[uid].append((bid, est))\n",
    "\n",
    "    for uid, est in topn.items():\n",
    "        est.sort(key=lambda x: x[1], reverse=True)\n",
    "        topn[uid] = est[:n]\n",
    "\n",
    "    user_results = pd.DataFrame.from_dict(topn).transpose().loc[user_id]\n",
    "    top_restaurant_id = user_results.loc[0][0]\n",
    "    \n",
    "    print('Top {0} recommendations for user {1}:\\n'.format(n, get_user_attr(user_id, 'name')))\n",
    "    print('   Restaurant:                                  Predicted Rating:              Restaurant ID:\\n')\n",
    "    for i in range(n):\n",
    "        print('{:<3d}{:<50s}{:1.2f}{:>40s}'.format(i+1, get_business_attr(user_results.loc[i][0], 'name'), user_results.loc[i][1], user_results.loc[i][0]))\n",
    "        \n",
    "    return user_results, top_restaurant_id"
   ]
  },
  {
   "cell_type": "markdown",
   "metadata": {},
   "source": [
    "## Final Recommendations for Sample User"
   ]
  },
  {
   "cell_type": "markdown",
   "metadata": {},
   "source": [
    "### Top 25 Recommendations for Sample User"
   ]
  },
  {
   "cell_type": "code",
   "execution_count": null,
   "metadata": {},
   "outputs": [],
   "source": [
    "user_topn, top_restaurant_id = find_topn(pred_list, 25, user_id)"
   ]
  },
  {
   "cell_type": "markdown",
   "metadata": {},
   "source": [
    "## Top Recommended Restaurant\n",
    "### General business information"
   ]
  },
  {
   "cell_type": "code",
   "execution_count": null,
   "metadata": {},
   "outputs": [],
   "source": [
    "print_business_info(top_restaurant_id)"
   ]
  },
  {
   "cell_type": "markdown",
   "metadata": {},
   "source": [
    "### Restaurant Reviews"
   ]
  },
  {
   "cell_type": "code",
   "execution_count": null,
   "metadata": {
    "scrolled": true
   },
   "outputs": [],
   "source": [
    "get_business_reviews(top_restaurant_id)"
   ]
  },
  {
   "cell_type": "markdown",
   "metadata": {},
   "source": [
    "## Sample User Profile"
   ]
  },
  {
   "cell_type": "code",
   "execution_count": null,
   "metadata": {},
   "outputs": [],
   "source": [
    "print_user_info(user_id)"
   ]
  }
 ],
 "metadata": {
  "kernelspec": {
   "display_name": "Python 3",
   "language": "python",
   "name": "python3"
  },
  "language_info": {
   "codemirror_mode": {
    "name": "ipython",
    "version": 3
   },
   "file_extension": ".py",
   "mimetype": "text/x-python",
   "name": "python",
   "nbconvert_exporter": "python",
   "pygments_lexer": "ipython3",
   "version": "3.8.8"
  }
 },
 "nbformat": 4,
 "nbformat_minor": 2
}