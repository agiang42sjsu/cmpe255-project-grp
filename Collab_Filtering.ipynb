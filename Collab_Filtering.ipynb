{
 "metadata": {
  "language_info": {
   "codemirror_mode": {
    "name": "ipython",
    "version": 3
   },
   "file_extension": ".py",
   "mimetype": "text/x-python",
   "name": "python",
   "nbconvert_exporter": "python",
   "pygments_lexer": "ipython3",
   "version": "3.8.3"
  },
  "orig_nbformat": 2,
  "kernelspec": {
   "name": "python383jvsc74a57bd0e079647b578f6e22f42cb979ca5c90bb711697013bb834e432a2160cedf42143",
   "display_name": "Python 3.8.3 64-bit (conda)"
  }
 },
 "nbformat": 4,
 "nbformat_minor": 2,
 "cells": [
  {
   "cell_type": "code",
   "execution_count": 1,
   "metadata": {},
   "outputs": [
    {
     "output_type": "stream",
     "name": "stdout",
     "text": [
      "Requirement already satisfied: surprise in c:\\users\\albert\\miniconda3\\lib\\site-packages (0.1)\nRequirement already satisfied: scikit-surprise in c:\\users\\albert\\miniconda3\\lib\\site-packages (from surprise) (1.1.1)\nRequirement already satisfied: joblib>=0.11 in c:\\users\\albert\\miniconda3\\lib\\site-packages (from scikit-surprise->surprise) (1.0.1)\nRequirement already satisfied: numpy>=1.11.2 in c:\\users\\albert\\miniconda3\\lib\\site-packages (from scikit-surprise->surprise) (1.20.3)\nRequirement already satisfied: scipy>=1.0.0 in c:\\users\\albert\\miniconda3\\lib\\site-packages (from scikit-surprise->surprise) (1.5.4)\nRequirement already satisfied: six>=1.10.0 in c:\\users\\albert\\appdata\\roaming\\python\\python38\\site-packages (from scikit-surprise->surprise) (1.15.0)\n"
     ]
    }
   ],
   "source": [
    "!pip install surprise"
   ]
  },
  {
   "cell_type": "code",
   "execution_count": 44,
   "metadata": {},
   "outputs": [],
   "source": [
    "import json\n",
    "import time\n",
    "import pandas as pd\n",
    "from surprise import SVDpp\n",
    "from surprise import Dataset\n",
    "from surprise import Reader\n",
    "from collections import defaultdict"
   ]
  },
  {
   "cell_type": "code",
   "execution_count": 3,
   "metadata": {},
   "outputs": [
    {
     "output_type": "stream",
     "name": "stdout",
     "text": [
      "Reading MA_users.json\n",
      "Time taken to load user data: 0 seconds\n"
     ]
    }
   ],
   "source": [
    "start = time.time()\n",
    "with open('MA_users.json', encoding=\"utf8\") as fin:\n",
    "    print('Reading',fin.name)\n",
    "    user_data = json.load(fin)\n",
    "end = time.time()\n",
    "duration_without_dr = end-start\n",
    "print(\"Time taken to load user data: %d seconds\" %duration_without_dr)"
   ]
  },
  {
   "cell_type": "code",
   "execution_count": 4,
   "metadata": {},
   "outputs": [
    {
     "output_type": "stream",
     "name": "stdout",
     "text": [
      "Reading MA_restaurants.json\nTime taken to load restaurant data: 0 seconds\n"
     ]
    }
   ],
   "source": [
    "start = time.time()\n",
    "with open('MA_restaurants.json', encoding=\"utf8\") as fin:\n",
    "    print('Reading',fin.name)\n",
    "    restaurant_data = json.load(fin)\n",
    "end = time.time()\n",
    "duration_without_dr = end-start\n",
    "print(\"Time taken to load restaurant data: %d seconds\" %duration_without_dr)"
   ]
  },
  {
   "cell_type": "code",
   "execution_count": 5,
   "metadata": {},
   "outputs": [
    {
     "output_type": "stream",
     "name": "stdout",
     "text": [
      "Reading MA_reviews.json\n",
      "Time taken to load review data: 2 seconds\n"
     ]
    }
   ],
   "source": [
    "start = time.time()\n",
    "with open('MA_reviews.json', encoding=\"utf8\") as fin:\n",
    "    print('Reading',fin.name)\n",
    "    review_data = json.load(fin)\n",
    "end = time.time()\n",
    "duration_without_dr = end-start\n",
    "print(\"Time taken to load review data: %d seconds\" %duration_without_dr)"
   ]
  },
  {
   "cell_type": "code",
   "execution_count": 6,
   "metadata": {},
   "outputs": [
    {
     "output_type": "stream",
     "name": "stdout",
     "text": [
      "13046 user records loaded\n465276 review records loaded\n6249 business records loaded\n"
     ]
    }
   ],
   "source": [
    "print(str(len(user_data)) + ' user records loaded')\n",
    "print(str(len(review_data)) + ' review records loaded')\n",
    "print(str(len(restaurant_data)) + ' business records loaded')"
   ]
  },
  {
   "cell_type": "code",
   "execution_count": null,
   "metadata": {},
   "outputs": [],
   "source": [
    "business_id_dict = dict()\n",
    "for i,r in enumerate(restaurant_data):\n",
    "    business_id_dict[r['business_id']] = i\n",
    "\n",
    "def print_business_info(business_id):\n",
    "    for attr in restaurant_data[business_id_dict[business_id]].keys():\n",
    "        print('{0}: {1}'.format(str(attr), str(restaurant_data[business_id_dict[business_id]][attr])))\n",
    "        \n",
    "def get_business_attr(business_id, attribute):\n",
    "    return restaurant_data[business_id_dict[business_id]][attribute]"
   ]
  },
  {
   "cell_type": "code",
   "execution_count": null,
   "metadata": {},
   "outputs": [],
   "source": [
    "user_id_dict = dict()\n",
    "for i,u in enumerate(user_data):\n",
    "    user_id_dict[u['user_id']] = i\n",
    "\n",
    "def print_user_info(user_id):\n",
    "    for attr in user_data[user_id_dict[user_id]].keys():\n",
    "        print('{0}: {1}'.format(str(attr), str(user_data[user_id_dict[user_id]][attr]) if attr != 'friends' else '[list of user ids]'))\n",
    "\n",
    "def get_user_attr(user_id, attribute):\n",
    "    return user_data[user_id_dict[user_id]][attribute]"
   ]
  },
  {
   "cell_type": "code",
   "execution_count": 7,
   "metadata": {},
   "outputs": [
    {
     "output_type": "stream",
     "name": "stdout",
     "text": [
      "The data frame shape:\t(465276, 3)\n"
     ]
    }
   ],
   "source": [
    "rating_dict = {'user_id': [],\n",
    "               'business_id': [],\n",
    "               'rating': []}\n",
    "\n",
    "for review in review_data:\n",
    "    rating_dict['user_id'].append(review['user_id'])\n",
    "    rating_dict['business_id'].append(review['business_id'])\n",
    "    rating_dict['rating'].append(review['stars'])\n",
    "\n",
    "df = pd.DataFrame(rating_dict)\n",
    "reader = Reader(rating_scale=(1, 5))\n",
    "data = Dataset.load_from_df(df[['user_id', 'business_id', 'rating']], reader)\n",
    "print('The data frame shape:\\t{}'.format(df.shape))"
   ]
  },
  {
   "cell_type": "code",
   "execution_count": 8,
   "metadata": {},
   "outputs": [
    {
     "output_type": "stream",
     "name": "stdout",
     "text": [
      "Time taken to fit data: 565 seconds\n"
     ]
    }
   ],
   "source": [
    "trainset = data.build_full_trainset()\n",
    "algo = SVDpp(n_epochs=30, lr_all=0.0025)\n",
    "\n",
    "# note: this takes quite a while...\n",
    "start = time.time()\n",
    "algo.fit(trainset)\n",
    "end = time.time()\n",
    "duration_without_dr = end-start\n",
    "print(\"Time taken to fit data: %d seconds\" %duration_without_dr)"
   ]
  },
  {
   "cell_type": "code",
   "execution_count": null,
   "metadata": {},
   "outputs": [],
   "source": []
  },
  {
   "cell_type": "code",
   "execution_count": 113,
   "metadata": {},
   "outputs": [
    {
     "output_type": "stream",
     "name": "stdout",
     "text": [
      "nl8gWLDo6U6MjqzbBmE_9A    1081\nrcU7ysY41qGppbw4pQgjqg     618\nggl6fl-PM5O1WrdReL0l4A     618\n1Y0zsJSfWLkfDylH0X1yNQ     588\nt903_es-gp3abvdrIQutQA     485\n                          ... \nDHTAcCJ1YXQVOE0F8c2_dA     222\np8yQsVA51dzkc9cecDpvrw     220\nJM_JfYRtTIBc42zHSRgsrA     220\nq_m6qpGrwH_JUZjVJmEsBw     220\nuB_aCUa8XvsyUZM_1UxYfg     219\nName: user_id, Length: 100, dtype: int64\n"
     ]
    }
   ],
   "source": [
    "print(df['user_id'].value_counts()[0:100])"
   ]
  },
  {
   "cell_type": "code",
   "execution_count": 114,
   "metadata": {},
   "outputs": [
    {
     "output_type": "stream",
     "name": "stdout",
     "text": [
      "                       user_id             business_id  rating\n574     JM_JfYRtTIBc42zHSRgsrA  vV5ciKb5sDKVmF8mAoz1iA     3.0\n9322    JM_JfYRtTIBc42zHSRgsrA  4UjU7F_EX3lgUtkzN8Bbrw     3.0\n12821   JM_JfYRtTIBc42zHSRgsrA  zmZ3HkVCeZPBefJJxzdJ7A     5.0\n14998   JM_JfYRtTIBc42zHSRgsrA  5gJ54ZorEYdQK7TAD7Yz7g     4.0\n17252   JM_JfYRtTIBc42zHSRgsrA  6dB2_doBzgx3SGkgyMA96g     5.0\n...                        ...                     ...     ...\n462293  JM_JfYRtTIBc42zHSRgsrA  qS_sydoMwEMuBU0ByOM-JA     4.0\n462491  JM_JfYRtTIBc42zHSRgsrA  H6YtJyXYPTyU7EQ_jHs-7Q     4.0\n463731  JM_JfYRtTIBc42zHSRgsrA  bwNwEWulr97oCJ6ux9VVoA     4.0\n463940  JM_JfYRtTIBc42zHSRgsrA  W-yWnbKJr1e7nGPipPLxgw     3.0\n465075  JM_JfYRtTIBc42zHSRgsrA  SSOx0BLXiVfmJWCY5XJDrw     1.0\n\n[220 rows x 3 columns]\n"
     ]
    }
   ],
   "source": [
    "#user_id = 'nl8gWLDo6U6MjqzbBmE_9A' # sample user\n",
    "user_id = 'JM_JfYRtTIBc42zHSRgsrA' # sample user\n",
    "df_new_user = df.loc[df['user_id'] == user_id]\n",
    "print(df_new_user)"
   ]
  },
  {
   "cell_type": "code",
   "execution_count": 105,
   "metadata": {
    "tags": []
   },
   "outputs": [],
   "source": [
    "business_id_dict = dict()\n",
    "for i,r in enumerate(restaurant_data):\n",
    "    business_id_dict[r['business_id']] = i\n",
    "\n",
    "def print_business_info(business_id):\n",
    "    for attr in restaurant_data[business_id_dict[business_id]].keys():\n",
    "        print('{0}: {1}'.format(str(attr), str(restaurant_data[business_id_dict[business_id]][attr])))\n",
    "        \n",
    "def get_business_attr(business_id, attribute):\n",
    "    return restaurant_data[business_id_dict[business_id]][attribute]"
   ]
  },
  {
   "cell_type": "code",
   "execution_count": 115,
   "metadata": {
    "tags": [
     "outputPrepend"
    ]
   },
   "outputs": [
    {
     "output_type": "stream",
     "name": "stdout",
     "text": [
      "impossible': False}\n",
      "user: JM_JfYRtTIBc42zHSRgsrA item: PSp0P_3zWIQabA5HAIJBMQ r_ui = 4.00   est = 3.74   {'was_impossible': False}\n",
      "user: JM_JfYRtTIBc42zHSRgsrA item: yNYyM-xdZDh_rITFDMp2tg r_ui = 4.00   est = 3.23   {'was_impossible': False}\n",
      "user: JM_JfYRtTIBc42zHSRgsrA item: tfdIB3AlviYKVYguaT1S8g r_ui = 4.00   est = 3.88   {'was_impossible': False}\n",
      "user: JM_JfYRtTIBc42zHSRgsrA item: cMSdyE8pLdb_XIcwr9eDTw r_ui = 4.00   est = 2.34   {'was_impossible': False}\n",
      "user: JM_JfYRtTIBc42zHSRgsrA item: fgoSWwrL0JY2Qr-rqCcQMw r_ui = 3.00   est = 3.71   {'was_impossible': False}\n",
      "user: JM_JfYRtTIBc42zHSRgsrA item: 5eYs6Kz72F6ICd_kZ6mhxA r_ui = 4.00   est = 3.43   {'was_impossible': False}\n",
      "user: JM_JfYRtTIBc42zHSRgsrA item: VnuD2cojPTWd3nIHQjnL8w r_ui = 4.00   est = 4.06   {'was_impossible': False}\n",
      "user: JM_JfYRtTIBc42zHSRgsrA item: KFVgWwwGgepVeR6tDs3yfQ r_ui = 5.00   est = 3.50   {'was_impossible': False}\n",
      "user: JM_JfYRtTIBc42zHSRgsrA item: rqzXyfMKcvTkLbX2kJeolg r_ui = 3.00   est = 3.52   {'was_impossible': False}\n",
      "user: JM_JfYRtTIBc42zHSRgsrA item: kMieGsNswaYcBt0H3NfCpg r_ui = 3.00   est = 3.42   {'was_impossible': False}\n",
      "user: JM_JfYRtTIBc42zHSRgsrA item: HCHxbmFDip0E51onVkcnZg r_ui = 3.00   est = 3.82   {'was_impossible': False}\n",
      "user: JM_JfYRtTIBc42zHSRgsrA item: w2F5N4h26hOrz2KoxThomw r_ui = 5.00   est = 4.41   {'was_impossible': False}\n",
      "user: JM_JfYRtTIBc42zHSRgsrA item: 0udgF4hOWAoQkAQc79BnNA r_ui = 4.00   est = 4.08   {'was_impossible': False}\n",
      "user: JM_JfYRtTIBc42zHSRgsrA item: vNlwe5I5XRhdF4S8NZkz0w r_ui = 5.00   est = 3.79   {'was_impossible': False}\n",
      "user: JM_JfYRtTIBc42zHSRgsrA item: qsjwHTPpUof24ID8l-GvuQ r_ui = 3.00   est = 4.18   {'was_impossible': False}\n",
      "user: JM_JfYRtTIBc42zHSRgsrA item: 7liHu30DYcw4-XChj7OcVw r_ui = 3.00   est = 3.30   {'was_impossible': False}\n",
      "user: JM_JfYRtTIBc42zHSRgsrA item: PPQgcw0WKdZ6nznkPLgX5Q r_ui = 3.00   est = 3.84   {'was_impossible': False}\n",
      "user: JM_JfYRtTIBc42zHSRgsrA item: 3oZievFDVSSZYkarxrHAFw r_ui = 5.00   est = 3.42   {'was_impossible': False}\n",
      "user: JM_JfYRtTIBc42zHSRgsrA item: _XJZhHl_Kjs03NcHhTeAyQ r_ui = 5.00   est = 4.09   {'was_impossible': False}\n",
      "user: JM_JfYRtTIBc42zHSRgsrA item: yg1onzPFULGaEFT81CBmeQ r_ui = 5.00   est = 3.71   {'was_impossible': False}\n",
      "user: JM_JfYRtTIBc42zHSRgsrA item: RC7s9vg0L3hL4LTZQhlpeg r_ui = 4.00   est = 3.94   {'was_impossible': False}\n",
      "user: JM_JfYRtTIBc42zHSRgsrA item: 64V_ukBEQ5QNNhSkXr-kcA r_ui = 4.00   est = 4.01   {'was_impossible': False}\n",
      "user: JM_JfYRtTIBc42zHSRgsrA item: RoG1l00HKkbtFfkQM0YSyw r_ui = 4.00   est = 3.83   {'was_impossible': False}\n",
      "user: JM_JfYRtTIBc42zHSRgsrA item: rc23Eq68aeCsEdYaK1OMiA r_ui = 4.00   est = 3.70   {'was_impossible': False}\n",
      "user: JM_JfYRtTIBc42zHSRgsrA item: xLezzT2Xn2vTCNMbVrf7zw r_ui = 3.00   est = 2.94   {'was_impossible': False}\n",
      "user: JM_JfYRtTIBc42zHSRgsrA item: 0ulC3Jz1eXnJJ3v2kN5Xpg r_ui = 3.00   est = 3.30   {'was_impossible': False}\n",
      "user: JM_JfYRtTIBc42zHSRgsrA item: 0oYvvuKf15nZ05iLd1TC8Q r_ui = 4.00   est = 3.56   {'was_impossible': False}\n",
      "user: JM_JfYRtTIBc42zHSRgsrA item: FUX2RGMSoLqup2ra7k486A r_ui = 3.00   est = 3.10   {'was_impossible': False}\n",
      "user: JM_JfYRtTIBc42zHSRgsrA item: e0yRgMXdNxKhNrRD04KJkQ r_ui = 2.00   est = 3.53   {'was_impossible': False}\n",
      "user: JM_JfYRtTIBc42zHSRgsrA item: eTTnOUoAhbv65vcApwhTgQ r_ui = 3.00   est = 3.54   {'was_impossible': False}\n",
      "user: JM_JfYRtTIBc42zHSRgsrA item: Lo7ggtNcJH_he6f9osnBfg r_ui = 4.00   est = 3.48   {'was_impossible': False}\n",
      "user: JM_JfYRtTIBc42zHSRgsrA item: Hc9l2eLAGTB4lZJI3vRoPw r_ui = 2.00   est = 3.70   {'was_impossible': False}\n",
      "user: JM_JfYRtTIBc42zHSRgsrA item: E82Gynq1rT4IrnaGfEafRA r_ui = 4.00   est = 3.12   {'was_impossible': False}\n",
      "user: JM_JfYRtTIBc42zHSRgsrA item: UOh7UdNocP9q5tPwAXipAg r_ui = 4.00   est = 4.12   {'was_impossible': False}\n",
      "user: JM_JfYRtTIBc42zHSRgsrA item: l66RKvRGJK5yADxkJ1RvJw r_ui = 4.00   est = 4.13   {'was_impossible': False}\n",
      "user: JM_JfYRtTIBc42zHSRgsrA item: mLd8J8zdfqOVSiARDwtYsw r_ui = 1.00   est = 2.89   {'was_impossible': False}\n",
      "user: JM_JfYRtTIBc42zHSRgsrA item: yu0RY0SkuCBKdrLVefRMkQ r_ui = 3.00   est = 4.06   {'was_impossible': False}\n",
      "user: JM_JfYRtTIBc42zHSRgsrA item: N9wPHtx8cu3xySgMASvYLw r_ui = 3.00   est = 3.20   {'was_impossible': False}\n",
      "user: JM_JfYRtTIBc42zHSRgsrA item: xkLwAfgIYXYHzJF8C_fhCA r_ui = 3.00   est = 3.88   {'was_impossible': False}\n",
      "user: JM_JfYRtTIBc42zHSRgsrA item: 4lXOZikoMRUxC24ViFnzeQ r_ui = 3.00   est = 3.42   {'was_impossible': False}\n",
      "user: JM_JfYRtTIBc42zHSRgsrA item: uKB1eXRNNBq2w4-wUkusZA r_ui = 1.00   est = 3.14   {'was_impossible': False}\n",
      "user: JM_JfYRtTIBc42zHSRgsrA item: 9dEAO9UurtpklBT69INIvw r_ui = 4.00   est = 3.81   {'was_impossible': False}\n",
      "user: JM_JfYRtTIBc42zHSRgsrA item: Ug6ngfzLT_cPzSttve1OzQ r_ui = 4.00   est = 3.61   {'was_impossible': False}\n",
      "user: JM_JfYRtTIBc42zHSRgsrA item: T85lsS8Qz8yUNOfPj4sMmQ r_ui = 5.00   est = 3.51   {'was_impossible': False}\n",
      "user: JM_JfYRtTIBc42zHSRgsrA item: hslyc_PAIsWU8-ppxX_4bw r_ui = 4.00   est = 3.41   {'was_impossible': False}\n",
      "user: JM_JfYRtTIBc42zHSRgsrA item: XrY1nmgajhBinQmJRZ6wfQ r_ui = 4.00   est = 3.67   {'was_impossible': False}\n",
      "user: JM_JfYRtTIBc42zHSRgsrA item: 9Jiax4wZ94ZmMcMzmpdvJA r_ui = 5.00   est = 3.96   {'was_impossible': False}\n",
      "user: JM_JfYRtTIBc42zHSRgsrA item: rK-fgI2_-x0T4lxwF9L4Ww r_ui = 4.00   est = 4.09   {'was_impossible': False}\n",
      "user: JM_JfYRtTIBc42zHSRgsrA item: 9LLsKFbRXaabAwHaHIE4lg r_ui = 4.00   est = 3.90   {'was_impossible': False}\n",
      "user: JM_JfYRtTIBc42zHSRgsrA item: Kx9_M4lgu79SQ3IV0CMmUg r_ui = 5.00   est = 4.07   {'was_impossible': False}\n",
      "user: JM_JfYRtTIBc42zHSRgsrA item: W1kaR_hXKbvaK1bDRhMcZA r_ui = 4.00   est = 3.95   {'was_impossible': False}\n",
      "user: JM_JfYRtTIBc42zHSRgsrA item: 8hJIgeFWS_WXgQBvCpjeQg r_ui = 4.00   est = 4.06   {'was_impossible': False}\n",
      "user: JM_JfYRtTIBc42zHSRgsrA item: CSMMXDxprn1fC57YN1sBOg r_ui = 5.00   est = 3.25   {'was_impossible': False}\n",
      "user: JM_JfYRtTIBc42zHSRgsrA item: lQteiff58wXKN098M98JaA r_ui = 1.00   est = 2.72   {'was_impossible': False}\n",
      "user: JM_JfYRtTIBc42zHSRgsrA item: cmfkZ3UrfBQceyEWL1Y3Ew r_ui = 3.00   est = 3.85   {'was_impossible': False}\n",
      "user: JM_JfYRtTIBc42zHSRgsrA item: gvdQwBeV6bOCOvTKxVmTcg r_ui = 4.00   est = 3.90   {'was_impossible': False}\n",
      "user: JM_JfYRtTIBc42zHSRgsrA item: PUc_-8Xb7OyDtrn5Y4EMDQ r_ui = 4.00   est = 3.58   {'was_impossible': False}\n",
      "user: JM_JfYRtTIBc42zHSRgsrA item: Gs4lOF2OuftG6iQl-iOVdQ r_ui = 5.00   est = 3.87   {'was_impossible': False}\n",
      "user: JM_JfYRtTIBc42zHSRgsrA item: PvRYtnb84bipKpIqGvBBaA r_ui = 3.00   est = 3.39   {'was_impossible': False}\n",
      "user: JM_JfYRtTIBc42zHSRgsrA item: 3cp5UNPdoAe-saPE7wtYUQ r_ui = 4.00   est = 3.38   {'was_impossible': False}\n",
      "user: JM_JfYRtTIBc42zHSRgsrA item: CNUy_aAbumhYZBR2PNwtRQ r_ui = 3.00   est = 3.08   {'was_impossible': False}\n",
      "user: JM_JfYRtTIBc42zHSRgsrA item: 7MN8kNyuKDZtoSoVdZDCpg r_ui = 2.00   est = 3.25   {'was_impossible': False}\n",
      "user: JM_JfYRtTIBc42zHSRgsrA item: jpAlH05VYu4WhMifkM4Zcg r_ui = 4.00   est = 3.55   {'was_impossible': False}\n",
      "user: JM_JfYRtTIBc42zHSRgsrA item: tWDUFOYF3kiHCt7FV8iqLg r_ui = 4.00   est = 3.59   {'was_impossible': False}\n",
      "user: JM_JfYRtTIBc42zHSRgsrA item: bpqgDX8s2pimrz2wxclG6w r_ui = 3.00   est = 3.90   {'was_impossible': False}\n",
      "user: JM_JfYRtTIBc42zHSRgsrA item: n4XrNsqY2Oi1DB7-2hJzTw r_ui = 4.00   est = 3.38   {'was_impossible': False}\n",
      "user: JM_JfYRtTIBc42zHSRgsrA item: gq-1gRNvJHz3s4hSSJBisA r_ui = 3.00   est = 3.90   {'was_impossible': False}\n",
      "user: JM_JfYRtTIBc42zHSRgsrA item: vdO-x0KEP_c-hFB37viK9w r_ui = 2.00   est = 3.82   {'was_impossible': False}\n",
      "user: JM_JfYRtTIBc42zHSRgsrA item: p9EIi0lAJ5ZBvZHm5BwtEw r_ui = 4.00   est = 4.31   {'was_impossible': False}\n",
      "user: JM_JfYRtTIBc42zHSRgsrA item: MZJeo9DLvSyhLl2eP18DIA r_ui = 3.00   est = 3.05   {'was_impossible': False}\n",
      "user: JM_JfYRtTIBc42zHSRgsrA item: qEZA-Vx-K3Snyn-tkQ3IJg r_ui = 4.00   est = 3.12   {'was_impossible': False}\n",
      "user: JM_JfYRtTIBc42zHSRgsrA item: IsvkNWzb2G2A_VUZrzN4Yw r_ui = 3.00   est = 3.70   {'was_impossible': False}\n",
      "user: JM_JfYRtTIBc42zHSRgsrA item: Vco3twYE0sD4kb0O1_PLoQ r_ui = 3.00   est = 3.62   {'was_impossible': False}\n",
      "user: JM_JfYRtTIBc42zHSRgsrA item: dz2OSto01aMIWkGHXd8lOg r_ui = 2.00   est = 2.51   {'was_impossible': False}\n",
      "user: JM_JfYRtTIBc42zHSRgsrA item: -uPcDd5ulyWh4iZm--LY-Q r_ui = 4.00   est = 3.27   {'was_impossible': False}\n",
      "user: JM_JfYRtTIBc42zHSRgsrA item: ecubob5HjRKkci4wEuK3ow r_ui = 5.00   est = 4.06   {'was_impossible': False}\n",
      "user: JM_JfYRtTIBc42zHSRgsrA item: f9aK_Xcph95kWq0DzDGDIg r_ui = 2.00   est = 2.78   {'was_impossible': False}\n",
      "user: JM_JfYRtTIBc42zHSRgsrA item: T97ZhRwZvrUaZyUUAZKQ8A r_ui = 5.00   est = 3.77   {'was_impossible': False}\n",
      "user: JM_JfYRtTIBc42zHSRgsrA item: eoOfk5GQROQDYsxgC1J5OA r_ui = 5.00   est = 3.65   {'was_impossible': False}\n",
      "user: JM_JfYRtTIBc42zHSRgsrA item: 7b7FZ0hC3vjbn_JsV_sILw r_ui = 4.00   est = 3.74   {'was_impossible': False}\n",
      "user: JM_JfYRtTIBc42zHSRgsrA item: zACWkpFVLVv0FxcM-JnMhg r_ui = 1.00   est = 3.10   {'was_impossible': False}\n",
      "user: JM_JfYRtTIBc42zHSRgsrA item: EpNo7oP_ZGI4vfLMqmtfOg r_ui = 4.00   est = 3.48   {'was_impossible': False}\n",
      "user: JM_JfYRtTIBc42zHSRgsrA item: sueo3UfT1ZZirX69-s7POw r_ui = 3.00   est = 3.77   {'was_impossible': False}\n",
      "user: JM_JfYRtTIBc42zHSRgsrA item: WSrBt8DkKbAIZQnT92v8Ag r_ui = 4.00   est = 3.82   {'was_impossible': False}\n",
      "user: JM_JfYRtTIBc42zHSRgsrA item: sx3ZVcmtVMecUnl8LSLS7A r_ui = 3.00   est = 3.22   {'was_impossible': False}\n",
      "user: JM_JfYRtTIBc42zHSRgsrA item: ZO3LaGsBxAVr1f_pP1sIXw r_ui = 5.00   est = 3.38   {'was_impossible': False}\n",
      "user: JM_JfYRtTIBc42zHSRgsrA item: rK8Pg1VIdrb_oomvJpz2WA r_ui = 3.00   est = 2.75   {'was_impossible': False}\n",
      "user: JM_JfYRtTIBc42zHSRgsrA item: 0wBDItczafvPoRirCzuL1w r_ui = 2.00   est = 3.76   {'was_impossible': False}\n",
      "user: JM_JfYRtTIBc42zHSRgsrA item: 6KI-d8bPkujTbGMHB3TOzg r_ui = 3.00   est = 3.74   {'was_impossible': False}\n",
      "user: JM_JfYRtTIBc42zHSRgsrA item: HgpnHA4ZAN6Xn8xmwA1HBQ r_ui = 4.00   est = 3.45   {'was_impossible': False}\n",
      "user: JM_JfYRtTIBc42zHSRgsrA item: zrCMsPgOciEc5wNbCpLI3Q r_ui = 4.00   est = 3.94   {'was_impossible': False}\n",
      "user: JM_JfYRtTIBc42zHSRgsrA item: PjDBpO7vL7uxw8spAeGbRA r_ui = 3.00   est = 3.12   {'was_impossible': False}\n",
      "user: JM_JfYRtTIBc42zHSRgsrA item: U05Ru9OGRrIxeVwOc-yjxQ r_ui = 2.00   est = 3.41   {'was_impossible': False}\n",
      "user: JM_JfYRtTIBc42zHSRgsrA item: Q2dq9Eo1NMbD1k25Xx21TQ r_ui = 4.00   est = 4.14   {'was_impossible': False}\n",
      "user: JM_JfYRtTIBc42zHSRgsrA item: mtc2scxRhoGYtMpoJmVxLg r_ui = 4.00   est = 3.53   {'was_impossible': False}\n",
      "user: JM_JfYRtTIBc42zHSRgsrA item: -NXN4wvFTwOus8wDq96tFA r_ui = 5.00   est = 3.82   {'was_impossible': False}\n",
      "user: JM_JfYRtTIBc42zHSRgsrA item: HUtHbHjyu114ptcilT_M6g r_ui = 1.00   est = 3.70   {'was_impossible': False}\n",
      "user: JM_JfYRtTIBc42zHSRgsrA item: uLw8g1aI7RCY0xMwhxf1cg r_ui = 3.00   est = 3.72   {'was_impossible': False}\n",
      "user: JM_JfYRtTIBc42zHSRgsrA item: QhO6jvHAsvbM6K8YuMbZtw r_ui = 4.00   est = 3.92   {'was_impossible': False}\n",
      "user: JM_JfYRtTIBc42zHSRgsrA item: mmI9RKV1mwmJEeu-w3PjWw r_ui = 3.00   est = 4.15   {'was_impossible': False}\n",
      "user: JM_JfYRtTIBc42zHSRgsrA item: Z3V46zycoSPgCMZGK06oRA r_ui = 5.00   est = 3.94   {'was_impossible': False}\n",
      "user: JM_JfYRtTIBc42zHSRgsrA item: DyFVWYvTsCogh3Aufaf11g r_ui = 4.00   est = 3.76   {'was_impossible': False}\n",
      "user: JM_JfYRtTIBc42zHSRgsrA item: 3G3GvCsArfZrhoRrIYxDkw r_ui = 4.00   est = 3.79   {'was_impossible': False}\n",
      "user: JM_JfYRtTIBc42zHSRgsrA item: 7gFHyShX6M8115UgLpb3UA r_ui = 3.00   est = 3.13   {'was_impossible': False}\n",
      "user: JM_JfYRtTIBc42zHSRgsrA item: yBIN7uSzd5saehWA1I_GBw r_ui = 3.00   est = 4.30   {'was_impossible': False}\n",
      "user: JM_JfYRtTIBc42zHSRgsrA item: 58cDJU4cub1o0o0B4h9GrA r_ui = 4.00   est = 4.38   {'was_impossible': False}\n",
      "user: JM_JfYRtTIBc42zHSRgsrA item: _VEQpntwiMLUbNPLvxvwzA r_ui = 4.00   est = 3.94   {'was_impossible': False}\n",
      "user: JM_JfYRtTIBc42zHSRgsrA item: -5gWvrcKOPmhlcZju3tpbw r_ui = 3.00   est = 4.19   {'was_impossible': False}\n",
      "user: JM_JfYRtTIBc42zHSRgsrA item: cSvpRCBljhJiE6NFZUwK4w r_ui = 3.00   est = 3.27   {'was_impossible': False}\n",
      "user: JM_JfYRtTIBc42zHSRgsrA item: 03w0rCqgUR-S6SNKZMemsQ r_ui = 4.00   est = 3.30   {'was_impossible': False}\n",
      "user: JM_JfYRtTIBc42zHSRgsrA item: ZiUZYZhbmJ9yzdGsiU2KxQ r_ui = 3.00   est = 3.59   {'was_impossible': False}\n",
      "user: JM_JfYRtTIBc42zHSRgsrA item: _6u6rVliJWp4Lrh1ELb8gQ r_ui = 4.00   est = 3.40   {'was_impossible': False}\n",
      "user: JM_JfYRtTIBc42zHSRgsrA item: Lm4sJIDmO3C59oNOFu1S5w r_ui = 3.00   est = 3.21   {'was_impossible': False}\n",
      "user: JM_JfYRtTIBc42zHSRgsrA item: 9zghxHHF4KuHq11atl6ZzQ r_ui = 4.00   est = 3.75   {'was_impossible': False}\n",
      "user: JM_JfYRtTIBc42zHSRgsrA item: gvslXIfVWkVu12MjgdlZJg r_ui = 4.00   est = 3.88   {'was_impossible': False}\n",
      "user: JM_JfYRtTIBc42zHSRgsrA item: 5HtKXpccv60YtqpjszDGBQ r_ui = 4.00   est = 4.32   {'was_impossible': False}\n",
      "user: JM_JfYRtTIBc42zHSRgsrA item: KAN1lZGbmPi-h8Yfptp1PQ r_ui = 2.00   est = 2.58   {'was_impossible': False}\n",
      "user: JM_JfYRtTIBc42zHSRgsrA item: WReSwqWRhL1WMwU8dvQafA r_ui = 5.00   est = 2.96   {'was_impossible': False}\n",
      "user: JM_JfYRtTIBc42zHSRgsrA item: BCViqhu_svtkPqNqCd-9rw r_ui = 3.00   est = 2.52   {'was_impossible': False}\n",
      "user: JM_JfYRtTIBc42zHSRgsrA item: c7H4yjyyfGkGKCf4g7oByQ r_ui = 2.00   est = 3.49   {'was_impossible': False}\n",
      "user: JM_JfYRtTIBc42zHSRgsrA item: jzndcumJARrV1biF5tAPwg r_ui = 4.00   est = 3.35   {'was_impossible': False}\n",
      "user: JM_JfYRtTIBc42zHSRgsrA item: xlOMKjE4omTgkI1eduWj8A r_ui = 4.00   est = 4.01   {'was_impossible': False}\n",
      "user: JM_JfYRtTIBc42zHSRgsrA item: YkjyItbncbp0G9_8rsMVVQ r_ui = 5.00   est = 3.07   {'was_impossible': False}\n",
      "user: JM_JfYRtTIBc42zHSRgsrA item: mufubjK4YaveA-gamqhYxg r_ui = 2.00   est = 3.44   {'was_impossible': False}\n",
      "user: JM_JfYRtTIBc42zHSRgsrA item: obchntFQuB4qaVoBZCdk0Q r_ui = 4.00   est = 2.91   {'was_impossible': False}\n",
      "user: JM_JfYRtTIBc42zHSRgsrA item: uY2hrhl1f7EB4EhzfUmwJA r_ui = 4.00   est = 3.08   {'was_impossible': False}\n",
      "user: JM_JfYRtTIBc42zHSRgsrA item: dYJ3_PpyAHT8yhWMMrLsvQ r_ui = 4.00   est = 3.58   {'was_impossible': False}\n",
      "user: JM_JfYRtTIBc42zHSRgsrA item: wrLuoIUkT0KYjFODhUYRNw r_ui = 4.00   est = 3.26   {'was_impossible': False}\n",
      "user: JM_JfYRtTIBc42zHSRgsrA item: S03JaX1glYgXydYbCBXtKw r_ui = 5.00   est = 3.99   {'was_impossible': False}\n",
      "user: JM_JfYRtTIBc42zHSRgsrA item: fTKkmrsnLurvVDH33wHtog r_ui = 4.00   est = 3.69   {'was_impossible': False}\n",
      "user: JM_JfYRtTIBc42zHSRgsrA item: f412zO5FpTiec9Z_Q0PtHg r_ui = 5.00   est = 4.18   {'was_impossible': False}\n",
      "user: JM_JfYRtTIBc42zHSRgsrA item: gxNxT-sk72z9ja6QNYnEHw r_ui = 2.00   est = 3.75   {'was_impossible': False}\n",
      "user: JM_JfYRtTIBc42zHSRgsrA item: KcHqZ_IQMHhrL0y9PakxJA r_ui = 5.00   est = 3.58   {'was_impossible': False}\n",
      "user: JM_JfYRtTIBc42zHSRgsrA item: 2m01uXA_2Wylogy_R8z9EA r_ui = 3.00   est = 4.04   {'was_impossible': False}\n",
      "user: JM_JfYRtTIBc42zHSRgsrA item: jNYYvEUhVXNW9JmjqsjPcw r_ui = 4.00   est = 2.90   {'was_impossible': False}\n",
      "user: JM_JfYRtTIBc42zHSRgsrA item: 0f7KLXeVKJ1dZg5OqIGtPw r_ui = 3.00   est = 3.04   {'was_impossible': False}\n",
      "user: JM_JfYRtTIBc42zHSRgsrA item: wFSkfP9aE_F99p-K00JA4w r_ui = 4.00   est = 3.12   {'was_impossible': False}\n",
      "user: JM_JfYRtTIBc42zHSRgsrA item: XUepp8T9xSMBuvlEG_-DrQ r_ui = 5.00   est = 4.06   {'was_impossible': False}\n",
      "user: JM_JfYRtTIBc42zHSRgsrA item: -pK1SR3blPDEzYKwXk4L5Q r_ui = 3.00   est = 3.65   {'was_impossible': False}\n",
      "user: JM_JfYRtTIBc42zHSRgsrA item: PmE76rpJ6iWNO_GS3Be3TQ r_ui = 3.00   est = 2.48   {'was_impossible': False}\n",
      "user: JM_JfYRtTIBc42zHSRgsrA item: fnH2j1K_M6pxuuYPF3S2Zw r_ui = 3.00   est = 3.21   {'was_impossible': False}\n",
      "user: JM_JfYRtTIBc42zHSRgsrA item: QXdEeuL4cA_KcGMrh5o5rA r_ui = 4.00   est = 4.26   {'was_impossible': False}\n",
      "user: JM_JfYRtTIBc42zHSRgsrA item: 9MY8p8T1_eLalJSL26_Cdg r_ui = 1.00   est = 2.99   {'was_impossible': False}\n",
      "user: JM_JfYRtTIBc42zHSRgsrA item: Hs8AD8lZ4wpdP212O9goDA r_ui = 3.00   est = 3.57   {'was_impossible': False}\n",
      "user: JM_JfYRtTIBc42zHSRgsrA item: Wi66Fw1fdr4W71J55PIoow r_ui = 5.00   est = 3.97   {'was_impossible': False}\n",
      "user: JM_JfYRtTIBc42zHSRgsrA item: g2BZOLMwHViRf9hsQfKm_w r_ui = 4.00   est = 3.69   {'was_impossible': False}\n",
      "user: JM_JfYRtTIBc42zHSRgsrA item: Kaf1ZLT3NVymFGtlF4nnTQ r_ui = 3.00   est = 3.38   {'was_impossible': False}\n",
      "user: JM_JfYRtTIBc42zHSRgsrA item: PTCZKvLwwR_Bhje5qir-dQ r_ui = 3.00   est = 4.01   {'was_impossible': False}\n",
      "user: JM_JfYRtTIBc42zHSRgsrA item: 9jlK2GUXrk40TbN1yTSMJw r_ui = 3.00   est = 3.19   {'was_impossible': False}\n",
      "user: JM_JfYRtTIBc42zHSRgsrA item: OJHJD8kEfEUAYd2He0LfTg r_ui = 3.00   est = 3.67   {'was_impossible': False}\n",
      "user: JM_JfYRtTIBc42zHSRgsrA item: KPFscTq_-jGPla0cNQRUcg r_ui = 3.00   est = 3.45   {'was_impossible': False}\n",
      "user: JM_JfYRtTIBc42zHSRgsrA item: ULGoHTVLp5ZgUEBoxFb4vg r_ui = 4.00   est = 3.80   {'was_impossible': False}\n",
      "user: JM_JfYRtTIBc42zHSRgsrA item: 629nHJEs1Spt4bI3mI2JwQ r_ui = 2.00   est = 3.76   {'was_impossible': False}\n",
      "user: JM_JfYRtTIBc42zHSRgsrA item: aGYdF_fNHDhFCAnXoTCkGA r_ui = 5.00   est = 3.73   {'was_impossible': False}\n",
      "user: JM_JfYRtTIBc42zHSRgsrA item: sGTBd8o3i6f0SCnvK_UCQA r_ui = 3.00   est = 2.67   {'was_impossible': False}\n",
      "user: JM_JfYRtTIBc42zHSRgsrA item: sOsD6oWTCpobv67YYrEx6w r_ui = 4.00   est = 4.31   {'was_impossible': False}\n",
      "user: JM_JfYRtTIBc42zHSRgsrA item: bf-V94Y6ABoHz6SX7-N1_A r_ui = 3.00   est = 3.78   {'was_impossible': False}\n",
      "user: JM_JfYRtTIBc42zHSRgsrA item: F21KbDE_trrfC2lrByP1zg r_ui = 2.00   est = 3.68   {'was_impossible': False}\n",
      "user: JM_JfYRtTIBc42zHSRgsrA item: bMcozrCMkppinCDu0C5ueA r_ui = 4.00   est = 3.79   {'was_impossible': False}\n",
      "user: JM_JfYRtTIBc42zHSRgsrA item: O7-iODKfhUj667cgFNr3hw r_ui = 3.00   est = 2.80   {'was_impossible': False}\n",
      "user: JM_JfYRtTIBc42zHSRgsrA item: y2w6rFaO0XEiG5mFfOsiFA r_ui = 3.00   est = 4.05   {'was_impossible': False}\n",
      "user: JM_JfYRtTIBc42zHSRgsrA item: ogFDrcDaf4UosL1zQUGevg r_ui = 4.00   est = 3.91   {'was_impossible': False}\n",
      "user: JM_JfYRtTIBc42zHSRgsrA item: W-yWnbKJr1e7nGPipPLxgw r_ui = 3.00   est = 2.35   {'was_impossible': False}\n",
      "user: JM_JfYRtTIBc42zHSRgsrA item: 9hPwCTU-K_W0HgSLf4T9Jw r_ui = 4.00   est = 3.70   {'was_impossible': False}\n",
      "user: JM_JfYRtTIBc42zHSRgsrA item: a7UqBOrZhk7StQQ9hMuWBg r_ui = 5.00   est = 4.15   {'was_impossible': False}\n",
      "user: JM_JfYRtTIBc42zHSRgsrA item: ck8Id2EaJ20Alj0N8UMvBQ r_ui = 5.00   est = 4.22   {'was_impossible': False}\n",
      "user: JM_JfYRtTIBc42zHSRgsrA item: KNGPr-Gpues7WhZXAtlvmA r_ui = 4.00   est = 3.91   {'was_impossible': False}\n",
      "user: JM_JfYRtTIBc42zHSRgsrA item: 8Hs6GKIaGoLLnY74leyNLQ r_ui = 5.00   est = 3.59   {'was_impossible': False}\n",
      "user: JM_JfYRtTIBc42zHSRgsrA item: xIPn56TmtD4wVcLdJazCUg r_ui = 1.00   est = 2.80   {'was_impossible': False}\n",
      "user: JM_JfYRtTIBc42zHSRgsrA item: bwNwEWulr97oCJ6ux9VVoA r_ui = 4.00   est = 3.90   {'was_impossible': False}\n",
      "user: JM_JfYRtTIBc42zHSRgsrA item: zL2-u9LuxmPzC9d5qnTkvQ r_ui = 4.00   est = 3.72   {'was_impossible': False}\n",
      "user: JM_JfYRtTIBc42zHSRgsrA item: SSOx0BLXiVfmJWCY5XJDrw r_ui = 1.00   est = 3.06   {'was_impossible': False}\n",
      "user: JM_JfYRtTIBc42zHSRgsrA item: H6YtJyXYPTyU7EQ_jHs-7Q r_ui = 4.00   est = 3.74   {'was_impossible': False}\n",
      "user: JM_JfYRtTIBc42zHSRgsrA item: NslwiBEmTw7qXeMNAZTkUQ r_ui = 4.00   est = 3.77   {'was_impossible': False}\n",
      "user: JM_JfYRtTIBc42zHSRgsrA item: 3942kJZKI8gsJO0BdRsneA r_ui = 3.00   est = 3.90   {'was_impossible': False}\n",
      "user: JM_JfYRtTIBc42zHSRgsrA item: dJKmNlmjBqbOccL1c6FEaQ r_ui = 4.00   est = 4.13   {'was_impossible': False}\n",
      "user: JM_JfYRtTIBc42zHSRgsrA item: NfIWgqIbpvUD0cBRNIKypQ r_ui = 2.00   est = 3.10   {'was_impossible': False}\n",
      "user: JM_JfYRtTIBc42zHSRgsrA item: qS_sydoMwEMuBU0ByOM-JA r_ui = 4.00   est = 3.61   {'was_impossible': False}\n",
      "user: JM_JfYRtTIBc42zHSRgsrA item: 6uuWg3RYUYzrLePphT3PQw r_ui = 3.00   est = 2.57   {'was_impossible': False}\n",
      "user: JM_JfYRtTIBc42zHSRgsrA item: znkU8_QJ4Dksd8XUVjXBcg r_ui = 3.00   est = 3.14   {'was_impossible': False}\n"
     ]
    }
   ],
   "source": [
    "pred_list = list()\n",
    "for business_id in business_id_dict:\n",
    "    if (df_new_user['business_id'] == business_id).any():\n",
    "        r_ui = df_new_user.loc[df_new_user['business_id'] == business_id, 'rating'].iloc[0]\n",
    "        pred = algo.predict(user_id, business_id, r_ui = r_ui, verbose=True)\n",
    "        pred_list.append(pred)"
   ]
  },
  {
   "cell_type": "code",
   "execution_count": 116,
   "metadata": {},
   "outputs": [
    {
     "output_type": "stream",
     "name": "stdout",
     "text": [
      "RMSE: 0.9383\n"
     ]
    },
    {
     "output_type": "execute_result",
     "data": {
      "text/plain": [
       "0.9382838793783648"
      ]
     },
     "metadata": {},
     "execution_count": 116
    }
   ],
   "source": [
    "from surprise import accuracy\n",
    "accuracy.rmse(pred_list)"
   ]
  },
  {
   "cell_type": "code",
   "execution_count": 117,
   "metadata": {
    "tags": [
     "outputPrepend"
    ]
   },
   "outputs": [
    {
     "output_type": "stream",
     "name": "stdout",
     "text": [
      "impossible': False}\n",
      "user: JM_JfYRtTIBc42zHSRgsrA item: P5lR-AdqxUC944GJ0Sfd_Q r_ui = None   est = 3.56   {'was_impossible': False}\n",
      "user: JM_JfYRtTIBc42zHSRgsrA item: zWPEAPYJjCHE87snhpTEiA r_ui = None   est = 3.54   {'was_impossible': False}\n",
      "user: JM_JfYRtTIBc42zHSRgsrA item: L1yCGs1G1KM-LLIrLIWAPw r_ui = None   est = 2.78   {'was_impossible': False}\n",
      "user: JM_JfYRtTIBc42zHSRgsrA item: 1qO0DUMv1ZtRtPH2VD8x_Q r_ui = None   est = 4.22   {'was_impossible': False}\n",
      "user: JM_JfYRtTIBc42zHSRgsrA item: b0kpd0u7o8HBlrciMbGMqQ r_ui = None   est = 2.83   {'was_impossible': False}\n",
      "user: JM_JfYRtTIBc42zHSRgsrA item: lYfE6rYm-GiZY0zLZ8S1Gw r_ui = None   est = 3.97   {'was_impossible': False}\n",
      "user: JM_JfYRtTIBc42zHSRgsrA item: h0JnvqMcK_G7CeBijxaVAA r_ui = None   est = 3.54   {'was_impossible': False}\n",
      "user: JM_JfYRtTIBc42zHSRgsrA item: YLBFKc5nL1KBPQ3c334ang r_ui = None   est = 3.54   {'was_impossible': False}\n",
      "user: JM_JfYRtTIBc42zHSRgsrA item: xtum8zS3BO9E1qcUOpi96w r_ui = None   est = 3.54   {'was_impossible': False}\n",
      "user: JM_JfYRtTIBc42zHSRgsrA item: RjIpiZLefONlg4SfWUjirg r_ui = None   est = 4.09   {'was_impossible': False}\n",
      "user: JM_JfYRtTIBc42zHSRgsrA item: ODlGYIWGHwhyeeDnhugH-Q r_ui = None   est = 3.99   {'was_impossible': False}\n",
      "user: JM_JfYRtTIBc42zHSRgsrA item: rGs0vEyN3puNd9RiIsPeKQ r_ui = None   est = 4.56   {'was_impossible': False}\n",
      "user: JM_JfYRtTIBc42zHSRgsrA item: zP1UJJCy9E6qyeEaIDtupg r_ui = None   est = 3.63   {'was_impossible': False}\n",
      "user: JM_JfYRtTIBc42zHSRgsrA item: d8n5qyS6QDWknXx94RtoNw r_ui = None   est = 3.38   {'was_impossible': False}\n",
      "user: JM_JfYRtTIBc42zHSRgsrA item: 38HqGkzDw0MSa1MoB7Xxtw r_ui = None   est = 3.30   {'was_impossible': False}\n",
      "user: JM_JfYRtTIBc42zHSRgsrA item: le_XO1DYtz0DUgflXGIxkQ r_ui = None   est = 3.24   {'was_impossible': False}\n",
      "user: JM_JfYRtTIBc42zHSRgsrA item: sMjfiH2WuGHgNmYnHXAV0Q r_ui = None   est = 2.11   {'was_impossible': False}\n",
      "user: JM_JfYRtTIBc42zHSRgsrA item: 3942kJZKI8gsJO0BdRsneA r_ui = 3.00   est = 3.90   {'was_impossible': False}\n",
      "user: JM_JfYRtTIBc42zHSRgsrA item: 8H4P9_mjJ410Q6_N8QghLQ r_ui = None   est = 2.40   {'was_impossible': False}\n",
      "user: JM_JfYRtTIBc42zHSRgsrA item: 0Q8Ma3w54ej8OjSVqX6BCg r_ui = None   est = 3.54   {'was_impossible': False}\n",
      "user: JM_JfYRtTIBc42zHSRgsrA item: AHgRWXw3IMe5WHktt3f6Xg r_ui = None   est = 3.56   {'was_impossible': False}\n",
      "user: JM_JfYRtTIBc42zHSRgsrA item: zPOEfCMbARmrmps37tdn0g r_ui = None   est = 3.54   {'was_impossible': False}\n",
      "user: JM_JfYRtTIBc42zHSRgsrA item: Kke51MpG22tAFmXkJm-sHA r_ui = None   est = 3.66   {'was_impossible': False}\n",
      "user: JM_JfYRtTIBc42zHSRgsrA item: BBblBHBnjpepOP1Q1kfi1A r_ui = None   est = 3.15   {'was_impossible': False}\n",
      "user: JM_JfYRtTIBc42zHSRgsrA item: 9gV2YmOzoNlya1CD6lGSXQ r_ui = None   est = 3.51   {'was_impossible': False}\n",
      "user: JM_JfYRtTIBc42zHSRgsrA item: _i-ik7oyJYZGLDYUvbVlrQ r_ui = None   est = 3.08   {'was_impossible': False}\n",
      "user: JM_JfYRtTIBc42zHSRgsrA item: mSyHpS4dP_FDR-o8N3ye8Q r_ui = None   est = 3.54   {'was_impossible': False}\n",
      "user: JM_JfYRtTIBc42zHSRgsrA item: lypFCnFK5VToa698ZBszDg r_ui = None   est = 4.26   {'was_impossible': False}\n",
      "user: JM_JfYRtTIBc42zHSRgsrA item: MovPLAPho9dqF6dK1UvxXg r_ui = None   est = 4.00   {'was_impossible': False}\n",
      "user: JM_JfYRtTIBc42zHSRgsrA item: 7TStzQMNtPQIBNaIYcZ_zw r_ui = None   est = 3.18   {'was_impossible': False}\n",
      "user: JM_JfYRtTIBc42zHSRgsrA item: 3ysQylsFQj7JNIlQjncQeQ r_ui = None   est = 4.14   {'was_impossible': False}\n",
      "user: JM_JfYRtTIBc42zHSRgsrA item: uncb1Q3l6yYMrStDK1RWyA r_ui = None   est = 4.30   {'was_impossible': False}\n",
      "user: JM_JfYRtTIBc42zHSRgsrA item: oFKO7pvSMmSXlc0ytdxmYQ r_ui = None   est = 3.54   {'was_impossible': False}\n",
      "user: JM_JfYRtTIBc42zHSRgsrA item: qBDpPs3Wg7EmUI5XGeUEdA r_ui = None   est = 3.77   {'was_impossible': False}\n",
      "user: JM_JfYRtTIBc42zHSRgsrA item: sA56zGbIZj2NoBR_HqkN-g r_ui = None   est = 3.54   {'was_impossible': False}\n",
      "user: JM_JfYRtTIBc42zHSRgsrA item: Eh8Lg3IZFK1xZ5B3Nwz_Pw r_ui = None   est = 4.17   {'was_impossible': False}\n",
      "user: JM_JfYRtTIBc42zHSRgsrA item: 4kTfzwqYQlKaJIa-O7p9lw r_ui = None   est = 2.88   {'was_impossible': False}\n",
      "user: JM_JfYRtTIBc42zHSRgsrA item: EreK2vomkBNFHbjHKXyqNg r_ui = None   est = 3.11   {'was_impossible': False}\n",
      "user: JM_JfYRtTIBc42zHSRgsrA item: 45Opdnehep2a9-Vy7QY_Xg r_ui = None   est = 3.50   {'was_impossible': False}\n",
      "user: JM_JfYRtTIBc42zHSRgsrA item: ySLTN8LRUzfPBxUyJrgXDQ r_ui = None   est = 3.41   {'was_impossible': False}\n",
      "user: JM_JfYRtTIBc42zHSRgsrA item: XcW4QCefnrnvVU6UEYNqRQ r_ui = None   est = 3.54   {'was_impossible': False}\n",
      "user: JM_JfYRtTIBc42zHSRgsrA item: WUW2q1wJ15SlYW2TojBrfA r_ui = None   est = 3.59   {'was_impossible': False}\n",
      "user: JM_JfYRtTIBc42zHSRgsrA item: WLUtB6dUhP616jGFXA3YKA r_ui = None   est = 3.78   {'was_impossible': False}\n",
      "user: JM_JfYRtTIBc42zHSRgsrA item: dJKmNlmjBqbOccL1c6FEaQ r_ui = 4.00   est = 4.13   {'was_impossible': False}\n",
      "user: JM_JfYRtTIBc42zHSRgsrA item: PUZSvR-nEHlhEi0gSADu7w r_ui = None   est = 3.89   {'was_impossible': False}\n",
      "user: JM_JfYRtTIBc42zHSRgsrA item: e0Xqct07zghIfUQrSITjaw r_ui = None   est = 3.61   {'was_impossible': False}\n",
      "user: JM_JfYRtTIBc42zHSRgsrA item: R5TkfU4aL5OldkLUb3zQyQ r_ui = None   est = 4.34   {'was_impossible': False}\n",
      "user: JM_JfYRtTIBc42zHSRgsrA item: i9Gi-LSagCrV6pLUfO2-3A r_ui = None   est = 3.54   {'was_impossible': False}\n",
      "user: JM_JfYRtTIBc42zHSRgsrA item: mqDsEyybiu1yXYu3LgwbZg r_ui = None   est = 4.00   {'was_impossible': False}\n",
      "user: JM_JfYRtTIBc42zHSRgsrA item: iZ6U8gC2fVLaaVlcQLfZOQ r_ui = None   est = 3.53   {'was_impossible': False}\n",
      "user: JM_JfYRtTIBc42zHSRgsrA item: DTmTXwvBdFZACQMe1rqzdw r_ui = None   est = 3.70   {'was_impossible': False}\n",
      "user: JM_JfYRtTIBc42zHSRgsrA item: 1NVThwwaX0AWVZVEnnI3OQ r_ui = None   est = 3.54   {'was_impossible': False}\n",
      "user: JM_JfYRtTIBc42zHSRgsrA item: VuFIPvP0U73sAMkjAxJTvw r_ui = None   est = 2.72   {'was_impossible': False}\n",
      "user: JM_JfYRtTIBc42zHSRgsrA item: 1SlpJBMUyxFF7XiLUxTGGA r_ui = None   est = 3.54   {'was_impossible': False}\n",
      "user: JM_JfYRtTIBc42zHSRgsrA item: cjyLoEh5rMXK9abs12KdKA r_ui = None   est = 3.59   {'was_impossible': False}\n",
      "user: JM_JfYRtTIBc42zHSRgsrA item: dguuYTVO42NAEYUNVh714w r_ui = None   est = 3.54   {'was_impossible': False}\n",
      "user: JM_JfYRtTIBc42zHSRgsrA item: dS85Gdxt6o5qkb2lrC211A r_ui = None   est = 2.96   {'was_impossible': False}\n",
      "user: JM_JfYRtTIBc42zHSRgsrA item: k6zpfNbVMoGLYHcv2FZtJQ r_ui = None   est = 3.49   {'was_impossible': False}\n",
      "user: JM_JfYRtTIBc42zHSRgsrA item: hlYeuldaqmx3Zqy8eeCAHw r_ui = None   est = 3.31   {'was_impossible': False}\n",
      "user: JM_JfYRtTIBc42zHSRgsrA item: xHfa71SHTUwgRAnafjmllg r_ui = None   est = 3.64   {'was_impossible': False}\n",
      "user: JM_JfYRtTIBc42zHSRgsrA item: uzrW0Ach6sgEltPXjW2C7g r_ui = None   est = 3.54   {'was_impossible': False}\n",
      "user: JM_JfYRtTIBc42zHSRgsrA item: XiE-Yyb2kSE53HKjPEoSZA r_ui = None   est = 3.37   {'was_impossible': False}\n",
      "user: JM_JfYRtTIBc42zHSRgsrA item: Jb8SmNgPVXcDsetvI9CjQg r_ui = None   est = 3.54   {'was_impossible': False}\n",
      "user: JM_JfYRtTIBc42zHSRgsrA item: T51_B9UEtrTAgjp_u9fp9Q r_ui = None   est = 3.46   {'was_impossible': False}\n",
      "user: JM_JfYRtTIBc42zHSRgsrA item: T8DpRFty13MXLf6MB43aLg r_ui = None   est = 3.62   {'was_impossible': False}\n",
      "user: JM_JfYRtTIBc42zHSRgsrA item: mr9Tuv3ySAbZFRbHv1IFCw r_ui = None   est = 3.19   {'was_impossible': False}\n",
      "user: JM_JfYRtTIBc42zHSRgsrA item: kIvyPG10WVFjtJ9hOC4L8g r_ui = None   est = 3.54   {'was_impossible': False}\n",
      "user: JM_JfYRtTIBc42zHSRgsrA item: eLe7m6Wh3jeSSoTGGo6H3A r_ui = None   est = 3.92   {'was_impossible': False}\n",
      "user: JM_JfYRtTIBc42zHSRgsrA item: Yza2V-zlc1iCCeiHxhdKDA r_ui = None   est = 2.86   {'was_impossible': False}\n",
      "user: JM_JfYRtTIBc42zHSRgsrA item: Ii-aCAM4KG6RCvpMn0hOkg r_ui = None   est = 3.44   {'was_impossible': False}\n",
      "user: JM_JfYRtTIBc42zHSRgsrA item: cyUDXVJlDEm8GXfIgpSAog r_ui = None   est = 3.54   {'was_impossible': False}\n",
      "user: JM_JfYRtTIBc42zHSRgsrA item: XM1llQ4T_IKVGmF7-p9C6w r_ui = None   est = 3.34   {'was_impossible': False}\n",
      "user: JM_JfYRtTIBc42zHSRgsrA item: 7CAMlSH-UGjb5N75vN_Iww r_ui = None   est = 3.27   {'was_impossible': False}\n",
      "user: JM_JfYRtTIBc42zHSRgsrA item: A9M9J67qmBuMp6I1Px_4_w r_ui = None   est = 3.84   {'was_impossible': False}\n",
      "user: JM_JfYRtTIBc42zHSRgsrA item: IFamp2iDylLbgkxN8WaG0A r_ui = None   est = 3.98   {'was_impossible': False}\n",
      "user: JM_JfYRtTIBc42zHSRgsrA item: TtoFgRsS2UXXhYi9GWxm1A r_ui = None   est = 3.54   {'was_impossible': False}\n",
      "user: JM_JfYRtTIBc42zHSRgsrA item: vNhNrZRVqiJTglRaxWwlmA r_ui = None   est = 3.54   {'was_impossible': False}\n",
      "user: JM_JfYRtTIBc42zHSRgsrA item: 81DSkoVezBC-9BYe63c0dw r_ui = None   est = 3.47   {'was_impossible': False}\n",
      "user: JM_JfYRtTIBc42zHSRgsrA item: BAC-9njvQzG9KekYJ2cEWg r_ui = None   est = 3.54   {'was_impossible': False}\n",
      "user: JM_JfYRtTIBc42zHSRgsrA item: mcJhge14uee3o7WsAUe4rQ r_ui = None   est = 3.54   {'was_impossible': False}\n",
      "user: JM_JfYRtTIBc42zHSRgsrA item: dy-XO6rRE1cAMMrpMDQRrw r_ui = None   est = 3.43   {'was_impossible': False}\n",
      "user: JM_JfYRtTIBc42zHSRgsrA item: qreH4BLueGlF913H_fSY0Q r_ui = None   est = 3.54   {'was_impossible': False}\n",
      "user: JM_JfYRtTIBc42zHSRgsrA item: 1f4ODqSgyJKhV9N-KMkJ0A r_ui = None   est = 3.54   {'was_impossible': False}\n",
      "user: JM_JfYRtTIBc42zHSRgsrA item: byR3cDtWfxYVNSY541QTXQ r_ui = None   est = 3.27   {'was_impossible': False}\n",
      "user: JM_JfYRtTIBc42zHSRgsrA item: 5Vo5jygrgCXNgaNbH86e7g r_ui = None   est = 2.41   {'was_impossible': False}\n",
      "user: JM_JfYRtTIBc42zHSRgsrA item: Jy7zFnjWuOb5i3dLvA9QgA r_ui = None   est = 3.54   {'was_impossible': False}\n",
      "user: JM_JfYRtTIBc42zHSRgsrA item: yr5PAGXB19P1cy9-QJ9IYA r_ui = None   est = 3.88   {'was_impossible': False}\n",
      "user: JM_JfYRtTIBc42zHSRgsrA item: RNqUyblZzXvg0a2fBjJQQg r_ui = None   est = 3.11   {'was_impossible': False}\n",
      "user: JM_JfYRtTIBc42zHSRgsrA item: XCmRVkEIaEPkNtG6XHGZ0Q r_ui = None   est = 3.56   {'was_impossible': False}\n",
      "user: JM_JfYRtTIBc42zHSRgsrA item: vzO3wOIWVNNnxY3NlSXw-A r_ui = None   est = 3.54   {'was_impossible': False}\n",
      "user: JM_JfYRtTIBc42zHSRgsrA item: VxoRKAebGksNn5ewTGGxQQ r_ui = None   est = 2.88   {'was_impossible': False}\n",
      "user: JM_JfYRtTIBc42zHSRgsrA item: DpCa6wNADNPoZTDly2DkXA r_ui = None   est = 4.14   {'was_impossible': False}\n",
      "user: JM_JfYRtTIBc42zHSRgsrA item: zGJHpkVJcpsdRF5h2NyMPw r_ui = None   est = 3.67   {'was_impossible': False}\n",
      "user: JM_JfYRtTIBc42zHSRgsrA item: VN8qbrVvMCmTLNxEOhV5sg r_ui = None   est = 3.54   {'was_impossible': False}\n",
      "user: JM_JfYRtTIBc42zHSRgsrA item: k6Q3gluuTExfNr46JV6qGw r_ui = None   est = 4.13   {'was_impossible': False}\n",
      "user: JM_JfYRtTIBc42zHSRgsrA item: VZ7Cg-hwILstsY5c0TtdBA r_ui = None   est = 3.64   {'was_impossible': False}\n",
      "user: JM_JfYRtTIBc42zHSRgsrA item: 6OCT26jlncXFRCtQkQaWmw r_ui = None   est = 1.79   {'was_impossible': False}\n",
      "user: JM_JfYRtTIBc42zHSRgsrA item: NfIWgqIbpvUD0cBRNIKypQ r_ui = 2.00   est = 3.10   {'was_impossible': False}\n",
      "user: JM_JfYRtTIBc42zHSRgsrA item: 0Iva7qdGwb_Vv596pUdRtQ r_ui = None   est = 4.34   {'was_impossible': False}\n",
      "user: JM_JfYRtTIBc42zHSRgsrA item: rcERANnIyyyanLU0t2qdKg r_ui = None   est = 3.64   {'was_impossible': False}\n",
      "user: JM_JfYRtTIBc42zHSRgsrA item: 2vH58mhkEl8GdcDug1OwWg r_ui = None   est = 3.97   {'was_impossible': False}\n",
      "user: JM_JfYRtTIBc42zHSRgsrA item: 8NrCMdAUOfFhLnfRUVJPDA r_ui = None   est = 3.54   {'was_impossible': False}\n",
      "user: JM_JfYRtTIBc42zHSRgsrA item: wMIUdjntDop3maHR_1Nv7Q r_ui = None   est = 3.56   {'was_impossible': False}\n",
      "user: JM_JfYRtTIBc42zHSRgsrA item: HT22FICAqumPNoubT197Yw r_ui = None   est = 4.20   {'was_impossible': False}\n",
      "user: JM_JfYRtTIBc42zHSRgsrA item: LGCC_NYgWz9qUFyYqeS89g r_ui = None   est = 3.54   {'was_impossible': False}\n",
      "user: JM_JfYRtTIBc42zHSRgsrA item: xTAizRLXGPMTXl61-K1eOQ r_ui = None   est = 3.63   {'was_impossible': False}\n",
      "user: JM_JfYRtTIBc42zHSRgsrA item: BdTXw_Xy7m3Jy25FMVXqSQ r_ui = None   est = 3.54   {'was_impossible': False}\n",
      "user: JM_JfYRtTIBc42zHSRgsrA item: 7LFSgs2v3Kzjqd8SaRrB5A r_ui = None   est = 3.95   {'was_impossible': False}\n",
      "user: JM_JfYRtTIBc42zHSRgsrA item: 8ju300tn3uzUvIPIvmkRWA r_ui = None   est = 3.90   {'was_impossible': False}\n",
      "user: JM_JfYRtTIBc42zHSRgsrA item: nyy38msunExaObJOeH7j0Q r_ui = None   est = 3.59   {'was_impossible': False}\n",
      "user: JM_JfYRtTIBc42zHSRgsrA item: cFEU4m0_5J8YDHJuCw-zDg r_ui = None   est = 3.54   {'was_impossible': False}\n",
      "user: JM_JfYRtTIBc42zHSRgsrA item: QfkY8mFyAIgxhBxr7sIwJw r_ui = None   est = 3.85   {'was_impossible': False}\n",
      "user: JM_JfYRtTIBc42zHSRgsrA item: fmw_0vST7GjdibObHWLOuQ r_ui = None   est = 3.78   {'was_impossible': False}\n",
      "user: JM_JfYRtTIBc42zHSRgsrA item: QDKWy6RL1Cgl1hkMjb19og r_ui = None   est = 3.94   {'was_impossible': False}\n",
      "user: JM_JfYRtTIBc42zHSRgsrA item: GwwX5JjuOVpw0ZlBvCqEOg r_ui = None   est = 4.08   {'was_impossible': False}\n",
      "user: JM_JfYRtTIBc42zHSRgsrA item: N2lTGN6EuQwuEdDGPOkGow r_ui = None   est = 3.20   {'was_impossible': False}\n",
      "user: JM_JfYRtTIBc42zHSRgsrA item: mvDMXNJCQ28Oc9z5it_PJg r_ui = None   est = 3.21   {'was_impossible': False}\n",
      "user: JM_JfYRtTIBc42zHSRgsrA item: Q1TofnFQ4sMFA47sGYAyeg r_ui = None   est = 2.04   {'was_impossible': False}\n",
      "user: JM_JfYRtTIBc42zHSRgsrA item: -G8UiqYsysIPY3FRmKoTqw r_ui = None   est = 3.79   {'was_impossible': False}\n",
      "user: JM_JfYRtTIBc42zHSRgsrA item: sd9b3n1GWBCPmvufiOoX4Q r_ui = None   est = 2.73   {'was_impossible': False}\n",
      "user: JM_JfYRtTIBc42zHSRgsrA item: 2IXSHR4pjeevJvk6eRoPgg r_ui = None   est = 2.53   {'was_impossible': False}\n",
      "user: JM_JfYRtTIBc42zHSRgsrA item: rM0sHlCj-sAr-shZdTsxYQ r_ui = None   est = 3.54   {'was_impossible': False}\n",
      "user: JM_JfYRtTIBc42zHSRgsrA item: W_YBG1lPLB-cehQbwtXKow r_ui = None   est = 2.91   {'was_impossible': False}\n",
      "user: JM_JfYRtTIBc42zHSRgsrA item: vChCvHlENOV9GWHKCF2emQ r_ui = None   est = 3.54   {'was_impossible': False}\n",
      "user: JM_JfYRtTIBc42zHSRgsrA item: BJp6E-If4MWLrOPGinXhcw r_ui = None   est = 3.17   {'was_impossible': False}\n",
      "user: JM_JfYRtTIBc42zHSRgsrA item: BOu8G-QQMOKZRjw79HM-lQ r_ui = None   est = 3.42   {'was_impossible': False}\n",
      "user: JM_JfYRtTIBc42zHSRgsrA item: 3KrxlYenUbAheaJWLTh7Zw r_ui = None   est = 3.54   {'was_impossible': False}\n",
      "user: JM_JfYRtTIBc42zHSRgsrA item: imBg1-qcZ9Wwvw8KsQBcUg r_ui = None   est = 3.79   {'was_impossible': False}\n",
      "user: JM_JfYRtTIBc42zHSRgsrA item: aHtRqwCT2KUP-hPmKjaCrA r_ui = None   est = 3.18   {'was_impossible': False}\n",
      "user: JM_JfYRtTIBc42zHSRgsrA item: ptwwkiGwta8jqooNZt0_0w r_ui = None   est = 3.16   {'was_impossible': False}\n",
      "user: JM_JfYRtTIBc42zHSRgsrA item: Co394lQ-3el7bcavAW9Haw r_ui = None   est = 3.52   {'was_impossible': False}\n",
      "user: JM_JfYRtTIBc42zHSRgsrA item: ZuY8VBrx69qDg9sxoTZLrQ r_ui = None   est = 2.79   {'was_impossible': False}\n",
      "user: JM_JfYRtTIBc42zHSRgsrA item: bsP7pGF9kzPezcn_9cS7TQ r_ui = None   est = 3.71   {'was_impossible': False}\n",
      "user: JM_JfYRtTIBc42zHSRgsrA item: hmKP0UCU1JYt-IUNm2sNPA r_ui = None   est = 3.69   {'was_impossible': False}\n",
      "user: JM_JfYRtTIBc42zHSRgsrA item: u60k13aJPDvXvEHQAyL3Vw r_ui = None   est = 3.94   {'was_impossible': False}\n",
      "user: JM_JfYRtTIBc42zHSRgsrA item: OThCf_WpfyqnSk95w_PaaQ r_ui = None   est = 3.11   {'was_impossible': False}\n",
      "user: JM_JfYRtTIBc42zHSRgsrA item: UR8asBQTJgVmXqQw-w5AnQ r_ui = None   est = 3.65   {'was_impossible': False}\n",
      "user: JM_JfYRtTIBc42zHSRgsrA item: 757zI3bNk4CZ9cql3T6rbQ r_ui = None   est = 4.16   {'was_impossible': False}\n",
      "user: JM_JfYRtTIBc42zHSRgsrA item: KbPL1DxBo2fGMTEkU2yoTg r_ui = None   est = 3.83   {'was_impossible': False}\n",
      "user: JM_JfYRtTIBc42zHSRgsrA item: SSmHkP0tZ4TKn_YUOEkVUg r_ui = None   est = 3.94   {'was_impossible': False}\n",
      "user: JM_JfYRtTIBc42zHSRgsrA item: EMgU4Dz69B4A2_GgNlzqaw r_ui = None   est = 3.71   {'was_impossible': False}\n",
      "user: JM_JfYRtTIBc42zHSRgsrA item: B3SYmXQ7Xtobk_XWJIdAnQ r_ui = None   est = 3.54   {'was_impossible': False}\n",
      "user: JM_JfYRtTIBc42zHSRgsrA item: XMxgZsQnBZ6r02QR2kIcWQ r_ui = None   est = 3.13   {'was_impossible': False}\n",
      "user: JM_JfYRtTIBc42zHSRgsrA item: qS_sydoMwEMuBU0ByOM-JA r_ui = 4.00   est = 3.61   {'was_impossible': False}\n",
      "user: JM_JfYRtTIBc42zHSRgsrA item: 0_Gasj4t2pH5mNvYyBDPaQ r_ui = None   est = 3.54   {'was_impossible': False}\n",
      "user: JM_JfYRtTIBc42zHSRgsrA item: _0d408AYQPBJ0ywAaFBF3g r_ui = None   est = 3.44   {'was_impossible': False}\n",
      "user: JM_JfYRtTIBc42zHSRgsrA item: 7dtBcWPhW2WP7b0bjNPrAQ r_ui = None   est = 3.81   {'was_impossible': False}\n",
      "user: JM_JfYRtTIBc42zHSRgsrA item: kb7484P1s9eQx39xADFJ-A r_ui = None   est = 3.38   {'was_impossible': False}\n",
      "user: JM_JfYRtTIBc42zHSRgsrA item: AMOuvUEINcD8xomMSReFog r_ui = None   est = 3.54   {'was_impossible': False}\n",
      "user: JM_JfYRtTIBc42zHSRgsrA item: 5UthFjEP8UhRKDtbNjIhGA r_ui = None   est = 3.58   {'was_impossible': False}\n",
      "user: JM_JfYRtTIBc42zHSRgsrA item: vNdUfmphxi3erCYe6f7q3A r_ui = None   est = 3.10   {'was_impossible': False}\n",
      "user: JM_JfYRtTIBc42zHSRgsrA item: sZiUCvGIfkmeucb_JwaZvQ r_ui = None   est = 2.75   {'was_impossible': False}\n",
      "user: JM_JfYRtTIBc42zHSRgsrA item: 6uuWg3RYUYzrLePphT3PQw r_ui = 3.00   est = 2.57   {'was_impossible': False}\n",
      "user: JM_JfYRtTIBc42zHSRgsrA item: WLs3EjH4SzGD1wBFOwZ86Q r_ui = None   est = 3.54   {'was_impossible': False}\n",
      "user: JM_JfYRtTIBc42zHSRgsrA item: POckJBN79yzlqfMbbEToqA r_ui = None   est = 4.16   {'was_impossible': False}\n",
      "user: JM_JfYRtTIBc42zHSRgsrA item: zqfbHraCjhS5ZOT70Svn1A r_ui = None   est = 3.91   {'was_impossible': False}\n",
      "user: JM_JfYRtTIBc42zHSRgsrA item: 1_bIwtYU3RYuPooHpAIQZg r_ui = None   est = 3.94   {'was_impossible': False}\n",
      "user: JM_JfYRtTIBc42zHSRgsrA item: Jz4pheZ6m8eYV4EYzb_jeQ r_ui = None   est = 2.84   {'was_impossible': False}\n",
      "user: JM_JfYRtTIBc42zHSRgsrA item: Df2QJe-w68JM0fR9rFfPhA r_ui = None   est = 3.92   {'was_impossible': False}\n",
      "user: JM_JfYRtTIBc42zHSRgsrA item: mIZTif2mj2-CozNOOTFFpg r_ui = None   est = 3.22   {'was_impossible': False}\n",
      "user: JM_JfYRtTIBc42zHSRgsrA item: yHuV7fdSJT96ChiWpDrU-Q r_ui = None   est = 3.74   {'was_impossible': False}\n",
      "user: JM_JfYRtTIBc42zHSRgsrA item: tN08NZTMnyX_yT89uVN2_w r_ui = None   est = 3.64   {'was_impossible': False}\n",
      "user: JM_JfYRtTIBc42zHSRgsrA item: XCPxbHLo0kmWSQv3ZqJvBg r_ui = None   est = 3.54   {'was_impossible': False}\n",
      "user: JM_JfYRtTIBc42zHSRgsrA item: S2RKI9wDmI4Y5KOM1fgRzQ r_ui = None   est = 3.54   {'was_impossible': False}\n",
      "user: JM_JfYRtTIBc42zHSRgsrA item: Dzqu8p58M3G2USX3TpifqA r_ui = None   est = 3.14   {'was_impossible': False}\n",
      "user: JM_JfYRtTIBc42zHSRgsrA item: y5iRrweISUHMnATpBGr6uQ r_ui = None   est = 3.96   {'was_impossible': False}\n",
      "user: JM_JfYRtTIBc42zHSRgsrA item: UXb5pTNPf31BpJ2oiDZBXQ r_ui = None   est = 3.46   {'was_impossible': False}\n",
      "user: JM_JfYRtTIBc42zHSRgsrA item: cFfWVZz8NUyE-ZhE_IaSWA r_ui = None   est = 3.54   {'was_impossible': False}\n",
      "user: JM_JfYRtTIBc42zHSRgsrA item: n_E8S4o9qywljKvzsADoRQ r_ui = None   est = 2.88   {'was_impossible': False}\n",
      "user: JM_JfYRtTIBc42zHSRgsrA item: znkU8_QJ4Dksd8XUVjXBcg r_ui = 3.00   est = 3.14   {'was_impossible': False}\n",
      "user: JM_JfYRtTIBc42zHSRgsrA item: um4x6dIkv8w2a4e0VkRNmA r_ui = None   est = 3.45   {'was_impossible': False}\n",
      "user: JM_JfYRtTIBc42zHSRgsrA item: wErvHalgCs_HzuQXSYaZQA r_ui = None   est = 3.94   {'was_impossible': False}\n",
      "user: JM_JfYRtTIBc42zHSRgsrA item: sca7tyVH-Ctbk67zMRdGmg r_ui = None   est = 3.60   {'was_impossible': False}\n",
      "user: JM_JfYRtTIBc42zHSRgsrA item: nS8uRoVeqe20VsDDH59jHQ r_ui = None   est = 3.54   {'was_impossible': False}\n",
      "user: JM_JfYRtTIBc42zHSRgsrA item: QMJ0uaY73v6OX2Wr5emEwg r_ui = None   est = 3.63   {'was_impossible': False}\n",
      "user: JM_JfYRtTIBc42zHSRgsrA item: WoI1IisL_AgmWdiJLRb-Zw r_ui = None   est = 3.67   {'was_impossible': False}\n",
      "user: JM_JfYRtTIBc42zHSRgsrA item: pXj9QQVummN5ANuseK4CvQ r_ui = None   est = 4.01   {'was_impossible': False}\n",
      "user: JM_JfYRtTIBc42zHSRgsrA item: 2Puvh1tZnbEuIimMv0hJ5Q r_ui = None   est = 3.59   {'was_impossible': False}\n",
      "user: JM_JfYRtTIBc42zHSRgsrA item: 87f7kR7nTz8WHnmtLM_S6w r_ui = None   est = 4.56   {'was_impossible': False}\n",
      "user: JM_JfYRtTIBc42zHSRgsrA item: yQL8SrSETbbCI1U5esVJQw r_ui = None   est = 4.55   {'was_impossible': False}\n"
     ]
    }
   ],
   "source": [
    "pred_list = list()\n",
    "for business_id in business_id_dict:\n",
    "    if (df_new_user['business_id'] == business_id).any():\n",
    "        r_ui = df_new_user.loc[df_new_user['business_id'] == business_id, 'rating'].iloc[0]\n",
    "        pred = algo.predict(user_id, business_id, r_ui = r_ui, verbose=True)\n",
    "    else:\n",
    "        pred = algo.predict(user_id, business_id, verbose=True)\n",
    "    pred_list.append(pred)"
   ]
  },
  {
   "cell_type": "code",
   "execution_count": 90,
   "metadata": {},
   "outputs": [],
   "source": [
    "def find_topn(predictions, n, user_id):\n",
    "    topn = defaultdict(list)\n",
    "    for uid, bid, _, est, _ in predictions:\n",
    "        topn[uid].append((bid, est))\n",
    "\n",
    "    for uid, est in topn.items():\n",
    "        est.sort(key=lambda x: x[1], reverse=True)\n",
    "        topn[uid] = est[:n]\n",
    "\n",
    "    user_results = pd.DataFrame.from_dict(topn).transpose().loc[user_id]\n",
    "    \n",
    "    print('Top {0} recommendations for user {1}:\\n'.format(n, get_user_attr(user_id, 'name')))\n",
    "    print('   Restaurant:                                  Predicted Rating:              Restaurant ID:\\n')\n",
    "    for i in range(n):\n",
    "        print('{:<3d}{:<50s}{:1.2f}{:>40s}'.format(i+1, get_business_attr(user_results.loc[i][0], 'name'), user_results.loc[i][1], user_results.loc[i][0]))\n",
    "        \n",
    "    return user_results"
   ]
  },
  {
   "cell_type": "code",
   "execution_count": 118,
   "metadata": {},
   "outputs": [
    {
     "output_type": "stream",
     "name": "stdout",
     "text": [
      "Top 25 recommendations for user Young:\n\n   Restaurant:                                  Predicted Rating:              Restaurant ID:\n\n1  Harry's Cheese and Cold Cuts                      4.96                  w7JR1y-TCXmWdFKDLW83eQ\n2  Tasting Counter                                   4.63                  zMpWhHh6Cp1BkFRM8cbPhA\n3  Firenze Trattoria                                 4.62                  7jF3jDKji39bzLYVb3R3xA\n4  Polcari's Coffee                                  4.60                  y5lCCZ4YZk4jLSmBaATOmw\n5  Karl's Sausage Kitchen & European Market          4.58                  MYuqzv-jQLBUP0vIppAkGw\n6  Recreo Coffee & Roasterie                         4.57                  ZjNw6MQ9EyS16COI465xbQ\n7  Bella Ravioli                                     4.57                  uV2P0OlVMtesxZ4aIxmuGg\n8  Roadworthy                                        4.56                  rGs0vEyN3puNd9RiIsPeKQ\n9  O Ya                                              4.56                  87f7kR7nTz8WHnmtLM_S6w\n10 The Table at Season to Taste                      4.55                  WkjIWu8rIpAAUhnqsuik9w\n11 Boston Super Dog                                  4.55                  q-Y7ep5JoBsFcPwsJsntlA\n12 Ciao! Pizza & Pasta                               4.55                  yQL8SrSETbbCI1U5esVJQw\n13 Adea's Mediterranean Kitchen                      4.53                  IRgsYIVjSZ0u2nm9gEqy5A\n14 Tutto Italiano                                    4.52                  che285DuI-eo98PriDIerg\n15 Cambridge Center Roof Garden                      4.52                  x4vRczmgp446CdsDiJCUag\n16 Fred's Franks                                     4.51                  H2KAvHOGz1wRHJoS-u4fpQ\n17 MA-France                                         4.50                  jdNyDx7IuAruyUju091z9Q\n18 Tony's Market                                     4.50                  9Ye0-c0YduHxUk707mftZw\n19 Piperi Mediterranean Grill                        4.49                  RuCvHXtZKfkujxIWYpu1Gg\n20 La Victoria Taqueria                              4.49                  R2yVoQs0rx816x5dpgMiNw\n21 Iggy's Bread                                      4.47                  R7BLdmInOLwKh6bpfuB-Pg\n22 Pintxo Pincho Tapas Bar                           4.47                  Yw1vQd5U5GB6ZPqn2buhBg\n23 Greek International Food Market                   4.46                  Xt7bUBMmir6NqkglfxPInw\n24 K Restaurant                                      4.45                  YK9sI9wMV23kY4QHViC2CA\n25 Volo Craft Pizza                                  4.45                  Zj8JMLuB14GzyKxGcCzjtw\n"
     ]
    }
   ],
   "source": [
    "user_topn = find_topn(pred_list, 25, user_id)"
   ]
  },
  {
   "cell_type": "code",
   "execution_count": 52,
   "metadata": {},
   "outputs": [
    {
     "output_type": "stream",
     "name": "stdout",
     "text": [
      "business_id: w7JR1y-TCXmWdFKDLW83eQ\nname: Harry's Cheese and Cold Cuts\naddress: 98 Blackstone St\ncity: Boston\nstate: MA\npostal_code: 02109\nlatitude: 42.3615179\nlongitude: -71.0564517\nstars: 5.0\nreview_count: 57\nis_open: 1\nattributes: {'RestaurantsTakeOut': 'True', 'BusinessAcceptsCreditCards': 'True', 'GoodForKids': 'True', 'OutdoorSeating': 'False', 'Alcohol': \"u'none'\", 'Ambience': \"{'romantic': False, 'intimate': False, 'classy': False, 'hipster': False, 'divey': True, 'touristy': False, 'trendy': False, 'upscale': False, 'casual': False}\", 'RestaurantsGoodForGroups': 'False', 'RestaurantsAttire': \"'casual'\", 'RestaurantsReservations': 'False', 'BusinessParking': \"{'garage': False, 'street': True, 'validated': True, 'lot': False, 'valet': False}\", 'NoiseLevel': \"u'average'\", 'Caters': 'True', 'WiFi': \"u'no'\", 'RestaurantsDelivery': 'False', 'RestaurantsPriceRange2': '1', 'BikeParking': 'False', 'HasTV': 'True'}\ncategories: Cheese Shops, Food, Meat Shops, Delis, Restaurants, Specialty Food\nhours: {'Monday': '6:0-15:0', 'Wednesday': '6:0-15:0', 'Thursday': '6:0-15:0', 'Friday': '6:0-18:0', 'Saturday': '6:0-18:0'}\n"
     ]
    }
   ],
   "source": [
    "print_business_info('w7JR1y-TCXmWdFKDLW83eQ')"
   ]
  },
  {
   "cell_type": "code",
   "execution_count": 132,
   "metadata": {},
   "outputs": [
    {
     "output_type": "stream",
     "name": "stdout",
     "text": [
      "Tanya          ILZtzt-3oEmLu8c1rfeJuw       5.0\nSteven         0Zq95YruU7IvCsvzFOSSzA       4.0\nJacquelyn      F0_FBGWlJS7z_qTDm9dJSA       5.0\nboom           bje1P4XGW9lv79iuSKBgiw       5.0\nLauretta       W_EQFi2fXpBtuRm510cCpA       5.0\nVivian         nl8gWLDo6U6MjqzbBmE_9A       5.0\nSarah          5LT0UfheP3c-_xKqmZDgxQ       4.0\nDorothy        W-SyRg4KEOwcRRA_hj3Txw       5.0\nMax            p2NLkCmcPp1-Mr8x9TXXcQ       5.0\nChewie         -GnSkFtT3axpOdkSxmx7Zw       5.0\nBenjamin       4v30Vm27ViLTv4pRQNCIPA       5.0\nSteve          AhsN6hwl6YOMoxx4tZkTEw       5.0\nJenny          5BpJEC8YVi80ecWT5CtlfQ       4.0\nAnna           N6eoEXDb4Yrwjkkopz6j-A       5.0\nNancy          _JATjpl2QlrIDJ7Y-3gmiA       5.0\nTim            Gp6AHxjQZLNmF8TfxQOJIQ       5.0\nChristi        HM5hkVTNRVqqqFHhjbtZwQ       5.0\nVirginia       nr35WjC-YI0dFcsnW33Szw       5.0\nRebecca        7PA7DYCcNPo79lyqS2J2fQ       5.0\nNancy          5GYBDtLPStI2D0OcVNFyWA       5.0\nEliza          1pzjkHhSg_gn1F829FzIlw       5.0\nEliza          1pzjkHhSg_gn1F829FzIlw       5.0\nAdam           rShbct4rchQ1OX1p62aXVA       5.0\nStephanie      FC1ZSB9fd4WlDMSAbEjq8Q       5.0\nBrianna        XyOlmy-Tc6DPfw5stMJ_zA       5.0\nDiana          Bco1WVVLtMz67Yi-ilJwsA       5.0\nNancy          4-9JDM7Xxy3ruSiGjxVERA       5.0\nAdam           rShbct4rchQ1OX1p62aXVA       5.0\nBob            kHp1dxdoyT-24_QCwFEPzg       5.0\nStephanie      FC1ZSB9fd4WlDMSAbEjq8Q       5.0\n"
     ]
    }
   ],
   "source": [
    "business_id = 'w7JR1y-TCXmWdFKDLW83eQ'\n",
    "for review in review_data:\n",
    "    if review['business_id'] == business_id:\n",
    "        print('{:<15s}{:<15s}{:>10.1f}'.format(get_user_attr(review['user_id'], 'name'),review['user_id'], review['stars']))"
   ]
  }
 ]
}