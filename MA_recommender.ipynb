{
 "cells": [
  {
   "cell_type": "code",
   "execution_count": 1,
   "metadata": {},
   "outputs": [
    {
     "name": "stdout",
     "output_type": "stream",
     "text": [
      "Requirement already satisfied: surprise in c:\\users\\tiffany\\anaconda3\\lib\\site-packages (0.1)\n",
      "Requirement already satisfied: scikit-surprise in c:\\users\\tiffany\\anaconda3\\lib\\site-packages (from surprise) (1.1.1)\n",
      "Requirement already satisfied: numpy>=1.11.2 in c:\\users\\tiffany\\anaconda3\\lib\\site-packages (from scikit-surprise->surprise) (1.19.2)\n",
      "Requirement already satisfied: scipy>=1.0.0 in c:\\users\\tiffany\\anaconda3\\lib\\site-packages (from scikit-surprise->surprise) (1.6.2)\n",
      "Requirement already satisfied: joblib>=0.11 in c:\\users\\tiffany\\anaconda3\\lib\\site-packages (from scikit-surprise->surprise) (1.0.1)\n",
      "Requirement already satisfied: six>=1.10.0 in c:\\users\\tiffany\\anaconda3\\lib\\site-packages (from scikit-surprise->surprise) (1.15.0)\n"
     ]
    }
   ],
   "source": [
    "!pip install surprise"
   ]
  },
  {
   "cell_type": "code",
   "execution_count": 2,
   "metadata": {},
   "outputs": [],
   "source": [
    "import json\n",
    "import time\n",
    "import numpy as np\n",
    "import pandas as pd\n",
    "from surprise import AlgoBase\n",
    "from surprise import NormalPredictor\n",
    "from surprise import PredictionImpossible\n",
    "from surprise import KNNBasic\n",
    "from surprise import SVD\n",
    "from surprise import Dataset\n",
    "from surprise import Reader\n",
    "from surprise.model_selection import cross_validate"
   ]
  },
  {
   "cell_type": "code",
   "execution_count": 3,
   "metadata": {},
   "outputs": [
    {
     "name": "stdout",
     "output_type": "stream",
     "text": [
      "Reading MA_users.json\n",
      "Time taken to load user data: 5 seconds\n"
     ]
    }
   ],
   "source": [
    "start = time.time()\n",
    "with open('MA_users.json', encoding=\"utf8\") as fin:\n",
    "    print('Reading',fin.name)\n",
    "    user_data = json.load(fin)\n",
    "end = time.time()\n",
    "duration_without_dr = end-start\n",
    "print(\"Time taken to load user data: %d seconds\" %duration_without_dr)\n"
   ]
  },
  {
   "cell_type": "code",
   "execution_count": 4,
   "metadata": {},
   "outputs": [
    {
     "name": "stdout",
     "output_type": "stream",
     "text": [
      "Reading MA_restaurants.json\n",
      "Time taken to load restaurant data: 0 seconds\n"
     ]
    }
   ],
   "source": [
    "start = time.time()\n",
    "with open('MA_restaurants.json', encoding=\"utf8\") as fin:\n",
    "    print('Reading',fin.name)\n",
    "    restaurant_data = json.load(fin)\n",
    "end = time.time()\n",
    "duration_without_dr = end-start\n",
    "print(\"Time taken to load restaurant data: %d seconds\" %duration_without_dr)"
   ]
  },
  {
   "cell_type": "code",
   "execution_count": 5,
   "metadata": {},
   "outputs": [
    {
     "name": "stdout",
     "output_type": "stream",
     "text": [
      "Reading MA_reviews.json\n",
      "Time taken to load review data: 12 seconds\n"
     ]
    }
   ],
   "source": [
    "start = time.time()\n",
    "with open('MA_reviews.json', encoding=\"utf8\") as fin:\n",
    "    print('Reading',fin.name)\n",
    "    review_data = json.load(fin)\n",
    "end = time.time()\n",
    "duration_without_dr = end-start\n",
    "print(\"Time taken to load review data: %d seconds\" %duration_without_dr)"
   ]
  },
  {
   "cell_type": "code",
   "execution_count": 6,
   "metadata": {},
   "outputs": [
    {
     "name": "stdout",
     "output_type": "stream",
     "text": [
      "125521 user records loaded\n",
      "914710 review records loaded\n",
      "10550 business records loaded\n"
     ]
    }
   ],
   "source": [
    "print(str(len(user_data)) + ' user records loaded')\n",
    "print(str(len(review_data)) + ' review records loaded')\n",
    "print(str(len(restaurant_data)) + ' business records loaded')"
   ]
  },
  {
   "cell_type": "code",
   "execution_count": 7,
   "metadata": {},
   "outputs": [
    {
     "name": "stdout",
     "output_type": "stream",
     "text": [
      "dict_keys(['user_id', 'name', 'review_count', 'yelping_since', 'useful', 'funny', 'cool', 'elite', 'friends', 'fans', 'average_stars', 'compliment_hot', 'compliment_more', 'compliment_profile', 'compliment_cute', 'compliment_list', 'compliment_note', 'compliment_plain', 'compliment_cool', 'compliment_funny', 'compliment_writer', 'compliment_photos']) \n",
      "\n",
      "dict_keys(['review_id', 'user_id', 'business_id', 'stars', 'useful', 'funny', 'cool', 'text', 'date']) \n",
      "\n",
      "dict_keys(['business_id', 'name', 'address', 'city', 'state', 'postal_code', 'latitude', 'longitude', 'stars', 'review_count', 'is_open', 'attributes', 'categories', 'hours']) \n",
      "\n"
     ]
    }
   ],
   "source": [
    "print(user_data[0].keys(),'\\n')\n",
    "print(review_data[0].keys(),'\\n')\n",
    "print(restaurant_data[0].keys(),'\\n')"
   ]
  },
  {
   "cell_type": "markdown",
   "metadata": {},
   "source": [
    "Sample User"
   ]
  },
  {
   "cell_type": "code",
   "execution_count": 8,
   "metadata": {},
   "outputs": [
    {
     "name": "stdout",
     "output_type": "stream",
     "text": [
      "user_id: q_QQ5kBBwlCcbL1s4NVK3g\n",
      "name: Jane\n",
      "review_count: 1220\n",
      "yelping_since: 2005-03-14 20:26:35\n",
      "useful: 15038\n",
      "funny: 10030\n",
      "cool: 11291\n",
      "elite: 2006,2007,2008,2009,2010,2011,2012,2013,2014\n",
      "friends: [list of user ids]\n",
      "fans: 1357\n",
      "average_stars: 3.85\n",
      "compliment_hot: 1710\n",
      "compliment_more: 163\n",
      "compliment_profile: 190\n",
      "compliment_cute: 361\n",
      "compliment_list: 147\n",
      "compliment_note: 1212\n",
      "compliment_plain: 5691\n",
      "compliment_cool: 2541\n",
      "compliment_funny: 2541\n",
      "compliment_writer: 815\n",
      "compliment_photos: 323\n"
     ]
    }
   ],
   "source": [
    "for attr in user_data[0].keys():\n",
    "    print('{0}: {1}'.format(str(attr), str(user_data[0][attr]) if attr != 'friends' else '[list of user ids]'))"
   ]
  },
  {
   "cell_type": "markdown",
   "metadata": {},
   "source": [
    "Sample review"
   ]
  },
  {
   "cell_type": "code",
   "execution_count": 9,
   "metadata": {},
   "outputs": [
    {
     "name": "stdout",
     "output_type": "stream",
     "text": [
      "review_id: lWC-xP3rd6obsecCYsGZRg\n",
      "user_id: ak0TdVmGKo4pwqdJSTLwWw\n",
      "business_id: buF9druCkbuXLX526sGELQ\n",
      "stars: 4.0\n",
      "useful: 3\n",
      "funny: 1\n",
      "cool: 1\n",
      "text: Apparently Prides Osteria had a rough summer as evidenced by the almost empty dining room at 6:30 on a Friday night. However new blood in the kitchen seems to have revitalized the food from other customers recent visits. Waitstaff was warm but unobtrusive. By 8 pm or so when we left the bar was full and the dining room was much more lively than it had been. Perhaps Beverly residents prefer a later seating. \n",
      "\n",
      "After reading the mixed reviews of late I was a little tentative over our choice but luckily there was nothing to worry about in the food department. We started with the fried dough, burrata and prosciutto which were all lovely. Then although they don't offer half portions of pasta we each ordered the entree size and split them. We chose the tagliatelle bolognese and a four cheese filled pasta in a creamy sauce with bacon, asparagus and grana frita. Both were very good. We split a secondi which was the special Berkshire pork secreto, which was described as a pork skirt steak with garlic potato purée and romanesco broccoli (incorrectly described as a romanesco sauce). Some tables received bread before the meal but for some reason we did not. \n",
      "\n",
      "Management also seems capable for when the tenants in the apartment above began playing basketball she intervened and also comped the tables a dessert. We ordered the apple dumpling with gelato and it was also quite tasty. Portions are not huge which I particularly like because I prefer to order courses. If you are someone who orders just a meal you may leave hungry depending on you appetite. Dining room was mostly younger crowd while the bar was definitely the over 40 set. Would recommend that the naysayers return to see the improvement although I personally don't know the former glory to be able to compare. Easy access to downtown Salem without the crowds on this month of October.\n",
      "date: 2014-10-11 03:34:02\n"
     ]
    }
   ],
   "source": [
    "for attr in review_data[0].keys():\n",
    "    print('{0}: {1}'.format(str(attr), str(review_data[0][attr])))"
   ]
  },
  {
   "cell_type": "markdown",
   "metadata": {},
   "source": [
    "Create a 2d arary of user IDs and buisness IDs, with ratings(stars) as frequencies"
   ]
  },
  {
   "cell_type": "code",
   "execution_count": 10,
   "metadata": {},
   "outputs": [
    {
     "name": "stdout",
     "output_type": "stream",
     "text": [
      "(125521, 10550)\n",
      "number of non-zero elements(good ratings): 879189\n"
     ]
    }
   ],
   "source": [
    "user_id_dict = dict()\n",
    "for i,u in enumerate(user_data):\n",
    "    user_id_dict[u['user_id']] = i\n",
    "\n",
    "business_id_dict = dict()\n",
    "for i,r in enumerate(restaurant_data):\n",
    "    business_id_dict[r['business_id']] = i\n",
    "\n",
    "rating_mat = np.zeros((len(user_data), len(restaurant_data)))\n",
    "rating_dict = {'user_id': [],\n",
    "               'business_id': [],\n",
    "               'rating': []}\n",
    "\n",
    "for review in review_data:\n",
    "    user_idx = user_id_dict[review['user_id']]\n",
    "    business_idx = business_id_dict[review['business_id']]\n",
    "    rating_mat[user_idx][business_idx] = review['stars']\n",
    "    \n",
    "    rating_dict['user_id'].append(review['user_id'])\n",
    "    rating_dict['business_id'].append(review['business_id'])\n",
    "    rating_dict['rating'].append(review['stars'])\n",
    "\n",
    "print(rating_mat.shape)\n",
    "print('number of non-zero elements(good ratings): ' +str(np.count_nonzero(rating_mat)))"
   ]
  },
  {
   "cell_type": "code",
   "execution_count": 11,
   "metadata": {},
   "outputs": [],
   "source": [
    "df = pd.DataFrame(rating_dict)\n",
    "reader = Reader(rating_scale=(1, 5))\n",
    "data = Dataset.load_from_df(df[['user_id', 'business_id', 'rating']], reader)"
   ]
  },
  {
   "cell_type": "code",
   "execution_count": 16,
   "metadata": {},
   "outputs": [
    {
     "name": "stdout",
     "output_type": "stream",
     "text": [
      "Computing the cosine similarity matrix...\n",
      "Done computing similarity matrix.\n"
     ]
    },
    {
     "data": {
      "text/plain": [
       "<surprise.prediction_algorithms.knns.KNNBasic at 0x24985f59100>"
      ]
     },
     "execution_count": 16,
     "metadata": {},
     "output_type": "execute_result"
    }
   ],
   "source": [
    "sim_options = {'name': 'cosine',\n",
    "               'user_based': False\n",
    "               }\n",
    "trainset = data.build_full_trainset()\n",
    "algo = KNNBasic(sim_options=sim_options)\n",
    "algo.fit(trainset)"
   ]
  },
  {
   "cell_type": "markdown",
   "metadata": {},
   "source": [
    "Predition for known review (sample review)"
   ]
  },
  {
   "cell_type": "code",
   "execution_count": 17,
   "metadata": {
    "scrolled": true
   },
   "outputs": [
    {
     "name": "stdout",
     "output_type": "stream",
     "text": [
      "user: ak0TdVmGKo4pwqdJSTLwWw item: buF9druCkbuXLX526sGELQ r_ui = 4.00   est = 4.40   {'actual_k': 5, 'was_impossible': False}\n"
     ]
    }
   ],
   "source": [
    "# get a prediction for specific users and items\n",
    "uid = review_data[0]['user_id']\n",
    "iid = review_data[0]['business_id']\n",
    "\n",
    "# get a prediction for specific users and items.\n",
    "pred = algo.predict(uid, iid, r_ui=4, verbose=True)"
   ]
  },
  {
   "cell_type": "markdown",
   "metadata": {},
   "source": [
    "## Algorithm Parameter Tuning"
   ]
  },
  {
   "cell_type": "code",
   "execution_count": 15,
   "metadata": {},
   "outputs": [],
   "source": [
    "from surprise.model_selection import GridSearchCV"
   ]
  },
  {
   "cell_type": "code",
   "execution_count": 27,
   "metadata": {},
   "outputs": [
    {
     "name": "stdout",
     "output_type": "stream",
     "text": [
      "Computing the msd similarity matrix...\n",
      "Done computing similarity matrix.\n",
      "Computing the msd similarity matrix...\n",
      "Done computing similarity matrix.\n",
      "Computing the msd similarity matrix...\n",
      "Done computing similarity matrix.\n",
      "Computing the msd similarity matrix...\n",
      "Done computing similarity matrix.\n",
      "Computing the msd similarity matrix...\n",
      "Done computing similarity matrix.\n",
      "Computing the msd similarity matrix...\n",
      "Done computing similarity matrix.\n",
      "Computing the msd similarity matrix...\n",
      "Done computing similarity matrix.\n",
      "Computing the msd similarity matrix...\n",
      "Done computing similarity matrix.\n",
      "Computing the msd similarity matrix...\n",
      "Done computing similarity matrix.\n",
      "Computing the cosine similarity matrix...\n",
      "Done computing similarity matrix.\n",
      "Computing the cosine similarity matrix...\n",
      "Done computing similarity matrix.\n",
      "Computing the cosine similarity matrix...\n",
      "Done computing similarity matrix.\n",
      "Computing the cosine similarity matrix...\n",
      "Done computing similarity matrix.\n",
      "Computing the cosine similarity matrix...\n",
      "Done computing similarity matrix.\n",
      "Computing the cosine similarity matrix...\n",
      "Done computing similarity matrix.\n",
      "Computing the cosine similarity matrix...\n",
      "Done computing similarity matrix.\n",
      "Computing the cosine similarity matrix...\n",
      "Done computing similarity matrix.\n",
      "Computing the cosine similarity matrix...\n",
      "Done computing similarity matrix.\n"
     ]
    }
   ],
   "source": [
    "sim_options = {\n",
    "    \"name\": [\"msd\", \"cosine\"],\n",
    "    \"min_support\": [3, 4, 5],\n",
    "    \"user_based\": [False]\n",
    "}\n",
    "param_grid = {\"sim_options\": sim_options}\n",
    "\n",
    "grid_search = GridSearchCV(KNNBasic, param_grid, measures = [\"rmse\", \"mae\"], cv=3)\n",
    "grid_search.fit(data)"
   ]
  },
  {
   "cell_type": "code",
   "execution_count": 28,
   "metadata": {},
   "outputs": [
    {
     "name": "stdout",
     "output_type": "stream",
     "text": [
      "1.2798358150920215\n",
      "{'sim_options': {'name': 'msd', 'min_support': 3, 'user_based': False}}\n",
      "0.9857407519946314\n",
      "{'sim_options': {'name': 'msd', 'min_support': 3, 'user_based': False}}\n"
     ]
    }
   ],
   "source": [
    "print(grid_search.best_score[\"rmse\"])\n",
    "print(grid_search.best_params[\"rmse\"])\n",
    "\n",
    "print(grid_search.best_score[\"mae\"])\n",
    "print(grid_search.best_params[\"mae\"])"
   ]
  },
  {
   "cell_type": "code",
   "execution_count": null,
   "metadata": {},
   "outputs": [],
   "source": []
  }
 ],
 "metadata": {
  "kernelspec": {
   "display_name": "Python 3",
   "language": "python",
   "name": "python3"
  },
  "language_info": {
   "codemirror_mode": {
    "name": "ipython",
    "version": 3
   },
   "file_extension": ".py",
   "mimetype": "text/x-python",
   "name": "python",
   "nbconvert_exporter": "python",
   "pygments_lexer": "ipython3",
   "version": "3.8.8"
  }
 },
 "nbformat": 4,
 "nbformat_minor": 2
}
