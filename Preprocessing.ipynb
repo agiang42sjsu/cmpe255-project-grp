{
 "cells": [
  {
   "cell_type": "markdown",
   "metadata": {
    "colab_type": "text",
    "id": "view-in-github"
   },
   "source": [
    "<a href=\"https://colab.research.google.com/github/jonnells/cmpe255-project-grp/blob/main/Yelp_On_The_Go.ipynb\" target=\"_parent\"><img src=\"https://colab.research.google.com/assets/colab-badge.svg\" alt=\"Open In Colab\"/></a>"
   ]
  },
  {
   "cell_type": "markdown",
   "metadata": {},
   "source": [
    "# Data Preprocessing File"
   ]
  },
  {
   "source": [
    "## Import Libraries"
   ],
   "cell_type": "markdown",
   "metadata": {}
  },
  {
   "cell_type": "code",
   "execution_count": 1,
   "metadata": {
    "id": "nTv4agjeui2C"
   },
   "outputs": [],
   "source": [
    "import os\n",
    "import json\n",
    "import time"
   ]
  },
  {
   "cell_type": "markdown",
   "metadata": {},
   "source": [
    "## Import Data from the Yelp Dataset\n",
    ">Load in each line from the user.json and business.json files to start. <br> Data from the review.json file will be loaded in later"
   ]
  },
  {
   "cell_type": "code",
   "execution_count": 2,
   "metadata": {
    "id": "HERfeACO0oCj"
   },
   "outputs": [],
   "source": [
    "yelp_dataset_path = 'yelp_dataset/'"
   ]
  },
  {
   "cell_type": "code",
   "execution_count": 3,
   "metadata": {
    "colab": {
     "base_uri": "https://localhost:8080/"
    },
    "id": "rRiKEWPaujXo",
    "outputId": "9daa4d3b-12cc-4e52-8a75-8645322b0f50"
   },
   "outputs": [
    {
     "output_type": "stream",
     "name": "stdout",
     "text": [
      "Reading yelp_academic_dataset_user.json\n",
      "Time taken to load user data: 23 seconds\n"
     ]
    }
   ],
   "source": [
    "user_data = []\n",
    "start = time.time()\n",
    "with open(yelp_dataset_path + 'yelp_academic_dataset_user.json', encoding=\"utf8\") as fin:\n",
    "    print('Reading yelp_academic_dataset_user.json')\n",
    "    for line in fin:\n",
    "        user_data.append(json.loads(line))\n",
    "end = time.time()\n",
    "duration_without_dr = end-start\n",
    "print(\"Time taken to load user data: %d seconds\" %duration_without_dr)"
   ]
  },
  {
   "cell_type": "code",
   "execution_count": 4,
   "metadata": {},
   "outputs": [
    {
     "output_type": "stream",
     "name": "stdout",
     "text": [
      "Reading yelp_academic_dataset_business.json\n",
      "Time taken to load business data: 2 seconds\n"
     ]
    }
   ],
   "source": [
    "business_data = []\n",
    "start = time.time()\n",
    "with open(yelp_dataset_path + 'yelp_academic_dataset_business.json', encoding=\"utf8\") as fin:\n",
    "    print('Reading yelp_academic_dataset_business.json')\n",
    "    for line in fin:\n",
    "        business_data.append(json.loads(line))\n",
    "\n",
    "end = time.time()\n",
    "duration_without_dr = end-start\n",
    "print(\"Time taken to load business data: %d seconds\" %duration_without_dr)"
   ]
  },
  {
   "cell_type": "markdown",
   "metadata": {},
   "source": [
    "## Data Investigation\n",
    "> Print the number of user and business records <br> Print the dictionary keys for each of the attributes"
   ]
  },
  {
   "cell_type": "code",
   "execution_count": 5,
   "metadata": {
    "id": "pMdVzJCwulNR"
   },
   "outputs": [
    {
     "output_type": "stream",
     "name": "stdout",
     "text": [
      "2189457 user records loaded\n160585 business records loaded\n"
     ]
    }
   ],
   "source": [
    "print(str(len(user_data)) + ' user records loaded')\n",
    "print(str(len(business_data)) + ' business records loaded')"
   ]
  },
  {
   "cell_type": "code",
   "execution_count": 6,
   "metadata": {},
   "outputs": [
    {
     "output_type": "stream",
     "name": "stdout",
     "text": [
      "dict_keys(['user_id', 'name', 'review_count', 'yelping_since', 'useful', 'funny', 'cool', 'elite', 'friends', 'fans', 'average_stars', 'compliment_hot', 'compliment_more', 'compliment_profile', 'compliment_cute', 'compliment_list', 'compliment_note', 'compliment_plain', 'compliment_cool', 'compliment_funny', 'compliment_writer', 'compliment_photos'])\n"
     ]
    }
   ],
   "source": [
    "print(user_data[0].keys())"
   ]
  },
  {
   "cell_type": "code",
   "execution_count": 7,
   "metadata": {},
   "outputs": [
    {
     "output_type": "stream",
     "name": "stdout",
     "text": [
      "dict_keys(['business_id', 'name', 'address', 'city', 'state', 'postal_code', 'latitude', 'longitude', 'stars', 'review_count', 'is_open', 'attributes', 'categories', 'hours'])\n"
     ]
    }
   ],
   "source": [
    "print(business_data[0].keys())"
   ]
  },
  {
   "cell_type": "markdown",
   "metadata": {},
   "source": [
    "## Data Pre-processing\n",
    ">Remove users that do not have enough reviews (15 reviews minimum)"
   ]
  },
  {
   "cell_type": "code",
   "execution_count": 8,
   "metadata": {},
   "outputs": [],
   "source": [
    "user_data = [user for user in user_data if user.get('review_count') >= 15]"
   ]
  },
  {
   "cell_type": "code",
   "execution_count": 9,
   "metadata": {},
   "outputs": [
    {
     "output_type": "stream",
     "name": "stdout",
     "text": [
      "573316 useful user records\n"
     ]
    }
   ],
   "source": [
    "print(str(len(user_data)) + ' useful user records')"
   ]
  },
  {
   "cell_type": "markdown",
   "metadata": {},
   "source": [
    ">Parse the business data and extract only the businesses that are restaurants"
   ]
  },
  {
   "cell_type": "code",
   "execution_count": 10,
   "metadata": {},
   "outputs": [],
   "source": [
    "restaurant_category = 'Restaurants'\n",
    "restaurant_data = []\n",
    "for business in business_data:\n",
    "    try:\n",
    "        if restaurant_category in business.get('categories',):\n",
    "            restaurant_data.append(business)\n",
    "    except:\n",
    "        pass"
   ]
  },
  {
   "cell_type": "code",
   "execution_count": 11,
   "metadata": {},
   "outputs": [
    {
     "output_type": "stream",
     "name": "stdout",
     "text": [
      "50763 restaurant records\n"
     ]
    }
   ],
   "source": [
    "print(str(len(restaurant_data)) + ' restaurant records')"
   ]
  },
  {
   "source": [
    ">Parse the restaurant data and divide each restaurant by the state it operates in <br> \n",
    "Find the number of restaurants in each state <br>\n",
    "Massachusetts is our chosen state to investigate since it has the most restaurants in the Yelp dataset"
   ],
   "cell_type": "markdown",
   "metadata": {}
  },
  {
   "cell_type": "code",
   "execution_count": 12,
   "metadata": {},
   "outputs": [],
   "source": [
    "#ABE_restaurants = [restaurant for restaurant in restaurant_data if 'ABE' in restaurant.get('state')]\n",
    "#BC_restaurants = [restaurant for restaurant in restaurant_data if 'BC' in restaurant.get('state')]\n",
    "#CO_restaurants = [restaurant for restaurant in restaurant_data if 'CO' in restaurant.get('state')]\n",
    "#FL_restaurants = [restaurant for restaurant in restaurant_data if 'FL' in restaurant.get('state')]\n",
    "#GA_restaurants = [restaurant for restaurant in restaurant_data if 'GA' in restaurant.get('state')]\n",
    "#KS_restaurants = [restaurant for restaurant in restaurant_data if 'KS' in restaurant.get('state')]\n",
    "#KY_restaurants = [restaurant for restaurant in restaurant_data if 'KY' in restaurant.get('state')]\n",
    "MA_restaurants = [restaurant for restaurant in restaurant_data if 'MA' in restaurant.get('state')]\n",
    "#MN_restaurants = [restaurant for restaurant in restaurant_data if 'MN' in restaurant.get('state')]\n",
    "#NH_restaurants = [restaurant for restaurant in restaurant_data if 'NH' in restaurant.get('state')]\n",
    "#OH_restaurants = [restaurant for restaurant in restaurant_data if 'OH' in restaurant.get('state')]\n",
    "#OR_restaurants = [restaurant for restaurant in restaurant_data if 'OR' in restaurant.get('state')]\n",
    "#TX_restaurants = [restaurant for restaurant in restaurant_data if 'TX' in restaurant.get('state')]\n",
    "#VA_restaurants = [restaurant for restaurant in restaurant_data if 'VA' in restaurant.get('state')]\n",
    "#WA_restaurants = [restaurant for restaurant in restaurant_data if 'WA' in restaurant.get('state')]\n",
    "#WY_restaurants = [restaurant for restaurant in restaurant_data if 'WY' in restaurant.get('state')]\n",
    "\n",
    "#restaurant_len = [len(ABE_restaurants),len(BC_restaurants),len(CO_restaurants),len(FL_restaurants),len(GA_restaurants),len(KS_restaurants),len(KY_restaurants),len(MA_restaurants),len(MN_restaurants),len(NH_restaurants),len(OH_restaurants),len(OR_restaurants),len(TX_restaurants),len(VA_restaurants),len(WA_restaurants),len(WY_restaurants)]"
   ]
  },
  {
   "cell_type": "code",
   "execution_count": 13,
   "metadata": {},
   "outputs": [
    {
     "output_type": "stream",
     "name": "stdout",
     "text": [
      "Number of restaurants by state\n {'ABE': 1, 'BC': 7506, 'CO': 865, 'FL': 7710, 'GA': 6140, 'KS': 1, 'KY': 1, 'MA': 10550, 'MN': 1, 'NH': 1, 'OH': 4377, 'OR': 7391, 'TX': 5444, 'VA': 1, 'WA': 773, 'WY': 1}\n"
     ]
    }
   ],
   "source": [
    "states = [restaurant.get('state') for restaurant in restaurant_data]\n",
    "tempset = set(states)\n",
    "states = sorted(list(tempset))\n",
    "restaurant_len = [1, 7506, 865, 7710, 6140, 1, 1, 10550, 1, 1, 4377, 7391, 5444, 1, 773, 1]\n",
    "restaurants_by_state = {states[i]: restaurant_len[i] for i in range(len(states))}\n",
    "print('Number of restaurants by state\\n',restaurants_by_state)"
   ]
  },
  {
   "source": [
    ">Create a new json file with just the restaurants in Massachusetts"
   ],
   "cell_type": "markdown",
   "metadata": {}
  },
  {
   "cell_type": "code",
   "execution_count": 19,
   "metadata": {},
   "outputs": [],
   "source": [
    "with open('MA_restaurants.json', 'a') as outfile:\n",
    "    json.dump(MA_restaurants, outfile, indent=1)"
   ]
  },
  {
   "source": [
    ">Open the review.json file <br>\n",
    "Extract the reviews of only the Massachusetts restaurants & only from users with 15 or more reviews"
   ],
   "cell_type": "markdown",
   "metadata": {}
  },
  {
   "cell_type": "code",
   "execution_count": 14,
   "metadata": {
    "tags": []
   },
   "outputs": [
    {
     "output_type": "stream",
     "name": "stdout",
     "text": [
      "Reading yelp_academic_dataset_review.json\n",
      "Time taken to load review data: 53 seconds\n"
     ]
    }
   ],
   "source": [
    "review_data = []\n",
    "MA_restaurants_id = set([restaurant.get('business_id') for restaurant in MA_restaurants])\n",
    "valid_user_id = set([user.get('user_id') for user in user_data])\n",
    "start = time.time()\n",
    "with open(yelp_dataset_path + 'yelp_academic_dataset_review.json', encoding=\"utf8\") as fin:\n",
    "    print('Reading yelp_academic_dataset_review.json')\n",
    "    for line in fin:\n",
    "        review = json.loads(line)\n",
    "        if review.get('business_id') in MA_restaurants_id:\n",
    "            if review.get('user_id') in valid_user_id:\n",
    "                review_data.append(review)\n",
    "\n",
    "end = time.time()\n",
    "duration_without_dr = end-start\n",
    "print(\"Time taken to load review data: %d seconds\" %duration_without_dr)"
   ]
  },
  {
   "cell_type": "code",
   "execution_count": 15,
   "metadata": {},
   "outputs": [
    {
     "output_type": "stream",
     "name": "stdout",
     "text": [
      "dict_keys(['review_id', 'user_id', 'business_id', 'stars', 'useful', 'funny', 'cool', 'text', 'date'])\n"
     ]
    }
   ],
   "source": [
    "print(review_data[0].keys())"
   ]
  },
  {
   "source": [
    ">Create a new json file with just the reviews of restaurants in Massachusetts"
   ],
   "cell_type": "markdown",
   "metadata": {}
  },
  {
   "cell_type": "code",
   "execution_count": 21,
   "metadata": {},
   "outputs": [],
   "source": [
    "with open('MA_reviews.json', 'a') as outfile:\n",
    "    json.dump(review_data, outfile, indent=1)"
   ]
  },
  {
   "source": [
    "> Parse the Massachusetts restaurant reviews and get the unqiue user_ids <br>\n",
    "Parse the users with 15 of more reviews and extract the user_ids of users who made a Massachusetts restaurant review"
   ],
   "cell_type": "markdown",
   "metadata": {}
  },
  {
   "cell_type": "code",
   "execution_count": 16,
   "metadata": {},
   "outputs": [],
   "source": [
    "MA_users = []\n",
    "MA_user_id = set([review.get('user_id') for review in review_data])\n",
    "for user in user_data:\n",
    "    if user.get('user_id') in MA_user_id:\n",
    "        MA_users.append(user)\n",
    "\n"
   ]
  },
  {
   "source": [
    ">Create a new json file with just the users who madew 15 or more reviews of restaurants in Massachusetts"
   ],
   "cell_type": "markdown",
   "metadata": {}
  },
  {
   "cell_type": "code",
   "execution_count": null,
   "metadata": {},
   "outputs": [],
   "source": [
    "with open('MA_users.json', 'a') as outfile:\n",
    "    json.dump(MA_users, outfile, indent=1)\n"
   ]
  }
 ],
 "metadata": {
  "accelerator": "GPU",
  "colab": {
   "include_colab_link": true,
   "name": "Yelp-On-The-Go.ipynb",
   "provenance": []
  },
  "kernelspec": {
   "name": "python383jvsc74a57bd0e079647b578f6e22f42cb979ca5c90bb711697013bb834e432a2160cedf42143",
   "display_name": "Python 3.8.3 64-bit (conda)"
  },
  "language_info": {
   "codemirror_mode": {
    "name": "ipython",
    "version": 3
   },
   "file_extension": ".py",
   "mimetype": "text/x-python",
   "name": "python",
   "nbconvert_exporter": "python",
   "pygments_lexer": "ipython3",
   "version": "3.8.3"
  }
 },
 "nbformat": 4,
 "nbformat_minor": 1
}